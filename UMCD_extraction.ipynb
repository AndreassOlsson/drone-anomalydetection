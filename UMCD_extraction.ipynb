{
  "nbformat": 4,
  "nbformat_minor": 0,
  "metadata": {
    "colab": {
      "provenance": [],
      "mount_file_id": "1FIj62OOBaccHLUBnmoITSSA3QaQLkx1b",
      "authorship_tag": "ABX9TyPJD6BUps+rSP8+0NDSlTxc",
      "include_colab_link": true
    },
    "kernelspec": {
      "name": "python3",
      "display_name": "Python 3"
    },
    "language_info": {
      "name": "python"
    }
  },
  "cells": [
    {
      "cell_type": "markdown",
      "metadata": {
        "id": "view-in-github",
        "colab_type": "text"
      },
      "source": [
        "<a href=\"https://colab.research.google.com/github/AndreassOlsson/drone-anomalydetection/blob/main/UMCD_extraction.ipynb\" target=\"_parent\"><img src=\"https://colab.research.google.com/assets/colab-badge.svg\" alt=\"Open In Colab\"/></a>"
      ]
    },
    {
      "cell_type": "code",
      "execution_count": null,
      "metadata": {
        "id": "ZqcxQosdupbl"
      },
      "outputs": [],
      "source": [
        "import os\n",
        "import shutil\n",
        "import zipfile\n",
        "import tarfile"
      ]
    },
    {
      "cell_type": "code",
      "source": [
        "os.makedirs('Normal')\n",
        "os.makedirs('Anomalies')"
      ],
      "metadata": {
        "id": "z2sleu8o3Ns-"
      },
      "execution_count": null,
      "outputs": []
    },
    {
      "cell_type": "code",
      "source": [
        "def format_fname(fname):\n",
        "  f = fname.split('/')\n",
        "  if len(f) == 5: f.pop(3)\n",
        "  f.pop(1)\n",
        "  f = [f[i] for i in [1,2,0]]\n",
        "  f = '-'.join(f)\n",
        "  f = f.replace('path','').replace('.mp4','').replace('Videos_Without_Telemetry', 'nt.mp4').replace('Videos_With_Telemetry', 't.mp4')\n",
        "  return f.strip(' ')\n",
        "\n",
        "zip_path = r'/content/drive/MyDrive/Andreas Olsson/Public-Safety/data/UMCD/umcd.zip'\n",
        "\n",
        "with zipfile.ZipFile(zip_path) as zip_file:\n",
        "  files = zip_file.infolist()\n",
        "  for member in files:\n",
        "    fname, size = member.filename, member.file_size\n",
        "\n",
        "    if not fname.endswith('mp4'):\n",
        "      continue\n",
        "  \n",
        "    folder = 'Normal' if not 'Change_Detection' in fname else 'Anomalies'\n",
        "    fname = format_fname(fname)\n",
        "    save_path = os.path.join(folder, fname) \n",
        "\n",
        "    print(save_path, size, '\\n')\n",
        "    source = zip_file.open(member, pwd='not_for_sharing_on_github :-)'.encode())\n",
        "    target = open(save_path, \"wb\")\n",
        "    with source, target:\n",
        "      shutil.copyfileobj(source, target)"
      ],
      "metadata": {
        "colab": {
          "base_uri": "https://localhost:8080/"
        },
        "id": "W6DzbohL4xCP",
        "outputId": "b775753e-9676-4eeb-93ba-cecaf3a1b54b"
      },
      "execution_count": null,
      "outputs": [
        {
          "output_type": "stream",
          "name": "stdout",
          "text": [
            "Normal/Countryside-1-nt.mp4 38221606 \n",
            "\n",
            "Normal/Countryside-10-nt.mp4 37741189 \n",
            "\n",
            "Normal/Countryside-2-nt.mp4 12998824 \n",
            "\n",
            "Normal/Countryside-3-nt.mp4 11956459 \n",
            "\n",
            "Normal/Countryside-4-nt.mp4 3357905 \n",
            "\n",
            "Normal/Countryside-5-nt.mp4 4748891 \n",
            "\n",
            "Normal/Countryside-6-nt.mp4 8873264 \n",
            "\n",
            "Normal/Countryside-7-nt.mp4 6074333 \n",
            "\n",
            "Normal/Countryside-8-nt.mp4 9940022 \n",
            "\n",
            "Normal/Countryside-9-nt.mp4 5989730 \n",
            "\n",
            "Normal/Dirt-1-nt.mp4 12675085 \n",
            "\n",
            "Normal/Dirt-10-nt.mp4 2626489 \n",
            "\n",
            "Normal/Dirt-11-nt.mp4 9055547 \n",
            "\n",
            "Normal/Dirt-12-nt.mp4 7532511 \n",
            "\n",
            "Normal/Dirt-13-nt.mp4 4941954 \n",
            "\n",
            "Normal/Dirt-14-nt.mp4 18418742 \n",
            "\n",
            "Normal/Dirt-15-nt.mp4 23343808 \n",
            "\n",
            "Normal/Dirt-16-nt.mp4 32730767 \n",
            "\n",
            "Normal/Dirt-17-nt.mp4 22544117 \n",
            "\n",
            "Normal/Dirt-18-nt.mp4 15035935 \n",
            "\n",
            "Normal/Dirt-19-nt.mp4 9927027 \n",
            "\n",
            "Normal/Dirt-2-nt.mp4 6022515 \n",
            "\n",
            "Normal/Dirt-20-nt.mp4 25507108 \n",
            "\n",
            "Normal/Dirt-3-nt.mp4 10809654 \n",
            "\n",
            "Normal/Dirt-4-nt.mp4 5198577 \n",
            "\n",
            "Normal/Dirt-5-nt.mp4 12580483 \n",
            "\n",
            "Normal/Dirt-6-nt.mp4 7044308 \n",
            "\n",
            "Normal/Dirt-7-nt.mp4 9903401 \n",
            "\n",
            "Normal/Dirt-8-nt.mp4 7763623 \n",
            "\n",
            "Normal/Dirt-9-nt.mp4 8096153 \n",
            "\n",
            "Anomalies/Countryside-1-t.mp4 125832660 \n",
            "\n",
            "Anomalies/Countryside-2-t.mp4 148929040 \n",
            "\n",
            "Anomalies/Dirt- 1-t.mp4 391300004 \n",
            "\n",
            "Anomalies/Dirt-2-t.mp4 386341825 \n",
            "\n",
            "Anomalies/Dirt-3-t.mp4 151038864 \n",
            "\n",
            "Anomalies/Dirt-4-t.mp4 114295976 \n",
            "\n",
            "Anomalies/Urban-1-t.mp4 152790623 \n",
            "\n",
            "Anomalies/Urban-2-t.mp4 26017082 \n",
            "\n",
            "Anomalies/Urban-3-t.mp4 25087143 \n",
            "\n",
            "Anomalies/Urban-4_1-t.mp4 16546346 \n",
            "\n",
            "Anomalies/Urban-4_2-t.mp4 16559422 \n",
            "\n",
            "Normal/Countryside-1-t.mp4 124818193 \n",
            "\n",
            "Normal/Countryside-2-t.mp4 191476880 \n",
            "\n",
            "Normal/Dirt-1-t.mp4 452043791 \n",
            "\n",
            "Normal/Dirt-2-t.mp4 432172577 \n",
            "\n",
            "Normal/Dirt-3-t.mp4 164349272 \n",
            "\n",
            "Normal/Dirt-4-t.mp4 126870414 \n",
            "\n",
            "Normal/Urban-1-t.mp4 147754849 \n",
            "\n",
            "Normal/Urban-2-t.mp4 23413284 \n",
            "\n",
            "Normal/Urban-3-t.mp4 17075508 \n",
            "\n",
            "Normal/Urban-4-t.mp4 116659830 \n",
            "\n"
          ]
        }
      ]
    },
    {
      "cell_type": "code",
      "source": [
        "os.makedirs('umcd-extracted')"
      ],
      "metadata": {
        "id": "fLXNR_uv8XXx"
      },
      "execution_count": null,
      "outputs": []
    },
    {
      "cell_type": "code",
      "source": [
        "shutil.move('Normal', 'umcd-extracted')\n",
        "shutil.move('Anomalies', 'umcd-extracted')"
      ],
      "metadata": {
        "colab": {
          "base_uri": "https://localhost:8080/",
          "height": 35
        },
        "id": "24O_i7av8UPD",
        "outputId": "56679795-f889-46c3-ea8a-0e49632115a2"
      },
      "execution_count": null,
      "outputs": [
        {
          "output_type": "execute_result",
          "data": {
            "text/plain": [
              "'umcd-extracted/Anomalies'"
            ],
            "application/vnd.google.colaboratory.intrinsic+json": {
              "type": "string"
            }
          },
          "metadata": {},
          "execution_count": 17
        }
      ]
    },
    {
      "cell_type": "code",
      "source": [
        "def make_tarfile(output_filename, source_dir):\n",
        "    with tarfile.open(output_filename, \"w:gz\") as tar:\n",
        "        tar.add(source_dir, arcname=os.path.basename(source_dir))\n",
        "\n",
        "make_tarfile(r'/content/drive/MyDrive/Andreas Olsson/Public-Safety/data/UMCD/umcd-extracted.tgz', 'umcd-extracted')"
      ],
      "metadata": {
        "id": "kX-D0tNQUbg9"
      },
      "execution_count": null,
      "outputs": []
    }
  ]
}