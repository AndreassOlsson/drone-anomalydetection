{
  "cells": [
    {
      "cell_type": "markdown",
      "metadata": {
        "id": "view-in-github",
        "colab_type": "text"
      },
      "source": [
        "<a href=\"https://colab.research.google.com/github/AndreassOlsson/drone-anomalydetection/blob/main/SpatioTemporal_VisionTransformer_AutoEncoder.ipynb\" target=\"_parent\"><img src=\"https://colab.research.google.com/assets/colab-badge.svg\" alt=\"Open In Colab\"/></a>"
      ]
    },
    {
      "cell_type": "code",
      "execution_count": null,
      "metadata": {
        "id": "U86Jks5QW5H6"
      },
      "outputs": [],
      "source": [
        "import numpy as np\n",
        "\n",
        "from tqdm import tqdm\n",
        "\n",
        "import torch\n",
        "import torch.nn as nn\n",
        "from torch.optim import Adam\n",
        "from torch.nn import BCELoss\n",
        "from torch.utils.data import DataLoader\n",
        "from torch.utils.data import Dataset\n",
        "import torch.nn.functional as F\n",
        "\n",
        "from torchvision.transforms import ToTensor\n",
        "from torchvision.datasets.mnist import MNIST\n",
        "\n",
        "import matplotlib.pyplot as plt\n",
        "\n",
        "import random\n",
        "import cv2\n",
        "import copy\n",
        "import bisect\n",
        "import math\n",
        "import itertools\n",
        "\n",
        "np.random.seed(42)\n",
        "torch.manual_seed(42)\n",
        "\n",
        "%matplotlib inline"
      ]
    },
    {
      "cell_type": "markdown",
      "metadata": {
        "id": "pW1gTYYD98O8"
      },
      "source": [
        "We will simulate video data by stacking multiple MNIST images on top of each other. This is just for playing around with the implementation of future video data and does (probably) not have a practical use\n",
        "\n",
        "Parameters include:\n",
        "* Patch size\n",
        "* Number of transformer layers\n",
        "* Number of attention heads\n",
        "* MLP size\n",
        "* Number of input frames\n",
        "\n",
        "Compared to other anomaly detection strategies, inputing 6 consecutive frames and predicting the next frame yielded the best results. Note that I am not entirely sure about every single detail of this method but this is the current plan:\n",
        "* For training, the model will take 6 mnist images of the same number as input and a singel mnist image of the same number as target and measure performance with Binary Cross Entropy Loss\n",
        "* For testing, the model will take 6 mnist images and try to reconstruct the number. We will measure the l2 distance between the prediction and an actual image of the \"normal\" number\n",
        "\n"
      ]
    },
    {
      "cell_type": "markdown",
      "metadata": {
        "id": "EW0jbK6LZwcL"
      },
      "source": [
        "# Prepare data"
      ]
    },
    {
      "cell_type": "code",
      "execution_count": null,
      "metadata": {
        "id": "esJAXtBRX1oh",
        "colab": {
          "base_uri": "https://localhost:8080/",
          "referenced_widgets": [
            "3731a482e60d4d8e926fe6a0d4c95a26",
            "1711942ae09d4961b89c8925415be191",
            "4a2eac0b2e47404ea0839ef9398aa6f5",
            "102bc28702bc4c20a4bcdd0725782e08",
            "9a237c6f0d064280800e4e089b3b6cd6",
            "c4d51053db18403ab26677820c6fecfe",
            "64980822a3c448f28168f07f8c69ca97",
            "fd6be6e6adf6419893a2e9f03bbd1307",
            "45803fc717f84824b13aa2d8fd0025fa",
            "b061e62721a64aa8b37b0bcb28fea739",
            "ef91a8bd41534885931bc2c432f87e6a",
            "45026d8f72c54d7a8ba9cfc04074864f",
            "b8b8b2c2401b4d7cb99d0c0a14658d0f",
            "69b3aaff93f24f50bc4f01828c42940a",
            "847f4ba507f74f3aacab08d72a8f5faa",
            "816ce26dd2804a70b10cc16355abd16c",
            "4170173245b44969b648569eb991cbbb",
            "a3b362f3ebfa42069707bec150fefc1f",
            "70861c1edbab437a927420a967783371",
            "647b1a40276448149ecde4e65df402c0",
            "09c4c16c12d945038f25b5b88171fa13",
            "1ae557bdf24046aa972e0b1782a23db4",
            "353088dda9614e4a899e2abb80706d01",
            "35a9414f8d874eaa9b3e287a99eb10b0",
            "15a1f43843904d7bb6874fcd5b7e8a12",
            "68e92483cf1c409c8ab809bb6a498e1c",
            "47075c04c0e44495a89ed899e86565eb",
            "aebf05902aec4c1aa51c6b8a64a95dcd",
            "e5d346d467fa4805a0217eb812148c67",
            "b5268ede2df849e081bf8f287131ac85",
            "e2e0e410935848f19c15aa76b6f7937e",
            "f2867986e73a465f8b23979bcc1b0068",
            "12dd85a6a55342d79dc3e113a0ccc624",
            "75e05b0fad444d898bc6854eacb3350f",
            "4b569daf2adb4552b446c05bdcfc5bd5",
            "25c638af581c444b9798b26b97e53a73",
            "4418352bcd5d468cb4816b2bab7531b1",
            "9873d80bd53e43c3932800fe8053acbb",
            "d85f4d6cdc9a463ba38a84a3feeadebb",
            "3793bf632d5e4224bca507707d16ed94",
            "9682fa625dd4439caa79ca66f0bf4a6b",
            "6bc57e88c38542ec92bb89746ae768e6",
            "0950e2cf7c1642e2886e19f7641bbcf5",
            "c9617ae320574f1dac3ce59d38cba46f"
          ]
        },
        "outputId": "d9f17c61-6c43-475a-aeb3-0746c5ba3216"
      },
      "outputs": [
        {
          "output_type": "stream",
          "name": "stdout",
          "text": [
            "Downloading http://yann.lecun.com/exdb/mnist/train-images-idx3-ubyte.gz\n",
            "Downloading http://yann.lecun.com/exdb/mnist/train-images-idx3-ubyte.gz to ./mnist/MNIST/raw/train-images-idx3-ubyte.gz\n"
          ]
        },
        {
          "output_type": "display_data",
          "data": {
            "text/plain": [
              "  0%|          | 0/9912422 [00:00<?, ?it/s]"
            ],
            "application/vnd.jupyter.widget-view+json": {
              "version_major": 2,
              "version_minor": 0,
              "model_id": "3731a482e60d4d8e926fe6a0d4c95a26"
            }
          },
          "metadata": {}
        },
        {
          "output_type": "stream",
          "name": "stdout",
          "text": [
            "Extracting ./mnist/MNIST/raw/train-images-idx3-ubyte.gz to ./mnist/MNIST/raw\n",
            "\n",
            "Downloading http://yann.lecun.com/exdb/mnist/train-labels-idx1-ubyte.gz\n",
            "Downloading http://yann.lecun.com/exdb/mnist/train-labels-idx1-ubyte.gz to ./mnist/MNIST/raw/train-labels-idx1-ubyte.gz\n"
          ]
        },
        {
          "output_type": "display_data",
          "data": {
            "text/plain": [
              "  0%|          | 0/28881 [00:00<?, ?it/s]"
            ],
            "application/vnd.jupyter.widget-view+json": {
              "version_major": 2,
              "version_minor": 0,
              "model_id": "45026d8f72c54d7a8ba9cfc04074864f"
            }
          },
          "metadata": {}
        },
        {
          "output_type": "stream",
          "name": "stdout",
          "text": [
            "Extracting ./mnist/MNIST/raw/train-labels-idx1-ubyte.gz to ./mnist/MNIST/raw\n",
            "\n",
            "Downloading http://yann.lecun.com/exdb/mnist/t10k-images-idx3-ubyte.gz\n",
            "Downloading http://yann.lecun.com/exdb/mnist/t10k-images-idx3-ubyte.gz to ./mnist/MNIST/raw/t10k-images-idx3-ubyte.gz\n"
          ]
        },
        {
          "output_type": "display_data",
          "data": {
            "text/plain": [
              "  0%|          | 0/1648877 [00:00<?, ?it/s]"
            ],
            "application/vnd.jupyter.widget-view+json": {
              "version_major": 2,
              "version_minor": 0,
              "model_id": "353088dda9614e4a899e2abb80706d01"
            }
          },
          "metadata": {}
        },
        {
          "output_type": "stream",
          "name": "stdout",
          "text": [
            "Extracting ./mnist/MNIST/raw/t10k-images-idx3-ubyte.gz to ./mnist/MNIST/raw\n",
            "\n",
            "Downloading http://yann.lecun.com/exdb/mnist/t10k-labels-idx1-ubyte.gz\n",
            "Downloading http://yann.lecun.com/exdb/mnist/t10k-labels-idx1-ubyte.gz to ./mnist/MNIST/raw/t10k-labels-idx1-ubyte.gz\n"
          ]
        },
        {
          "output_type": "display_data",
          "data": {
            "text/plain": [
              "  0%|          | 0/4542 [00:00<?, ?it/s]"
            ],
            "application/vnd.jupyter.widget-view+json": {
              "version_major": 2,
              "version_minor": 0,
              "model_id": "75e05b0fad444d898bc6854eacb3350f"
            }
          },
          "metadata": {}
        },
        {
          "output_type": "stream",
          "name": "stdout",
          "text": [
            "Extracting ./mnist/MNIST/raw/t10k-labels-idx1-ubyte.gz to ./mnist/MNIST/raw\n",
            "\n"
          ]
        }
      ],
      "source": [
        "mnist_train = MNIST(root='./mnist', train=True, download=True, transform=ToTensor()) \n",
        "mnist_test = MNIST(root='./mnist', train=False, download=True, transform=ToTensor()) "
      ]
    },
    {
      "cell_type": "code",
      "execution_count": null,
      "metadata": {
        "id": "33OqsoVENuky"
      },
      "outputs": [],
      "source": [
        "# \"This is only for demonstrational purposes and only uses the labels of the dataset, not the actual images\"\n",
        "# lbls = list(set([i[1] for i in mnist_test]))\n",
        "# lbl2lbls = {lbl:[i[1] for i in mnist_test if i[1] == lbl] for lbl in lbls}\n",
        "# normal_patterns = [[f'lbl:{lbl2lbls[n][0]} idx:{i}' for n in range(len(lbls))] for i in range(min([len(l) for l in lbl2lbls.values()]))]; normal_patterns[-1]\n",
        "\n",
        "# \"Randomly cut every list in values to a length of 6 + 1\"\n",
        "# def random_slice_demo(l):\n",
        "#   start = random.randint(0,10); end = start + 7\n",
        "#   if end >= 10: \n",
        "#     end = end % 10\n",
        "#     l = l[start:] + l[:end]\n",
        "#   else:\n",
        "#     l = l[start:end]\n",
        "#   return (l[:-1], l[-1])\n",
        "\n",
        "# normal_sequences = list(map(random_slice_demo, normal_patterns)); normal_sequences[-1]"
      ]
    },
    {
      "cell_type": "code",
      "execution_count": null,
      "metadata": {
        "id": "HppEzHpWFog1"
      },
      "outputs": [],
      "source": [
        "\"Randomly cut every list in values to a length of 6 + 1\"\n",
        "def random_slice(l):\n",
        "  start = random.randint(0,10); end = start + 7\n",
        "  if end >= 10: \n",
        "    end = end % 10\n",
        "    l = l[start:] + l[:end]\n",
        "  else:\n",
        "    l = l[start:end]\n",
        "  return (torch.stack(tuple(l[:-1])), l[-1])"
      ]
    },
    {
      "cell_type": "code",
      "execution_count": null,
      "metadata": {
        "id": "qdazoFY4ZMxp"
      },
      "outputs": [],
      "source": [
        "class SpatioTemporal_MNIST(Dataset):\n",
        "  def __init__(self, mnist):\n",
        "    \"\"\"\n",
        "    Input = 6 consecutive \"frames\" of video V = {I1,I2,...,I6}, in this case 6 images of the same mnist number\n",
        "    Target = 1 frame, I6+1, in this case 1 image of the same mnist number\n",
        "    Therefor our \"videos\" of a number must be devisible by 6+1=7\n",
        "\n",
        "    A normal pattern is an increament of 1 like {0, 1, 2, 3, 4, 5 - 6} or {6, 7, 8, 9, 0, 1 - 2}\n",
        "    \n",
        "    In {0, 1, 2, 3, 4, 5 - 3} the observation is a 3 and the model would have predicted a 6 -> Anomaly\n",
        "    In {0, 1, 2, 3, 4, 5 - 9} the observation is a 9 and the model would have predicted a 6 -> Anomaly\n",
        "\n",
        "    If the l2 distance between the prediction and observation is relatively big it is considered abnormal\n",
        "\n",
        "    A testing video where each frame is either normal, 0, or abnormal, 1, might look like this:\n",
        "    {1:0, 2:0, 3:0, 3:1, 5:0, 6:0, 7:0, 8:0, 9:0, 0:0, 2:1, 2:0, 3:0, 4:0, 5:0, 6:0, 4:1, 8:0}\n",
        "    \"\"\"\n",
        "    lbls = list(set([i[1] for i in mnist]))\n",
        "    lbl2imgs = {lbl:[i[0] for i in mnist if i[1] == lbl] for lbl in lbls}\n",
        "    normal_patterns = [[lbl2imgs[n][i] for n in range(len(lbls))] for i in range(min([len(l) for l in lbl2imgs.values()]))]\n",
        "    self.dset = list(map(random_slice, normal_patterns))\n",
        "\n",
        "  def __getitem__(self, idx):\n",
        "    return self.dset[idx]\n",
        "\n",
        "  def __len__(self):\n",
        "    return len(self.dset)\n",
        "\n",
        "  def show(self, idx):\n",
        "    f, axs = plt.subplots(1,7, figsize=(21,3))\n",
        "    data = self.dset[idx][0]\n",
        "    target = self.dset[idx][1]\n",
        "\n",
        "    for i in range(7):\n",
        "      if i == 6: img = target\n",
        "      else: img = data[i]\n",
        "      im_cv = img.numpy().transpose(1,2,0).squeeze()\n",
        "      im_rgb = cv2.cvtColor(im_cv, cv2.COLOR_BGR2RGB)\n",
        "      axs[i].title.set_text(f'Input frame {i+1}' if not i==6 else 'Target frame')\n",
        "      axs[i].imshow(im_rgb)\n",
        "\n",
        "    plt.imshow(im_rgb)"
      ]
    },
    {
      "cell_type": "code",
      "execution_count": null,
      "metadata": {
        "id": "uh4CyhA5dW5x"
      },
      "outputs": [],
      "source": [
        "train_dset = SpatioTemporal_MNIST(mnist_train)\n",
        "test_dset = SpatioTemporal_MNIST(mnist_test)"
      ]
    },
    {
      "cell_type": "code",
      "execution_count": null,
      "metadata": {
        "colab": {
          "base_uri": "https://localhost:8080/"
        },
        "id": "hFIFayxWiJNH",
        "outputId": "14588907-d5ed-42c1-cb7d-a4c8bab21688"
      },
      "outputs": [
        {
          "output_type": "display_data",
          "data": {
            "text/plain": [
              "<Figure size 1512x216 with 7 Axes>"
            ],
            "image/png": "[encoded data removed]"
          },
          "metadata": {
            "needs_background": "light"
          }
        }
      ],
      "source": [
        "train_dset.show(random.randint(0,len(train_dset)))"
      ]
    },
    {
      "cell_type": "code",
      "execution_count": null,
      "metadata": {
        "id": "_2q7shtYZI-l"
      },
      "outputs": [],
      "source": [
        "train_dl = DataLoader(train_dset, shuffle=True, batch_size=128)\n",
        "test_dl = DataLoader(test_dset, shuffle=False, batch_size=128)"
      ]
    },
    {
      "cell_type": "markdown",
      "metadata": {
        "id": "Ew1sbUJH-h3L"
      },
      "source": [
        "# Create model class"
      ]
    },
    {
      "cell_type": "code",
      "execution_count": null,
      "metadata": {
        "id": "Wiu50myQqcuo"
      },
      "outputs": [],
      "source": [
        "class SpatioTemporal_AE(nn.Module):\n",
        "  def __init__(self, encoder, decoder):\n",
        "    super(SpatioTemporal_AE, self).__init__()\n",
        "\n",
        "    self.encoder = encoder\n",
        "    self.decoder = decoder\n",
        "\n",
        "  def forward(self, videos):\n",
        "    encoded_input = self.encoder(videos)\n",
        "    decoded_output = self.decoder(encoded_input)\n",
        "    return decoded_output"
      ]
    },
    {
      "cell_type": "markdown",
      "metadata": {
        "id": "KBI3VCE0eXyS"
      },
      "source": [
        "## Encoder"
      ]
    },
    {
      "cell_type": "markdown",
      "source": [
        "The encoder will take as input:\n",
        "1. The sequence of tubelets (patches) mapped into tubelet embeddings via a linear projection\n",
        " 1. Tubelets = *x_k*\n",
        " 2. Weights of trainable linear projection = *E* \n",
        "2. An extra learnable embedding prepended to the sequence of tubelet embeddings\n",
        " 1. Learnable embedding = *x_cls*\n",
        "3. Learnable spatiotemporal embeddings added to the tubelet embeddings\n",
        " 1. Learnable spatiotemporal position embeddings = *E_pos*\n",
        "\n",
        "Encoder input = [*x_cls*; *x_k_1* * *E*; *x_k_2* * *E*; ... ; *x_k_N* * *E*] + E_pos"
      ],
      "metadata": {
        "id": "1lxqufrrFOMd"
      }
    },
    {
      "cell_type": "code",
      "source": [
        "# PyTorch requires images to be in N C H W format\n",
        "# Apperently this method with nested for loops was faster than nested list comprehensions\n",
        "def patchify(batch, patch_thw=(3,4,4)):\n",
        "  N, T, C, H, W = batch.shape\n",
        "  t, h, w = patch_thw\n",
        "\n",
        "  assert T % t == 0, 'Number of videoframes is not divisible by the number of frames in each patch'\n",
        "  assert H % h == 0, 'Videoframe height is not divisible by patch height'\n",
        "  assert W % w == 0, 'Videoframe width is not divisible by patch width'\n",
        "\n",
        "  patches = []\n",
        "  for video in batch:\n",
        "    video_patches = []\n",
        "    for f in range(T//t):\n",
        "      for y in range(H//h):\n",
        "        for x in range(W//w):\n",
        "          video_patches.append(video[f*t:(f+1)*t, :, y*h:(y+1)*h, x*w:(x+1)*w].flatten())\n",
        "          # print(f'Patch {len(patches)}:\\t Video {i}\\t Frames {f*t}:{(f+1)*t}\\t Channels :\\t Rows {y*h}:{(y+1)*h}\\t Columns {x*w}:{(x+1)*w}')\n",
        "    \n",
        "    patches.append(torch.stack(tuple(video_patches)))\n",
        "  return torch.stack(tuple(patches))\n",
        "\n",
        "\n",
        "# Test function\n",
        "sample_batch = torch.rand(7,6,1,28,28)\n",
        "N, T, C, H, W = sample_batch.shape \n",
        "t, h, w = 3, 4, 4\n",
        "\n",
        "patches = patchify(sample_batch, patch_thw=(t,h,w))\n",
        "\n",
        "assert patches.shape == (N, (H/h * W/w) * (T/t), t*C*h*w)\n",
        "\n",
        "patches.shape"
      ],
      "metadata": {
        "colab": {
          "base_uri": "https://localhost:8080/"
        },
        "id": "JafOSzeoklwc",
        "outputId": "3e081002-bd69-4ca2-9a65-637b26e597ba"
      },
      "execution_count": null,
      "outputs": [
        {
          "output_type": "execute_result",
          "data": {
            "text/plain": [
              "torch.Size([7, 98, 48])"
            ]
          },
          "metadata": {},
          "execution_count": 11
        }
      ]
    },
    {
      "cell_type": "code",
      "source": [
        "\"Multi-head Self Attention\"\n",
        "class Linear(nn.Module):\n",
        "  def __init__(self, input_dim=(768,), output_dim=(6, 768//6)):\n",
        "    super(Linear, self).__init__()\n",
        "\n",
        "    self.weight = nn.Parameter(torch.randn(*input_dim, *output_dim))\n",
        "    self.bias = nn.Parameter(torch.randn(*output_dim))\n",
        "\n",
        "  def forward(self, x, dims):\n",
        "    return torch.tensordot(x, self.weight, dims=dims) + self.bias\n",
        "\n",
        "\n",
        "class Multihead_Self_Attention(nn.Module):\n",
        "  def __init__(self, input_dim=768, n_attention_heads=6):\n",
        "    super(Multihead_Self_Attention, self).__init__()\n",
        "\n",
        "    self.input_dim, self.n_attention_heads = input_dim, n_attention_heads\n",
        "\n",
        "    assert input_dim % n_attention_heads == 0, f'Input dimension is not divisible by number of attention heads'\n",
        "    \n",
        "    self.head_dim = input_dim // n_attention_heads\n",
        "\n",
        "    self.query = Linear(input_dim=(input_dim,), output_dim=(n_attention_heads, self.head_dim))\n",
        "    self.key = Linear(input_dim=(input_dim,), output_dim=(n_attention_heads, self.head_dim))\n",
        "    self.value = Linear(input_dim=(input_dim,), output_dim=(n_attention_heads, self.head_dim))\n",
        "    self.out = Linear(input_dim=(n_attention_heads, self.head_dim), output_dim=(input_dim,))\n",
        "    \n",
        "  def forward(self, x):\n",
        "    # (N, n_embeddings, embedding_dim) --> (N, n_embeddings, n_attention_heads, head_dim) --> (N, n_embeddings, embedding_dim)\n",
        "\n",
        "    query = self.query(x, dims=([2], [0])).permute(0, 2, 1, 3)\n",
        "    key = self.key(x, dims=([2], [0])).permute(0, 2, 1, 3)\n",
        "    value = self.value(x, dims=([2], [0])).permute(0, 2, 1, 3)\n",
        "\n",
        "    attn_weights = torch.matmul(query, key.transpose(-2,-1)) / self.head_dim ** 0.5\n",
        "    attn_weights = F.softmax(attn_weights, dim=-1)\n",
        "\n",
        "    out = torch.matmul(attn_weights, value).permute(0, 2, 1, 3)\n",
        "\n",
        "    return self.out(out, dims=([2,3],[0,1]))\n",
        "\n",
        "Multihead_Self_Attention()(torch.randn(7, 99, 768)).shape"
      ],
      "metadata": {
        "colab": {
          "base_uri": "https://localhost:8080/"
        },
        "id": "MPxwYKJBTZUZ",
        "outputId": "e11bcc3a-de7a-470b-bfeb-8eae9ea11a11"
      },
      "execution_count": null,
      "outputs": [
        {
          "output_type": "execute_result",
          "data": {
            "text/plain": [
              "torch.Size([7, 99, 768])"
            ]
          },
          "metadata": {},
          "execution_count": 12
        }
      ]
    },
    {
      "cell_type": "code",
      "execution_count": null,
      "metadata": {
        "colab": {
          "base_uri": "https://localhost:8080/"
        },
        "outputId": "5227a615-caa3-4cb0-f2f2-807977605c81",
        "id": "R-ZAiVG57Yg4"
      },
      "outputs": [
        {
          "output_type": "execute_result",
          "data": {
            "text/plain": [
              "torch.Size([7, 99, 768])"
            ]
          },
          "metadata": {},
          "execution_count": 13
        }
      ],
      "source": [
        "class VisionTransformer_block(nn.Module):\n",
        "  def __init__(self, input_dim=768, mlp_dim=4096, n_attention_heads=6):\n",
        "    super(VisionTransformer_block, self).__init__()\n",
        "\n",
        "    self.norm1 = nn.LayerNorm(input_dim)\n",
        "    self.attention = Multihead_Self_Attention(input_dim, n_attention_heads)\n",
        "    self.dropout = nn.Dropout(0.1)\n",
        "    self.norm2 = nn.LayerNorm(input_dim)\n",
        "    self.mlp = nn.Sequential(\n",
        "        nn.Linear(input_dim, mlp_dim),\n",
        "        nn.GELU(),\n",
        "        nn.Linear(mlp_dim, input_dim)\n",
        "    )\n",
        "\n",
        "  def forward(self, x):\n",
        "    residual = x\n",
        "    out = self.norm1(x)\n",
        "    out = self.attention(x)\n",
        "    out = self.dropout(out)\n",
        "    out = out + residual\n",
        "\n",
        "    residual = out\n",
        "    out = self.norm2(out)\n",
        "    out = self.mlp(out)\n",
        "    out = out + residual\n",
        "\n",
        "    return out\n",
        "\n",
        "VisionTransformer_block()(torch.randn(7, 99, 768)).shape"
      ]
    },
    {
      "cell_type": "code",
      "source": [
        "class SpatioTemporal_Encoder(nn.Module):\n",
        "  def __init__(self, video_dim=(6,1,28,28), patch_dim=(3,4,4), embedding_dim=196, mlp_dim=392, n_attention_heads=2, n_transformer_layers=2):\n",
        "    super(SpatioTemporal_Encoder, self).__init__()\n",
        "\n",
        "    self.video_dim, self.patch_dim = video_dim, patch_dim\n",
        "    self.embedding_dim, self.mlp_dim = embedding_dim, mlp_dim\n",
        "    self.n_attention_heads, self.n_transformer_layers = n_attention_heads, n_transformer_layers\n",
        "\n",
        "    assert embedding_dim % n_attention_heads == 0, 'Embedding dimension is not divisible by number of attention heads in the transformer'\n",
        "\n",
        "    T, C, H, W = self.video_dim\n",
        "    t, h, w = self.patch_dim\n",
        "    self.n_patches = (H//h * W//w) * (T//t)\n",
        "\n",
        "    assert T % t == 0, 'Number of videoframes is not divisible by the number of frames in each patch'\n",
        "    assert H % h == 0, 'Videoframe height is not divisible by patch height'\n",
        "    assert W % w == 0, 'Videoframe width is not divisible by patch width'\n",
        "\n",
        "    self.dropout = nn.Dropout(0.1)\n",
        "\n",
        "    # 1) Linear projection, tubelets = xk_n, weights = E\n",
        "    self.input_dim = int(t * C * h * w)\n",
        "    self.linear_projection = nn.Linear(self.input_dim, self.embedding_dim)\n",
        "\n",
        "    # 2) Extra learnable embedding, x_cls\n",
        "    self.extra_learnable_embedding = nn.Parameter(torch.zeros(1, 1, self.embedding_dim))\n",
        "\n",
        "    # 3) Learnable spatiotemporal embedding, E_pos\n",
        "    self.spatiotemporal_embedding = nn.Parameter(torch.randn(1, (H//h * W//w) * (T//t) + 1, self.embedding_dim))\n",
        "\n",
        "    # 4) Transformer\n",
        "    self.transformer_layers = nn.ModuleList([VisionTransformer_block(self.embedding_dim, self.mlp_dim, self.n_attention_heads) for _ in range(self.n_transformer_layers)])\n",
        "    self.norm = nn.LayerNorm(self.embedding_dim)\n",
        "\n",
        "    # 5) Map extra learnable embedding to output dim\n",
        "    # self.output = nn.Linear(((H//h * W//w) * (T//t) + 1) * self.embedding_dim, out_dim) \n",
        "    # self.output = nn.Linear(embedding_dim, out_dim) \n",
        "\n",
        "\n",
        "    \n",
        "  def forward(self, videos):\n",
        "    N, T, C, H, W = videos.shape\n",
        "    t, h, w = self.patch_dim\n",
        "\n",
        "    tubelets = patchify(batch=videos, patch_thw=(t,h,w)) \n",
        "    tubelet_embeddings = self.linear_projection(tubelets)\n",
        "    tubelet_embeddings = self.dropout(tubelet_embeddings)\n",
        "  \n",
        "    extra_embedding = self.extra_learnable_embedding.repeat(N, 1, 1)\n",
        "    extra_embedding = self.dropout(extra_embedding)\n",
        "\n",
        "    embeddings = torch.cat([extra_embedding, tubelet_embeddings], dim=1)\n",
        "    out = embeddings + self.spatiotemporal_embedding\n",
        "\n",
        "    for transformer_layer in self.transformer_layers:\n",
        "      out = transformer_layer(out)\n",
        " \n",
        "    # out = out.view(N, ((H//h * W//w) * (T//t) + 1) * self.embedding_dim) # v2\n",
        "    # out = out[:,0] # The prepended extra learnable embedding will serve as the output from the encoder v1\n",
        "    # out  = self.output(out)\n",
        "    # out = self.dropout(out)\n",
        "\n",
        "    return self.norm(out)\n",
        "\n",
        "out = SpatioTemporal_Encoder()(torch.randn(7,6,1,28,28)); out.shape"
      ],
      "metadata": {
        "colab": {
          "base_uri": "https://localhost:8080/"
        },
        "id": "UsFgqvB5FDBN",
        "outputId": "8d3daeb8-f0d4-48a6-8797-523db4e77e4c"
      },
      "execution_count": null,
      "outputs": [
        {
          "output_type": "execute_result",
          "data": {
            "text/plain": [
              "torch.Size([7, 99, 196])"
            ]
          },
          "metadata": {},
          "execution_count": 14
        }
      ]
    },
    {
      "cell_type": "markdown",
      "source": [
        "## Decoder"
      ],
      "metadata": {
        "id": "D08H7KQ1fG_s"
      }
    },
    {
      "cell_type": "code",
      "source": [
        "class SpatioTemporal_Decoder(nn.Module):\n",
        "  def __init__(self, input_dim=(99, 196), hw=(7, 7)):\n",
        "    super(SpatioTemporal_Decoder, self).__init__()\n",
        "\n",
        "    self.hw = hw\n",
        "    input_channels = input_dim[0] * input_dim[1] // (hw[0] * hw[1])\n",
        "\n",
        "    self.decoder = nn.Sequential(\n",
        "      nn.ConvTranspose2d(input_channels, 256, 2, stride=2, padding=0),\n",
        "      nn.BatchNorm2d(256),\n",
        "      nn.ReLU(),\n",
        "\n",
        "      nn.Conv2d(256, 128, 3, stride=1, padding=1),\n",
        "      nn.BatchNorm2d(128),\n",
        "      nn.ReLU(),\n",
        "      \n",
        "      nn.Conv2d(128, 64, 3, stride=1, padding=1),\n",
        "      nn.BatchNorm2d(64),\n",
        "      nn.ReLU(),\n",
        "  \n",
        "      nn.ConvTranspose2d(64, 64, 2, stride=2, padding=0),\n",
        "      nn.BatchNorm2d(64),\n",
        "      nn.ReLU(),\n",
        "\n",
        "      nn.Conv2d(64, 32, 3, stride=1, padding=1),\n",
        "      nn.BatchNorm2d(32),\n",
        "      nn.ReLU(),\n",
        "\n",
        "      nn.Conv2d(32, 1, 3, stride=1, padding=1),\n",
        "      nn.Sigmoid()\n",
        "    )\n",
        "    \n",
        "  def forward(self, x):\n",
        "    out = x.view(x.shape[0], (x.shape[1] * x.shape[2] // (self.hw[0] * self.hw[1])), self.hw[0], self.hw[1])\n",
        "    out = self.decoder(out)\n",
        "    return out\n",
        "\n",
        "out = SpatioTemporal_Decoder(hw=(7,7))(torch.rand(7, 99, 196)); out.shape"
      ],
      "metadata": {
        "colab": {
          "base_uri": "https://localhost:8080/"
        },
        "id": "eiKRFzqdzOEb",
        "outputId": "330949ef-8e6d-426d-96d8-983fcb00d27d"
      },
      "execution_count": null,
      "outputs": [
        {
          "output_type": "execute_result",
          "data": {
            "text/plain": [
              "torch.Size([7, 1, 28, 28])"
            ]
          },
          "metadata": {},
          "execution_count": 15
        }
      ]
    },
    {
      "cell_type": "markdown",
      "metadata": {
        "id": "LhE56E9UuN8_"
      },
      "source": [
        "# Train model"
      ]
    },
    {
      "cell_type": "code",
      "source": [
        "model_name = 'SpatioTemporal_VisionTransformer_AutoEncoder_v3.pth'\n",
        "state_dict_path = '/content/drive/MyDrive/Andreas Olsson/Public-Safety/models/' + model_name\n",
        "device = torch.device(\"cuda\" if torch.cuda.is_available() else \"cpu\")\n",
        "print(f'Model name: {model_name}, Using device {device}')"
      ],
      "metadata": {
        "colab": {
          "base_uri": "https://localhost:8080/"
        },
        "id": "yt7oS7kihnio",
        "outputId": "67c52c2e-3c6b-4a27-9dcb-5f4303858289"
      },
      "execution_count": null,
      "outputs": [
        {
          "output_type": "stream",
          "name": "stdout",
          "text": [
            "Model name: SpatioTemporal_VisionTransformer_AutoEncoder_v3.pth, Using device cpu\n"
          ]
        }
      ]
    },
    {
      "cell_type": "markdown",
      "metadata": {
        "id": "J9jrj5cqbd9m"
      },
      "source": [
        "## Training loop (remember to call before new version)"
      ]
    },
    {
      "cell_type": "code",
      "execution_count": null,
      "metadata": {
        "id": "8ahr4imRbfLL"
      },
      "outputs": [],
      "source": [
        "def train_epochs(epochs=5):\n",
        "  print(f'{\"-\"*20}Training model {model_name} for {epochs} epochs with {trainable_params:_} trainable params and learning rate of {lr}{\"-\"*20}\\n')\n",
        "  min_test_loss = np.inf\n",
        "  for epoch in range(epochs):\n",
        "    train_epoch_loss = 0.\n",
        "    model.train()\n",
        "    for batch in tqdm(train_dl, desc=f'Training Epoch: [{epoch + 1} ---> {epochs}]', position=0, leave=True):\n",
        "      x, y = batch\n",
        "      x, y = x.to(device), y.to(device)\n",
        "      y_hat = model(x)\n",
        "\n",
        "      train_loss = criterion(y_hat, y)\n",
        "      train_epoch_loss += train_loss.detach().cpu().item() / len(train_dl)\n",
        "\n",
        "      optim.zero_grad()\n",
        "      train_loss.backward()\n",
        "      optim.step()\n",
        "\n",
        "    with torch.no_grad():\n",
        "      test_epoch_loss = 0\n",
        "      model.eval()\n",
        "      for batch in tqdm(test_dl, desc=f'Testing Epoch [{epoch + 1} ---> {epochs}]', position=0, leave=True):\n",
        "        x, y = batch\n",
        "        x, y = x.to(device), y.to(device)\n",
        "        y_hat = model(x)\n",
        "\n",
        "        test_loss = criterion(y_hat, y)\n",
        "        test_epoch_loss += test_loss.detach().cpu().item() / len(test_dl)\n",
        "\n",
        "      print(f'[Epoch {epoch + 1}]\\tTrain loss: {train_epoch_loss:.4f}\\tTest loss {test_epoch_loss:.4f}')\n",
        "\n",
        "      if test_epoch_loss < min_test_loss:\n",
        "        print(f'Test loss decreased ({min_test_loss:.4f}--->{test_epoch_loss:.4f})\\tSaving the model...\\n')\n",
        "        min_test_loss = test_epoch_loss\n",
        "        torch.save(model.state_dict(), state_dict_path)\n",
        "      else: print('')"
      ]
    },
    {
      "cell_type": "markdown",
      "metadata": {
        "id": "dY34O3wGZ3CY"
      },
      "source": [
        "## Instantiate model (model parameters)"
      ]
    },
    {
      "cell_type": "markdown",
      "source": [
        "v1 (encoder outputs extra learnable embedding mapped to a linear projection): \n",
        "* embed_dim = 64, mlp_dim = 128, patch_dim = (3,4,4), n_heads = 2, n_layers = 1, output_dim = 245, input_hw = (7,7)\n",
        "* BCELoss of 0.2377\n",
        "\n",
        "v2 (encoder outputs only extra learnable embedding):"
      ],
      "metadata": {
        "id": "DPqHIcMOYxgl"
      }
    },
    {
      "cell_type": "code",
      "source": [
        "def valid_embed_dims(n_max=1000, n_attention_heads=None, must_match=(7,7)):\n",
        "  n_attention_heads = [n_attention_heads] if n_attention_heads else list(range(1,10))  \n",
        "  return {n: [i for i in range(1, n_max + 1) if i % n == 0 and (1 / (must_match[0] * must_match[1] / i)) % 1 == 0] for n in n_attention_heads}\n",
        "\n",
        "for k,v in valid_embed_dims().items(): print('n_heads:',k,v)"
      ],
      "metadata": {
        "colab": {
          "base_uri": "https://localhost:8080/"
        },
        "id": "fKx61E2HGoQb",
        "outputId": "c6d3422e-bccb-49b2-cbe2-c634dcbbdb03"
      },
      "execution_count": null,
      "outputs": [
        {
          "output_type": "stream",
          "name": "stdout",
          "text": [
            "n_heads: 1 [49, 98, 147, 196, 245, 294, 343, 392, 441, 490, 539, 588, 637, 686, 735, 784, 833, 882, 931, 980]\n",
            "n_heads: 2 [98, 196, 294, 392, 490, 588, 686, 784, 882, 980]\n",
            "n_heads: 3 [147, 294, 441, 588, 735, 882]\n",
            "n_heads: 4 [196, 392, 588, 784, 980]\n",
            "n_heads: 5 [245, 490, 735, 980]\n",
            "n_heads: 6 [294, 588, 882]\n",
            "n_heads: 7 [49, 98, 147, 196, 245, 294, 343, 392, 441, 490, 539, 588, 637, 686, 735, 784, 833, 882, 931, 980]\n",
            "n_heads: 8 [392, 784]\n",
            "n_heads: 9 [441, 882]\n"
          ]
        }
      ]
    },
    {
      "cell_type": "code",
      "execution_count": null,
      "metadata": {
        "id": "wAtq-yrivadl",
        "colab": {
          "base_uri": "https://localhost:8080/"
        },
        "outputId": "b11f1ada-eec6-4532-8e4f-d3d18dd36f3f"
      },
      "outputs": [
        {
          "output_type": "stream",
          "name": "stdout",
          "text": [
            "-------------------- SpatioTemporal_VisionTransformer_AutoEncoder_v3.pth --------------------\n",
            "Encoder params:\n",
            "Embed_dim:196, mlp_dim:784, patch_dim:(3, 4, 4), n_attention_heads:7, n_transformer_layers:2\n",
            "\n",
            "Decoder params:\n",
            "input_dim:(99, 196), hw=(7, 7)\n",
            "\n",
            "Trainable params: 1_767_557\n",
            "\n",
            "Sample input shape: torch.Size([7, 6, 1, 28, 28])\n",
            "Sample output shape: torch.Size([7, 1, 28, 28])\n",
            "Sample output values ranging from 0.16267 to 0.74003\n",
            "\n",
            "Pretrained weights loaded sucessfully\n",
            "\n"
          ]
        }
      ],
      "source": [
        "video_dim = (6,1,28,28)\n",
        "patch_dim = (3,4,4)\n",
        "\n",
        "# Encoder params\n",
        "embed_dim = 196\n",
        "mlp_dim = embed_dim * 4\n",
        "n_attention_heads = 7\n",
        "n_transformer_layers = 2\n",
        "\n",
        "# Decoder\n",
        "decoder_input_hw = (7, 7)\n",
        "n_embeds = (video_dim[2]//patch_dim[1] * video_dim[3]//patch_dim[2]) * video_dim[0]//patch_dim[0] + 1\n",
        "\n",
        "encoder = SpatioTemporal_Encoder(video_dim=video_dim, patch_dim=patch_dim, embedding_dim=embed_dim, mlp_dim=mlp_dim, n_attention_heads=n_attention_heads, n_transformer_layers=n_transformer_layers).to(device)\n",
        "decoder = SpatioTemporal_Decoder(input_dim=(n_embeds, embed_dim), hw=decoder_input_hw).to(device)\n",
        "model = SpatioTemporal_AE(encoder, decoder).to(device)\n",
        "\n",
        "\n",
        "print('-'*20,model_name,'-'*20)\n",
        "print(f'Encoder params:\\nEmbed_dim:{embed_dim}, mlp_dim:{mlp_dim}, patch_dim:{patch_dim}, n_attention_heads:{n_attention_heads}, n_transformer_layers:{n_transformer_layers}\\n')\n",
        "print(f'Decoder params:\\ninput_dim:{n_embeds, embed_dim}, hw={decoder_input_hw}\\n')\n",
        "\n",
        "trainable_params = filter(lambda p: p.requires_grad, model.parameters())\n",
        "trainable_params = sum([np.prod(p.size()) for p in trainable_params])\n",
        "print(f'Trainable params: {trainable_params:_}\\n')\n",
        "\n",
        "sample_input = torch.rand(7, 6, 1, 28, 28).to(device)\n",
        "sample_output = model(sample_input)\n",
        "print(f'Sample input shape: {sample_input.shape}\\nSample output shape: {sample_output.shape}')\n",
        "print(f'Sample output values ranging from {torch.min(sample_output).item():.5f} to {torch.max(sample_output).item():.5f}\\n')\n",
        "\n",
        "try:\n",
        "  model_weights = 'SpatioTemporal_VisionTransformer_AutoEncoder_v3.pth'\n",
        "  pretrained_weights_path = '/content/drive/MyDrive/Andreas Olsson/Public-Safety/models/' + model_weights\n",
        "  model.load_state_dict(torch.load(pretrained_weights_path, map_location=torch.device(device)), strict=False)\n",
        "  print('Pretrained weights loaded sucessfully\\n')\n",
        "except:\n",
        "  print('Could not load pretrained weights\\n')\n",
        "\n",
        "torch.cuda.empty_cache()"
      ]
    },
    {
      "cell_type": "markdown",
      "metadata": {
        "id": "9oziPtoJkX8v"
      },
      "source": [
        "## Train model (training parameters)"
      ]
    },
    {
      "cell_type": "code",
      "execution_count": null,
      "metadata": {
        "id": "sh1kme6uZlge"
      },
      "outputs": [],
      "source": [
        "momentum = 0.9\n",
        "lr = 5e-3\n",
        "epochs = 6\n",
        "\n",
        "optim = torch.optim.SGD(model.parameters(), lr=lr, momentum=momentum)\n",
        "# optim = Adam(model.parameters(), lr=lr)\n",
        "criterion = BCELoss()\n",
        "\n",
        "train_epochs(epochs)"
      ]
    },
    {
      "cell_type": "markdown",
      "metadata": {
        "id": "OP6pp4NIJ6w4"
      },
      "source": [
        "# Test model"
      ]
    },
    {
      "cell_type": "markdown",
      "metadata": {
        "id": "g-9SAjJQM8JE"
      },
      "source": [
        "## Test performance"
      ]
    },
    {
      "cell_type": "code",
      "execution_count": null,
      "metadata": {
        "id": "Bk2zUGaLNJnA"
      },
      "outputs": [],
      "source": [
        "criterion = BCELoss()"
      ]
    },
    {
      "cell_type": "code",
      "execution_count": null,
      "metadata": {
        "colab": {
          "base_uri": "https://localhost:8080/"
        },
        "id": "1ixsvz_EM-UD",
        "outputId": "9b3103c3-ebc0-4197-8643-785f3719fc4e"
      },
      "outputs": [
        {
          "output_type": "stream",
          "name": "stdout",
          "text": [
            "--------------------Testing model SpatioTemporal_VisionTransformer_AutoEncoder_v3.pth--------------------\n",
            "\n"
          ]
        },
        {
          "output_type": "stream",
          "name": "stderr",
          "text": [
            "Testing: 100%|██████████| 7/7 [00:01<00:00,  3.99it/s]"
          ]
        },
        {
          "output_type": "stream",
          "name": "stdout",
          "text": [
            " ---> Test loss: 0.2378\n"
          ]
        },
        {
          "output_type": "stream",
          "name": "stderr",
          "text": [
            "\n"
          ]
        }
      ],
      "source": [
        "print(f'{\"-\"*20}Testing model {model_name}{\"-\"*20}\\n')\n",
        "\n",
        "with torch.no_grad():\n",
        "  test_epoch_loss = 0\n",
        "  model.eval()\n",
        "  for batch in tqdm(test_dl, desc=f'Testing', position=0, leave=True):\n",
        "    x, y = batch\n",
        "    x, y = x.to(device), y.to(device)\n",
        "    y_hat = model(x)\n",
        "\n",
        "    test_loss = criterion(y_hat, y)\n",
        "    test_epoch_loss += test_loss.detach().cpu().item() / len(test_dl)\n",
        "\n",
        "  print(f' ---> Test loss: {test_epoch_loss:.4f}')"
      ]
    },
    {
      "cell_type": "markdown",
      "metadata": {
        "id": "-xBl4u8_M-3y"
      },
      "source": [
        "## Perform inference"
      ]
    },
    {
      "cell_type": "code",
      "source": [
        "def show_preds(n=2):\n",
        "  for _ in range(n):\n",
        "    f, axs = plt.subplots(1, 8, figsize=(21, 3))\n",
        "\n",
        "    data = random.choice(test_dl.dataset)\n",
        "    input = data[0].to(device)\n",
        "    target = data[1].to(device)\n",
        "    pred = model(input.unsqueeze(0).to(device)).squeeze()\n",
        "\n",
        "    for i in range(8):\n",
        "      if i == 6: img = pred\n",
        "      elif i == 7: img = target\n",
        "      else: img = input[i]\n",
        "      im_cv = img.cpu().detach().numpy().squeeze()\n",
        "      im_rgb = cv2.cvtColor(im_cv, cv2.COLOR_BGR2RGB)\n",
        "      axs[i].title.set_text('Predicted frame 7' if i==6 else 'Observed frame 7' if i==7 else f'Input frame {i+1}')\n",
        "      axs[i].imshow(im_rgb)\n",
        "\n",
        "    plt.imshow(im_rgb)\n",
        "\n",
        "show_preds()"
      ],
      "metadata": {
        "id": "3GWyItFXpJZX"
      },
      "execution_count": null,
      "outputs": []
    },
    {
      "cell_type": "markdown",
      "source": [
        "![image.png](data:image/png;base64,iVBORw0KGgoAAAANSUhEUgAABLMAAAFTCAIAAABNnNkQAAAgAElEQVR4nOyd2XMb15X/G42tG/u+gwBIAiDBRRJFUdQuy5ZteYntOJPUOMvU/AOT5Hmep2qq5jmVmamZ8VTiNbYjK1Zsaycp7qS4k+BOgFhJEDvQ2BqN38P5uYOhZVmSJW7qzxPBbrAvu/t+7z3nnnMuq7OzE0GQhoaG3/72t62trQgDAwMDAwMDAwMDAwPDMwa62w1gYGBgYGBgYGBgYGBg2GUYy5CBgYGBgYGBgYGBgeFZh7EMGRgYGBgYGBgYGBgYnnU4u92A3adSqeTz+VQqValUxGKxQCBgsVi73SiGR6BcLhMEkclkOByORCLh8/m73SKGh6VSqZRKpUwmUywWMQwTiUQcDiNK+wlGP/c7jH7uX7bpp1Ao5HK5u92oZxGSJLPZLJvNxjCsWCwWCgWxWPxExrJCoZBOpyUSCY/Ho39ZqVSKxWIymSyXyyKRSCgUoiizzLO3qFQquVwunU5XKhWRSCQSiXa7RY8A22QyIQiiUqlOnDih1Wp3uz1/A957BEE4HM4Pn2qQJJnJZAqFApfL3fbXcrncxMTE559/Pj8/LxQK1Wo1m83+gZd7GEqlUiKRSCQSICgHTNDp+SKXy/3h9xPGv3Q6XS6Xq/URQRCKoqLRaG9v75dffrmxsaFUKuVy+Q+83MNQLpez2Ww8Hk8mk7lcrlKpfPvV2r/Af1coFDgczg8fciiKyuVyBEGwWKxtg2WpVFpbW7t+/Xp/f3+hUFCpVAKB4Ade7mEolUrJZDIej6dSqXw+z2Kx2Gz2gXl8yM7q5+Tk5Oeff+52u3EcV6lUO2nbl8vlVCqVSCTYbPYT+U/3CDupn7FYrLe39+rVq6FQSKFQKBSKH3i5h4GiqHQ6vbm5mU6noQ+iKHpgBsGd1E+Px3P9+vW+vr5cLqdSqYRC4Q+83ENSPQIWCgU2m71PJbRYLMZiMRgLstlsuVx+jKe2ubl5586dSCQik8m8Xu/09LRWq8VxfNtp4IUhCILL5T7kJRYXF//85z8bDAaJREJ/pVgszs3NXb58eWpqis1m6/V6xqO6DTDMNjY2UqlUMplMpVKpVCqdTufzeQ6H86RuF4yMuVwOw7BtV89msxMTE3/+85+XlpYwDDMajU/kijvD3n2Z/H7/rVu3jh492tTU9MO9mPF4vK+vD0XRCxcubLPdI5FIb29vMpl0uVxKpXLHXC+bm5tfffXV6uoqiqI/+clPWltbD5LXhyTJ2dnZoaGhN954A7wPP4Ryuby+vj46OqrX68+dO1d9CIbGoaEhHMfr6+t3xjFDUVQ8Hp+YmBgbGyMIQigUNjQ0dHR07Cnfyg8hkUgMDg6WSqWzZ8/+8JkiQRBTU1PBYLC1tdXhcFQfymQyU1NTy8vLVqvVaDTuzHoFRVHQ6xcXF8vlslwub2lpOXz48M74FHaGQCBw+/btQ4cOtbS0PBH97O/vRxDkueeek0gk1Ye2trb6+voSiURnZ6dKpdoZtxpQqVSi0eiXX365vLz85ptvHjlyZCev/lQpl8tut7uvr+/NN980m80//K/5fL7h4WGdTvfcc89VHyJJcn19fXBwkM/n19fXi8XiH3ith4QgiO7u7qtXryoUCj6fr9frT5061dzcvDNXf9okk8mhoaFcLnfu3DmlUvkD/xpBEDMzM36/v7m5uaGhofpQNpudnp5eWlqyWCxms3nb9PTpUS6XNzc3R0dH5+bmcrmcXq8/f/58fX39fuyAwWDwk08+CYfDGIbx+XyLxXLmzJmamppHMh7S6fTs7KxGo2lpaZHL5RRF3Vd1M5nM0NBQNBp9+eWXH3K42dzc7OvrgybRv4zH44ODg4FA4PTp01qt9iBNHZ8UFEWtrKx8/PHHlUqFIIh0Oq1QKDAMM5vNL774osVieSKXgJExm82+88472w5tbm4ODw9vbm62t7erVKoffrmdZO9ahrFYbHR01GAw2O32UqmUz+cRBCkWixwORywWYxhGkiQs1JZKJYqicBwXi8UoiuZyuUKhIJVK2Wx2oVDIZDI4jkcikaGhIRaLVVtbq9frZTIZSFixWPR6vUtLS83NzYcOHdJoNKlUiqIokiQRBBGJRBRFZbNZkiQ5HA6s2iMIArE3PB4vl8uhKArWSCaToVeNWSxWuVzOZDIEQVQqFWjbNqEhSRKiDubn50+dOtXS0rILd/mpQVFUMBgcHBw8f/68VqslCKJYLCIIAkEvEomEw+Hk8/lsNstiseAQ3F6KogiCoChKJpOB1yeXy3E4HJ/P19vbW1dXZ7fbRSIRTE/BMbOysrKxsfHiiy+6XC4Mw6LRaKVSKZfLbDZbIBAUi0V4CjweD94ccHbCny0UCjweD8dxiAaBtwvHcTpKB5zZQqGwOmADYjkKhYJcLjcajVtbW/39/aVS6a233tqPTtNvQxDE/Px8sVhsb28XCAQEQZTLZYqiKIqCWwHnFAoFuFFcLlckEvH5/FKplMvleDyeQCAgSRLufDqddrvds7OzHA5HJpPBHUYQpFwuRyKR5eVlFovV1NRks9lgrg8X4vP58JIUCgUURXEcFwqFHA6nWCxCX6Moqlwu4zjO5XJzuVypVOLz+WKxmMvlUhSVz+czmQxJklwuVywW8/n86kfD4XDUajWKoqVSyev13r59WywWHz169GA8PuQb/VSpVA6Ho1o/2Wy2RCL5tn5Cr6T1E3oo3Go+n7+1tTU8PExRlM1mMxqN1fq5vr6+tLTU2NjY2tqq0WjS6fT36ifE2NxXP4VCoVgsBv3MZrPZbPa79BOu7na7r169mkwmOzo6Dh8+vNN3+akB+jkwMPDcc8/p9fpsNkvrJ5/Pl0qloF2ZTIbWT6FQCDf82/rJ5XL9fn9vb6/NZnM6nUKhUCqVIt/o5/LycigUevHFF5ubm3EcB/2ER7ZNP0UiEY7jtH5yudx8Ps/lcqGzg36KRCKBQPBg/UQQpFAorK2tra+vnzhxQiqVyuVymUy2W3f7iZPL5RYWFjKZTHt7u1AorNZPgUAAL/zD62cmk3G73dPT0yiKyuVyiUSyTT8rlYrL5arWz3K5jGEYrZ8sFgvHcYjVLxaL2WwWGkPrZz6fh1dLJBLxeDzQz2w2S7cNw7BqbQTTd3JyUi6X19TUwLd27Xb/MBKJxOzsrFardTqdsVgMJooXL16ElcNSqYSiqFQqhdUhWHUXi8Xw/+bz+XQ6TZJkPB4H0QOBhacJ84R0Ok0PYfF4fGxszOfz2e32mpoa8Lqm0+lcLsdiseDdYLPZMHuEaDJ4B6obXCqV/H7/4uKiQqE4fPiwTqcDjaUHaBRFM5lMqVRis9kgCyiK5vP5ZDIJqstiseBCEEcAqouiKMh1JpOhR4T9u4zPYrFkMtmRI0fK5fLExMTIyMjbb78N3pNUKuX3++HFFgqFoJOpVIrP58Pqn0gkgtVFLpfL4XAoipLL5SiK0k8ThI7H421tbQ0NDSUSibNnzwoEAplMhqIo/MH19XWPx6PT6Y4cOSIQCBKJRKlUQhAERIDFYsFYyeFwQB7hWwRBoCgKi/ACgQBF0XQ6jXwj7ywWC5SWIAgEQehO/cTv3t61DGkymczk5OTs7CyO41tbWxiGnTx58ujRo7DmBuqZy+XMZvNzzz2nVCrHxsaWlpZ+/OMfK5XK9fX1GzdutLW1bW5uTk1N5XK5crnc1tb26quvgjpvbW319PRMTU3FYjEURTs7O6empgiCgFnmiRMnEonE2NhYKpXCcbylpeXs2bN8Pn9iYuKrr75qaGhYW1tDURQG1MnJyVwu19zc/NJLL2EYFgqF+vr6VlZWSJKsqak5d+6cxWKpHhrVavWrr746Nze3sbFxYOaj36ZSqUQike7ubq/XK5VKQ6EQ+K3r6+vn5+dv3LghFAqTySSMbWfPni2XywMDA+CDKRaLU1NTY2Njx48fX1hYGBsbW19fLxQKHR0dFy5cQL6JRezu7p6cnERRlCRJq9U6NjZWLpcrlYpSqWxtbV1bW5uZmSmVSiqVqr29va2tLZPJdHd3T01NWa1Wj8cjk8kcDkc+n5+bm8NxvKOjo7Ozs1QqLS8vDw0NhcNhPp/vcrmOHz+uVqvhn0JRVCaTtbe3w+RpcXHx008/nZ2dff311/evkt4X8FwMDw/DHJ0giIaGhpMnT+I43t/fv7i4yGKxMpmMWCw+duyYy+UKBoMTExO1tbWdnZ2xWKy/v5+iKIVCMTs7Ozo6mkgkwuHw+fPnwfOdTqcnJyeHhoYymQwoINhp5XIZRVGHwyGTydxu9/r6OoqiFovl5MmTNTU1Xq/35s2bpVKJxWIlEgmz2azX6wOBQDAYNBgMZ8+etdlsyWRycnJyeno6mUwqlcr29vampiZ6PRlFUYVCcezYsWw2G41GE4nEwsJCJBKBOKJdvd9PnkwmMzMzMzMzA04TPp/f2dnZ3t6+tbX19ddfw7w/l8uZTKbz58+r1erx8fGlpaU33nhDrVavr6/fvHnz0KFDkUhkamoKQq3a2tpeeeUVcM2Afk5OTkYiERRFjx8/Pjs7CxNKuFAqlRobG0smkziONzU1nTt3DsfxiYmJr7/+2m63e71eBEGampqEQiEIb1NT04svvigQCMLhcF9f3/LyMujn2bNnLRZL9YoERVF+v398fFyn0x2kONJtgH52dXV5vV6ZTBYMBrVa7XPPPedwOBYWFq5duyYUClOpVLlcBv2sVCr9/f2pVOqXv/xlqVSamZkZHh4+efLkwsLC+Pj4+vo6SZLt7e0vvPACgiAkSXo8nq6uLohJK5fLtbW19+7dA5tBqVQeOnTI4/FMT0+XSiWlUnn06NH29vZsNtvT0zM+Pl5bW7u2tiaVSp1OZ6FQmJub4/P5x44dO3nyJEmSKysrQ0NDwWCQx+M1NjZ2dnZqNJrqf43D4eh0umPHjkEM5M6Eke8wxWJxYWFheHgYHB8EQTgcjlOnTgkEgoGBgfn5eZjEi0Qi0KhwODwxMQFal0gkwOGoUqnm5uZGR0djsdjGxsa5c+dcLheCIJlMZnp6emhoKJlMoigK5oHH4wH9rK+vVygU8/PzXq8XRdGampoTJ05YLJb19fVbt27l83k2mx2Px0E/g8FgIBDQ6/Vnzpypq6tLpVJTU1NTU1OJREKhUBw9erS5uZleTy6Xy8FgcGxsTCgUQhYSuOT278oVjF8vvPCCz+fz+/1ra2tut3tkZEQsFudyOYVC0dnZ6ff7Z2ZmUqmUWq3u6OhoamoiSXJ8fHx4eBj8bpFIRKfT5fP5hYWFxcXF1157TSwWu91uWDiCWQSO4+Pj4z6fj8PhtLS0/OhHP0qlUn19fX6/n8Vi1dXVnTlzRq1Wb2xsdHd3r66uCoVCCEuubm08Hh8YGID7D4/A4/GEw2EYvNrb2xEEGRoaisfjPB7P6XReuHBBoVAsLS19/PHHdXV1wWCQJEmn06nVaicmJpLJpN1uf+WVV6RSaSQSGRwcdLvdhULBYDCcPn3a4XDsx3VgBEFQFDWbzWazuVQqCYXC1dXVF154wWKxjI2NXb16NZfLCYXC1tbWc+fOcbnc8fHxK1euuFyujY2Nurq6pqYmiA2Wy+XgN/nHf/xHLpfrdrsHBwdjsZhAIGhpaWlra/N6vYODg7lc7r/+67+amppee+01HMcpitrY2Ojv7x8dHdVoNCqVyul0rq+v+/1+8H+1traSJNnf3w8RZy0tLadPn+ZyuWNjY93d3RqNZmNjg81mOxwOqVQ6Pj5eKpVaWlrOnz+P43ggEBgeHl5aWkIQxGq1dnZ21tbWPvHhbx/05EKh4Ha779y5A+ZfNBr9+uuvY7FYIpG4e/fu4OCgVCrVaDSzs7O3b9+OxWIej+fevXu5XA5BkFgsNjIyEo1GxWKxVqs1mUytra02m42evgsEArPZrFKp6urqnE4nPK27d+9KJBKHwwGeOZPJ1NTUVKlUrl275na7wU1+7dq1YDBotVpTqdQf/vCHiYkJs9nM4XBu3LixtrYWi8Xu3r07MjJiNBpramqWl5f/+te/gnzQCAQCi8Uil8v3acd7SCiKSiaTIyMjvb29OI4bjUaY0JRKpVAodPPmzbm5ObPZjON4X19fX19fNpudn5+fmppCEIQkSb/fPzo6WiwWlUqlXq+3Wq2HDh0yGAzwx8FCM5vNarXa4XDU1NTALGp2dtZoNNpsNjabzePxamtrbTbb5ubm9evX/X4/QRBzc3Pd3d35fF6v1y8uLn700UfhcNhsNsfj8a6urlAo5Pf779696/P5bDabSCS6d+8eGDlwXXDvabVapVLJYrHAFQQOnt26z08JkiQDgUB/f//y8rJCoeByucPDw9PT0wRBzM7Odnd3J5NJvV6fSCR6enrm5+c3Nzenp6f9fj/yzcLj8vIym81Wq9UGg8HhcDQ0NMB6BYIgfD5fo9HodDqTyeRwOCQSycLCQk9PTyKRsNlsarUa3H5gIk5PT4Mob21tDQ4OTk9PC4VCPp/f1dV18+ZN8KbPzc2Nj49vbm7OzMwMDAxQFGW1WrPZbHd399raWrXnFbzpXV1d77777t27d4VC4U5Gku8koJ9dXV3ZbNZsNsdisevXr29tbSWTyd7e3oGBAYlEotVq5+bmbt++HY1GvV7v2NhYNptFvtHPSCQC+mk0GltaWmpra+n1AVo/a2trnU4nRVEDAwN3794ViUR2ux3m+iaTCSay0Nnz+bzP54OeaLFYMpnMe++9Nz4+bjQauVzurVu3VldXIfNtZGTEYDBYLJbl5eUvv/wSJJ0mnU5PTEykUqmzZ8/iOH6ALcN0On3v3r2enh4Mw0wm0+Li4ldffQX6eePGjZmZGZPJJBQKe3t7e3t7odNNTk4iCFIul0E/C4UC6KfFYmltbaUzXqr10263WyyWaDTa1dU1PT0N+snhcLhcbm1tbW1tbSQSuX79us/ny+Vybre7u7s7l8sZDIbl5eUPP/wwFAqZTKZEIgH6GQgEenp6PB6PzWaTSCRjY2N9fX20fsKl2Wy23+//4IMP/vjHP3Z1dUUikd25xU8TkiSDwSA40RQKBY/HGxkZASey2+0GrTMYDKlUqqenx+12RyKR6elpn8+HIEg2m11YWFhaWkJRFPTT6XQ2NjbSi6s8Hk+tVut0OqPR6HQ6JRLJ0tJST09PLBazWq0QZAj6Cb450M9oNDo0NDQ1NSUQCDAM6+rqun79OoIgYEaCfs7Ozvb394OnlSCInp6e1dVVWj+LxWI4HF5fXw8Gg3fu3Pnwww/v3r27tbW1bWlrH0GSZCwWCwQCoVCIJEmpVJpMJu/cuTM1NaXRaPR6/dLSUnd3N/SFRCIB8rW6unrt2jWCIMxmMyzyFwoFcG7eu3cvnU57vd6rV69GIpHqWCe9Xq/T6VpbW51OZzKZhBljTU2NSqWanJzs7++HKMSBgQGlUqlQKNbX1yEogAbDMIPBoFarrVZrQ0MDm82+d+/enTt3OBwODKOVSkWn0zU1NWEY1t3dfe/evWKxCEspy8vLFoulXC5/+OGH/f39Op1OJBLdvXt3bm4O5mldXV0ajaauri4QCPzlL3+BBasDQ7lcRhDEbDY3NjaSJHn9+vWZmRmKorxe71//+tdAIADT/rt3705PT1utVh6P193dDfGia2tr165dSyQSDoeDx+P19vaOj49LpVKTyaTT6dra2kAwEQSBJVmDwaDT6SwWS319PUmSIyMj/f39OI7b7XZwo0CPpiiqq6trYmKCJMm1tbVbt26FQqGampp4PP6nP/1pcnJSr9ezWKz+/n632w1RxKOjo0ajEbT31q1bMFg/WfaNg1yhUJw5c8bpdN64cePKlSuxWIyiKB6PZzKZYI3u8uXLo6Ojx44d+7Y88Xg8vV4PQfCXLl2qzpuSyWStra1DQ0MdHR2nT5/2er1cLrempubFF180Go3FYlEkEsFaH5/PX15edrvddrsdQRCpVHr8+PG2tjaxWDw0NKTX61955ZXp6en//d//9Xg8JEkODg6qVKq2tjbwzA0MDLz11lsHeAbzYNhstslkunTpElRWgKERQRDwl7z55puBQOCjjz7q7e1tamra9l0WiyUUCmtqahwOh9PpvHTpEn2Iw+Ho9frW1tZwOHzq1KnDhw/39PQIhUKXy/XKK69gGJbNZkUiEaR95/P5qamplZWVxsZGNpttMBguXLgAPrne3t7Gxsbm5ubbt2+PjIysra1BOFBLS0t7e/vm5uaNGzfGxsaef/75bXmMJEmGw+HJyclSqdTe3n5QjXyBQNDc3Pz666+vrq5+9tlnHo8HXIkajebkyZNtbW0jIyO3bt1aXFz8dk4Um81WKBQ2m61YLJ49e/bkyZP0IRzH6+rqGhoaSJI8ffo0juP37t1TqVSdnZ3PPfcci8VKJpMajaZSqfj9/kgk4vF4YPqI47jD4bh06VIgEPB4PFwut7OzE0XRy5cvh8Nhn883MzOTyWSOHDlSW1s7NTXV09OzsrLicDiqcz8wDKutrSVJUqlUikQi2l49kMjl8tOnT7tcrlu3bl25ciUajbJYLB6Pp9PpXnzxRaFQ+Pnnn4+Pjx89evS++mkwGOrr6xEEuXTpUnXKhEwma2lpGR4eBv30+Xw8Hg/002w2F4tFsVhssVggmG1lZYXWT4lEcvz48WPHjkml0pGREa1We+nSJbfbDfpZqVQGBwcVCsWRI0e4XC5kvb7++uu084UkyeXl5enp6Y6ODqlUeiBNeppKpQLTiEuXLrFYrHw+D65PEMbm5uY33ngjFArBBL21tXXb1+E0i8XicDhgcYA+xGazdTrd4cOHIWGpra2tt7dXIBA0Nja++uqr1foJMcZjY2PLy8stLS3wRUg6zeVyt2/fbmhoaG1tvXPnTn9//9raWrFYnJ+fb2pqOnbsWCQSCYVCo6OjL7zwAr3uhGEYDI4SiSQYDPb29ubz+TfffPPgLdojCILjuMvlev311z0ez6effrq6uupyucBfduLEiWPHjo2Ojt68eXNhYaG2tnbbd2n9zOVyp0+fPnPmTPWfra2tbWhoyOVyp06dEolEExMTKpXq+PHjzz//PIqisMBVqVSCwSDo5+bmJoIgGIZZrdaXX345HA57vV4Oh9PZ2cnhcD7//HMw+WBxrLW1tb6+fmZmpqenZ3l5uaGhAfSzVCrF4/FYLMZms1UqFUEQ9+7dY7FYEolkn4YEx+PxW7dugRGuUCiOHz+ez+cFAgGEMBQKhc8++6xQKLhcLoPBgKJoV1fX/Pw8QRBbW1u/+MUvDh06NDo6ChE09N/M5/Orq6t+v//nP/95R0cHm80ulUqpVApsj5dfftlgMIyOjg4PD3d2dra1tWWz2VAoNDQ0ZDKZ5ubmdDrda6+9xufz4/F4KBSqbq1EInG5XHV1dfX19WfPnt3a2uJyuTqd7uLFizabrVwux2IxnU7HZrNlMtnKysrU1NSJEycQBBGJRG1tbRcvXhweHoYV0ZdeegnWssBzMTIywuFwDh8+DPOi7u7uQCBQXflmvwOGGVS+4PF4X3311dTU1KFDh1gsllwu7+zsPHny5OzsbFdXV3Nz89tvvx0Khbxe7/LyMgSRTU1NvfPOOy6Xa21tzev1jo6OvvPOO01NTbFY7Ec/+hF9FfBTu1yuhYUFp9N5+vTpubk5NptdU1Nz6dIlpVJZLBbj8TjEUOA4fvv27enp6SNHjsDr19HR0dHRwefzPR6PXC5/5ZVXZmZmvvrqq/n5eR6PNzc3h2FYe3s7VE5aWFgIBAJOp/PJ3qj9ocI8Hg/WFiQSiVqthghSSG+oqamRyWQCgcBkMoHHtPqLlW94+GsJhUKbzQZLeRAKMj4+nk6nI5FIMBjc2NgAr4NEIgEnkEKhUCqVNTU1OI5LJBKI7UmlUouLi5FIhCAINpsdDoch6K5SqTyDliHMC2HZIZvNqlSqXC4H+ScymcxisYhEIrVardVqh4eHt7nHKIqiH9/D3Do2my2Xy61Wq1AoJEkS3GCQ8hEKhQiCiMViyDdpZuAQVSqVarXaaDTS6UxQyQqk3+v1FgqFra0ts9lMEES1ZQhm4cDAwOrqant7+0FKc6oGBhi9Xq9UKuPxOIZhkDXK4/G0Wq1Op4OjXC43mUzSy7nIY/U+qEWh0+kg4j8QCIyOjgYCgUQi4fP5DAYDuMdwHDeZTBqNJpPJKJVKWLwFPw7U5PT5fG63O5vNSiQSeJqlUglCHOlriUSiY8eOtba2zs3Nwfqw2Ww+kCFt9NoC6Cc4SnAcp/VTJBKZTKa7d++CftKP7FEfH/J/QyFo/UylUltbW4FAYHNzk9ZPqBcF+mmxWAQCgVgshgSPZDK5tLQkFotBPzc2NhAEgXhmuEo0GoUIPQgkJggiHo+n02mZTHbwBBb002AwaLVaqD8JAcCQ/mS1WsViMUmSer1+ZWUF4heqn2D1St33Uq2fUPd1ZGRkfn4+m82Gw+FUKgX6CVaN1WqF1UiNRmMwGEA/wZInCAI6oM/nKxaLkUjEYDAQBFFtGba0tDQ2NnK53NXV1cuXL4Pr7SBVgQKq9RPCqkE/uVwuzGqkUqlOp+PxeIlEAnoH/fgoinqk95nP5+t0Or1ej2FYLpcLBoMjIyN+vx8kEcZfFEVh8Rny/2FhSqlUkiQpEokIgkgmk36/f25ujiCIwcFBqP1bLBYhEbH6Wi6X6+WXX06lUleuXPF4PLFYbJ9ahjiOg4tELpcbDAabzTY9PS0Sierq6iQSid/v93q9Xq/3iy++EAqF8Xg8n8+D4AgEAqgaqtPptFptdS5JPp+PxWI4joO4IQjC5/Orl3cgnGplZQVFUcihCAaDYrE4m82mUilYHIa6enfv3v3e9sOqI6Qfr62tQfJbLBbzer2QfowgiEQiqaurgzRjiAGBeFSxWAwlgpeXlwmC+OSTT9hsdiQSYbFYsB3R07nru0Aul4PA7Gw2u7W1FQqFtra2kG8STBwOB4fDAXW12WywVYHNZoOkhshoGUwAACAASURBVK2tLVjnHx4ehqqnD1/vEHKtNRqNRqOBJF632z06OppOp2FkBCsR3EAWiwXHcXgVtVotDIs4jkM19dXVVcgkBwcNWBxP/EbtD8sQ6lmzWCwWiwXeC8gIgpxgKKuQzWa5XC6fz+dyuaVSCYQslUpB/i58t9rM+C4g/hDk2OfzffHFFyqVqqmpKRQK0WYhNIk+jcPh0D/DVbhcrkKhMJlMR44c4fP5oLkajWabykNjHmMCve+gt+WgHwRIFZS4IEkSKiVgGMbj8dhsNiTEw04+EGQPt+5hZjn0tYrFIsQYO51OCIFbWlqCNHE4jV76hzxj+ipQ9AJiKhoaGuCXer2+WgigOFt/f//MzExTU9P58+cP6qIT7OgAy6EoikJ1EKjxAwnTkKsGOes8Hq9SqRQKBfglbMQEf+RhJqnVzwJCCtfX1x0Oh8FggL0l4C9A9XYokg6PG2QBroKiqEQiMRgMLpdLp9NB8QyIAIGrQIGNSqVCb3UQCoWkUmmhUDiQliHoJzw7Wj/hJoB+Qi2Tb+tnOp2GJ4t8o2yPpJ9+vx+KT0L+xsbGBt37aElHEARqiIMyIAhC6yfM1aBYjkgkqi7Bl0qllpaWoKjgxsaG2+0WiURms/nMmTMHct2e3g8AniDoJ13fgiTJfD4P1j6Px4PZITxW2BAC+UbZ6PHrAUAEKfJNZfxbt245HI66ujoej7ewsACWJ93voLQG/RVaPzEMA/1sbGyEX+p0uurCp9D74B2Aih3RaJR+PQ4S1foJLzkM9zBBzOVyxWIRKiCAfiIIQutnJpOBcqP0t773WrR+Qj321dVVh8NhNBpBPyEFER5ZtX6y2WySJGn9FIvFBoOhsbFRr9fDhkzVARc8Hk+pVMIGUeCBFQgE+Xwe3o39iEgkOnr06EsvvVT9isIcD8YIsN6bm5uVSmWlUuHz+QaDYWpqqlQqQVkKmMBUD3AcDgfmfpD/iaIo9D5aSCFqQy6X19XVORwOLpdLkqRcLofcNig6BQu/3ztuQlAbdLRgMPjVV19RFNXc3ByPx8EZB29O9cYw9KyVnpJxuVy5XC6VSg8dOgSFpnAct1qtB8bXVi6X19bWvvzyS5lMdujQofX19a2tLfqlhRsCP0BtHtBViKcFf4pGo2loaIB6E5VKBeI8qx/oA65Oz0tJklxdXb1z5w6LxWpubg4EAvF4nH43ts1Lt+kqn88HP86RI0c4HE6lUpHJZNVFa58U+8My/C6gZpfb7Waz2W6322azqVQqtVpdKpWg+AQs98HUUCAQBAKBQCCAIAhdW+/BgKO0qakJ8gwf3n5Tq9VHjx7NZDKQBQ4lrSQSSfWrUygUIpFIIBCA5SwoLfBM7TIMWxFOTk46HA6/3x8IBJqbm6FO3fT09NjYGFRQgFojMGpubGwEAgGxWLytdP59KZfLyWQynU5bLBaLxRIOhx9mYoQgCJfLBbtCJpOBVxsShWmzAaoV9/X13bhxA8K0wIl44APbqoGE25mZGRRFZ2dnURS1Wq1yuZzH462vr09OTi4vL/v9fqfTyeFwcByHzKiNjQ26tt63qe4gxWIxGo1yOByoTjw3N/eQE0exWNzQ0EBRlF6vd7lcFEUVCgVI8qH/cigUisfjUJN2YmLi21sJPwuAfkLhkPn5eavVqlarocgehOPCch+tn36/3+/3w1L/Q+rnxsaG0+lsamp6pH6hVqvb2tpSqVRdXZ1Kpfq2fiqVykuXLoG7F6oLGAwGSPp9vFuxHwH9nJqaamxsDAaDfr+/paVFKpUqFIqJiQkoJDMzMwMzfj6fz+fzNzc3A4HAQ8ZOg34mk0mLxWKz2aoN+wcD0QRNTU0SiaShoYHH4xEEIRAIqvUzlUqBIHO5XDDyTSbT/toM+gdSLBZ9Pt/09DSbzZ6ZmUEQBIKV+Hy+z+ebmJiA2q11dXWgnyRJhkKhcDgslUq/Sz+3/f1oNIqiqN1uh01QtlU6+C5EIhHUXNDr9U1NTd/WTx6PB2lOfr9/amoqn89HIhGLxXLwfKOgJzKZDO6D2Wyuq6uD8BOdTgcFWsfHx0mSnJqaCgQC1cHAsFrY398/NDSEIAiPx4M6zAKBIJvNQm1MKPIkk8nsdjsEZkNFSrPZvLCwMDs7y+fzx8fHt6VYPxiCIMLhsMPhcLlcXq/34SVRqVQePnx4eXnZZrPBejJJkgcsCiOTyUQiERiSCoXCtyeEkNOr0WgmJiYaGhqgZgHY8JCkLRaLm5uboYg3eOIEAkEqlfJ4PBKJBEqYftfVadcnBF84nc7m5mbabv9eIHkKWlVXVyeVSqGO1NPYamjvWobgl8JxnM1mi0QimUwGljSGYWq1GhwkfD6foqhr166Bs//ixYsqlaq+vr6hoeH27dtyubxUKhkMBlg9b2hoWFxc/Pjjj1taWl577TV6EIILCYVCsNHlcjmUTUcQRKvVHjlyZHp6GqojQuAcrAtDyfvq9sCfAi+aVqs9f/78zZs3//znP8O8qqmpCdLb6H8wHA5/+umnU1NTkUjkxo0b8Xj8pz/9qclkOhj9ECKgVCoVj8fjcrlSqRTGleq7B/0tkUh8+umnBEHo9foXXnhBJBK5XK75+fmPP/5YLpdzOByj0Qh1hG02W29v7x//+Ee6NinyTTEY2BQLDEiFQgFTEOjMZrP5zp07MpmsVCpBqQZIboGlSBBrhUIBJapxHJfJZBKJpLa29ujRo8PDw3/84x8hBv348eO07pfL5a2trdnZWQhA//TTTwUCQVtb2/PPP/8wY/beh8PhSCQSKFmOYRgEbMPvpVIp1MVms9kois7NzUGZLNg6j81mNzY2joyMfPbZZ3w+XyKRQOeyWCxzc3O9vb3RaPTcuXONjY1wIXgWUCIfejpcFEEQmFYODw9fvXoV7qpGo4GOJpfL6fbANhjgaYNi4gqFQq1Wg2EzPDwM8f3PP/88vbEY7GfY19cXCoXA1dfS0tLa2nownh0A90EgEEB9behKCILw+XyVSgU16KE8/c2bN4vFIo7jFy9ehFiXxsZGqPcLs0NaP5eWlj755JOWlpZXX32Vds3AhbbpJ2ijVqs9fPjw7Ows1OLTarVgUoICgBhiGEa3B74O4RXnzp2DlEjIJ3e5XE6nk3Z4y+Xyc+fOgatueno6FoudOHHC4XAcGL8MrZ/gNqZdTpA0CHcPRsBUKgX6qdVqL168CFnWs7OzH3/8sUKhQFHUZDLBRhe1tbU9PT1/+MMfoAxj9YWq9ZPuXFwuF3xqdIEEs9kMxe5hDoR8o+dKpRL0E74uFottNtuxY8cGBwffe+89qCPV0dFRV1cHF4W50b1796DSGIqisCHejm3H97SBWwSrBN/WT1jAB/2cn5+H4i4tLS2HDh3icrmNjY2Dg4N//vOfQT+hcGtNTc3MzEx/f380Gj1//jyUdKIvBAvFoJ9Qah9BEIlE4nQ6BwcHr169CvuIaLVa2MoCZil0e6DDgn5CPBtshAC1/tlsttlsvnDhAp1gDFmvp06d6u3tvXz5MpfLhZnSD9/5dleoVjD6l7ROIggCGxqlUqn+/v7u7m42m22z2V588UW73X7s2LGpqSm32w1FX0BmoUdgGOZwOM6cOTM1NbW0tITjeGtr65kzZ+x2+8TExGeffeZ0Ol966aXnn39+YGDgk08+qVQqUqn0yJEjx44d6+joCIfDX3zxBcxF6YGPhpZKCJ+RyWR04IxarT58+PDc3NzHH3/M4/FUKhXoACx5wbvB5/Nhdg1/CuY8CoXi5MmTmUzm6tWr4LJxOp02m21HH8ZTACQOZukGg6G5uXliYiIQCKAoajQawZ1BiypoUWdn55dffvn+++9jGAar6FDa4MyZM+Pj42Ar6nS6zs5OrVZbV1c3OTn57rvvgmUBdxXEGToaDLWQtYEgCMxp7XY7VJxis9larRYUHt4ciKSAgFL4azweTyqVymQyrVbb3t7e3d396aefQrNbW1t1Ot2Tv2mdnZ0IgjQ0NPz2t7/9dvL6LhKPxz0ej16vF4vFm5ubBEHU1tbCbkurq6t1dXXr6+v//d//XV9fD8UwtFptfX29QCAoFArr6+uQVy2VSkulks1mUygUyWTS7XZnMhmNRtPU1ET3tEQi4fF4IA8H8sog6wZicnw+39raWrlclslkfD4f5riw1nf48GE+nx+NRldWVurr6+VyeTqdhl0QTCYTrKjALgs4joO3qXriEo/HJycnE4kEOAzkcjl4jw6GZQh1e6HWE4qiUJTZ6XRCMH04HHY6nf39/R9//PGFCxd0Oh1sS2C1WmEdf3V1NRwOQwQ8RVF2ux02AllaWqpUKlCNBi4EUZ2bm5tms1kqlcZisXA4DE+Toih4IsFgEGZX0FeVSmUgEMjn883NzeCIjcfj9fX18DS3trY0Gg3khHi93o2NDYqiIJ+HTqKDNcPl5eVwOAzPlMvlms1miAnZtZv+5Mjlcn6/v1KpQGpfNBqlpws+nw8iBr/44otAIHD06FGwFcHRCEbX2tpaNpuFpE2ZTGY0GsvlMjwIgUBgt9u1Wi19oUAgABeCjNxisQgZcSRJQtWEZDIpEAiEQiGO41qtlsViBQIBhUIBbfP5fBiGwSVCoRBFUZCmuLm5ub6+nkgkoFKOzWajXdokSUajUY/HE41GEQSBeAyNRnOQ1gxB1mDI2djYIAjCZrMJBIJoNLq2tmaz2fx+/7vvvmu1WiG5QqPR1NfXC4VCWrggja1UKlmtVugOCwsL6XRarVbDxqFwoWQy6fF4VCoV6Of6+rpQKIRCo9X6KZVKMQyj9TMYDLa2tsJGGqurq7W1tXK5PJPJwN42RqOxVCr5fL719fV8Pg9ppXV1dfddqIzH42tra5CScTDEE/lmo2SfzwejW7V+QuXPxsbGoaGh999//8KFCwaDgcVimc3m2tpaNpudyWRWV1dDodA2/QyHw4uLixRF1dTU0BULYE+8jY0Nk8kkk8mq9RPKono8nkAgQOsnVAKH3M6WlhbItY5Go3CJra2tSCQCeb/gRwf9lEgkVquVrokKe/R5vV6fz1epVGDANZlMB6YDgqyRJGk0GnO5XDQahVRD6CAwTb969arX64UiTNv00+PxwFZAXC5XIpGYTKZyuez1eoPBICSe0XPBXC4XCoXK5TKtn4VCAXIXITNqbW0NkhshVYnWT9iJF/STz+cbjcZKpQKVOfV6PZ/Pj0QiXq8X9BOyrapzCCuVCjzfcDjM5XLh8e3TUHwY6FUqlUajoQsgxWKxtbU1KLwMuxpCtZ5UKgW7rdTV1cFdWllZgQRaWBjQarXRaDQWi9ntdtjAcGVlJRaLcTgcs9lstVphWwt4JVpbWyuVCtxGqNdVU1NjMBgg4BB2fIG1RJfLJZVKaX2DwqfQcUCx2Wy21WqFXIBgMLiysgLbesN+lU6nM5FIrKysuFwusVgMowPkRsLOezwez2q1lstlKOoGm2pC4bH93itBS9fX151OJyzIgy9GLpdjGMbn8x0OB+zaAlP6SqUClV3i8XihULh3797Gxsbvfvc7LpdLP00EQaAulFKpjEajMDJCvDHMACGJNBgMikSimpqadDoNKlpfXw9VGAOBADQDLAs+n2+328Ph8NbWVn19PVg6m5ubarVarVZDhAWGYRaLhSCIQCAAFWthebmmpuaJTzv3rmX4vUxNTf3P//zP8ePHYd+Y3W4Ow6NRKBS6urouX77885//vLreGsO+IBgMfv7554lE4ic/+QltpTPsI6anp99999329vZXX3314IWBHXiKxWJ3d/cnn3zy85///Ny5c7vdHIZHIxQKXblyZWtr6+/+7u+eeF1BBgaGxwYsSdg/dmlp6fr161ar9be//e2BcTs+DHs3mvR7uW8MAMM+AsdxCLrY7YYwPDJ0dPvBWCN9BqH188BEYD5TQLgRo5/7FNBPiKLf7bYwMDD8DYqiQqHQF198AYmIBoPhpZdeetasDDbs7KFSqU6cOEGHeD0YiqLoKuGVSgUSDJ5yO+8D7FJYW1sLuX8734D9S7lcTqfT0WgUSp/vyuQeRVEocE/XdGZ4SKAmYTKZhGLidDGrnYTD4UA0hVar3e/RJjtMtX5CRbhd188DWc/z6UHrJ0EQu6WfkF9dU1NjtVoZ/Xx49oJ4It+Up7darXq9ntHPR4KiqFwuF4vFdlc/GR6PcrmcyWS2trYIgoAEvN1u0X2AnFuTydTU1HTixInvSmQ4wDxONGkymRwdHYWUdLvdfvr0abVa/ayZ1PuXSqWyubnZ1dW1sLAgEomOHDly5swZxnO5j8jn88vLy4ODgxsbG3q9vqOjw+VyMaPjfgFqb4yPj5dKJbvdfurUqW/vZ8Owl9nc3Lxz5878/Dzo59mzZxn93C8UCoXl5eWBgYGNjQ2tVtvR0QGVBne7XQwPSyqVGhsbGx8fLxaLdXV1p06d0ul0jH7uFyKRCIinQCA4fPjw+fPnGfHcgzzyI6EoKhgMjo6OQgkdt9ut1+slEsm2mJZCoRCNRrftWs7wtAFHMmy38l2QJLm0tDQ4OHjmzJloNNrT0+N0Oqs3KEcQpFKpEAQRiUSecnsZ/g9QaO7BSV+VSiWZTE5PT0Pl4nA4PD4+bjQaq3eIJkkylUo9jf1PGR4M1GZ8wN4zoJ8jIyOwvcf8/DwUiWH0cy8AJToefE65XF5eXu7v7z937lw0Gu3q6nI6nXRtFYAgiM3NzafZUob7ABWVH7ChEdRNmZmZCYfD9fX1Gxsb4+PjJpNpW1FN2K6D0c+dB7Zre7B+hsPh0dFRsVisVCqXlpY0Gg3sCE+fUygUYrEY1B5n2DFg8qlSqR5gpYN49vX1nT9/HsSzoaEB4harYfRzV4CVUph/PrJlWCgUoIBVR0eHSCT6+uuvvV4v1CWrPs3j8fz+979fW1t7Yq1meAh4PN7p06d//etfP+AcKI+G4/ilS5cWFxcvX77sdru3WYYURY2Pj//bv/3bU24vw/9BoVC89tprb7/99gPOIUkyHo/H43GLxfL8888PDQ2tra1BrTn6nEQicfny5atXrz79JjP8DTab7XK5fvWrXz2gJE+hUAiHw6VSqb29XSaTff311+vr6w6HY5t+rq+v//u///vy8vLTbzXD32hvb//nf/7nB68gZbNZWj+XlpZ8Pt/c3Fy1ZUhR1OTk5L/+678+/fYy/A3YiOz1119//fXXv+uccrkcj8djsVhNTc0LL7wwPDwMe65uswwTicSVK1euXLny9FvN8Ddgx6Nf/vKXDQ0N33UOzD9BP5VK5bVr13w+n9PprLYMfT7ff/7nfy4sLOxIqxn+P1wu9+TJk//0T//0gDVAmHxiGHbp0qXl5WWv1zs7O7vNMqxUKjMzM//yL//y9JvM8DdYLJZarX711VfffPNN5PEsw3Q6DeWwhUKhXC5PpVL0DqrlcpkgCIIglpaWbt68OTs7+4Sbz/BAxGKxRqN5wAmwGJhOpzUaDYZhEolEJpMFAgH6BJIk0+l0Op2enZ39y1/+8vSbzPA39Hr999apgzB9qLksEAhgGxwoowzVkLPZrMfjGRwcZB7fDoNhWKFQeOuttx5wTrFYpPUTthlMpVL0Rsbb9BN2e2PYMUiS/N5NhwmCSKVStH4qFApaP0E8s9ksI547D4fDsdvtR48efcA5JElms1mKomCrz2rxRKr00+v1Dg0NMU9wh8EwjCCIN9544wHngH4KBAJaP+PxOOhntXjevn373r17O9VwBgRBEJFIpFQqKYp6wDm5XC6VSsHWgtvEE/lGPwmCmJubY3rfDsPhcOrq6o4cOfL/Pz7q92FzYdimHEVRFEUpiqJHU4IgJicnYevPeDz+JBvO8BCw2ewHRGIA8LzArwMPsVwuw6FKpZJIJPr7+91u9/T09FNvLsOjAx0QQRBIiYb1DZBj2NdodHR0bm6O8ZjuPFCM5MErTpVKhaIo0E/ofdX6mcvlpqamQD9hr0WGvQY8Qbr30foJYd4gnoxLdOeBLb+/txoQSCV0UuiG9FwWttAcGRlxu93z8/NPu8EM24B6JA8u9QHDH+sbUBSlB8RcLjc9PQ3iySTC7Dywy/GDEz4piqIoqnrySZIkfTSVSoF+zs3NPfXmMnwLDodDr/c+smXI5XIxDMvlcoVCgcPhZLNZ2EkTjvJ4PLPZDN372rVrT7LVDE8IPp+PYZjf7y+Xy+AirampgUNQCd3hcEgkEiZMf2/CZrMh8jCTyZRKJYIgYKtoBEE4HI5SqWxubsYwbHFxcbdbynAfOBwOhmH5fL5QKBQKhWw2i2EYXZ+Nx+OZTCYul8tms69fv767TWW4L3w+H8fxzc3Ncrmcy+UymQxEQ4F42u12iURSKpV2u5kM9wFFUT6fz2KxaPGkKArEE0EQNpsN+onjOBPIvTfhcrk4jhcKBZBQgiBo/QTxhNntrVu3drulDPcBxDMUCtGTz+o4fNBPqVRKr1Uw7BaPbBliGKZSqQqFwurqKoZhm5ubR48epbWVz+fDPgQURQmFwifdWoYfCovFEolEWq12fHx8fn7e4/GkUqnqsH6hUNjQ0FBfX89kAO9NOByOTCbDMCwQCCwuLvr9fi6Xq9frEQRhs9kqlUqlUsnl8p6ent1uKcN9wDBMrVaDfopEos3NzUOHDtH6yePxQD8RBKF/ybCnEIlEOp1udHR0YWHB4/Ekk8nGxkY4JBAIGhoa7HY7s967NwHxxHEcxNPn83E4HDrHHixDoK+vb3ebynBf+Hy+UqkslUpra2uxWGxjY6OpqQl21uXxeDU1NTU1NSiKwm8Y9hpCoVCn0w0PDy8sLHi93ng8TosngiA4jjudTofDQQd4M+wWj2wZcjgcs9lcW1s7ODhIUZRer6+rq2P2U9pH8Pl8u90+MzPzwQcfcLlcl8tltVp3u1EMDwuKojKZrL6+vq+v78qVK1KptKOj48HVaBn2DhwOx2g01tXVjY6OlstlnU5XX1/P6Oc+gsvl2u32mpqa999/n8PhuFwum822241ieChQFJXL5fX19Xfv3r1y5YpEImlvb39wZj7DngL0s7a2dmxsjCRJvV5fX1/PLELsF3g8nsPhsNlstHjW1tbudqMY7sPjbCSiUCguXLhgt9thZmM0GpntgPYRLBbLbDb/+Mc/9vv9GIZZLJZtdREZ9jhCobC1tVWhUCQSCblcbjKZ9uZ2sQz3RalUPvfcc/X19SRJarVao9H4rO2iu69hsVhGo/Htt9/2+XwYhtXU1DD6uY/AcbylpQUql8hkMkh+2e1GMTwCCoXi3LlztbW1jH7uRwwGw1tvveXz+SDAsLqoLMPe4XEsQy6XazAYtu1zwLCP4PP5dXV1dXV1u90QhscBPN/V21Qw7CM4HI5er4cAYIb9CJ/Pr62tZbzd+xGIuZDJZLvdEIbHhNHPfQ2Px2PEc+/DrPUxMDAwMDAwMDAwMDA86zCWIQMDAwMDAwMDAwMDw7MOYxkyMDAwMDAwMDAwMDA86zCWIQMDAwMDAwMDAwMDw7PO41SgYWDYj7BYLAzD6G3iWCwWl8vl8/kIglAURRBEOp2mTyZJktmumoGBgYFhr4GiKIZhXC4XQRA2m43jOFRYrVQqhUKBJEk4jaIo+mOlUiFJktlDnIGB4XthLEOGZwUej9fY2Hju3Dn4yOFwTCaT0+lEECSXy42MjFy7dg0OkSQZiUSCweCutZWBgYGBgeF+CASCxsbGmpoaBEEkEsmRI0eg0jhBEGtra5ubm3BaNptdXFwMhUIIghQKhUgkkkqldrHZzzIsFqv6Y6VS+a5D30X1VxgYniqMZcjwrMBms5VKZWNjI3zk8XhOp7OjowNBkHQ6XSgURkZG4FCpVCIIYtcaysDAwMDA8B1wOBylUmmxWBAEUSqVHR0dhw8fRhAknU4rlUqv1wunJZPJdDoNY1kul0skErvYZgYGhv0Ck2fIwMDAwMDAwMDAwMDwrMNYhgwMDAwMDAwMDAwMDM86TDQpw0GDxWKh6N9cHnSZGRzHJRKJRCLZ9nv6W2w2G36mKOohQ/8ZGBieOCiK8ng86IN8Pl8ul9M9ulQqZTIZSLkplUrZbJZJv2E48MDwRPcCDMPEYrFcLkcQRCqV8vl86CwoiuI4LhaL4bRKpaJQKCC3MJ1O0/mHDAwMDA+AsQwZDhRQcRTDMPjI4XD0en19fT2CIAKBoLOz89SpU3AIRVGBQEBPK/l8vlQqhZ8LhQL9FxgYGHYYgUBgsVjAU+NwOP7hH/5BIBDAoUAg0NXVVSwWEQQJhUI9PT1MDWGGAw+Hw5FKpXRhbb1ef+LEifPnzyMIwufzNRoNdBaRSOR0OqEyDYIguVzOYrFEIhEEQYLBYD6fZ8qq7SLf5W6u/v0DCtU8ERg/GsPDwFiGDAcNFEWhnDeCIFwuVyqVmkwmBEFwHDcajQaDofpkEErwyELhb/glvX7IwMCww0C35XA4CILU1NScPXuWXgZZWVlZX18vFAoIglQqFWZtn+FZgMVi8fl8oVAIHyUSiV6vt1qtyDc7WMByIoqiMplMJpPBaYVCAUVRWFrk8Xh0J2LYYVgs1jaluq9wbTttmxX38FrHmH8MP5DHsQwLhUI8Hi8Wi6BWMpmMnlIz7AsIgohEIiiKslgsHMeVSuVut4jhESiXy6lUKp1Og0ErFouZIX8fUSwWY7EY6CePx5PL5Yx+7i9o/UQQBMdxlUq12y1ieFjK5XI6nU6lUox47lMY/dzv5HK5zc1NRj/3Mo9jGfr9/g8++CCdTguFQrPZfOnSJb1e/8RbtpOwWCzwTyPfSmuB8QO8NWASUxQFh8rlcrFY3HfuGYqiZmdn/+M//sNoNHK53MbGxrfffnu3G/XEYLFYAoFArVbDRx6Pp1arQXowDKN9rsg3O//C4gNBEPl8nt4FuFwu7+XHmkwmr1271t/fr1Qq5XJ5Z2fn8ePHd7tR3wN0sepuRftHoYvBIi0M9nRnhG997/otPCz6Oh101AAAIABJREFUkZXL5Xw+D0GG5XKZIIg9FXDo9/s//PDDZDIpFApNJtOlS5e2rWMzsNlsgUAAK/8YhlU7yzkcjkQigWhSoVBYnXyFIAgtzk+PSqXidrt///vfG41GDofjdDp/+tOfPu2LMjwpUqnUzZs3e3p6lEqlTCY7fvz4iRMndrtR3w/kPtCLgRKJhM/n0+uE37WaVC6Xc7lcMplEECSTyewpGXxsAoHARx99FIvFRCKR0Wh8+eWXISZon/Iwa4mPxLZIij04k5mfn//d735nMBhAP3/2s5/tdosYtvM4lmEmk4lGo4cPH25sbJRKpXR21v4FPE8wAbXb7b/4xS9oPyKPx5NIJCDBy8vL77//fjabhUOpVGplZYUkyd1q9mMTi8VisdivfvUroVAIoSYHBh6P19DQ8Nprr8FHLpdrsVhaW1sRBEFRtPpdLZfLkUjE4/EgCJLP571eL4ygCIIUi8V8Pr/jbX9YisViPB4XCoUXL16USCQajWa3W/T9cLlchUJBl/+BCCiwAHk8nlKphB6H47jVaq027FUq1fc69cHIp62CZDI5NTUVCAQQBEkkEqOjo36//yn9X49BJpPZ2tpqbm5ubm4+GPr5xBGJRM3NzTiOIwhSW1uLoig9v5HL5WfOnIFnLRKJPv/8c9pxAB6BHZgJxePxra2tX/7ylyKRiJ6sM+wLSqVSNBrFMOzixYtisXhfiCeCIAKBoLm5GTYtRBBELpdbrVY6+bbaOVJNLpebnZ2dnZ1FECQajR6MCjTZbDYajTqdztbWVolEsusd8AG23AMSCOmP1RGkUDyP/lipVCiKohNettl7wHddmj704NO+9+tPA1o/hULhrj8+hvvymHmGHA5HLpfr9XqZTFZd4HGfUj1PVavV7e3ttL2EYZhSqQTllUql169fp//f/ZvlAmHAGo1GJpPRk/WDAaRVOBwO+AiWIVSg2UalUsnlcrFYDEGQfD6fTqdhIQJBkFKpRK8f7k1QFBWJRDqdTiaT7YtoKIhbppsKi0IQBYRhmF6vhx4nFotdLhftA8YwzGAwfK/zolKpVD+yra2tYrEIK06bm5v0/GnvQOunVCplah19G3AWwIOTSqXVMsvn8/V6PUxcVCoVl8ulV5h3EtBPuVx+wPTzWYDNZoN4SqXSfSGeCIJwOByFQmE2m+GjRCIRi8Xf++aTJJlIJKDqTCKRyOVyT72hOwKHw5HJZKCf4D/aIzxgAfDBliEdPrPNMkSqSiFsswwfUEGdnpqCWfiA0x7t33tyQDCXXC5nHKN7k8cZU3k8HkVRd+7cmZ2dbWhoOHnypEajAdupXC5nMplsNru5uUnPsxn2GhiG5fP5999/XyKRtLe3nzp1io7UL5VKqVQqlUpFo9HdbSTDdwGxl8vLy++9957RaDx+/HhjYyOHw6EoCkzcUCiUTqd3u5kM94fH41Uqle7ubrfbDfqp1Wpp/cxms5lMZmNjg9HPPQuGYYVC4YMPPpBIJEePHj19+jToJ4gnrAnvdhsZ7g+Komw2e3V19b333jMYDMePH3e5XGBiURRVKBQY/dzjcLncSqVy9+7dxcVFp9N58uRJnU6HoigjnvsFDMOKxeIHH3wgFouPHj169uzZav3MZrOMfu46j2MZGgyGd955p1QqBYPB2dlZWLWADK5sNjs2NjY+Pj4/Pw+rMQx7DRaL5XQ6f/3rX2MY5na7b968aTKZ7HY7giCVSiUej/f09MzMzLjd7t1uKcP9EYvF58+fb2hoyOfzc3NzQ0NDarVap9OVSqW1tbWhoaHZ2Vnm8e1Z9Hr93//93xeLxWAw6Ha7wf0P9egJghgfHx8bG5ufn2dcM3sT0M/f/OY3OI673e4bN26YzWa73V6pVBKJBIjn/Pz8bjeT4f6IxeKzZ8/a7fZCoTA3NzcwMKBWq6FQQqlU8ng8g4ODdAQmwx5Er9f/7Gc/y+fz4XAY9FMikYhEIoIgJicnx8bG3G73wYibPajY7fbf/OY3AoFgbm7uxo0bNTU1EOSVTCYZ/dwjPI5lKBKJDh06hKLoysqKx+PZ3NzM5/NgGeI43tDQADU/enp6wuHwk27wU4HD4YjFYgg/EwqF1RFK1dUv9mAu72PAYrGUSuXJkychbmFhYcHv94NlyGKxxGJxe3u71WrFcfxPf/rTbjf2oWCxWLDzL4IgOI7L5XK60gyHw/muwmWw8yGcCbE6dCGlYrGYy+XgEOSw7SkfJI/Hs9lsNpstkUgkk0mfzxeNRnU6HYfDMRgMp0+fNhgMoVBocHBwhxsGBWPovgPbLsP95/P5RqORroLLZrMxDKMPaTQaiMoTCoVCoZAO2ObxeNUpNNtSJqpTKZCq+BzozgqFAkGQQqFAb2GyRxCJRC0tLSiKrq2tra+vRyKRXC4HliGGYQ6HQ6lUqlSqu3fv7pHNx+DGwiOjbzJ8hKdTKpXS6TTk/kF/eQyprA55gmBj6IDbKtBUKhW6QBT8sO012AHkcvnJkyeh+M3c3JzP57Pb7SCeR48etVqtIpHoo48+2pnGMDwSXC7XarVardZkMplKpdbW1qLRKCg/bH576tQpg8GwsbHR39+/u02F2ELoYjweD8MwOjAew7DvqstFZ6YhCEKSJEEQsP6ZzWYPRgUaWj89Ho/P54tEIgRBiEQiDMPsdrtcLlepVAMDAzuTW74tyPPbH6t/+K5D1RGk26JJvysetVKpbBsZq1tFp9w/UpLhDusnVKSbnZ1dX18Hy1AsFre1tVmtVolE8uGHH+5MYxjuyyNbhhRFZTKZRCJRLpdh71SRSFS9fZxer9fr9ZlMZk/Ffz8YqVR67NgxmIjU1dWp1Wo6/YAO197N9j1RIPcgkUigKBoOhyuVSnUeF5QAMZlMq6uru9jIR4LL5TY0NFy4cAFBED6f73K5Wlpa4BAYJ/f9FpvN1mg08NApinI4HJ2dnXCIIIiBgQFQXpIkNzY21tfXd+I/eQgqlUqhUEgkEgRBpFKpeDxO27dsNlsul8vlcgzD6CIuOwmXy9VqtfTrJBaLW1paamtrEQTBcdxisWi1WjgEZjlMblAU5fF48DOYBLRlCIfodIvqZMLqqjOQJ0yrkEKh6OzsPHToEIIgi4uLsIi6U/fge6D1k6KoYDAINiHtvKD1kyCIvZAeWZ0DI5PJXC4XnRUpl8vpj8Fg8NatW5lMBkGQfD4fiUQeNU0X6tPSH6VSaVNTE4iwVCqtPkSSZCaTgedOEES5XKavtQOFSZEq/WSz2aFQqFKp0EUUMAyzWq1ms9nr9e5ASxgelWrxTKfT1eKJIAibzYbNAAUCwV6oTMNmsyUSCeiAXq+vq6tz/T/23itIjuu8Hr8902Fy2NkcsVhgEQiACCQiRUQmMSlQliVZJmnZklxWUeUql10uV9kP9qPKzyr5JytREmTJtEgAFAUKIAgCRA4EARALYLHYnCbs5J6enpn/w/nvVxc9s4sFsGF20edha3q7p7unw3fvF875Vq7EKlmWS0p3oCCWPMBQKHTt2jWECLPZ7NjY2Gyd+0wB9hMS8f39/QjgwvJLklRbW1tbW6uq6oMbz6nryvAsQVEUp+Ly8TvBGGfgFhbvHBExwyr6Ch8O4GNz+Xye18/HlrQTQ5h1Evs5jRNgsp+iKA4ODubzeZowKIqyaNGilpaW3t7e6TqcifvDPXuGuVyuv7//T3/608jIiCAITU1NK1eu5JsBzEeADouJSCAQoGzGgkQ2m+3o6PjDH/4A47Ju3TokDOcvIDoKmRlJkhobG5EvorUlv4VMI5wQTO9qa2uxKpFI9Pf3YyeapsVisRn/DVNGPp8fGxs7fvz4xYsXGWNer3fTpk1l0jYGHhppckBAD7MZh8PR2tpKV1i4s4nFVAYeDI28G6DrOhbJw8QqvM74HI/HyypEhYDan/70p+HhYUEQGhoaVq5ciYRheYKmIJIkBQIBMvVVVVXLli2jtN7p06cpZ3h/ulz8XAcTX4gTOBwOQ7A8m83iWJgAzXLOMJfL3bhx48CBAzjndevWkd6ViTJHoVCIRqMnTpw4f/48Y8zj8WzcuLFMjGcxED6D+XI4HLwOpyiKJUshYCRJL13TtLGxsdHRUcZYPp9fADlD2M9Dhw4NDg4yxhobG1euXDkLMkIT5e4m0Y8RuIZnxatKeoaGFB//Lb5Wglbhs8EzJDvMGMvlcryw89RTiAaTO5WvTBG5XO7mzZv79+/H4vr165ctWzaN+zcxLbhnz9BqtTY0NDz99NOqqkJhr6qq6q4Nx0yUD2RZbm9vx5ROluWampr57tg/VLBYLD6fb+PGjUuWLEEBW3V19QLQB35IYLVa6+vrn3766XQ6bdrP+QhJkpYuXfrKK68wxmRZrq6uLmfH3gQPQRB8Pt/jjz++ePFiQRBcLld1dbUpDjyPAPv51FNPpVIp1MhUVVXNiTqxifuDJElLliyB/USRkWk/yxD3/EYhP7PApGZRc4gKBAOtZeHBarVWVVXNSbXh9II4GAis4pkURdFut08U4ZsIfOSPMWa1Wt1uN/qPq6paVkU4giDY7fbm5ubm5ua5PhfGGLNYLIqiEEe3pqamoaEBq7xeL3E+0RXGEIlEdBPBbGT/UP1CMW++ZHSSVXhnef+KQq3IDFPsAzuZw5Yk88t+iqLocrlwYSsqKngvqKKiwu12I6Fht9sVRUGdhaZp92E/JUny+XwUBfd6vbIs46EyPDa6rkejUdzBRCKRy+V4Us2D/NgpwmKxVFZWVlZWzsKxFgDISrPxLArm8UiIUUgLi3ct1cnlcmNjY/ctbgdr0NTURO0fyhkowUBCzOVyKYrCyx+UrIXJ5XKQFsdiKBRSVZWSSAuAFGOxWCA5M0P7NzADS/7fMLsgA2WxWCRJovsCFVxaxQ9PfMbParUqikL7NJR00h7y+bwhZ8hXk/IjGvKE+GyoquAbXRg6IhY3SOSPNY1PzuzbT0yZqI7MarXydiaXy0FFApeRV5TQNA0UiWk5B0VRShY5YwZVclU+n0+lUvz8U9f12cn8m7EWxhhzuVzLly/Ho+P3+80QVPlD4FRnnE5ne3v7jh076P/8HSw25SV3yI+1oihu2rSpra2NMTY2Nva73/3uzJkzM/db5jXsdvvSpUsx06qoqNi+fTu1YxZF0ev1EgdSURQaHQuFAnlomUxmeHgY5i+VSnV1daH8iTGmaVowGISCgsEz5Ctt6urqXn75ZTouxFHgV9jt9tbWVnAOsf/u7u5IJDILV2YBwOfzbd68Gd5gS0vLyy+/TPVskiS53W4KzTQ2NmJsC4fDfX199zp6VVdX79mzh7I37e3tjY2NcDtpbgSEQqHDhw+rqsoY6+rqSqVSmUyG1i6Aue9CAkKuFE1AkgdkY0mS6uvrYWNpEZzkSRCJRN56663//u//ntHTLhPYbLYlS5asWLGCMVZZWdna2kqzW0MgjI0/+dFo9MMPP/zkk0/wz0gkcv36dXpBzLfDgGL3jy/+NPyfVvGxKlEUHQ4HmUGXy8ULsJHLB2+Edy9p8OKjb6BI8C4ZP2IalL3IkUNolVblcrlUKoVFTdNIGwyrqKclvCDeaaTnxOCFzvfHxmKxrFix4rXXXmOMCYIAkgtWgZtz+/ZtxhjEpfGZMZbL5bq6uo4ePTot5yCKYmtr65YtW4pXybK8dOlSErngkU6nT548+dZbb2FR1/VQKNTf3z8tpzQ5TBeIMcZEUaQifpfLtbBzhgsGKNBnjCmK4vF4SN1kEhi8xGK2N+2Z0qqhUGgB5FdnDpBJwMWvqqpqa2t75JFHsMpAruABXgQ8QyhbwluLx+O9vb0kK6eq6sDAAJzGYs9QFEUMnNB0IW8kn89TLgLpX5pRSZJUblKl5QzIxiLD2djY2NbWxjN4CfD/4a0lk8n7sJ+QrqXUbk1NjcPhIEeR32EmkxkaGsL8JhQKUd7YRHmCj9BDNBjpAlmWm5qaiKIpy3JbW9uqVasm39vIyMjDE6SD7cLo4/f7eamqiZDNZkdGRkg9Lh6P846BiWIUkwbZna6gYdFisRg8Q5JPk2XZ6XTyeV1SbzYkBvmRUZIkj8dDniHv4/GbFXtrxC00yMzouk7cQoyY9ADgM1EQeXZiLpezWq0GsuLCgCAIXq8XtkUQhKqqKlJyyufzo6OjCF3hM3+tprFYDLXrJeu8IJq4devW4lWJRCIcDlOGXNf1ZDI5Xac0OUqLc5gwYcKECRMmTJgwYcKEiYcHpmdowoQJEyZMmDBhwoQJEw87zGpSE/MY1OlO13UqoDdA0zTUuRn6oTNO+7tY/4AvLFEUhSRDQJDDDk0ApCoBribPcSdqRC6XU1WVmAy5XC6ZTOIyqqra19cXCoUYY8lkMhwOk4JCJpNJp9P4FtoV8NWkjNPmNjR04qti+PuVyWQWUp3MtMNQK2W32/1+P8rs3W53SWoTGy+CQjUv3aCpwEDX4Rt580fh96mqaiKRSKVSjLF0Oj3fOTBzAkEQZFmmq221WmEGC4UCLi9tmc/n6X0p1pKhwmz+MwwmOKLgGVI1lNVqDQQC6BIhSZLX66XSO76HjeG4+Xw+nU7jjgeDwenShChP8PYTLwWGHrfbPUkZPF0ujIN0iVKp1D29jw8D+AlAcY9BGvSLBWOIMcjLzGAKgY2hqDRRNaksy/wTTvRpfg9QiJmkmpS+bqgm5b9ltVqpghTiK/QqYQDFltAyWTBkQgNkWaZeJqIo+nw+skgGIXer1YpVhULB7XYHAgH8X9f1+vr66epIJElSc3Mz7dxwqhO137RYLG63u7GxEYuapk00y512mJ6hifkK0LUZY5qmhcPhmzdvFm+TzWZ7enouX76MRV3XaaQURbG6uhpcZFEU6+rqSP8AHDaSRmxuboa8DY51+/btzz77bIZ/3LyB1Wp1Op2gn8H+0viH3sqojI/FYp9++mlXVxdWqara29sbDAaxWSQSwWaYBZI+GC8lahBP42VmYrGYqqr0LUmS+LFweHiYaOWapmGKaaIk0IaB5qDLly9/5plnQCJ1OBx8Z0h6+xhjqVRqdHQUukGxWGyK0q+Q8sNnn8+3YsUKir/4/X6ameHtphva3d19+vRpzH1Jd9HEPcFqtTY1NT3++OOMMYvF4vf74a1ls9nPPvvsyJEj2Cyfz6uqCv0nXvEL36qoqMC3sAdqVSrL8uLFi9etW0fHolvJB+AKhUIymaQYEDSl6bi8e5NOpz/99FO0a0+lUufOnZvJazOXgBgpBSgrKytXr16NoQeM35Lfwm1CXCYcDl+/fv306dNYxSuOmGB3unzQCzV4a7SKD5DxizwtkI0/t1i02WxVVVU8q5akZYQ7+/fiNLAocG0P2dSk1NmdjelzuRzv44G3T4LemUyGVqmqOjo6SsJvvF3VNE3TtIVhTi0WS2Nj465du7BotVrXrFkDJSfcCH5Lr9eLVYyxbDZLYnWFQiGVSr366qvTckqCIDidTtJvM6yayDNUFOXxxx9vaWnBYiwW+9///d/ZMYCmZ2hivoJvezCRvrCmaaOjo3BIkHTi/YdMJgPyMSJMZBb5CJzFYnE4HDQqw7bO8C+bT8DAhuEQsU9+bCNPLB6PDwwMkDRCKpXq7OwcGhpijOm6Ho/H7zUNiwPhNqHpRcnwJ6ZNxNvWdX0OW1aUPxBApcmNx+Opra2FAyCKokG0mRx1yNwhtcvPUe4KCtIjg0SeodPppKcIkxt6N5FVxsvO33QTUwfmIritVqsVupeMsUwmE4lE6O7z2Vr+NWeMiaJI8SBRFKuqqkhcQVGUFStWbNq0afJz0HV9eHiY3npSkwJ4+fh0Oj06OorAH6az03AJyhLIEdFbpiiKz+fD0INAWMlvYRykIGksFlvAl+jBYUgMllSFKfYMJUnCoizLvPg5nxi02WwOh4PeEUiVkmfIH8uw/5LnABhE8vj/80l1XoEGiUGaGsmyzIdT0ekHi6Io8u4lm7JfWv5wOByUarNarTU1NRN1OilnUToUWVCmMRKJTEVncVpg8gxNmDBhwoQJEyZMmDBh4mGHmTM0MV/Btz2IRqM9PT3F26CYEDVLCIHzOcNwOIy0FXKGlHUEPQbBP1TqU9gmlUpNlPp/OJHL5RKJBFiCuVxucHCQGhugUSHaUcRisWAwSMVj6XRaVVXEuaee+Skm4aACrbgNNB+FpcJg2skD/+gFBb5Dl9PprKuroye8pqaGNNkN1w33nTrOE4mUj15PDj5wLsuyoijEAKEIPRt/zSnODU4pNe9+0B//cAC3mJJOqIjz+/1svJ4KZaKyLFONKBuXccf7KwiC2+2mxCAyjZR1rKiowN5YEW2GZwziVhIfNRqNUmdR1NrhFc7n87FYjFalUqmRkREUtVJqekEC4w6V7LrdbjJrE7X/YYzl8/lkMonrE4vF+FbdJiZB8fWcpGuFYTO+nT2ViSLvzZekTpKC4/dPKG43PxEMTeoNa/myVepgwRgDQ5IoiIYd8rsq2fK+zIHWIIwxi8Xicrlozga2Hm2Wy+VK2hBDWcRDDtMzNDEvwbdKTyQSR48eLcn9MxQTGsyuLMtwLRwOx+bNm2kGI0lSS0vL8uXLsU17ezvNdaLRaCaTma7+pwsAyWTy3LlzuPhOp/PChQs0fUyn093d3cPDw2y8FQ+RXlAiiDkiXxgzCUDCIR/P5XItXboUpVYNDQ3Nzc3ok8buLN0B+5xqMCBlYXJveMiyHAgEMAFdvnz5d77zHeKMud3u+vp6DLeG2VIsFjt79ixKha9du9bZ2YkaNoNSwiQQRbGiogITqerq6ubmZvIuQAHCseBC0D7j8XgmkzGbd98TLBZLdXU10WlkWV63bt2zzz7LxmdReHdyuVxLSwvRrdPp9LFjx37+858zxmw228aNG//2b/8Wq9BqD3MvuJ00o4J7g89gDMJpwf4jkQgMgqZp3d3dV69exSpQEPF267oeDAYHBgawKpvNjo6OYpHvx73wYLPZ2tvblyxZgsWqqqrW1laUWAt39l7nkUwmL1261NHRwRgbGRkZHByctROeFyjWmOFdPr7Ck2wO7+8Z9oAuyvS0y7JMQkog4tIIxe+w2Ank/UY+dMLTAvni0kk8RoO0HjlIbHzQpFXRaDQUCsHkouyfL0nl5eL4EXle2FhBEDweD6riRVHctGnTl770JVpLFqlQKESjUdI7MOyhoqICwhMmTM/QxHwFH43OZDKQM7k/OJ3O5uZmilIrikLOA2ZO9fX1WORlGEyw8Yaw6AmLRCtxh1KpVFdX13TNVODvUWIQaV5SvnE6nSWjfRjIaaREP99pOZ8FA36u4/V629raiKEBfQWaIfFTBOgGIc0OAaF7lfYBewc3VFEUXpuUB+jB5BmCKbowlBJmDYIgKIpCyXzEAhAugTQCfHLkZsn0JZPJa9eu4TNkZsi3tFgsEwkqGEBJQsaYruvo3czGGeDwEg1Au3aqAcnn84lEIhqN3u+vnzfgvXTGWEVFhcPhuCsJKpfLRaNRXMlwOGzqZhdjivouPM+QV+It3oxWQaoU9wjWjEYo3gs1ZAj5VYbsHC+yzXuVU8wlsvGBEhuLoqgoCh0a+qg4+eJfR47iJPnDcoYoiiATIuZIczYDoNBT/H8+pGXiLp4hyQbKslxZWSnLciaTGRsbU1XVZrP5/X5ZlhcMaXVBQlXVYDCoaZrL5aqurobgUigUyufzLperoqLCLK4rZ2BWNDY2VigUfD6f1+vVdT0Wi8XjcavV6vF43G63+QKWLaDOmkgkyH5qmhaJRGA/fT4fP2ybKENkMpnR0VFIVdXU1PD20+l0BgIB036WLUoaz3g8HovFTOM5LwCeSCKRkCQpEAgoikL2U1EUv99v2s8yB0L2qqqS/Uyn08Fg0LSfZY67eIbhcPjAgQOnT58OBAKvv/56U1PTZ599dvDgwZGRkZqammeeeWb58uWG9iAmygeFQqG/v//NN9/s7Oxcs2bNP/zDP6RSqZMnT7777ruCILS1tX35y1+eSAvbRDkAKu3vvvtuOp1++umnP//5zw8MDBw9evTChQsul+uxxx7bvn37RKJbJuYckUjk3XffPXXqVEVFxauvvtrS0nLt2rWDBw8ODg7W1tY+9dRTK1euNO1nOWNgYOAXv/jFjRs3Vq1a9U//9E/pdPr06dP79+9njC1evPiVV16ZNbE4E/eKdDp9/vz5d999N5lMPvXUUy+++OLQ0NDRo0fPnTvndDo3bNiwY8cOksM1UYaIRCLvvffeyZMnfT7fN7/5zba2to6Ojvfff39gYKC6unrPnj2rVq0y7Wc5Y3Bw8M0337x+/frKlSv/8R//UVVV2M98Pr948eKvfOUrpv0sT9zFM7TZbMuXL0+n07du3YKvf/78ea/Xu3r16p6ennPnzlVXVxNh3US5AbIBjz32mCzLvb29hUKht7f3xIkTa9asaWxsPHPmzIcffviVr3xlrk+zLMD3Z7NarWVSriZJUl1d3dq1a69duxYOh1OpVEdHx8jIyObNmxljt2/frqqqwucyQS6X43sru1yuqqoqdmfpIMDX5PCFK5qm0R54Rj5qRUhFw+1219XVYVwJBAITEcdRIcPrl8xmbYzNZlu2bFkqlbp16xZyTefPn3e73Y888khvb+/58+erq6sbGhpm7XxKgr+wbrebJ9jwAV1d11OpFF3JSCRCuiCRSOQ+eoFIklRRUYFCLI/HM1HsH3UrVJEYi8Vm8w4i/iJJUm9vL2Osr6/v+PHja9asaWpqOn369JEjR7761a/O2sk8CJBjwWdZll0uF0mb8PXVfNcE/klATS9VYeH/NClH12x8Rpkcde7mtWR4xqCmacFgsGRZF540MgJTZ64agC61MJ7BYDCVSl2/fn1wcHDz5s2CIHR3d1+5cmXr1q33secZAhibdFVJ/KkYsIoYpDRNSyaTqLaNx+N0IxYAQLxMJpNkPy9cuOBwOHbt2tXf33/x4sXq6uqmpqb73n9xJSceOh5XAAAgAElEQVRZIX6k4GtBDQWfjOvYiRaFvPHklbQMZEXDcalnPd/1h9cGm7yalGctGgRyDIWstB/IQfE8w8lVbe4PCMGIotjX18cY6+/vP3bs2KpVq1paWk6ePHn48OGvfe1r03IgxpjVagUf4f6EZAqFQiwWA1+XdkgyhPw+UZyPhmcG8BqHxYsEfoeTKN8UCgVeJiMajdLnmcZdPEO3271q1ap0Og0Jx7Gxsd7e3u3bt69du1ZRlI8++mhsbMz0DMsZFRUVmzZtisViQ0NDhUJhaGior6/v9ddfd7lcQ0NDp0+fNj1DNs78BlmOMWaz2cpEpESW5ZaWllwuB3KOqqqDg4OiKG7fvh3Cqp2dneXjGebz+VQqRZfRbrdv2LABciY2m62hoYHkwqxWq4EZiKEIojVEGYXgBOaIdru9qamJuFJ2u500S9ANr+RgBt4Uqc6SIOrswOVyPfLII6qqggUE+7l169YNGzbY7fajR49GIpE59wx9Pt+2bdtwYZubmwOBgNPpxCqeCROJRM6fP08j061bt/bu3Yt7DV2fez1uVVXVc889h/G1ubmZ77vFY2Rk5MCBA7T/gYGB2Zz7+v3+TZs2xePx/v5+2M+enp7XXnvN6/UODw+fOnVqXniGoig2Nzc/99xztFhfX0/6MbzShs1m4+mI9CTkcrmhoSG0m2fj2qSYlENXhgRjIHqBQgZoyWBSyBjLZDLXrl07deoUG2/CVpIUBy+U7vIUFaqKIctyc3MzGc9MJtPf32+xWLZv3z42NjY0NHTjxo2y8gxFUQwEAqTg5fF46PobAEuLSefIyMjFixc/+OADxpimaSMjI7N2wjMNl8u1cuVKsp/RaLS3t/fxxx/fuHHjpUuXPvzww3A4fFfPkHd4DNy/XC7Hy8CQZygIgqZpvDgNWvWy8SAIz9xzOp3gp0mSZLfbKbAiSZLb7ca3DM9wLpdTVRX/0XU9nU7jczabNfQbJJp38VvAK47ykTU+uMAHerBIQZxMJpNOp2k0hJ4fzzCcFufQ7/dv3LgxFovBCAwPD3d3d7/66qt+v39oaOjUqVPT5RkKgkA9661WK1Hlp45sNnvmzJlf/epXWASzGpI2FouFF6cRRbGtrW379u2GPeTz+Ugk0t3dTYvhcLikZr7FYgkEAnh0eVtafEo3b948ceIEFlOp1Keffnqvv+v+cBfP0GKxKIpCkQ/0rfZ4PF6v1+PxJJNJg0Ocy+Xi8Xg8Hh8aGjLVk8sBBg0JzOFqa2sLhYLb7S5WbdE0LRqNRqPRh6qfO8wuzUVEUSyTfuiCIEBABS9gLpdLpVIwK5qmWSwW6gPBxpUAY7FYf38///9ZA69Kzxiz2+0+nw9EcIfD0draSlEkURTdbjclAGkQSiQSaEeBRYygsCROp7O1tRUZSMaYzWarq6ubigYGn3MwhHtnGpglU9wX9tPtdqNPAM3tCGQ/BwcHZ81+SpLk9/uhe+Hz+WgOBNCEQ9f1SCRCSZ6RkZH+/n7Mual/zD1BluXq6mq4EJMQnjOZzMjICPn2kUhkNu9gsf1MJpN4jD0ej8F+glYaj8fLbXYOl4+IA1ar1ev1Fkep4SXyrbr5nCEfO4MYKcIE0KCinwxxGjwPuq6HQiEaSlRV7evrKykMOBOA8aRG5AgSCYIQCAR0XbdarQYjCSHraDTa19c3J/YTHgjJYPAd1Q3gLW0mk4nFYugbpOv6QtJuJT1q3n66XC7Yz3Q6zf9YGM9EIjE4ODjJRZikHwOfM+Q/Q/mMesfz0neMMeqKhK4VBnEa3MGS0jLFuTukmPjRit7BSTxDQ1chXtHUkDDk94Nh0TAy0ilNl43FaE4arbCftbW1MEGGSSbR8u/PfmJSwcYfm3v9Ohy5CxcuYBF6zvCcLRZLTU0N31SJ5iE8ENKioQoxqZIKfJAIQlzbarWWTD+y8YY0tAdVVWfNLt2/NmnJ4p9EInHmzJmzZ892dHQ8iFakiVlA8R0sFAqRSOTw4cOffPIJn1U3UW4o+fZpmtbZ2Xn8+PErV65cvnx59s/KxF1RcnJAQAuQM2fOXLt27aEKzcw7lJxykfG8fv36XJ2YibtikrrlW7duHTt27MqVK5cuXZrlszIxRUzUByKZTF64cOH06dPXrl0rt9CMCR4wnsWhwLGxsUOHDn3yySc3b96ckxMzQbg3zxABrfg4iiWVnU7n+vXr29razp07d+rUKfP9LDfYbDa73T4yMuJ0OhOJBBUOAYIg+Hy+HTt2rF279uDBg7///e/n6jxnH7quU2kTii5oFV+SgVcAoSmEiGYzRmu1Wm02WywWC4fDyWQyn8/z8jOyLLe2tvr9/kceeSQej589e3bWToxOz+v18t3wKisr8YzZbDan00lRN3Ec7E7vCAwokoXg2x7a7Xan00mxQEVR+NQWH+ZEE3bk3EZHRxOJBN0jTdPmkEGKJuCJRAKxbTT54DdwOBxr165tbW09f/782bNnUcM/7SAaGKAoisfjQfbV5XLxqxBXxoVFKJdilpFIhPpfTT3AzM/nEE5GvRzfdIuNlxriM8LMVMU6t6L8ZD/dbnc8HuftJ4wnqBaHDh1666235vA82Z3d7e12u8vlomQUclPFXwGtBXlgxhjfiQSirDSgW61WqqnL5XKhUIhWCYLgcDhwvxA1px2igG2Gfu9dgUxCMpkk42noPyRJ0qJFi7xe7yOPPJJMJk+fPj37Z2i328mkO53OSVpWUJFLNpvVdR0D1iQ8arz1fGaJ55HyVhFvX5lUzfDA4JtMJjH/tNlsvP10OBxr1qxpaWm5ePHixYsX+/v777pDQ/6QmsIbwnaCIPB8vMlTbQaqXkkCIeqoKa9OlaWYTvA7R58JOkme7sifpyHLx58Dn6vEc4L9I1HJ/66Sl2V6ge5EIyMjXq83FosRuwTwer3bt29fv3794cOHf/e7383ECSBDy5s1TdNQCJPNZpF4J4DwzBhDcRblukCbpI4+BFhCKh/FYskMGSwzdi6KYhlyg+/etQKUcWRF6+rqamtrb9y4kcvlOjs7GxsbDdJeKJQPBAIjIyP3kc81Me1Ip9N9fX3Dw8Oo0UdrviNHjjQ1NfX09GzYsMGwvaIodXV1VVVVs1bQXA6AUgIViKNwEWYXtGa+kGDp0qWg9mma1tfX19nZOXMnhl5VAwMDwWAwnU5Ho1G/3x8KhY4fPw6Ljzp4wGKxuN1ut9tdKBSmUmY57fB6vTt37nzyySexaLfbW1paIBKDKjW+1xM/TaGhyO12+3w+3lDSwIbKdn4P9BnqQTSghkKhY8eO3bp1izE2Ojp64cIFmiXAmZ+p318EdGYbHByE/Wxqaqqpqens7CwUCrdv325oaCBREIDsZzAYnDn7CV4KeYDNzc1PPvkk2E18MRtjLJPJDA0NYdL56aef/vrXv6YGdKi7o2s+lcmEgfTi8/lWr15NgQPeI02lUr29vZisXL9+/dKlS1TFyt/oWYCqqv39/UNDQ2Q/GxsbP/jgg5aWltu3bz/22GP8xrIs19XVVVdXUwP3OQSqoR555BHGmM1mW7duXXt7O60tWaao63p3d/fBgwexmMlk6Idomnbt2jUiEwpcd/tCocALLSAbQPQqXpwG5Zoz8WNLIpfLobR+dHRUUZSxsbGKiorR0dHjx4/jxy5evJjfHu0EXS6XIAiGF3N2oCjKkiVLnnjiCTqfiRqsIfgFaZ9wOByJRKjQd6LIF8J2RFxET0v4xnAFKRiaTqd7e3vJn59DYP5J9rO1tbWmpgaGvaenp66ujr9NZDzD4fBExtMgM8N/NoAvCrBYLLRlLpdDgSsdVNM0clApWMbujC9nMhmE0rAI5iTeCxQ541twRegOQjWK5G0cDgfvJVKJZi6X0zSN7KcgCHR62Ww2lUrRKYXDYdIoSiaT6XSa12bjjfl0OYcoIIf97OnpcTqdTU1NH3zwQWtra1dXV0n7WVtb+9lnn03L0YtRKBSi0SiZNTgyhw4dwipe3yWfz4+NjV25coWNmzsKtaM4/4c//GHx/vkEA5u4uluWZVhmxhhmNStXrpyeXzhNuHvXivfff/+jjz4aHBx89913d+/evWzZso8//vjy5cvV1dXPPvssdWU1UYYoFAoDAwO/+c1vLl26FI1Gf/GLX+zatWvTpk1Q0l+8ePHOnTvn+hzLApjBUDwbEXFay8v3IeiFgEgmk5np8Ieqqp988sn+/ftv3Ljhcrl8Pt+yZcsqKioOHTrkdrs3bNhA9qUcIIqi3+8n8rfNZqutrZ3ERBgioMAkqmLF9Xv0mQ9/QvYQ3iDGwrlKNEUikUOHDh09enRgYEAQhF27drW3t588eRL285lnnpkT+4mpA/kGoIPCQzOkE5GzxaQf7EfiPCD4eq8TCH6+JUmSy+XC3JSntLFxxixmKqlUCimC+/69D4LBwcG9e/d+8sknY2NjP/vZz/bs2bNly5YDBw6cOnWqtbV19+7dc3JWU4Qsy4gQKYridruJvjsRkDOkILemacSZwbRp1pTxpgWqql66dGnfvn03btyw2+1+v3/lypWBQODQoUMul2v9+vWrV6+e63O8A9Dl4oN6E5FveW+czxlOAiSKybpCXBEDGTx22oMhgjOHGBsbO3z48Icfftjf35/P53fv3r1kyZJTp05duXKlurr6qaeeur+eW5NQDQmGcnHyDJEzpPsCGzhRzpAWkTOkSYWqqul0GreP9wzBq+dPKZPJ4F5IksT7/IIgGA5Ea3k/Fj4/bck/KrquF+cM77UG5K4YGhr6n//5n4sXL0YikZ///OdkP0+fPt3S0rJnz57pOtDUoes62TEQoRFrKLnlDOnVIQFDPO0y1GS5y/vv9/ufeeaZrVu36rquKApaMy9dulRVVbvdPolYvIlygCAI9fX13/zmN2F6HA4HZqJLly4tFAput7skj9ZE+cBms61du7apqSmTyVitVrfb7fF4VqxY8bnPfU4URZ/PZzYzLGf4fL6nn3568+bNvP1sb29Pp9M2m62ystJsxlXmqK2t/Yu/+Isvf/nLhULBbrdXVlYKgrBkyRLUIprNYMsZNpttzZo1DQ0NBuP5xBNPWK1Wn89nNjMsc3i93qeeemrjxo26rsuyjNb26ANks9kCgYBZmFbmqKmp+cY3vvHFL34R9rOqqkoQhLa2tnw+73K5zGaGZYu7eIayLENakIehOt9EOcNut/MFh4B5B+cLrFar3+83lDaZLv18AcpjDH19zLdvHsG0n/MXExlPs9BpvkCW5draWiKuA+bbN49gt9up2QNhIilOE+WDsqgZMGFivmDmyNkLAOBwEwPb5XKhww0WeWLhtIMvp4FyNEg4sVisDOndcwu0iyAKU1VVFenCG+p1dV2PxWKoxU0kEryYwX28CJDnpkM4HA7ovLOiqrlcLkd9LBeSCv9Mg697F0XR4/GgWyaVlRKolQs0GFDXlMlkRkdHiWCGJgGz+gNMTA3UoIhN2t0e5DQUdtlstvr6evKTZVmuqqoqyTNMJpPZbBa1x3xHWTZe7ojFQlHP94WKiWpE2TjFna5/Npvlaz7T6TQsm6qqJIrGxlW1iGeYyWSompQXqrFYLNRxEaNnydYUBuPJD4XYIc+zMIgVTaWwdgGAKjYxopHuN6jIc3JK1J0LfQHn5BwmgekZmjDB2KTWv3jLWTyv+YRIJPLOO+989NFHWKyvr//6178OLiva/t6V6XR/KNwpEhsKhc6dO3fkyBE23kd4Jg46f1FfX//qq69SMUhlZWVlZSUv7UNbjo2NHT9+HOIWPT09fBdmdu8vgsfjefTRR4mAsGLFCq/Xi/ixgdWTTqe7urowlg8ODpahTGIZQhAERVEoEGOz2TZv3vz3f//3WMX3TC8UCplMJhqNMsay2WxXVxe6z2uadvny5ffff5/fbLZ/hokpQFXVjo4OtNYIh8MTicCDTgmhHb/fv2XLFlIholarrMjHg2odImvJZPLmzZu0/3g8fvXqVWgmQ+OxDClSk2MSX4hMUHFLIV6BhvfDoeWLIUYURVVVeV20vr4+7CSVSvX399O1MgjSkH2D0gmdBm4QdojaS3IhDJ5hsbAzHZckxBhjUDWniBuohvSt4guyMADVGSgF6rr+8ccf//a3v6VVc6JBYLVaKyoqIBIhiqIhK14OMD1DEyZMTA/A56YgHCwyr0w4Q8fFzIb2r+t6IpEoB2298gTo701NTVh0u92UMzQAEVbMEePx+H1IzvCAwAZRg5xOJ+UMDUCmAmO26ZxMHXw7ClmWPR4P3WUD+J4H8Xgcc31N00ZGRgzS7SbKEJAtgW8fj8cncs/ArkT1bGVlZXNz85IlS7DK0LWCj4SqqipJErKLsVgMxQJYJYqi3W4vGUVaSChwPSH4/7Ap5AxpFS8ng04bdJuQjafUK58kVBSFjiuKIuUMC4UC3wPwrjlDEjvl22BompbNZqlbxkOS8mVc/4lsNhuNRsuhnZ4kSQiUW63WMpRrmaniLhMmTJgwYcKECRMmTJgwMV9g5gxNmGCMC6Kz8Z5pFE4zREap5xt69Bn6rc9hI/U5h0E+W9O0UCjU29vLGJMkKZlMGsQD6MJSayYD4wX9FRATNSQGEQ5HAgpBUAqdoo0syufKtmvzHAJXleKUfP2SAci+IgmcTCYfMMAsiqLb7SZ+o8PhmOi4yBkiW8iH4U0UgzdHPp+PkoSKojidTvSf5MmEWKSMk67r1Lwum83Or74UCwBI8yLT63A4eMbR5Bk5vlkC/xU+D+9wOHw+H+TKfD6fzWYzFEyWhCAIsiyTaa2oqCCDrCgKmKuMsXQ6zVdILuyXlL9chtL3XC6H6yMIAk/qQ5tBLPIEPzbePJAKOA0zDf4eEXPYOg46LuUMhXHQKkoGYsSk4Q//L9maYgHcPtCk2XhjZ2qKmM/nI5EIulXrul6y9fxMA+2gaMx1jIMV5QwLXA9YVVVTqRSRvVVVnTXRBNMzNGHi/2/oRPWHqLCiMY9q/dl4gTjYGuCRd3V1YRVoOXPVOq8cgAkoGa/BwcHf//73oDApilJTU1OyfzQar8NKplKprq4uIogrilJdXY3OHJqmhcNhmrlWVVXt3r17xYoVjDFRFJ1OJzGpfD5fW1sbBoBUKtXd3Y16SBOALMuVlZWkGG6IbvCIxWJnz56Fb6+q6gM+216vd+PGjUSEq62tnYh5j/7IGBFHRkYe5mjL5EA7e/TlkyTpkUceef7557Eql8sFg8Gf/vSnjDFd12/dunXixAmswuyQFGgymQwuNd7fufklDytkWW5paQHRqL6+vrKyki8OnMR/oxk/HxeTJIn61zPGGhsb9+zZs2PHDjauSDTRG8e7Fjabra6uDh1Z8vl8e3s7uTSpVOr27dsYKHt7e3/1q1+dP3+eP6V57WBMFAvmXS+Dh1YoFKhfrtVqTSaTdPsghIa7g8GLPDS01MOiocWr3W6nPaDjK9wGl8vldDp5F2KiZwNVrLCZvNQNYwy80JLVpJMIK8wL5PP5np6e3/zmN1hUFOVHP/oRPsPWESthTlS1LBZLIBBoaWnBosPhWLVq1apVq7DItw/N5/PhcBh+rKqqly9fvnz5MlZls1mU/c8CTM/QhAnG7mSW801g+ZaybDwoiyB9oVDgZ9WFQmHmtDfnC/gBhh8OFUXBiFX8FUmSVFWFEkkikejr66N26jabLZvNwpRnMpmRkRHqeK5pWiwWw0QWR+Rzhna7HY5ioVCYyO15aIFnmCYZE5EM2Z05Q16u4P6AnCF14Jx6zvBBDrqwgfQOLim8App8gFoDRk02m+3p6aEguonyAQpPYP2QM5w6ea94Ko8MJHVJ5XOGBnWTSYCHihZ57SL0Z0cUT9M0u91OO5zXfsVdQf5byQQdBVn4VRBFI8+QUotsvCiJJhj8NeQXkTCknCGvTcomoEHSKWHnfHKSjeuRLlSxGU3T+Hxgf3//HJ5MMUiMlN2ZMzQAcnqY8xhyhqSwOgt42CeyJkyYMGHChAkTJkyYMGHCzBmaKGtQzMxisTgcDr4c0RC6uw9QqwPUiFKdGwhsJTu8WSwWu91eUVHBGLPZbD6fj3IgqM0wO4AR+GYShUIhkUiUTN+Jooj2XIyxVCqVSCQotZjP50npVNO0RCJBlzeZTEYiEdSdIkPI1+T4/X5USyqKQv0VH2YgmYBLpCgK31tykvfIbre3tLSgAi2TyYRCIQp7TxG8nl5NTY3H46FSt0lyhriDSH1kMpmGhgaqBULkFV+E+DuvSfvgZMgyB/I51CraarVWV1c3Njbis6IofX19WKXr+tDQEIRGcWXm6pxNTA7ikhnaD0wRaBMaCAQYY3a7vbGxEUlCxlh9fb3b7S45kPEKljDUVOsIW8ELkPLMN1mWUTLjdDr9fj+ETxljuq7H4/EFrCQ8FYrmJN+dxC6RhbRarZIk0SgJNjjytxCSLZkzLNl7Y5KeWyV5hiZmFMjYU/rdbrdPpEcKEjgmNplMZmxsjEw3mKuzc8KmZ2iifAFvEGOezWbbuHHjV7/6VawyVMSxqVk63qbruj44OIguN2zcKOOzzWZbsmQJDY28OZZleenSpZiKJZNJv99Pc2VVVa9fv25S2ghoYoELYrFYuru7JyrsJEfFIBgjCMLNmzdJgYYvjBkcHLRYLCiQq62tfeGFF2g+VFVV9dRTT61fv54xdvv27WAwWG6FJbMP9LmGr9XY2MgrweDil5zuLF269N///d8x2wuFQhcuXLjXwAfvyNXX1z/xxBNUQgPmfcnjVlZW7t69G29WLBZbt24dvWWVlZXr16/Hu3nz5s29e/fSYDk0NHTixIl79V3nFywWS1NT0+c+9zksSpK0evXqL33pS4yxbDZ77ty5H/zgB1iVz+eHh4evXbvGTAJhGQONCuDqO53O++h57XQ6169f/+ijjzLGAoHAk08+yfOXfD5fyX3m8/lUKoVXO5PJDA0NQZGIMWa32xsaGhCExenRUKgoSn19PYyw2+3es2cPtUUNh8MnTpxYqGE48sqKO85TfSbfSYKNO/x8fwsavPgWFFar1Waz4bPdbg8EAnS1PR5PTU0NJjk2m81ut9MAykfcoFlCp8pzYfCBJxPSGEodGgkPSWHwnMBisVADQzZO5S25ZTabvX79OgiTkAeDDWdFN3pGYXqGJsoaoGEwxhRF8fl8ixYtwv/hGVJvNDZlc8bTAKxWK/HWeCiKwrcVMuiS2e12HFeSJK/XSzkQg6dqYkYNmSzL0WgUWgh2uz2bzfLEfZ/Ph0E0FosR6+ZhBt4jXAqQY/nJzUTfstlsjY2NmEk4nc6BgYF7TT2JouhyuXCsqqoqj8fDv7OTfMvr9SJAIIpiKpWiYEFtbe3SpUsx2dV13e/3U4a55Lu8wICkDZVOSJJUWVmJ2Xkmk5FlmTi6+Xx+dHTUDFSVP8jTuD+aOuKncCcqKirq6+uJazoJ4M/gtcpms5AqoVW8xqaBZk9jnN1u93q9KJ9hjOm6fh9u7bxAMbdwEo6fYdrA/+U9NH573u0URZEu4yQ5Q94zzOfzFouF3+fkiUHT8ZsT8DxDRVEmyRmqqkq1HrFYbE7K0O7iGWaz2XA4HI/HIRJotVrHxsZisVihUMD0i0Z9E+UJVVVHRkYymYzb7a6trc1kMsFgMJVKofQoEAhMZaJmYq6Qy+Xi8Timd36/3+PxoIpS0zQUJ0wUEjZRDoD9TCQSsixXVVWJosjbT6/X63K5TIGccgbsp6qqbre7rq6O7CdyKZWVlab9LFvkcrlEIhEOhwuFgt/v93q9BuPp9XrNWF45I5vNRiKReDwOOWVJksbGxuLxeD6fN+1n+cNgPKEQA/lWTD6pbsVEueEunmEwGHz77bdPnDhRWVn5ne98x+v1vvPOO6dOnZIkqaGhYefOnevWrSspsGOiHFAoFHp6en7yk5/cuHFj7dq1//Iv/9Lb2/uzn/2ss7Ozpqamubn55ZdfXrx48VyfpokJkU6nT58+/c4776RSqeeff/6ZZ545ffr0/v37x8bG6urq1q5du337dmo/YKLcEAqF3nnnnY8//tjv93/7298OBAL79u07ceKEJEn19fU7duxYv349L/1notzQ39//4x//uKOjY82aNf/2b//W39//05/+9MaNG7W1tY2NjV/4whfa2trm+hxNlEY6nT5z5szbb7+dTCafffbZ559//uzZs/v27YtEInV1datXr965cyfaRZgoT4TD4f379x87dszn833rW9+qqanZv3//xx9/LIpifX399u3b169fT5xbE+WG/v7+n/zkJ9euXVu1atW//uu/DgwM/PSnP+3o6KipqYHxXLJkyVyfo4nSuItn6HK5NmzYIIpiR0dHJpPRdb1QKDz66KNbt26tq6ubYmmQibmCIAh+v3/37t1VVVVokIISyt27dz/99NOyLPt8vrk+R8bGiygYY4IggNeO/1ssFo/Hg8ZKiqLU1tbylYF83UXJUgrAUATCL/LH4iHLMi+PwXdvR+dD5PcTiUQoFKIuiJlMBjIq0whJkhYvXrxjx46rV6/G43HwBGpra/fs2bN27Vq73W7oHT/fgYawPIOC5xbyyOfzJG9DDYVpJyTdLsvyHBY1gAJktVp5+7lmzZqtW7fW19d7PJ5ZC5rm83nqn1uyk1XJmlKeOYNy7nvNsaCEBreAVwmaHAgqo9Qtn897PB66v/yLiUwsiV4kEokHlKQqhs/n2717d2Vl5a1btxhj2WxWEIRdu3Y9++yzc2I/0X4QtUaMMVEUBwYGrl+/zsZF2+mJKhQKNTU1JR8wvFbU8UVVVeg88X0OAb5N9ryDLMutra07duy4cuVKLBbDb6murt65c+f69evntfGEicPsCwo0uNF+v3+KUzJd18Ph8NjYGBvvWU8DmdvtrqyshB4bz5QzAA0SSYEmm81OewLW4XCsW7dOEATefq5atWrLli0gS89JWoJnDPIvCKpwabhBawrqOWm4jFT/ySR21nMAACAASURBVA95mAgRz1AURb5rhUEKiHZVbPRoCoTTozPEacyaAo3P59u1a1cgEOjs7MTFYYzt3LkTxrPk1MsEG+/PzGbmnZrqOUy+2ul0rlixIh6Pw68A8KjxYncmyhYVFRXr168PBoN0BzH253I53rOaQ1gsFqfTCfkQRVE2btz49a9/nVZ5PB6sslgsNpuNhECLS//J0vGNgxin/MaKeNuBQGDp0qXFp4Rxl4RP+DYyqqpeu3bt3LlzjLFUKnX27NnDhw/TDqdd5kGW5aampmw2S/QhNj7LR0Ui3yN1AQAEM5rO6roejUZL1tnruh4MBomKxvvkIF+BABOPx+ewZMXpdC5fvjyRSPDCDHNiP3Vdj0QieFoikYiqqvSsYjpScqIAChM+K4ri9/vvYz5BviVEnqayB0VRGhoa8LlQKLS1tdG3MIvCYm1t7Z/92Z/RLO3YsWNvv/329PY/9Pl8GzZsCAaD8AzZuP3UdR3d56bxWFNBLpfr7e19++23sSgIwqFDh/7v//6PMWaxWHw+3/Lly7FKFMXly5c//fTTxTtBM+Xe3l7GmKZply9ffu+999i4LB6pAWORhEnmHSRJamxsNLSHJuPJT8HnHSRJqqqqQr2Py+VauXIluIVWq3USZ4mPmYZCoT/84Q9nz55ljKVSqVu3bkEOkTHW3Nz82muvwcOUZRlst+K9eTyebdu2QeiLMdbR0XHmzJnp7ZnpdDrb29vj8TieVQDezizbT5psIDRMRsZisei6TjRRPhCZy+XS6TSsE9/AkI3TNXEvZFl2Op2YojgcDo/HQ1cb3V+xOIlelyFyyqu4qaqaSCTobNPpNLWlnSgaOI3w+/3r168PhUJkPNn49GxOjOe8gNVqDQQCEJFCNOTq1auzfxp3sYykX4xnCCzYq1ev3rhxo7W1dffu3StWrOBjVGBMxmKx/v7+BaxfPI8APiEv6M8YO3r0aEdHx7Jly1544QXSFgM0TYtEItFodHh4eNZOkpeZ8Xq9zc3N9H+3242cYUkUe4YUKuN3Tp6hQfeZwq6Tg88ZwtyD+JdKpUAbm+rvvHdAaIeGQMQXg8Hgvn37zp8///jjj2/bto1ib5Cbi0ajPT0983c+x4vEson1UXiPnddLYOMXDZ/nNnqFBxvhXjZuP69du3bz5s3W1tadO3c+8sgjBvsZj8dnwn7yakB85HgqPwEfMEe8j0NPotYwyUH5yWix4D4+oLkFLZJA/zQCEzL+IgiCcOzYsevXr7e3t7/44ovkwbJx4xmLxWbUeGqaRl69IAg0C4SVowItWZYDgUDJYtdcLkdp2EwmMzg4iIcQTi+9O4VCYV6LCJB+NZ4Ki8UiiiIKFC9evLhhw4YnnniCBFQYY+idMzY21t3djWRa2QKxS1Kt5JVgpnjLcrlcNBqFN5hMJkdGRkZGRrDK4XCkUimYi0lyhlar1el0kvlyu93TPteHHaAHElGha9euYf65Y8eOVatW8WHEGTKeBvDzAcblAw0VLvhMQqDFpUw0pvMKNJQkNCwacoZsUltKZwgvms9wzmbOEKUf/ORTEITjx4+T8YTGO4FkTfhQzsMGvNp4qvF5Tk7j3mJmPp/v85///FNPPRWJRI4fP3706NFAIEDzeMZYMpk8derUyZMnr1+/HgwGp/tsTTwQBEGor69//fXXGWP9/f1/+tOf3n333b/+67+mDQqFQigUOnjw4IULF27evDl3Z2qiNOx2+7p169ra2lRVvXr16pUrVxwOx65du7BW07SbN28eOXLkypUrly5dmttTNVEMr9f73HPP7dq1a2xs7MSJE8eOHQsEAiS3yxhLJpOnT58+ceLE9evXaaJmonxQU1Pz+uuvC4IwMDBw8ODBAwcOfPvb38aqQqEQDodN41m2sNlsjz766KJFizKZzGeffXb16lWHw7Fnzx7aIJvNkv28ePHiHJ6qiZLwer3PPPPMjh07otHoiRMnjh8/HggESCghlUqdOXPm5MmTHR0dD7NrUbaorq5+9dVXBUEYGhp677339u3b993vfpf3dSORyMGDB8+fP8/nGE3MCe7NM5QkCQqlFRUVvb29586dMxR6uVyubdu2rVu37uzZs59++inVJ5goE9hstoaGBtQxX7lypauri18rCEJlZeWLL764c+fOd99998CBAzN0GojE0+fKykqEumVZrq2tpVUIpyEijjCYoW8Pxc6JQ4XcCB8ypBwU5d9o54qiIOSJA5UsLsrn84lEgp5kVVWHhoawyCt9zw4sFovX60W8X1XV27dv8/6DoijLli1raGi4ffv2D3/4wwsXLszmuU0LDLW7VPpSckvieOTGgVXFlcZlApS54oEfGBg4c+ZMsf3csmXLo48+eu7cuStXrkyjc8i/PoacYZmImBtOw8Acps9UDcgYS6VS/f39fIHcTP8W2E9Jklwu15UrV3gPUBCEQCAA4/nHP/5x//79M3omBBBu2XitINk3URRzuVzJigZ8BWWHoijS9Bq2jkiMuVwuGAwmEgn61vzlHLJxboLb7c7n85lM5tatW4bUrizL7e3t9fX1PT09P/rRj86fPz9r53avaRyMZaBSK4pCVQmTANUuZFqj0Wg8HkejFwyXxOFXxsHuxtM2MN9m2uSCV2yxWFKpFOwnPZyMMafTuWXLljVr1ly4cOHatWs8/+LBUeCaFvKkQQxYVE3KXwS8L5Pc2eKcoWEPbHxoY6VqZ/hz4HnjPLcwPw7DV2hxNkcBmnx6PJ7Lly9Tmz5CRUXFCy+8sHPnzvfff/+dd96Z6fOZTQh3drqnZiRli7t4hpqmDQ8P9/X1hUKhvr4+v9+PqUwsFsOioajdarV6PB7wks0y4nJAOp3u7u4eHByMRCK3b9+WZXlsbEySpMHBwZGRET5fAUiSVFFR4fF4+DKb6QXcG6rCUhRlx44db7zxBhv31nhhADDNGGOFQqF41gLyZD6fj0QiGAkKhUIqlaL5EHaI1DwezkAggFWyLC9evBgNgi0Wi8vlKvmT0+n0uXPnaJ6XyWRu3LjxySefsHE1iOm+PHcgl8uNjY319vaOjIykUqne3l6Qf3Rd7+zshKACbSwIgt1ut9vt6XR6niq24ffypbATeYbwjTGgJsaBVegdXA4kIk3ThoaG+vv7g8Fgf39/ZWVlOp0uFAqxWKynp8fn801kP6uqqqbXfqL9CT4nEgkqQWTjzZqn8Vj3gWLhE4oBwY2hM1RVdXR0FE9FT0/PgQMHaLI7MDAwvSRDxlg6ne7p6RkYGCD7GYlEZFkeHh4eGhpqbW3lN0Z164waTwNgglCeA8Fwsm+CICSTyWPHjhV/y2q11tbWgpFYKBTa29tBR8zn8zwjXVXVkydPoueywa7OC5DxHB4eVhQFxhO9MTs7O3VdN/AUyH5mMpnZtJ98zeEUvyKKYmVlJV4Zu90+leZhqVTqs88+6+vrw+LAwMCJEyfAM8RzS6V9TU1Nzc3NqAUDf6HkDjHZpeMS52gagflnf39/KBTq7++vqanh7Se6VtDGVqvV7Xa73e6qqqr7m3YbvFxegk7TNHLkdF2nVXDqeK6HQSRGGO9kyDtvAqfshbbMGK1sNhuvHSAIAnEaFUUhKS92p4XUdZ16ujLG0uk0cQsTiQRmC3Q9+YetWIfsPi7aJFBVlTeedrs9EokoijI8PDw4OFisii+Kot/v9/l8s2Y/Zw0Wi4XYg4wxURQn6nRfJrjL5CkcDr/33nsfffTR8PDwvn37BgYGotFoX1+frusNDQ179uwxFfPLGYVCoa+v75e//OXly5eTyeT/+3//79FHH71y5UowGBRFsb29/fnnn5+TE+N5ROAW8nQd3lpRlTxMIXliuVwOnDp8jkQiyOOBa0csEXiGCNVYrdZMJkO2VVEUMqBWq3USDySdTpNHmslkIpHIrLFQ0un0+fPn33777Vu3bmH49/v9N2/eTCQSXq/38ccfX7du3eycyezA4CHcdWN+kOP5/XPu6gAoL/zwww+Hh4dzudzg4GA8Hu/r68tms3V1dU899dSsiebzA38x6aVMYJimEGeYn8HACOBeJ5PJYDBIniEaRU7vKQ0MDLz55puffvppPB7/r//6r3Xr1l25cmV0dNRqtS5duvTFF1+c3sPdB+jJJ5kf/B/JjZJFDaIo6rpOOSIQ1RhjIBmSmFM6nfZ4PJinopv2zP+a6YSqqhcvXvz973/f2dkJxYtAIHDz5s14PO7xeB577LENGzbM9TneJ+CEYAwlsbTJgVAahc+SyWQqlUKg32az8YwmVNZM0bkyOELTi0gk8v7773/44YdDQ0OZTGZ4eDiRSJD93L1796xNrw1lC7zTSFIu/F92p3tZbJdK8gyLq13ovStpsUv6dfxoaBgZeUM6CxgYGPjlL3956dKlWCz24x//eP369VevXh0ZGbFarW1tbS+++GIZ1vXMHBCwps9lnjm7i2dYWVn5yiuvPP/88/l8HrENiuDKsjwTnGMT0whBEFpaWt544w1MnmRZttvt27dvR/0DL/VpojzhcDi2bNmyatUq3DIUDiHyh34AZjfRckZlZeWXv/zl5557zrSf8xRNTU1vvPFGJpMpFAqoPnjyySdN+zkvYLfbN2/evHLlStN4zlMEAoEvfvGLzzzzDG6ZoiiFQoHsp8vlKvOSvIccjY2N3/ve90zjOR9xF89QFMWFl9h9qCDLsiGva76Q8wgoc52npaEmUB5jNm6av5Bl2VBzaNrP+QL0QyJuj4l5B9N+zmuYxnP+Yu6pOCYeEiBnwhizWCyVlZVUZa4oCnXLRUSQypny+TxJwOfz+Xg8TpocuVwuFAphFQS4iY5InejZOCsA1RRgU9CxJElyu93ULIinpfGFNyA3EvNN0zS+pt/EJODrZFhRPcwDVraA+o9i4Ow4ig+Esiv+5hY3HX7YoGna6OgozZhtNhuvXMJD4Pp/FjcQK1n8OQkxyQBeS0ZV1VAoxHdkRqQZn1VV5XmGwWAQb3RfX188HqdqUnCQ7ulSLCSAREfCG2DN8RIdBFEUs9ksqkkFQUBnczZee0aZNN5Q67o+PDxc5r0c5iPAVsD4Aoojb7sm+pYgCLIs406hL85dDwSmMSnGRyIRomaA3oy+wYyxioqKqeTiMEoShy2dTs9rgaJJgHrRicRaDFpZ/O3jq0n5zfg7a7jLBlEfnsTIH4uXt8E4yNfbA+zOzhnsTkNdnoSChQRhvGsOY8zhcPBRKl6C0QDwoTDRzWQyJQ34LMD0DE3MBkDAJQHSrVu3/s3f/A1WCYJAc5F8Pj80NHTlyhUsogvzH//4R8YYeOe8WiOJ8jFONw/2jqeckal1u92LFy/+whe+QKfEq87wVA1N065evXr8+HE23s7+ww8/xKoC1xfOxOTAhAM3FzeLb6nHN1u/D0CaCJIYbrd7dHSUJj2KosiyjIkvZAlIlkPX9UQi8ZC3Wh0aGtq7d6/P58NidXX1li1bSkZz+fbKTqezqamJxjOeEarrOvV0hm7nVIhPIA5hJ52dnb/5zW+IFKdpWjgcxsQlnU6T5Awdl5zGVCpl4E/e3zVZAMjlch0dHXxPcEP7Vh40NbHb7Tt27EDvDavV6vP5VqxYQTtsamrasmULYyyRSBw4cOAHP/jBjP+MhwzpdLqjo6Ozs5Mx1tra+rnPfa7k4GWALMv19fVgKU8xFpNIJM6cOfPBBx9gEfKe+OzxeLZs2UKUdb/fz9P+J0Imk7l9+3Y4HMbirVu3SONq4cFAYudvCr1ifBzNAN7HY+M0s+I7C4F0vhkvLaKxJJ2GruvQUmKMaZo2NjZGqxKJRDQaxdQolUqpqkqGOpvNGuRSJ3J3TTw4LBZLRUUFImt2u33NmjVr1qzh15b8VjabvXbt2ptvvonFB5kjPQhMz9DELIEIuFAf5csMaGDDtI8yfpqmkTdoyBneBzDHJeFTxNRLKlgWCoVMJgOvI5VKJRIJQ3cBE1ME9QKZXD77/sAPk3zXimIVOP4Be6hY7yWh6zov1qIoiqqqpEfCA9MRjGElN6DpBU04pq6viAIB3LV0Os03SMhkMqFQCLtKpVLDw8NT3+1Di0KhoGnavc4k7Hb76OgovoXbzTv/Ho8HN8jhcPCS0SamC/xd42Uk2aTGCumIezoQUnzkvJHoJWPMYrHY7XaKDTmdzqnsHME+irLxcscLHvz4MpE4jWGzkv8vCUNG0SBsQ3ugYQ4DK19wwev28f6kmTOcZVitVmotQ51gJgc/+ZxDzDO1MRMmTJgwYcKECRMmTJgwMe0wc4YmZgp8rsZqtbpcLmhMy7Ls8/n4GBhxC7PZbDAYpIIoLCIqOfUyTp5XJgiCzWZDtNvtdldUVPCr6PQMit7pdHpkZAT5Sf7/JkqC4prQHOPVz91uN2rrkdajAPO0pID44/K1OobwKv8cmqknxpiu6/F4nC6FJEnd3d0lM0JQdMT1dLlcuq4bqkmJ6ELVpHa7vbq6mt4yWZa9Xm/JyhlVVfv6+pAtGRgYiMfjfLEANCSx82n99SaMQGUaYwzSnfwqkEsZYyjPprJ/3P25qnRaqED+kGj2IBM+iHwxBk1kkzKZjKqqvAX2eDyo4qmurq6oqEDnEsaYy+Wa5KA8n21sbAxUf8ZYOBx+CJ8HPq9roCMaYCAQGgYv6nRvtVp5ajdVqBZnjwtc0yYqvmB3VtAgeWiWjM4JUJWG4ji73T5RzUWhUEALSizGYrFymHCanqGJGYEgCGhUiEVZljds2PCd73yHjQsb0NwRWjIdHR2MsUwm8/HHH//sZz/DKsjJUAHMVKb10KMjmRlFUVauXPnkk0/i84oVK0pq7YJYSF2h0+n0hQsXDh8+zMZH6/u8Cg8BMHfE3XQ6nUuXLqWOyYIgSJIErywej1++fJnaQvLVL/cH1FNh5/I4sAoNvjAKolCKmN+ZTGYBk2GmiFgsdvbsWZpqWCyWP/zhDyWdNxQDY5Xdbq+pqaHXlucZ5vN56jFYW1u7bds2ciEaGxufffbZkvqQXV1d//mf/xmJRBhj8Xi8q6uLdwL5CijTn5855PP5SCTy2WefsfF6+2XLlmEVwmqogLLb7U1NTTwFMRgMUtt0E9MCNHa/ceMGFmVZrqurI470fUzrs9lsKBSCxevu7u7p6enp6cEqv9+/adMmMP8rKyt37NhBN5fCAcXgixhDodDhw4fPnj2LVfF4nIiL8xcT1Xzy7p9he0M1acm9IQxNi2APwq5KkqQoCnW6t9vtdPFtNpvNZsMYB4+RPw2KnaVSqWAwyEsBxeNxGGfUDPOFpnw1Kf9zzOLSaQd6hn/jG9/A56amppKbZbPZjo4OIgCrqnru3LnZO8sJYHqGJmYKPCEb9dZwFBFK4Y0mUnaMMVVVk8kkJotALpe716QBcdsYY5IkORwOeIMQczPMgMk+appGPkM6nY7FYvfkkT7MoBuNu0xeAYZDrMpkMrjRWDUt4xDPwZhIqoHd+Rzyg+tDC3rdCCX7obPxVwlXDO8s7xnyRBfSVJQkKRaL0VwklUpN9Ppks9lIJAIFi1QqlclkHh6eUlkhn89T8MtgbOnFwVyWgi+6rt8rz83EVKDrOt0Li8XCvzuT5KMmAsI3JOBMkpVYRT3lUNlht9v5Y02yT17/iQhRqVTKTO9PBMMIxS8Wf+YlbQx/DeBp3rz7x3e6n2SoNV3BGQUi43jF+Db3Bhgmn6qqloP6vckzNGHChAkTJkyYMGHChImHHaZnaMKECRMmTJgwYcKECRMPO8yCEBPTCZ5X7Xa7Fy1ahP/LslxTU4N8OrYhnn0ul6N29mhTwZfQTFLwwJOzZVlGMYzFYvH7/ZC6YYwpilJVVYXWbZIk2Ww22nk+n08mk2gxnE6nBwYGiEyPBqNmrcVUIIpiZWUlrrDD4aitreWbB0ajUVQqJhIJTdOmkQoPMgwoGQZJaPAM8RmVclSeQdwME1MBX4kEASEDFbC4a4UgCB6Ph9j2k/Q2dDgcra2tqPQOhULBYHASxs5DDr6S08DRnSJll9dhQj0/avsVRamtrcVnSZL4kkJeZgaN0ajPAV+9ZmK6gD4ufC3ZA9Zn8tWJiqJUV1e3tLRgVSAQqKurgzyG1+udip4+Yyyfz6fTaTwG8Xg8mUySatQC7nQ/XeArQg2qM9S0EKBtaHvIzNAeNE2j8vtMJsP3CkbN8EQKNOasZtaAalJw7CdpbY+3nu/YVA79lk3P0MR0gvq3yLK8efPm73//+/g/VGcwLOXz+Vgsht6+jDFN086dO7d3717GWC6XGxkZmYriC946uJqSJDU3N69evZoxJopifX398uXLsZkkSS0tLatWrcJioVCgkSyVSp05c+bAgQM4h5s3b164cIE2y2az5tx0KvD7/S+99NLOnTvZuAIt8QwHBgb27t175MgRNt7a3tCt60GOK4piIBBAEX9jY2NDQwPfnZnG1Gw2Ozo6SroLppzJPYEXBIaCZXFbLTY+7GGVoihbtmypqqrCBi6Xy2az4XYY7nh7e/t//Md/YAZz+vTpf/7nfyaCMZ4WcxIDCILg9XopypZOpxHPYuO6djwxe6I92O12hG8YY5IkrVmz5oUXXmCMWa3Wmpqa9vZ2xpjFYqGmdoyxfD4fDoehFJ1KpW7fvj06OkrHnYibauK+AWN169YtLEJMG+3s7w/QgYNBbmpq+vM///M9e/ZglcvlWrZsWX19PRsPrU7OLcSHVCp1/fp1PAY9PT2ffvrp1atXaZuF7RlOpH3NNy00rC0pQMoYE0VRURR4gA6Hw+PxIMTpdDqdTicv7k3kUoOgdDKZ7Ovrg3FGM1gy1JlMJhKJ4F7oup7NZukMedqhaV1nGhaLJRAIPProo1gkh9+AfD4fCoUuXbqExWw2Ww5KTnfxDDHwhEKhdDpttVq9Xq/X69V1PRgMqqpqs9kqKyttNpsp6lC2QIP40dHRXC6nKEpFRYXb7U4kEsPDw4VCAR3nJwrq3wcoQmmxWGRZ9vv9+D9SiNT0XBAECj8jSoqQCbQxpmiz+GOJoojxTxRFl8tF8xtRFIlbb4jI4liYYyFXWQ5iwTxwwmNjYzhJh8Ph9/slScJ/rFarz+cz9P+YfVitVqfTiUmn1Wq12+0UfrbZbDAg7M600rRA4FrYG0KtBtyHiNF0YSL7if/MC/s5xTQvtXjGZJRST5PMOCVJ8vl82K3b7ebl2svEe8/n84lEYmRkJJfLybIcCATIeEL0f3qN5yTA3J2N++p00MLEzdCLweuB2Ww2emfdbjdVcxh0ZShnqGmarut8wUWZ3KPJoWlaNBodGxtjnP3Ef8rEfvJA3IpGRv6C3x/4nCEMNTlvTqfT4/GUFA0uPiv+M3W3z2Qy6C7zIGd410On0+lwOJxKpaxWq8fj8Xq9EDOH/QwEAryaXVnBIIpW7DEWq87gA69AQ98yDKAY1DCu8ZIzbPzdxGJhHDP9Y0sC9nN0dBTtjmA/k8nk8PBwLpdzu901NTWzYz/nCpOkCgmGDkCU751b3MUz1HX95s2b77zzTnd3tyRJq1ev3rNnTzAY3Ldv38DAQENDwxe+8IU1a9ZMsRTBxOwjk8lcuHBh79692WzW5XI98cQTu3fvPn78+FtvvSUIwrJly/7yL/+Sai9NlBXy+fzo6Ojhw4fRTqOhoWH79u319fWHDh06deqU2+3etm3b008/Te63iXKDruu3bt165513urq6JElatWrV7t27I5HI/v37+/v76+rqXnrppbVr106kWmZibqFp2sWLF3/9619rmuZwOJ544omnn376448//t3vfscYa29vf/XVV5F1MVGGQDD+8OHDR48eZYzV19dv3769sbHx0KFDJ0+edLlcW7duffbZZ037WbbQdb2rq2vfvn2dnZ2SJK1cuXL37t2xWGz//v29vb11dXUvvvjiunXr+BJoE+WDbDb7ySef7N27V1VVh8OB6cqpU6d++9vf5vP5pUuXvvbaa3ylj4nywV08Q0EQampqvvKVr7hcrs7OzoMHDx47diwcDi9duvSll1767LPPzp49W1dXRx3MTJQbrFZra2vrG2+8EQgEPv744z/+8Y9Op/PMmTMvv/zyokWL3n///YMHD7766qvTdTi++6qu61QwbbFYKBTKxpNLtMpisSCzxEdMaUsUVyCeTQEYJCFBaUOvGJgYq9VaVVVFNCdRFCVJwj7z+Xw0GkX/esZYOp0eHh5GONnA7igTCILgcrm2bdu2detWTdM++OCDDz/8cNGiRalU6hvf+Iau6x0dHZcuXdq+fftsnhWywZRbcI2DMZbP51OpFC4pYywYDFLTgmmPXPLPA08sLCsIglBdXf3KK684HI7bt2/Dfkaj0cWLFz///PMdHR0XLlyoq6sj8s88hSzLVVVVeCSQBeV7S04U0QcFlG9nP1G91lzBYrEsWrToe9/7XnV19fHjx999912Px3Py5MmXXnqpra3tvffee++99/7qr/5qpk9DEASHwwEXFBLn1JS1UCgkEomJeijze3C5XFTiK0lSQ0MDuIVIJZGN5RPvyE+i/N7AM3zwfqSzA6fTuWXLls2bN2ez2SNHjhw5cqStrS2RSHzta19jjF29evXixYuohC8H5HK5aDQ6NDSERVVVY7EYRkaB6w17T6ABlDHmcDjICNvt9qn0HdF1PZFI0DgejUZ7e3tR7TY0NETUjBmCIAhVVVVf+tKXHA5Hd3c37GcymWxtbX3uuedu3rz5ySef1NfXU6F1uYHsmKGFPXoY4m4qiiLLMu4RtQgi5HI5/AfMXkoMorsJzCYyt1QXgwaGJbtWzHL+UBCElpaWv/u7v6uqqjpx4sSBAwc8Hs+JEydeeOGFJUuWwH5+61vfmrXzKVvwPEPw+ef2fNhdPUNRFKuqqtA3PBKJ2Gy2YDA4MDCwcePGVatWaZp28ODBaDRqeoZlC0mScHcKhUJFRYXVau3u7h4aGvrc5z5ns9muX7/+8ccfT6NnSKlwlEFSKfiqzQAAIABJREFUK2QYQVhwQRDQQAmrUqnU6dOnr1+/jkW+fga8FxAt4PK1trZilSzLS5cu3bZtGzbzer01NTX0Lb7rWiaTQYP1dDp9+vTpffv2YZWmabdv3758+TIWy3Cig5+PaV8wGPR4PP39/b29vR6P57HHHgsGgzdu3Ojq6pplz1CW5ZaWFrra9fX169evX7duHWNsZGRk//79x48fx6p4PH7jxg0qk5jeMUkURZIaqqqqKs+yBcjzIH4Ri8VgP4eHh9evX7969Wpd12E/5/o0HxS1tbWvvPIKPI2mpqZFixZROTcKovg+lvQtVVWHh4fhbITDYX4KWyaAB8UYEwQhEAiIotjd3d3f3//973/f4XAsXrz4yJEjs+AZWq3W9vb27373u1i02Wy41GycCkjMtEn2UFFRQcYTYTXeYPLiNPQt7BxEsnQ63dXVRWE1Nh94SviZCFqFQiG3293d3d3b2+twODZu3BgOh2E/y8czjMfjx48fv3jxIhbr6ury+TwKCmRZrq6uvtf0piiKHo8HL2OhUMAOscoQBTCAXIixsbETJ050dXXh/yMjI++//35HRwcr1RZ12vH/sXfm0W1c1/0fDPadAEEAJEhwF7VStBbKkizZsrxo9xZHthI7sZO6bZLWx83pmp4kf7U97Umaxm2TeHdsy7sly7YWS6JIStwkkSJFiuIKbtj3HZjBzOD3x63mNwElayUASu/zBw9ADDGX8+Z957373r2Xq5+RSEQqlfr9frfbvW3btvr6+nQ6/fXXXwcCgTmaGV42YvCyh3FdWhmzQTb6Wq1Ws8MSSNXGpk8rLCxkZ4bsn2CX8v3Aayh5xzZfKBRyuVzwbE0mk16vl1vPkA3JyfDgZITZz3UXFolEpaWlsONdq9UKhULQz7/+679WKpWjo6PHjx9HM0Oapj0eT19fH/ubfNiof3WnEfg5wuHwxMQESZJGo9Fut0OkrEwmy8gqAdkIwbGUDxNfBDwA0um0x+MZHh6WSqVFRUXJZFKr1dI0LZPJ2BUegCAIv98fDAYdDseNnZGNb56tSuzrjGhsHMevFAnGhr7AwJEbv6RQKCBUBmZQMALIAJYuoaeBM4atzJtKpaC+9o39m9kBnjQEQUDqVIVCAWEVarU6FovhOM712kK21WAwODExkdGst9Yk7u558HfCW4FAAFcVPkokEhRFzd3jh5veLU9WmWbD1U+CIEpLS91ut0wmAwmFtHLswax+Tk9P5/mdyYXP58N/hF1ai7jGJVyubxvLm6VCFlY8fT7f0NCQRCLR6/UgnhiGzRZPkiR9Pl8oFLph8bySGRAvjc3KJQMay00bc1nAd8b+FSxCXoszhd3EAUFN+TBkuS5Y/XQ4HE6nU6FQyOXydDqtVqsTiQSO49w8OrDlIRAITE5OXjWpz1wAfky2F8DjCZ6McB/ewHfe5GYKhmEIgmAlPRaLRaNR9hmaBcD+SCQyOTmZTCaLi4u9Xi+ojUwm4+onRVHhcBjEM2s7gK40Lcz4zewAwowgefZBlvH93OW+KwUTcl9jl6tufwtTgl8vOI6n02m/3z80NATejUQiodVqcRyXy+UZvYwkSb/fHw6Hb61+5j+z98rlnGvKTRqPx3t7e3t6ehoaGgoKCoaHh9nA1ozOEI1G29vb29raRkdH2TxmiJwTDodbW1sHBwefeuopv9/P9eJzxSidTnu93kOHDp09e/aqfmhEdkilUlNTU52dnTwe75577hkYGIBIdFB5bvMRBDEyMnL8+PGBgQHW8YzIOYlE4vz5893d3cuWLdNqtePj41z95B4ZjUY7Ojra2tpGRkbYGiqI3BKJRFpbW/v7+/fs2RMKhdhsgdgs8fT5fAcPHjxz5szk5GSOjEVkkkqlZmZmOjo60un0xo0bBwcHE4kEjJ4zRi8kSY6Ojh47dqy/v59NFYjIOYlEor+/v7u7e/HixTqdbnJykp38cJsvFot1dnaeOnVqZGTkTpta5DPRaBT08+mnnwb9ZBgGZowZM+FAIID0M0+4+syQIIiBgYGTJ09WVlauXbvW5/PJ5XJwbIfDYW6OXQzDVCrVgw8+eO+99545c2Z0dNTr9c6l8YhrIhaLtbW1tbW1bdu2bcWKFe3t7TKZzOFwKJXKUCgEW4UBHo9nNBr37Nnz2GOPffHFF0ePHs2h2QgMwyiKstlsEJz28MMPG41GWA/0er3RaJRhGHYdAMMwiURSX19fV1c3NTX18ssv9/f359ByBEAQxIULF06ePFleXr5u3bpAICCTySKRCEhoxtKNSqV64IEHNm7cCK4Z5FzLOfF4vK2traWlZdu2bStXruzo6JDL5Q6HQ61WB4NBNnIPuxST//TTTz/22GMHDx48cuRIDs1GADRNOxwOSI6wZcuWkpKSycnJeDzu9XojkQhFUdzlVrFYvHTp0tra2pmZmf/5n//h7u9C5AqCIAYHB1tbW00m07p162DMGYlEgsFgOBzmpsJWKpX333//Pffc09PTMz09jTxr+UA8Hm9vb29tbd2yZcvKlSu7urpAP7VabTAYhHKaLEVFRU899dTjjz9+6NChw4cP58pmBHbVmSFN0+Pj459//nkqlWpsbIzH4ziOm0ymixcvQoGjiooK7t53HMclEolEIpHL5TcQLY245aRSqZ6enr179y5cuLCkpMRut6vV6tLS0sOHD1dUVExOTt59993c42FjmEgkYqvSzTU8Hk+lUtXW1s7+CMfxgoICSL3A5/MLCwvZTFZCobCwsBCeCuDFhx0v3LTa2KWsMzDCTiQSNpuN3QlDUVQeZp3hAtswmpubT58+vWbNGolEEolEioqKIGEp/Nfc6wZZCoRCoVKpzEncHYSFsFEf4XA4GAxCaDVN04lE4mZSnMN/x3oZFQqFwWCA3C0Gg4F7u1IUFYvF4B7w+/1zmlf9m2EYxmKxfP7558lkcuXKlbCBzWQyDQ0NJRKJmZkZs9nMZhPBOPqpUCjmkX7CdscrJVG4EgRBsMVL/X4/t1hznuxapCiqt7f3nXfeWbhwYWlpqc1mU6vV5eXlhw8frqystFgsa9eu5R6P4zhM9W+teIK4QdoPiHhk7xkejycSibjuocuC47hCoWB9uLOrU7An4uY/gJIPIJ4EQeRbUZ+rAvrZ0tLS0dHR2NgolUpBP10uV1NTE5/Pp2kaCjkCOddP2DHILUzn9/ttNhuGYTAFYq2Cdr+WFDLXeF7u/sNUKhWJRCDCzefzORwOdgnO7/dn86HJMAzkJo3FYg0NDbDV1mQyjY2NpVIpq9VaWloKUYhYFsVz9pZR9gV3EQzyHcCnAoGAVUgMwyCZEBgJoRCX1UxuWCDcGGx4DryGt9+QZuYbUs5kYWcpRVF9fX3vvvtuTU2NyWSy2+0qlaqiouLIkSPV1dXj4+Pr1q3jHg/6KZVKszb4vLWAzLLTXZlMxl134QLJvUBpo9FoDocoV+IqykKSpMPhsNlssVjsgw8+MBgM991339KlS48ePdrT01NRUbFp0ya2ZyLyEJjA2+12Ho/329/+try8fOfOnevXr9+7d29HR8eKFSs2b96cWwtFItG6detefvll9jesZkEJOMgyAs9Cbn5qNtoNChxBpgSKolwu1/j4OBxDkuT4+PjZs2exS5nfuEkU8mQAeiUoivL7/dPT0zMzM8lksre3t6GhYdmyZUVFRcePH1cqlZs2bVq6dGmuzfz/0RSFhYWPP/74zp074fdut/urr746ffo0hmHhcLi/v/9mdolAAkzWx19eXv69731vw4YN2KX8iuzDNRwOt7e3Q9YEh8ORw7qxEOBktVojkQirn0uWLDl69Oi5c+fKy8sfe+wx7rrTPEUoFGo0GngQqNXqawxtcjgcH374IXhqPB4PO0vEsp5D70pA2hWHw8Hn8//rv/7LbDY/8sgjGzZseO+999rb2xsaGti64XMKTdMjIyO/+93vMAwTCoWNjY1VVVXwEY7jbJ36byYj48hlR6KQcmZqagreJhKJtra2Tz/9FD7KZnTZLYGmafh3QD/Pnz9fX1/f0NBgNBqbmpoUCsWmTZvq6+tzbeb/BwIduUlHDh48CHEBWq323nvvbWhogI8kEonJZGLHnTcZoAuZTthIJ6/X29zcDGlmAoFAV1cXq9tZDogiCMLpdFqt1kAg4PP5DAbDxo0bFy1a1NTUtH//frPZ/Oijj7KJlOYO3iUyXme8xXGcm4pZIBBIpVIQQ4lEAilY4COxWKxQKGBiD4H6bMwh97zg5gYljMfjfr+f9RpEo9FoNAptQZJkKpW6bJzh7HqGV3o9F7D6iWHYyy+/XFZW9sgjj2zcuPHdd9/Npn5mDZFItHbt2h//+MfwViAQXKkmBxQkg4itWCwG3p+84iozQ4lEsmHDhtWrV7Ob8sViMY/Hq6+vp2kaCubOI9/2HYhKpXryySd37NjBOqig/viKFSswDBMKhTmvpQaeWu6uHm4YD5taDfzcGa5cUGHQPhBNyObM+jVJkozFYjCmgeduvkX6fgNCobCmpuanP/1pKpUCzyL4HZcuXfroo49CZ8yrdI5wd7FtFIvFpFIpzN5FItHNF5bgJlGEdERsWo6MbPtsGRKCIHKYdRb0c9WqVRn6uWzZsttMP9n8Ctc+SIXchjAOJggiD4unKxSKJ554Ytu2bRniCQP0rIlnmlM9QigUZjiYr6WY8rXDXbPiamke5ki4KgKBoLq6+qWXXvrJT37C1c8lS5bs2rUrD/UT+1OfCKzfQrtLpVJuZYKMbECzI5Zv7NTseZPJJFutBLjJL78xJBLJ+vXrV6xYwdVPHMfr6+spispD/cyYNHJzpHEz0GSsE15pzRDj3A+zM9BcafqXDz41QKFQPP7441u3bs3Qz+XLl2P5Mfi85cCOA3gN9+dlD+PuDsiT0vYZXL2eoUgkmv3gyTc9RVwJHo8HWywyfo9acF4Au1Bm//L2k9TbEnZ/WsbvUe+bFyDxnO8g/ZzXXEk/b9U2WsScgvRz/oI6GGKuSCQSbNFe2FnB7kfi1p+AT7k7y7lrhuAjhLcQq8Yew64LURTlcDhgBykUh2HPS5JkMBgEL/t8qc6c58BSTyQSgbeRS2AYhuM4N/pFIBBotdqysjIMw8LhsM/n49ZcIggC2iWdTnPd4dwSFODmB4+jTCYrLi5mN1AVFxfLZDL2SMiqD6/j8bjP54N7wOv1zqPyD7c37MI+QJJkPB6HsgFsAS7EZaFpGi6UUCj0eDyjo6Pwex6Pp1AoWF0VCARcNy6reLAowV1dgfVA7FLvA11lGCYQCLBbm5LJpNPphKVCJJ7ZB5oG2l0gENhsNnY5QiqVplIp+IjP50O19NnfgOM4u2sD+9P1fG7gN0mSHo+HjSOF2EJIHxgOh/MwCCoLXKn+xOzX7ANr9krg7O9hyVgMZH/PfQ2RhOlLlQm5a4YZe0RnnxeRfcCRwZZPg+HrZY+E0HEYoiQSiTzcqI9mhog5AXIX/fGPf4S3QqFw2bJlrIAajUY2QA7HcY1GwyZRyBggspKXMWqhKMputw8NDWEYRpLkhQsXmpqasD8N7cVmlVVEo8+bhyCIycnJ6elpeOtwOOrq6iAlhlQqNZvNRqMRPtJoNNu2bXvooYcwDItEIgMDA2y8SiwWGx4ehtZMJpMzMzMwEOHz+VKplPUpikQinU4H46HCwsKNGzeyIVUymcxsNsOgB+rIsaXJLBbLF1980draimWlHDPiGoGCY+zgxuVyXbx40e/3YxjGTT+DyCCdTkMmRgzDeDyexWJpb2+Hj3Ac12q11dXV7GvIyQR/lUgkQqEQdqkKolqtho+48YQURU1PT7N5OLnjVNBSdhMpEs8sQxCE1WoFkeTxeF1dXezcXi6X19XVgdNNLpfX1NRAnrYMlErl0qVL4TBwDbDThlgsdv78eZBxn8934sQJeJhiGJZKpfx+P8gpJCWa8381z5gdTMhO/zIuI/gu2YENN/9WRqHCjKK73DEJZHbEZrnCKYpKJBLQ75LJJDcyAgIL2a7K+9PkN2hymBNwHNfpdGwwMHblaqKpVGpoaOitt97CLg1ls2TiNYNmhog5AUYY3ByhECeNYRifz88IKMrQtcsOQXg8HvcpRdM0OwMkCCKRSHCfZPMuJGZ+wX0mUZeA1xmOTAivh49kMhm7MswwDBvkQ1FURs169mbg8/lsSjeRSCSRSNhvgAgT9mnNHdHCgiRMCDM8sogcMjsehpteL6em5Tus9PF4PJIk2eUdGEpCGBgsEHGz+LC9APoU+xG4S+CvIJEvTCAR+Qa3X2S4TmKxGLQgj8fjFnzn8g0hTNxpP0QzsjcVZO2+M5cKb4BvWE689i+5bGIYrmByf2LITZOv8K6Q9nk2bBZo7nan/OFmc0IgEAgEAoFAIBAIBGK+g2aGCAQCgUAgEAgEAnGng3aTYhiGURQVjUYhZonP56OV+lsCt5Q8lOaD+i04jkcikdkbSuHFlS4+1KxnU8vQNO12u6FUTiqVCoVC3PCYOfhvEJcnlUp5PB4oHiiXyyUSCbubAoIGIQgbithqNBr4SCwWm0wmODKZTIrFYkgtk5EyQSgUarVaCOkuKCjQaDTsblKRSMR21VQqBQWv4COv18tmNEE3QxaAfePQ2UmSzNgZxXbMWCw2NTXFbnuz2+2pVArtJr1euAUkeDxeIpEIBoPYpT3VbM6DdDrNZoqCJIFsIC7DMMFgEP6KrYeBmEdABULYAwxFpy/bg+RyuUAgYG8PbqhbNBodGxuDAKdAIBCJRNibKqMkBgKbVc6efQuFlNiCPexr7FLYIbyFwAfu/lJWGHEcz9g+eo1msF8IJnFjDtmf6PGXBYRCIagujH8ue0xG/gvYvA37t9ltpXkFmhliGIaFw+He3l4YgJaXl9fW1t7CClF3Jul0OhqNsmMRHo83Pj5+9OhReMut7XNd35mhoaCG8BqlmckJfr//s88+O3jwIIZhWq32vvvuYyOwVSpVQ0NDTU0NhmFSqXTp0qVs2iHsUkUmDMMoigqFQpAdMSMDDdQOhrwL8NxlczBwi1j6fL6mpqbz58/DR4FAgDsDQcw1yWRyenoaxqkZSSxpmo7H49DQAwMDv/71r2GcimFYMBh0uVwowcl1AXlluCMJl8vFTVV67dFN3Npot9ZIxFyTSCSGh4fZds/IbsLCLamXAbc+Hjw9UQwbxvnfZ0cPsmlmhEIhe0khrTpbry8jAw2bTgaqp3AbIpVKsan1uMV+aZpmv4HbMTNyC0MEPjsJFAqFrOUQt8ZN8H7tM0/E9YLjeGFhYW1tLYZhEokEsj3NhmEYr9c7NjYGb+Px+Llz586dOwdv87BR0Mzw/2Bjte/ATFxzRIYMocQwtyVQPgReQyEKru+Z+6CdPXyBt5AIAV5DcVhumnW2agX2pzH9Gb4ANgs/hnzeWSfDTXPZT7E/zQyEXVpdzMOHYv6TcXuju/0OhJsGDJFDviEDDXdZL5v2ZO1cCGhiGKJwk9bOhuszpS+RJSuvHxRniEAgEAgEAoFAIBB3OmjNEMMuxSnBmkNBQQFBEOx+Ni4kSRIEwe7kSaVSyOGNuMPh7kqCuoJWqxU+CoVCWq0WvGhCoVCpVMrlcviIW9ACXG7wmhu2gf2pCzZjyxMEl0KIlNPp9Hg8UBkPw7BoNIpWp7MJSZJut5vNod/X18c2NBTUhlYbHR0Nh8NsVBuqbo9AIPKTjPJL3NfwkIK38LRi4wy5JZcyiiJis/a8cB9tbFQ8wzDsN3Cr28PPyy5OfoPls98ibjlsdXuJRPINcYapVIotDBOPx/MwtpALmhli2KU4JejtDQ0NGzZsYFNlcPuVw+Gw2WxQcRjDMDZ+BoG4Y0mn0+wO0kQicfDgwcOHD8NHUqm0srISCt9rtdqNGzeycYZSqbS0tLSoqAjDMD6fr1QqQVuByz7zaJqORCKsnno8nhMnTgwPD2MYFggEzp49Ozk5yR6M9lllE6fT+dFHH7H7pv793//9sgmlGIbJqHiJmgmBQOQJGdLEfQyxQX18Pl8mk3GzrEkkEnZmyI0zhIhE9q8yktOwpwNVZMv5cmMuUqlULBYDkYT4Q+43cGek3ERfGVUQZ2dnuMVX7c4GqtuvWLECwzChUPjNcYZsYCFBEKwDPT9BM0MMuxSnBK8hMUZGej32BbcHsik0EIg7HK7Lk/0ln89n19hJkuSG/82eElxjdAS3M7KxhalUis1yicg+XP1EIBCI25WMlcC5DupDc7n8h52xcyf/s5lfc4erzAzT6XQ8Hvd4PIlEgs/nazQauVweDoeDwSDDMGKxWKvVqlQqbtIkRF7BMEw4HHa5XDRNQ20AsVjscrmi0Si4u/R6PVsJAJFXwA6EQCAQCAQwDJPL5QUFBTRN+3y+ZDIJ+zMLCwtRHt28BfTT6/XG43E+n19QUKBQKJB+zhcYholEIk6nk6ZpkUhUVFQE4hmJREA8DQYDEs+85bL6Cc57Vj+1Wi1b5wORV0AaXq/XG4vFWPGMRCLBYBAGMxqNRq1WI/HMW0A/XS4XRVEikUin00kkEhh84jiO9DOfucrMMJVKjY6OfvrppxMTE0KhcPny5Y2Nje3t7adOnRKLxWazeevWrWvWrGGjShD5BkEQZ8+efffdd0mSVCgU995777Jly1555ZXh4WGTyVRZWfn0008vWLAg12YiLgPDMC6X6+jRo83NzRiGlZWVrVu3LpVKffbZZ8FgsLS0dPXq1Q8//HBJSUmuLUVcnlQqNTY29tlnn42PjwuFwvr6+sbGxq6urpMnT4pEIrPZvGXLlsbGRqVSmWtLEZeBJMnu7u4//vGPJEnK5fKNGzfeddddf/jDHy5evFhaWlpeXv70008vXLgw12YiLg/DMB6P5+jRo01NTRiGmUym9evXp9PpTz75xO/3l5WVrVy5cuvWrUg/8xOKosbGxvbt2zc6OioUCpctW9bY2Njd3d3S0iIQCMxm80MPPbR27VoknnkLSZI9PT3vvPNOMpmUyWQbN25csWLFK6+8Mjg4aDKZQD8XLVqUazMRl+EqM0Mcx00m0w9/+EO1Wj0yMrJ///7h4WGxWPzII4888MADRqPxm/O0zhcYhiFJEnajBQKBixcvqlQq9lN22ddisXAjR+dFlgs+n79w4cJf/vKXRUVFzc3Nn332WWFhodFo3LRp086dO7mx1Ih8g8fjFRQUPPjgg9u2bSMI4vDhw2fPnq2trV25cmVjY+OqVasyahzlGwzDsLW2cRyfmZlh47PFYnEwGLxsNO+VoGk6FouxpSkCgYDVaoXq9pFIhP19XgH6+fzzz6tUqvHx8c8//3x4eFgkEu3cufOBBx4oLi6+PfTzdgXH8bq6ul/84hcGg6GlpeWjjz7S6/V6vX7jxo2PPPJInvc+BI/HU6lUmzdvfvjhh1Op1JEjR06fPr1o0aK77rpr9erVjY2NqAXzGR6PV1JS8v3vf1+lUlkslgMHDly8eFEgEGzfvn3z5s0mkymb4smNYuDWC4EYP/bTjOhEmqa5oYDcL+F+xP4VpKXhRiqyuxO/OWJw9kfcOMNbfTGuFRzHFyxY8POf/5yrn0VFRS+88MKjjz56R/U+Ho8nl8uLi4vhLUmSgUAAlmRomg6Hwx6PJ6cGZnKVmaFAINDpdPBaLpfL5XKYRPn9/unpaSjyeBtsxiAIwul0wmu73d7a2npZxcko4ozNh7xPIpHIZDJhGEbTtEKhkMlkyWSSJEmXyzU5OVlQUKDT6dDYND/BcZxNzeJ2uxUKBUTuRaNRu91utVphL2KuzbwiBEFMTk5OTU3B25aWlislarsBMoJ+87MnCgSCwsLCwsLCdDoN+knTNEmSUBoe9PNK2cwQOUckEsGCUjqdni2earUaUigh8hOufnq9XrlcLhAICIKIxWKgnxqNRqVSocdffpIhnjKZDAafiURienoaPp078cyYa7GJYSC4nX3uQAl7dobDDbfGcZwtWy8UCrlBHwzDsOsKQqFQIBDAwFIkEnG/DbZcwrkIguBWwIMXbA4bmqZZk2iaZhN9cX9mH65+QmbyZDKZSqVcLtfExERBQcGdo59CoXDhwoV1dXXwlqIop9P5+OOPYxgWj8e//vrr//3f/82pgZlcPQMN3NmhUGh0dDSZTJaWllIU1d7efu7cuaqqqm3bti1fvlwqlcLBFEUFAoFgMDg1NcVWNJ4XZPiEcmvMrQX8VT6fb3BwUCKR1NbW9vT0HD9+/OzZs0uWLHnyySfNZjN7MEEQXq83EAjYbLYc2oxg4fF4yWTSZrPZ7fbCwsKSkpK+vr7z58+3trauX7/+/vvvZ303DMNEo1G/3z8xMcGWcMgtGf7U3BqTE0A/w+Hw6OhoPB5fvny5zWZra2vr7e2trKzcunVrQ0MDG2tBUVQwGAwGg5OTk/NLP29XWPEcGBgQi8ULFizo6elpamrq7u5evHjxt7/97fLycvZgEM9gMJjneefuKHg8HkEQNpvNZrNptVpWP0+ePLl27doHHniAHZ4yDBOLxfJKP+9wQDwjkcj4+Hg8Hl+6dKnT6Tx16lRvb29FRcWWLVtWrFhxWfFMJBI3c154ZmXHZTDXy3q59Zly9VMkEtXW1vb19TU3N3d3dy9atGj37t0VFRXswSRJejyecDh8W+onNzlNOp1mK3VxfQH5wzXlJo3H4z09PT09PatWrVq1atW6deueeeYZn8938ODB5uZmg8FQWVkJR0YikZMnT7a2to6Njbnd7rm0HHGtpNPpUCjU1NR08eLFH/zgBzU1NX/zN38jkUgsFstHH320b9++F198kT3S4/EcOHCgq6uLXepB5JZUKjU5OdnW1sbn87ds2WIwGCDa8MyZM2fOnFEoFNu2bYMjCYIYGho6cuTI+fPnL1y4kFuzESzxePzcuXPd3d0rVqxobGwUiUR79uzx+/2HDh1qbW01GAzV1dVwZCQSOXXqVEtLy+joKLuLAZFbwuFwU1PuHAkPAAAgAElEQVTTwMDAn/3Zn1VVVb300ktSqXRycnLv3r2ffPLJT3/6UzgMBkAHDhzo7OycmZnJrc0IllQqNTU11dbWxuPxtm3bZjQa165dS1HU2bNnOzs7lUrljh074EiSJIeHhw8fPnz+/PnBwcHcmo0A4vF4b2/vmTNn6uvr16xZIxaLn3766UAgcOTIkZMnT+r1ejZLQjQabW9vb25uHh0dtdvtuTUbwRKJRJqbm/v7+59//vmampoXX3xRJpNNTU29++67H3/88d/+7d+yR/p8vi+++ALpZz5w9ZlhMpns6+traWmpq6tbt26dRqOBtXWtVlteXu5wOLgVGzUazaOPPvrII490dnb++Mc/Ro63fCAWi7W0tLS3tz/xxBP19fXgrhAIBEajsby8HCrCATwez2Qy/fmf//nzzz+/b9++lpaWHJqNwDCMoqiZmZnW1tZYLLZz586KigpwAVIUZTKZLl68GAwG2YOlUunq1atXrlw5PT3961//+uLFi7kzHPF/EAQBC7w1NTUZ+mk2m202G3dtUKPR7Nq1a+fOnadPn/7JT34CUZSIHBKLxVpbW1taWr71rW8tX76cFU/whw4MDLBHQlgUiOeBAwdOnDiRQ7MRAEVRVqu1paUlFArt2rWrsrIS9JOm6ZKSEpVKBWlLAYlEsnLlyrvuustqtf7mN79BzrWcQxDEwMBAS0tLZWXlPffco9VqQTwxDDObzVarlbs2WFBQsGPHju3bt589e/bFF1+8tYFb3J0v7B5RIJVKsdthuNUIM4IGCYK47NJQOp0mSRL+KYZhhEIhu7hE0zRBEOwTP2P1jy2WkM/boVn9fOyxxxoaGjAMA/3U6/VVVVV9fX3cg4uLi1944YUf/OAHX375JWSNQuSKq8wMaZqG3Ho8Hs9oNAaDQYIgwuEwwzDBYHB4eLioqIhbohq7tGaKMivkCalUCnKT3nXXXUVFRRMTE2Kx2O12i0Qiu90+NTW1ePFi7vEQFgwDoFzZjADS6bTX621qajpz5sz69esFAsH09DQUfKcoamRkhCTJ0tJS7p9A831zXR1E1gD93L9/P03TRqMxFAoRBBGJRCDofHh4WKfTZeTWQ/qZP1AU1d3d/fbbbzc0NBgMhomJCci6LhKJHA7H5OTk0qVLM/4Ex/H83B10B5JOp/1+f3Nzc1dXV4Z+0jQ9MjKSTCYzKlMj/cwfaJqGrF3JZLKxsTEcDpMkGY1GQTyHhoagagX3T26heHI3efJ4PHY2mE6nY7EYt54ht5y9VCrN2DTIbkwNBoPc1DICgYC1lv0r7u8zyPiIz+eLxWI22pD7/2ZkoLnJ63AzUBQFuUmXLl1qMBgmJydBP8ViscPhsFgsS5YsyfgTmFqj3pdzrjIzJAjC4XBABRK73a7X6yFOZmxsjGGYurq6Rx991GAwZMdWxA0Qi8Wmpqa8Xu/AwMDFixcrKipWrFjR1tbmcDikUmljY+MjjzySaxsRlweidq1Wq9VqPXr0aEdHR11dnVKp7O3tDYfDRqPx/vvvX7VqVa7NRFwRkiSdTqfT6QyHw2+//bZer6+vr3c4HKOjowzDLFiw4JFHHmHzlSHyjXg8Pjk56fV6BwcHh4aGKioqVq1aderUKbvdLpVKV61a9dhjj+XaRsQVoSjK7/eDfh47dqyzs3PBggUFBQU9PT3hcNhgMGzatKmxsTHXZiIuD6R6cjqdfr//nXfeKSoqqq+vd7vdIyMjFEUtWLBg165dkF0vt1xp9jU7fWjGa2760KsmjMnPFGvfTDwen5qa8ng8g4ODw8PD5eXlq1evbmtrs9vtYrF41apVTzzxRK5tRFyeq8wMZTLZgw8+uHnzZnjLek24b5FvO58pKCh49tlnn3nmGXgLjcXOBrm7HRD5hlAoXLRo0S9+8YuMHseNj0fNl89IpdLNmzdv2rQJ3iL9nF+oVKpnnnnmu9/9LryFltq1axf7FrVdPgP5AP/5n/85o8c999xzGOp9eY9UKt20adO9994Lb5F4zjtUKtV3vvOdPXv2wFukn/OIa8pAk7G2i5pzfjG7B6IWnEeg5pvvIP2cv6DeN99BLTivQeI5r0G9b55yTTNDBAKBQCAQCATiTuNKGWigaCF7DLc2PcYp1MQ9DN5SFMVGJ7KV7nEch0oGs4EiB+x5SZKMx+PwnSRJUhTFnothmDyJM7wTgLhTyIUrFAqlUunZs2ev+lc0TUNNeAzDkslkHtZxQDNDBAKBQCAQCAQik3Q6zZ3XsUXqbwbu0hk3n82V1khxHBeJROxbmqaTySS3CjfXWjQhzBoURQ0NDQ0NDcHb22ZFFM0MEZcBKQsCgUAgEAhE1shINIqYX9w2I2eUHBZxeW6bWxyBQCAQCAQCgUBclblaM4QyL1KpFPZe59YLkk6nGYbJrRnZsUEkElEUdUu+CsdxsViM43jOaxvCvvnc2sCmlp47M9LpNFzwm/8qqMolkUjY6IWb/84bht3ckkMzoPfNdaEksVh8q3by5I9+5oN4ZscMhmEEglvzQOTxeCKRSCgU5oN25YMNWdBPqEPI3fV3w4B+smqM9DM7+ikSieBEN/k9rHjyeLyca9eVhOuyJn3DblJu4UQMw2iahrEZe5aMk16jGbeQWzv4FIlEeVJYO+f6mQXxxGbp51zNDNVq9d133200Gv1+v9FolMvlc3SiayEcDrtcLrPZLBaLc2VDMBh0Op21tbVz2roEQWg0mpv/Hh6Pp9frH3zwwXQ67fP5FixYcPPfeWNAqG4kEqmqqsqVDRiGpVIpn89HEER5efkcnYKmaYlEcku+XyKR1NXVPfDAA4lEAsfx3FbMSyQSXq9XIpEUFRXlyoZ4PO52u9Vq9S3pHVcilUrp9XqRSHTzX6VUKu+++26dThcIBAwGg0KhuPnvvDFAPMvKyiQSSa5swDAsGAy6XK7q6upbNXmbDUEQNTU1Nz9yAvF8+OGHCwoKAoGAx+Opq6u7JRbeAAzD+Hy+UChUU1OTKxswDKMoyufzJRKJioqKOToFwzAikeiWjDTEYvGCBQsefPDBZDKJYVhJScnNf+cNk0wmPR6PWCzW6/W5siEej3s8HqVSqdVq5+4st0o/lUplY2OjyWQiSdLtdhcVFSmVylti4Q0QDofdbrfJZJJKpbmyAcOwUCjkdDqrqqqulOHm5iEIorCw8JZ8lU6ne+ihhzAMc7vdCxcuvCXfeWMwDOP3+4PBYA71MwviiWEYwzBCoZAdafDuvvtuDMMWLlz40ksv1dfX39qT9ff3f/HFF08++WRtbe2t/ebroru7+8CBAz/60Y8MBkOubOjo6Ni/f/8vf/nL3ArEdUFRVGtr67Fjx/7lX/4lVzbE4/Hm5ubz58//wz/8Q65swDAsGAw2NTU5nc4f/ehHOTTjunA6nUePHhWJRLt3786hGdPT00eOHCktLd26dWuubBgbGzt06NCKFSvWr1+fKxtugIGBgS+//PLRRx/N4dPx3Llzn3/++QsvvJDb8XFXV9e+fft+9rOf5XCQd73QNH3y5MnDhw//27/9W65sSCQSLS0t3d3dP/vZz3JlA4ZhoVCoqanJarX+1V/9VQ7NuC7cbvfRo0d5PB5bkC0nWK3WI0eOGAyGHTt25MoGi8Vy6NChZcuWbdy4MVc23ACDg4Nffvnl9u3blyxZkisbent7Dxw48P3vf99sNufKBgzDTp8+vW/fvr//+78vKCjIoRnXTjqdPnny5Oeff/6rX/0qh2YQBNHS0tLR0fGLX/wiVzZEIpETJ06Mj4+/9NJLWTvpHRFnmA8Rvflgw42RD5bngw0IxJ0J6n2ImwfdRQhEDpmPHTBPbM4HM7Jsw9zmJhUKhSqVau72/1yXGbndrywSiVQqVT7cYdeFWCxWqVQ5NIDH40ml0hzupgNwHM8HM64LPp8vk8nmbvfINSIQCORyeW73IgoEAoVCcUv2eWYToVCoVCpzq5/5IJ4YholEIrVanduIr+uFx+OJxWK1Wp1DG3Acl0gkOV9onY/6ieO4TCbL+SObz+cj/bwxQD9z+wTMH/1UqVTzSz9zLp7YJQ3P7Rg4J+LJLy0txTBMp9OtXbv2lm+2xHFcrVaXlJTkVtf4fL5GozGZTDnUCD6fX1hYWFpaOr86p1AoLCoqyuFGMsjlUFRUZDQac2UDmCGRSPR6fQ6D5a4XGNkYDIY5Da67KjweTy6XG43GHKo8juNKpbK4uHh+jU35fH7O9ZPP5xcUFORWPLFL+mkymXI+xrouBAKBTqczmUy5MiB/9BMi5XIYLHe9gFPSYDDMaXDdVcFxXKFQGAyG3OqnQqGYp/pZXFycwxAeGHyWlJTkdl7N5/O1Wm1pael80U8ejwfiCTOUHAJj4BwmawANz7J4zm2cIcbJkpRl39vs8+bEkjwx48bIoan5cN24Cb7gpLN/k+eg3se+zmhB1HzXdV4knjcA0k/2NdLPmzlpznUAQ/p5c+e9w2+kGwPpJ/s6+/o5h/uUKIqCzGwMwxQWFup0uqx5nROJhN1uD4fDSqXSbDYLhcJoNGq32wmCUCqVJSUlWUhSyjBMOBy22+2pVApm/AUFBdFo1GazURSlUqly7ob/ZiCvl8/nE4lE2fSbMgwTiURsNhtJkuAxoigKMrtiGKbVao1GYxbWXUmS9Pv9Xq83nU7LZLKioiKpVOr3+z0eD47jhYWFRUVF+bz8yzBMNBr1eDyxWEypVBYVFWXN3Qt5XD0eD5/PLy4uLigoIAjC7XaHQiG2I8y1rqXT6UQi4Xa7w+EwrHoVFhYyDON2uyORiEQiMRgMSqUybx+QcM+73W6GYbRarU6ny5rLOZlMgnjK5fLy8nIQT4fDkUwmYd1VLBbP9XUD8XQ4HCRJwpKXRqOJxWI2my2VSqlUqpz74K8KSZIej4fNKnmrsvZdlXQ6Dc8dSBVYVlZG03QgEGD102AwZGHdIJVKgVpeVj+1Wq1er89z/YzFYh6PJxqNKhQKvV6fHf0E8fR6vTwer7i4WKPREATh8XiCwSB0hIKCgixctwz9VKvVcAO7XC7QT71en8/RMXDPezwemqazr58OhyMUCsnlcrPZLBKJcqKfkUjE4XAQBDFP9TOVSrnd7pzoZzQatVqtBEFotVqz2UzTdDAYdDgcGIZpNBqj0Zgr/QwEAm63m8fjFRYWzrV+zuFuUrfb/fnnn+/du7e1tdXtdpvN5qxJidVqff31119//fX+/v61a9fiOH7q1KlXX3312LFjo6OjJSUlhYWFc926BEF0d3e/+uqrJ06cOH36dCQSMZlM7e3tv//975ubmy0WS2VlpUajyU9tZRjGYrG89dZbH3/8cU9PD0mSCxcuzE68UyqVOn/+/Msvv/zhhx8Gg8ENGza43e6DBw++/vrrHR0dHo+nsrJyrsNmINV7U1PT22+/ferUqcHBQQzDhELhl19++fbbb58+fTocDpeXl+fz1ppoNNrV1fXOO+8cOnRodHRULpdnbSdzMBg8fPjw73//+6ampsLCwoqKiqGhoQ8//PCTTz7p6+vDcTwL2yMpirJYLJ9++un+/fvb29tnZmaUSqXD4di7d+/+/fsHBgYkEonRaMxhGZtvxuPxHDhw4P33329paXG73WVlZWq1Omvi+cYbb7z++uvnz59vbGwUCATt7e2vvfba119/PTIyYjQadTpdFsTz3Llzr732WlNTU2dnZyQSKSkp6ejo+MMf/gBZ2srLyzUaTd5OLdLp9OTkJOjn2bNnk8nk4sWLs6OfFEX19/f/9re//eCDD3w+37333uvxeA4ePPjaa691dHS4XK6qqqq5DpthGCYQCIB+njx5cmBgIJ1OSySSr7766q233jp9+nQwGMxz/YzFYqdPn37nnXe++uqr0dFRmUyWnZ14oVDo66+//t3vfnf8+HGNRlNdXT08PPzRRx99/PHHfX19GIZlp/4BRVETExP79u3bt28f6KdCoXA6nR988MG+ffv6+/vFYnE+66fX6/3yyy/37t3b3NzsdDpLS0uz4I4ErFbr22+//dprr50/f37lypUikaijo+ONN944cuTIyMgIBKTM9Y1EkmRvb+/rr79+/Pjxzs7OUChkNBq7urpeeeWVpqamsbExs9ms1WrzWT+np6fffPPNjz/++MyZM4lEYsmSJdnRT5qmL1y48Nvf/vb999/3eDz33Xefz+c7fPjwq6++2t7e7nA4sqOfwWCwubn5zTffPHXqVH9/fzqdlkqlBw8efPPNN7u6uvx+f2Vl5Zzq51zNDCmKGhwc7OzsfOaZZzZu3DgwMCCVSktKSrKzSiYUCsvLy8vKygKBwLp16zwez7FjxzZs2LBnz55wODw2NrZo0aK5ltd0Oi2Xyzdu3Pjd735Xo9EcOXJEJBKdOXNm586de/bssdvtY2NjK1asyM9t38lksqura2Bg4D/+4z+Ki4tbWlqqq6t1Ol0WTg1haVVVVYWFhbFY7O677+7v7+/r69u9e/eDDz5osVg8Hs9cbHuebUZJScnWrVu3bt0ai8W6urpIkvT5fN/+9rfXrVs3Pj4ei8VyW2nnG2AYxul0dnV16fX6F154IZlMWq1Ws9mcnUQUfD6/qKiooqICx3Hw9nV2dgqFwqeeeqqsrMxisUil0iwED4hEoiVLljz++OP19fVDQ0N2u31mZsZkMj311FMajcZiscDCxVybcQPQNH3x4sXOzs6nnnrqvvvuGxwcFIvFxcXF2fHyCoVCs9lcVlYWDAbXrFnj9/uPHz9+991379mzJxqNjo2N1dXVyWSyObUBHKX33HPPd77zncLCwqNHj+I43t3dvW3btj179rhcrrGxsYaGhrzdc0GSZFdX17lz5371q1+VlpaeOHGipqYma/opk8ngdJFIZP369QMDA93d3bt3796yZYvFYnG73cuXL8+CGQaDYcuWLdu2bUskEp2dnalUyuVy7d69+5577rFYLJFIZNGiRXNtxo3BMIzL5ers7NRqtX/xF39BkuT09HR5eXkWElHw+XydTgfiqdPpioqKurq6eDzeU089VVFRMT4+LpFIysrK5toMDMNEItGiRYsee+yxhoaG4eFhq9Vqs9mMRuPTTz+t0+nGx8cLCgpyG7x6JWiaHh4e7uzsfOKJJ+6///7h4WGBQGAymbKsn6FQaPXq1aFQ6Pjx46tWrdqzZ08ikRgfH6+pqZnr+t4wkVi/fv2ePXuKioqOHz/O4/F6e3sffvjhPXv2eDyesbGx+vr6vF02TKVSXV1dZ86c+c///E+z2Xzs2LGamprspHiA6OLq6mq9Xh8KhTZu3HjhwoXOzs7du3dv3759YmLC4XA0NDRkwQzQzx07diSTyba2NoqiHA7H7t277733XovFEgwG57QWy1z5DKA0qkajMRgMRqOxvLzcbrdHo9E5Ol0GCoWiqqqK9bLDvqwlS5aUlpZWVlZaLBaCIObaBqFQaDAYIGWCWCxWKpUul8vlcq1YsaKkpKSqqmpwcJCm6bk24waA/Uher7e8vFyn0xUXF5tMpgsXLmTn7LDXqKqqCqbuNE37fL5YLAbXTa/Xj4yMzLUNMDstLi7W6XSQ3I/P5zscDpqmly9fbjKZVCqVxWKZazNumFQqFQgEGIYpLS3V6/WlpaU8Hs9qtWbn7GKxuKSkxGg0wsAdKt2r1eq6ujqz2QwDxLm2gY37l8vlAoFAJpMlEgmXy2UwGGpra81mczgc9vl8c23GjQHiCQMvo9FoNpsdDkckEsnO2eVyeWVlJZsIFErML1q0qKysrLKycnJyMvviqVAoPB6Py+VqaGgwmUxVVVUXL17MT/HEMCydTodCIbfbzepnaWlpf39/ds4O+llZWQnL8gzDeL3eaDQK+mkwGIaGhubaBpidlpSUwPKIVCoF/UylUsuXLy8pKVGr1ePj43Ntxg2ToZ8mkwnH8ZmZmSycWiQSFRcXs24g2NKpVCoXLlwIgRWwq22ugR34JSUlCoUCkksnk0mn01lUVAT6GY1GvV5vFiy5AUA/VSoVq58ulysUCmXn7KCf7KZfkIKFCxeazebKysqpqalEIjHXNrD6KRAIWP10Op319fUw+BwZGaEoaq7NuGHC4bDL5WL102w2Z00/eTwerNWz40+PxxMOh1euXAkdM2v6WVxcDFtGpVKpUCh0Op0kSTY0NJSUlGi12rGxsTm1Ya5mhhRFEQQhlUoFAoFAIJBIJIlEIlf3YiqVIghCJpOJxWKxWByPxxmGyc6p0+m0x+O5cOECKH4qlYLszxKJJBaLZceGG4AgCJIkwUUKFy0cDufKmFQqRdM0XDeBQJDN60aSpM1mm5qaUqlUWq2WYRgwA8fxLOj7DUPTNEEQ4P3CcRz2/OTKYDAGSmiIxWKGYUiSzM6p0+l0JBIZGxuLRCI6nU4sFotEIqlUKhaLKYpKpVLZMeN6Ab3KE/GkKIokSWg7iUSSTCazNiVLp9Ner/fChQtCobC4uJiiKFY84/E4Nxw/3yBJkiAIcE3CdcvaxD6DdDqdSqUoioL0/UKhMB6PZ+3soJ+Tk5MQqMbqJ5/Pz2f9ZBgG3B8wp4U5dk4MBrVkxTOdTmfBL8MCMVfj4+PhcLiwsFAsFguFQqlUKhKJaJrOW/2EwadEIhEIBEKhUCKREASRw8EnSZLw0BGLxVnWT5/Pd+HCBYFAUFxcDIModgw8L/QTwzCxWCyVSnM7/gT9FIlEQqEwy+NPu91usVhUKlVhYSE7DObz+XMt43M1M+TxeDiO0zSdTqfT6TRN03w+P1cxdTiO8/l8iqIYhmEYRiAQZMcScB63tLQMDg4++eSTarU6w4ws2HBj4DiO4ziIKcMwNE3ncOMWj8fj8Xhw3dLpdNauWyqVmpmZOXnyJEmSW7ZsgcBxMAPDsPzcBgxA74N+Bz+x3BnMGkNRFFiStfCGRCLR39/f09OzYMGCpUuXCoVCuJkZhoE7PDtmXC9gG9gJ5FY8QQqybAmIZ2tr64ULFx577DGNRjNfxBPjPHEwDKNpmqbpHBrMbcF0Op01HUilUlar9eTJk4lEYtu2bVz9zKYZNwBIFoZhOddPHo/H5/NBPBmGgbdZOzvoZ3d3d3V19fLly0UiEauf7CXKQ8A2uM3AYBzHc6ufrJjz+fzsXDfY+dXa2jo4OPjoo49CZo1UKsWakQUbbhi4aOB6AP3M4fiTNSbL40+Komw2W2traywW2759u0QiyeYweK7uUagOGYlEotFoJBIJBAIFBQXZjFcGUYCfUOrX5XIFAgG/319YWJid1o1Go62trW1tbdu2bVu2bJlCoVAqlTabLRQK+f1+g8GQn+lnMAyTyWRyudzlciWTyVAoFA6Hs1nOBVoNmg/DMLlcLhKJrFZrKBSKxWLZ2W5OUZTdbm9ubna73Vu3bq2qqlIoFDiO2+32YDAIef+yYMaNAYWJeTxeIBCIxWKwkSabVQ3ZrgcSplAoksmk2+0OBoMCgSA74Y7JZHJgYKC1tdVoNN5zzz1Go1GhUEC+1mAwKBaL5zpY7oaBzecgntFoNBAIqNXqbJY0nC2eHo8HxFOr1WbnIR2LxU6dOtXW1vbwww8vX75cqVSqVCq73Q7imc+ZLWEvEDxxQD9DoVA2S8KCN5arn2Kx2Gq1hsPhSCSSndhamqadTmdLS4vdbt+2bVtVVZVcLufz+dCCyWQyn/UTistjGOb3+7Ovn+yzD0bwcrkccjsHg0Goy5odM5LJ5ODg4MmTJ4uKilj9hHytoJ9zHSx3w4B+wsgzEokEg0GVSpXNkoZsC0LiJdBPv98fCAQ0Gk2W9XPz5s319fUqlQpysAWDQb/fn+eZ1aVSqUqlAv0Mh8PBYDBX+gnpQiQSCYw/s6yfzc3NMzMz27dvh9hUgUAA04dkMjnXUetzNUGCfDMMw5w7d47P53s8njVr1mQtF1k8HrdYLJCtZGRkRKPRlJeXd3R02Gy2kZGR5cuXZye7V19f3/vvv79gwQK1Wm2xWCD68dixYxUVFWNjY2vXrs1PzzePx1OpVGVlZZ2dna2trZAAPQtJXwCGYUKh0PDw8NTUlNvttlgsarVaq9UePny4sLDQ7/evWbNmrm2A9YqTJ0+2tLRAblun06nT6SYnJ48cOQJBF2vXrp1rM24YoVCo0+mUSuXExIRYLJ6YmID89dk5O0mSTqdzdHTUZrNJJJKKigqDwTA1NXX8+HHI3F1eXj7XNjAMMzU1dfDgQb/fv2jRomAwiGGYyWSanp4mCCIYDBoMhhzWrv1mJBJJSUlJOp3u7e0VCoVut3vlypVZyH4BJBIJEE+32z06OqrT6crLy7u6uiBp1rJly7IwIgTx/OCDDyBcfGJiQiaTVVVVnThxoqKiYnR0dM2aNXmbfgbDMKVSWVZWdurUKdDPZDKZNf0E7QL9dLlc4+PjKpVKp9MdOnRIr9d7vd5s6ueJEyfWrFmD47jD4dDpdDKZ7MiRI0qlMhaLrVu3bq7NuGFAP9Vq9dTUVEdHx8TEhFqtNpvNWTh1KpVyOp1jY2NWq5XP51dXVxsMBovFcuzYMZIkIYYtC2YwDDMzM3Pw4EGPx1NbWxsKhSAlm81ma2pqCoVCRUVFJpMpC5bcABKJBLS9r69PLBa7XC6YGmXn7IlEYmJiwmKxuFyukZERg8FgNpvPnj3rdDotFsuSJUuyMAyGBMUffvih2WxWq9WTk5MSiaSqqqqlpaW8vHx0dHT16tV5m34GwzAYJLS2tra2tjocjng8noWkWQCstbL6OTY2plQqDQbDoUOHjEaj2+1ubGzMjg1tbW3Hjh1bs2YNONS0Wq1cLj98+HBBQUEkEoFC9HPHXOUmhRgnDMOam5snJiYaGxtXr16dtZmh3W7/+OOPOzo6AoGAw+EoLS2tqak5e/bsuXPniouLt2/fnoUUxvF4vK+vr7u7myCInp6e6enpBQsWlJWVtba29vX1VVVV7dq1SyqV5ueyIaRgSSaT+/btSyQSO3bsyFoeuQ+8IpAAACAASURBVFQqdfHixffff39wcDASifj9/rq6Oq1We+LEiampqfr6+gceeGCuZ9QMw3g8np6enuHh4WAw2NfXF4vF6urq+Hx+a2srpBHasGFDfk7sAYgpGhsba29v1+v1mzZtytqDHHZQHzp0aHp62ufzCYXC2traYDDY0dFB0/Q999yzZMmSLJQ9mJiY6OnpcblcExMTw8PDKpWqqqpqZmamq6tLKBTed999NTU1+ek3BfHk8XgtLS3j4+OrVq1qbGzMmng6HI5PP/20vb3d7/fb7XaTyVRTU9PT09PT02M0Grdt26bVarMgnufPn+/u7k4kEufOnZuamqqpqYG5Vm9vb0VFxa5du+RyeX6KJ3ZJPwmC+PTTT+Px+I4dOxYvXpydU1MUNTQ0tHfv3gsXLkCakLq6Op1Od+LECYvFUl9f/9BDD2VBP71e77lz54aGhkKhUF9fXzQaraurE4lEzc3Ndrt9xYoVGzduzHP9FIlEFovl1KlTOp1u06ZNWUinjGFYOBw+derUV199NTU15fP5+Hx+bW1tJBJpb28nSXL9+vXLli3LwlZAkiRBPx0Ox+Tk5PDwMPi17XZ7Z2cnn8+/9957a2tr81Y/JRIJjuMnT54cGxu76667GhsbszYzdDqdn332WVtbm9/vdzgcxcXF1dXVfX19PT09er1+69atOp0uC/oJ24ATiURvb+/09HR1dXVZWVlHR0dvb6/ZbN65c2c+l/MF/UylUp988kkkEtm5c+fSpUuzc2pIbPvee+/19/ez+qnX65uamsbHx5cuXbply5Ys6KfP5+vp6bl48WI4HO7t7Y1EInV1dWKxGHZhNDQ03HfffXNqBg+mngsXLnzppZey5tdEIBAIBAKBQCAQCET+kI8uHwQCgUAgEAgEAoFAZBM0M0QgEAgEAoFAIBCIOx00M0QgEAgEAoFAIBCIOx00M0QgEAgEAoFAIBCIOx00M0QgEAgEAoFAIBCIOx00M0QgEAgEAoFAIBCIO50/KYhB03Su7EAgEAgEAoFAIBAIRK74v5khj8dLp9OJRCK31iAQCAQCgUAgEAgEIvv838wwnU7zeDyFQpFbaxAIBAKBQCAQCAQCkX1QnCECgUAgEAgEAoFA3OmgmSECgUAgEAgEAoFA3OmgmSECgUAgEAgEAoFA3OmgmSECgUAgEAgEAoFA3OkIrn7IHQDDMAzDYBiG4ziOo9nyPCOdTqfTaWhBPp/P4/FybRHiOoC2gyRYOI6j5pt3IP2c1yD9nNcg/cwHoBV4PB7k+U+n07eqLdLpNE3Tszsm/B5DqpvHzN8nY/7ODNmedksuKPfJl/ERTdNer3dycpLH45WVlRkMhuw0IXTsdDoNVs2v++ZagF5xq4YaV7of0uk0QRAOh8PhcMjl8vLy8oKCgps/3bXYk/FIvp1aMH2JW/V4gws1+9sYhgmHw1arNRqN6nS6kpISmUx286e7KtB2oAm3X/NhWdfPqakpDMPKysr0ev3sY+YOtg/efi2YTf10Op02mw30U6PR3PzprgWapuGmwm67PphN/YxEIlarNRwOg37K5fKbP921W8U+AeevT4E7EsMuDeKv93+Jx+N2u10sFut0ukgkEgqFysrKpFLp7COv1JRXIhAITE1NVVVVqVQq9k8YhvH7/ZOTkxRFlZSUlJSUCAT5O5jPFQzDzC7Sfmvv1W94MlIUBU9GHMdNJlNJScktOWN24JeWlmIYptPp1q5dazAYcm3P/yccDo+Pj/N4PIlEcvMPjGQyOTMzEwqFFApFRhMGAoGvvvrqjTfeGBsbKyoqKi0tzU4fi8ViIyMjo6OjDodDJpPJZLJ5KqyXhWEYj8czMTGhUChEItHNf1s4HJ6ZmSFJUqVScT+iaXpycvKjjz766KOPQqFQaWmpXq+/ydNdlXQ6nUwmHQ7HyMjI1NSU2+2maVoikdw26kwQhNVqDQaDMpns5v+pVCrl8XjcbjeO4xkPy3g8fvbs2ffee6+lpQVcM0ql8iZPd1XS6XQsFpuYmBgdHZ2ZmfH7/TweTywWZ3NKM9eEw2GLxYJhmFQqvVX6GQwGZ+tnMBg8dOjQG2+8MTIyUlhYmDX9BAiCsFgsY2NjYrFYLpffNhLKMIzX6x0fH1coFGKx+Oa/LRKJTE9PJ5NJtVqd8dH09PRHH3304YcfBgIB8I3e5OmuBZIkZ2Zmenp6bDYbSI1AIMjmrGZOIQjCZrP5/X65XH5L9NPr9V5JP7u7u997773m5mYej1daWprxfJwj4Alot9vhCRgMBkUikVQqnY8dMBKJXLhwAZ4FDocjkUhIpVKhUHhd/8vU1NR7771ns9lMJtPY2FhPT095efnsOnAEQdjtdrfbrVAorvHG6Orq+tWvfrV48WLuokUkEjlx4sQf/vCHCxcuyOXyyspKoVB47dbeCaTTaa/X293dPT09PTk5OT4+brVa2VGNRCK5JadIJpNWq9Xj8eh0Ou5HMHU/fPjwK6+8MjU1pVara2pqbv6MWSN/B7Kjo6Ovvvrqrl27Nm3aJBaLwaPDXZ9hF9PhI9bTw3W1wjE4jjscjr179/L5/B/84AeFhYWszyCdTttstr6+voceemj37t1qtTqdTlMUxS7lsS4BjLOyB64IHMe53gJ2ZR/echclLuuFstlsb731Vm9vL0mSP/vZzx566KHbaWCaSqW6uro+/vjjf/zHf1y0aBH4ybBLLQjXn70+bAtyLzhcDTiGoqiLFy/u379/wYIFzz77LHuRsUtDQ6fT+fzzz2/btg3HcYqiMM6twn4h987JsIf9Jdd1/Q2LujBua2pqOnHiBDxIFi5cuGPHjvr6+qxe5TnD4/F89tlnJEk+++yzxcXFrAsc4+yLmH0NMy4je+WDweCJEyeGhoY2b968fv167hUOBAJDQ0M6ne65556Dq8c2H9udMzo42/FnH8btaFx/dsZyBMMwLpfrq6++6u3tTaVSCoVi5cqV27dvLy8vz+5lnkPGxsZee+21LVu2bN68WSaTsR1tdi+Ay8vtlexVZfXT6XR+8MEHGIY999xzsCrI6qfdbj9//vz999+/e/dujUaTNf2E75mYmPjNb34zMDDwd3/3d9u3b79tXDMURZ0+fXrv3r3/9E//tGTJkpvUT5qmh4eHP/nkk5qamueee262ftpstu9///s7d+6cI/3knhGIRCKfffbZ7373u8WLF8PQdufOnVlw6mUHn8+3f//+aDT6ve99z2QyZTTT9epnKBRqbm4eHBzctGnThg0buFc4FAoNDQ1ptdpnn322oaEBuzn95C6nfIN+YhhGEMTw8PDhw4cHBgZIkqysrPzWt76lVqvnYwe0WCz/8i//4na7CwsLBQKByWT61re+tXLlSvDIsJeFu0Vo9lVib3WZTLZhw4b169ezOsbtBX6//8CBAzMzMz/60Y9KS0u5nRT70zZif8nqJ0s6nXa5XL29vXfdddcPf/jDwsJCUF2M06BsE7NdL0N1uYdxuye7zjav14ExDGMYZnR09L//+78ZhnG73dPT03V1dRqNpqam5umnnwY3IrczshcH/nFoNXZ7MHdCwRU9h8PxwQcf+P3+f/3Xf+XxeOz9T1GU1WodHR295557XnzxRYFAwN4Gs9uI+2TM0IrZbXQtT8abZx50Y4Ig3G43+PWj0ahYLC4rKysqKorH45OTk+l0OpFIpFIprVZbXl4uFotdLlcgEKitrZVIJKFQaGpqSq/Xezwem83GMMzp06erqqpqa2thISsajQ4PD09NTRUUFAwODlZVVfn9foqiCIIADxxJkna7nSAIsVhcXFxcWlrK4/FcLtfk5GRBQYHP5xMIBMXFxTiO22w2mqaLi4srKipwHE8kEjabze12MwxTWFhYXl6e4RDVarU7d+5csWLFV199NX+731WB9RmbzRaJRPh8fjgcLigoqKioUCqVXq93ZmaGz+fHYjEej2c0GktLSymKcjgcqVRq4cKFNE273W63263T6dxu98zMDI/HO336dElJSWVlJYZhNE37fL6LFy9arVabzQbPSI/HwzAMSZJSqVSv14fDYVjTUyqVJpOpqKgIHLoej0epVIJbV6/XJ5NJl8slFotLS0uNRiPDMKFQyGazBYNBoVBoMBhKSkq4znuJRNLQ0HD33XcXFxf39/d/+umnR44cWbJkye00vccwjKIon8/ncrkIgqAoiqbpoqIik8kE3pZgMEjTdDKZlEqlJpNJq9VGo1G3261Wq4uLi8GpDJrrcDimp6f7+/vlcnlFRQU42AiCmJmZGRsbSyQSFosFdsuEw2GKohiG0Wq1UqnU6/WGQiEcxwsLC00mk0KhCIVCMzMzNE3TNE0QhEajUSgUgUAgEokUFBSYzWalUgmrlOAAlsvlpaWlWq2WVW0cx00m0/PPPy8SiRKJxNdff93c3FxdXV1WVobfLvvZWEiS9Pl8Pp8P9FMkEpnN5qKiokQiMTk5yTAM6KdGowH9dLvdwWCwurpaKpWGQqHp6WmdTufxeOx2O0mSZ86cqa6urq2thb4QjUaHhoYmJyflcvng4GB1dXUgEGD102QypVIph8ORTCZBP+HOYfXT7/fjOF5cXMzn81n9LC8v5/P5XP0EbZ+9JBgKhXp7e2dmZvR6/e3XcCzxeBy2CwoEgnA4rFarKyoqVCqV3++fmpoSCATRaBTDMKPRWFZWRtM0tNSiRYtomvZ4PE6nU6/Xu1wuq9WKYVhXV1dJSUlVVRV2ybE9ODhotVrtdvvFixcLCwtZ/ZRIJEajMRwOu1wumqYVCoXJZNLr9SRJQtOw+gmi6nK5RCJRaWlpcXExVz8FAoHBYDCZTBmLnwqF4uGHH/75z38OvtrbsgXhCcXqJ0VRer3eZDLx+XyHw+H3+xmGydBPeDCVlJSw+skwjNPpnJqa6u/vVyqV5eXlRUVF2KV117GxsUgkMjExUVBQwOPxIpFIKpViGEaj0chkMp/PFwwGcRzXarUmk0mpVIJ+gsay+hkMBuHWKisrU6vVoJ9OpzMej8vlcpPJBLMm+KdgZtLU1BSNRv/yL/9y8eLFNE2LxeL524Imk2nPnj3333//+Pj4m2++2draqtVqk8mkUChMJBJisbi8vDwWi4GUKZXKsrIy8IJ5vd7p6WmCIILBYCKRwDAMBjCBQKCqqkosFgcCAei8fD4fugmsXJ05cyYQCNTV1cEUAsa3RUVFZWVlEokkkUjMzMx4PB6hUOh0OjO2RMbj8dHR0YmJCYPBAKobjUbj8TjcKuxwNB6Pw9DFbDaLRCK/3z8yMqJWq4PBIIZhBoNBKpVarVaSJPV6fVVVlVAohJ1QDoeDoih2nDZPR6d8Pn/9+vXr169PpVJff/31O++887Of/ayurs7pdM7MzLS1tUmlUngk8Xg8p9NpsVg0Gk0wGNRoNCUlJVNTU6HQ/2PvzKPbuK77PwAGM9h3gAAI7iS4k6IoWRJl7dRmSZZtyZFsxbHiOGmTOm7SJmnSJr/4nLY5cZOeHJ+0aZvkxKmduF5lSbYWS7ItkRJFUiJFivsCbiAJgiT2fQbL749bvY4hiaZkiZvm89cAM8A8zMPcefe9e7/XIxKJSJKkabq4uBjHcZfLNTIyAm6IwWDQarUQ0+vz+S5duqTT6fLy8vh8PsS49fb2Dg0NmUym9vZ2rVYbCAR8Ph+4iBCXAUFwQqFQr9enpqZiGGa328fGxsBzAbPJ5/NHR0cTiYTBYIDxSTAYtNlsdrudw+GoVCqTyXQ/wqwWgWfo8Xg++OCDTz/91GAwOJ3ORCJRXV29b98+q9X6q1/9iqZpHMcDgYDBYNi/f7/ZbD537lx9ff2Pf/xjk8nU09Pzn//5n3v27AkEAq2trX6/3+l0rl27NjU1FTzDqamp2trajo4Om80WCAQ2bNjw4YcfejwesVisUCh27tw5Pj5+4cIFt9vN4/FKS0ufffZZpVJ54cKFV155ZdOmTSMjI8FgsKioSK/Xt7a2Op3O4uLiF154QS6Xd3R0vP/++1arlabp1NTURx99dO3atcwZNa1Wu2nTpvr6+i8ebLmQicVio6Ojf/zjH9vb23Nzc0dGRlQq1b59+zZt2tTU1PSb3/xGo9HAEL+4uPjJJ58UCATvvvuuy+X6+c9/Hg6HL126dOLEiaeffrq7u7u5ubm/v9/pdFZXV4NnGI1GBwcHL1y40N7eHg6H/X5/Zmbm0aNHuVwumO81a9Zcv369sbExEonIZLJ169Y99thjPp/vzTffPHv27Jo1aywWC0EQhYWFfD6/ra0Nw7BNmzYdOHAgHA7X1dWdPXvW4XDw+fzi4uJdu3YVFxfDjwIrD4/naDSq1+t1Op3f749Go0vMMwyHw52dnUeOHAkGgyKRyO12FxUVPfHEExqN5siRI5cvX5ZKpZFIRCAQbNiwYcOGDcPDw6dPn66srNy/f7/dbn/nnXfi8XhhYWFHR0djYyM48Pv27QPP0O/3Q+94vd5gMOj1eqenp69du0YQhFwuX758uVKpbGxs7O/vj8fjaWlpe/bsqays7Orq+u1vfxuNRmUymd1u1+v1WVlZU1NTQ0NDWq32ySefXLly5fj4+NmzZ5ubm/1+v0KhePjhh7ds2aLX6+FHQYw6rDhBTGk0GoXJucU7uLkdHo/n5MmTn3zySUpKisvlSiQSmzdv3rdv3/j4+CuvvBIOh8F+6vX6ffv2FRQUfPLJJ/X19T/4wQ8yMzN7e3v/67/+a+fOnaFQ6Pr162632+l0VlVVoVmS6enpixcvtre3j46OBgKBjRs3njx50u12g/3cvn273W6vqakBD7C0tPSZZ57RarW1tbWvvPLK+vXrrVZrMBgsLCzU6/VtbW0Oh6OoqOhb3/qWSqXq7Ow8evTo8PAwTdNGoxHsJzNiiqbprq6ujo6Obdu2Xbt2bZEOXz6XeDwO0SWtra35+fkwiblv377q6uqmpqZf//rXWq0WZmeKiooOHDggEonefffdqampX/7ylxRF1dXVHTt27JlnngH72dfXB/YTPMNoNDo0NFRTU3P9+vVQKOT3+3Nzc48cOcLhcGQyWWpq6tq1a9vb2+vr6yORiEQiWbdu3RNPPBEIBN55552TJ0+uXbu2v78f7CdBENevX08kEhs2bHjqqacoirp8+fKZM2emp6f5fH5hYeHu3btLSkqSftrU1FRTU5NWq9XpdAaD4YvHzS40wuFwT0/Pe++95/f7YQKroKBg3759KSkpR48evXjxokQioSiKJMn169dv3LhxdHT01KlT5eXlBw4cmJycPHLkSCQSKSkp6ejouHr16tjY2Pj4+BNPPAGPHr/f39bW1tjY6HK5wH66XK7m5mY+ny+XyysqKtRq9ZUrV/r6+mKxmMlk2r1798qVK3t6en7729+GQiGVSjUxMZGSkpKVleVwOAYHBzUazf79+1etWmWz2c6dO9fU1OTz+eRy+dq1a7ds2YISpaLR6NjY2MDAQFZWFixHazQacEjm9WLfPbAWFI/HRSKRUqmMx+OdnZ2vvfaaTqfDcdxoNK5fv76tre369euBQECpVG7YsGHr1q2RSOTDDz+sra2FXJJAIJCamhoMBi9fvlxXV/e3f/u3crn87NmzNTU1LpdLJBKtWLFCp9M1NzdbrVav11tZWfnss88ODg6ePn16YmIiHo9nZ2c//vjjZrO5u7v7f/7nf0ZHR+VyeTweDwaDzNY6nc76+vrW1lY+n0/T9MaNG+vr6yEZSigUbt68ORqNnjlzxuFwYBiWl5f3la98JTc3t7W19e///u+rqqocDofH48nOzi4oKGhpaZmYmMjOzn7hhRcgDvbIkSP9/f0URWm12h07dlRXVy+ZuxLW2C9dunT69Glwm5ctW/aVr3xFqVSeP3/+5Zdf3rZtm9vtLiwsLC4ufuutt/x+v0qlCoVCwWDw17/+NYfD+fTTTz/55JNAIEAQRHl5+c6dO4eHhy9fvkxR1G9/+9vVq1dnZGSAZ2i32xsaGq5evWqxWPh8fklJyZUrV7q7u81ms0AgqKqqCoVCJ06cgGaUl5d/6UtfUqvVn3766R//+MfCwkKHwxGJRPLy8tLS0pqbm71eb0VFxTPPPKNSqdra2k6cODE0NIRhWFpa2rZt29atW3fP1+oXgWeIYVgkEqEoauvWrZWVlSdOnLh48eKGDRtgtVAoFP71X/81SZJvvPHGiRMnwGImIZVKi4qK9uzZw+Pxvv71r6tUKrQrOzv7q1/9ajQa3bx58yOPPDI8PAwTPy+88EJhYWEwGASjIJFILly48M477zQ2Nm7atAnDsEQiUVBQ8OKLL546derf/u3fDhw48I//+I+tra2vvfZaZ2dnenr6qVOnwuHwT3/6Uy6X++abb7711ltlZWVzlty/oICeIgji8OHDYrH49ddfP3HixLp162C9wmg0futb3xocHHzzzTc//PDDffv2JX2cy+WmpKRs3LjR7Xbn5+cfPnwY7SJJcuXKlV/72tfOnDnz9NNPL1u27Pz586FQKDc392/+5m9UKpXL5dLr9fv376co6sMPP7x8+XJ+fj7k1gqFwurq6q9+9auvv/76xx9//Jd/+ZcHDx48e/Zsa2vr8uXLQ6FQXV1ddnb2D37wA6vV+sEHH5w+fdpsNidF8ycSCb/fPzAw4Ha7S0pKlowNZQJLQHl5eU899dTIyAgEYW7evBlmprds2VJVVXXx4sWWlha5XH6z/A9Jkmazedu2bRkZGVu3bq2qqkK7NBrNI488EgqFotHoE088IRQK33jjjWg0umPHjkcffZTP509PTxcXF0ul0oGBgffff7+hoQGm1hKJREpKyle+8pXp6enf//73kUjkueeeI0nyyJEj7e3tGo2mtbV1cHBw7969paWldXV1V65c0ev1Wq2W6be73e5z585duHAhEAisXLkSbPrcXNI5JhKJ0DRdXV29YsWK06dPX758+eGHH4a7ks/nf/vb3xaJRG+99dapU6duaT8lEklpaenY2BiGYc8//zwzoSIrK+vw4cOxWGzdunW7du2yWq3hcDiRSHzzm98sKSkJhUI2m23dunUSiaS2tvbtt9++cuXKli1bMAxLJBJms/nFF1/86KOPfvOb3zz++OMvvfRSe3v766+/3tXVlZmZCQ/vH//4x3w+H7KIS0pK0KkTicTExERTU5NGo1m+fDnM6SxVUE89++yzUqn0tdde++CDDzZu3JhIJILBYEpKyre//e3h4eE33njj+PHjBw4cSPo4l8vV6XSbNm1yOp15eXnPPfcc2kUQRGVl5fPPP3/ixIlDhw4tX768trY2FAplZWV973vfU6vVbrdbr9c/8cQT0Wj0ww8/rKurKygoyMjISCQSJElu3rz5ueeee/3118+ePYvs57Vr11asWEHT9KVLl9LT07///e+PjY0dP3785MmT+fn56BbDcVyhUASDwTfeeIMgiIKCgkceeaSkpGTpefhgP7Ozs5955pnR0dEPPvigqalp+/btNE3HYjEIEK2rq2tqapLJZDffgCRJ5uXlbdu2zWQybd68ed26dWiXWq3esWNHMBgMhUL79u2TSCRvvvkmRVHV1dWPP/44QRBTU1NFRUVSqXRoaOjo0aNJ9vPw4cNOp/P3v/99Z2fn1772NZFIdPTo0fb2dp1O19bWZrFYdu3atWzZsvr6+oaGBp1Ol5KSAvYzEonAiuL09HRPT084HM7Ozt61a1d5efkineYOhUI9PT0CgWBiYsLtdq9Zs0YikdA0rVar/+Iv/kIikXz00Ud9fX3PPPNMTk7OJ598cv78+fT0dL/ff/ny5T179lRVVdXU1Lz++uuRSAR9ZzQa7ejo+OijjzZu3Lhr1y6CIPx+P0Q2Wq1W8MQ6Ozs//PBDk8n0zW9+0+v1vv3222fOnCEI4uLFi5FI5B/+4R8IgviP//gPpI4DpKWlPfXUU5FIJDc39+DBg9PT0zU1NTRNP/PMM5WVlRRFTU5OlpeXK5XKpqamP/3pTzU1NTDmiUajJpPpBz/4waVLl37+858LhcIf/ehHw8PDr7766tWrV3Ec/+STT6xW69/93d/J5fL33nvvnXfeWbZsmdFoXBp3JcwIV1ZWQv+eP38eZmf27NmDYVg0Gs3Pzz9w4MDw8PCbb76p0Wj+6Z/+aWRk5JVXXsEwjKbpvr6+c+fObdiwYfv27W1tbceOHaupqdm6deuXv/xlp9P58ssvoxPhOJ6Xl3fw4EGSJPPz8w8dOtTZ2VlTUyMSiQ4fPlxYWBgIBBwOx/LlyyUSCXiqtbW1jz32GKz6lpWV7dix48SJE2+88cauXbt+8pOftLe3nzlz5sqVK+Xl5bW1tcFg8P/9v/8Xj8ePHTt2+vRpmFq9t9dqcXiGJElmZ2dXVFSkpqbm5+fX1NRAgJlSqSwtLc3IyBAKhRUVFUeOHPH7/Ul30Z0CAWlZWVkEQXA4HIlEMjY2FgqFfD6fQCAYGRmBlX2DwbBhwwa9Xg9BaJWVlaAMptVqJycnCYLo7u4uKSkZGBjAcZwkSZvN5nA45HL54p1Xu2vgMhYVFS1btgympU+fPu33+3k8ntFoXL16tdFo5PP5ZrO5tbUVwuURd9qbMMO3YsUKvV6fSCQkEonX6x0cHIQYGw6HMzY2ZjKZCILIy8tbs2YNTdM5OTk2m62kpEStVhsMhr6+PojEsNlsmZmZfX19Pp+Pw+HYbDav16tWq5ltCwQCPT09DQ0NMplsw4YN9+Z6LTBwHNfr9aWlpWazmcvlKhQKt9sdDodFIlFBQUFJSUlaWlpxcXFnZ+f4+PgX1D8QiURms7moqEihUMRiMbFYbLPZIPQXQpEhEgZWFAsLCwcHByE2NSsrCxZvKYqCyJBoNBoIBCwWCywm2+32cDjMjOg2Go0vvvjiV7/61ba2tqGhIZqmo9HoYsyT+VxIkszKylq2bJnJZMrPz6+trfV4PAKBQKlUFhQUZGZmisXiZcuWvffeez6f5MS5lwAAIABJREFUD2Ue3h0KhaKoqCg7OxvZz/HxcVjQEAgEEEOBMexnbm7uzfaTJMnu7u7CwsKhoSE+n08QhM1mm56eVqlUYD9DodC1a9csFss3vvENl8sFqcixWGxJdh/TfgYCgby8vK6uLp/PB0HRYD/Bubp69WqS/cTu0ITyeDyDwbBixQrILhaLxUz7yePxRkdHMzIywH5WVVXFYrHc3Nzh4eHS0lK1Wm00Gnt6esbHx0GYIT09va+vz+/3czic8fFxj8eDfHuJRLJjx46NGzeKxeLm5uZjx4598MEHubm5t5RzXNTgOK7T6cB+8ng8iFiDCFKz2VxaWpqenu7xeDo7O8fGxpjPF+xGktvszwX2s7i4GOwn3H1jY2PT09MQaIrsZ0VFRVFR0fDwcFZWllwuz87OBncRhL4tFgtN08FgEOxnIBCw2+2hUAgkVWKxGLijhYWFhw8fDgQCR44cqa+vX3QCjAi3293f3w9e8erVq6urqwcHB7Va7dq1a41Go81m6+/vFwgEDocjHo/TNB2JRPr7+4PBoEQiqaioMJlM5eXl9fX1zKnhQCAwMjICaYcajYbD4cjlcrvdjg4AL9FisZjNZovFEolEcBwH0YSJiYny8vKMjAyBQLB+/fqRkZGZ2y+VSsvKyoqKikAGTyKRWK3WkZGR6elpoVCIRq16vX79+vVarTY9Pb2goKCsrAx63Gg0Tk5O2u327u5utVo9Ojpqt9t5PF4wGBwZGUlJSVkydpUkSYihDQaDMKSHxTcul5uZmblx40aBQOB2uz0eT3V1NUQxPPzww+fPn6dpenR0dHh4WCKRQHgLj8fr6+vbunXrbM4LURgpKSkgpiASifx+/+jo6ODgIASOQqg/n8/PzMxcuXIlJKCVlJTk5+cbDAZ49tlsNo1GAyvJo6OjsIgVDodHRkYeUM8QVMsg2xLH8UQiAQEYPB4P5qi4XC5BEJCGi9KpE4kETdM0Td+ReSUIQiqVwvgDwuGuXbtG07TH43E6nVlZWfCghdsP8lMFAgHkwEBaKgwxbTbb+Ph4S0sLJLOazeb7d30WPgRBoJ6CSGsYIOI4zufzIcGXIIhYLMbsQRjwwVgHLu/nnghEJsEBoGkaInkGBwej0ajT6YRIejgMtNRguCMUCmFEAum8NE2HQqHe3t6JiQlY5iVJ8qGHHmLmgsOEfXd398cffxyNRg8cOLCU9EuYcLlckiRhoA952DDbDfnWcMVwHOfxeJC7gjL1oZdhmhkJlsx8Lh6PJxaLQTfM6/VevHjx448/np6eDoVCTqczPz8f/jY8Hk8gEPD5fLjxxWIxn89HGeQ0TbtcLghDFYlEiURCo9GoVCrm2dG2VCpVqVRnz54FZdQk5calAY7jIpEIUrnAftI0TRAEXD2wWnB7wuzJDb2hBNx9t7xut4MgCJlMBvYTwuGam5sjkQjYz/T0dGQ/RSIR/HkEAgFsA/DvmpiYGB0dbW1thT7Ny8tjzqlNTEw0NjZyOByr1To4OGi32y0Wy9jYGOR435eLOK9AN2EYxuPxkP2E+xEefEz7CVcM2U9mktLndh/YT3AAYJr83XfftVgssVjM5XJxudwk++n3+6Erkf2ED4bD4b6+PrvdDhE6JElWVlYy7SdM7MJ2cXFxT09Pd3e31+tdep4hl8sVCAQkSUJ/gcYPGCs+nw/mEewnKuNxs/3EZufhM+0n5D6dO3duamoqFAq5XK7c3FzIvkH2E/pRLBYTBBGJRLhcLpzU4/FcuXKlv79fLBYnEgm1Ws10WWE8ptPpysvLs7OzXS5XZmam1+v1eDyL1DM0Go1PPfXU9u3bUcrW0NAQjPGgX5xO5/Xr18E/TCQSELfp9/vhGsIIMynTEhLsod+xz3YfbEM278TExPvvv69QKOC2LSwshBscVtfh4fu5Ix+YPoPDnE7nyZMna2pqIpEIpP2vXr0a/ldwq84wap2ammptbbVYLKC4A1lXS2PBELuhl3bkyJErV65AZKnH44FhG3Qf9D7chvBAxHEcNmKxWCgUslgsr732Gvj/fD5/9erV6JtnPjVzXAqp4BCCAfnYXq8XggXgfoTCXTweD+wq50adUpqmIcf76tWrfX190Dyz2Xw/bObi8AxvRyAQGB4edrlcgUDAarUqFAqVSiWRSCKRiMPhEIvFkPsbj8dhSBQOhyERfJaaSyMjI7DIu2PHjr6+vldffXWWcydyuXzVqlX5+fl79uyB9kSjUZVKxTwpDGEpiorFYhRFQbLWkhzW3I5EIuF2u4eGhjwez8TEhN1uNxgMCoVCIBD4fL7p6elgMAgLttgN+aZwOExRFI/Hm006XyQS6e7uHhwcfO6554qLi2tra8+cOTObhsHC49atW9esWbNu3ToejweKGky3IRKJ9Pb2njp1yuv17t+/Py8vb6muON0OeKrZbDa9Xj82NkbTtE6nAxUZcAPsdvvU1FRKSgoMiUDwAMY6t/ufM28Qp9PZ1NSkUCi+/vWv8/n8Y8eOQeLE5wJSsampqZs3bzabzfAAZgpVw5w3RVEwqp6cnPR4PHAnfvHLsoiAKWGn0wmCBzKZDAScIpGI0+mEiUmPx4PsJ1y02dtPq9V68eLFRx55ZOfOnRaL5Y9//OMs43VlMtmqVatycnJ2794tk8nAfiqVSvS3gSfx+Pj4q6++6nQ6+/v7+Xx+dnb2ktQQuh3xeNztdsOsM9yJBoNBLpcLBAK/3z89PQ0Ld5CkBDZzNvYT9SxFUd3d3X19fc8//3xpaenFixdPnTo1S//EYDBUV1evWbNmw4YNN9tPmNsNhUIwFzA9PQ25qYs0FvHuoCjKbrePj48bDAYQDdJqtch+OhyOycnJqakpGDaA/QyHwzPbTyaQcyiRSL72ta+RJHn8+HG73T6b7hMKhfn5+TqdbsuWLfn5+UjODQ1ASZI0Go1KpdLr9TqdTp/PFwgESJJceskU4DiJxeLi4uKsrKzdu3enp6ejeRlI0LXZbGq1Gt2A6LMCgUCtVsPKIej3gDoljuOw6phIJJRK5YoVK3bv3r169WqhUEhRVCKRcDgcCoVibGwMRraQ9TebpsLG2NhYbW1tRUXF/v37JycnX3311dlb3YqKijVr1jz99NMKhQJGp3K5fMlIJ8RiscHBwcbGxkceeWTXrl2QvJB0DIfDkUqlEokEUoQmJycHBwcxDCMIwmg0btmy5YUXXsjLy+NwOBA5DKIysJbA5/NnHgFCH9E0bbFY2traNmzY8Nhjj3V3d7/11luzaT/IW6xcuVIulx88eFAgEEBGz/0o9rNwB7JoRQK7IdgKlxVm2uB9SO++cOFCPB7v7u6urKwEcSeCID7++GOTydTQ0ACTcyKRSKvVNjU1NTY25uTkmM1m9BBCKx5J2xiGCYVCuOfr6+t7enrGxsZycnJQG+AY2EZtgzYbjcbKysq6ujqRSKRQKAKBAGS1MW9Rr9fb1tbW1NQE8zQKhaK8vHwpLVmgqwEPNnSF0dWDkU1zczNcZJfLBZN2JpPpypUrx44dw3G8vb2dIAhY1pPJZBaLpaGhwWQygQJN0olu3pZIJEKh0GKxuN3upqYmmPbGbky9YzekmXEcR5NncK6srKz+/v5Lly6B/wARFw899BCcEdY0zpw5U1dXt379ep/Pd/nyZYPBkJ2dvTScQ7gRYGGQeUmZXUnT9Pj4eH19/dTU1MDAAIQRwhJcT0/PiRMnICoGNAmVSmUsFmtvb5dKpVlZWSiojHNDEJx5/eFuAh2aycnJtrY2yAOBwAEMw25uD3wctpVKZVFR0aefflpTUwOKxBiGlZeXp6enw0kjkYjFYoGZ0Wg02t7ezuFwcnJy5qCU4pzBvPtgO8lGcTgcuKpQCa2rq2v58uUpKSnBYJAkyU8//bSvr6+xsZGm6ST7mZubazab0SgQvvB29lOpVNrt9vr6+r6+PghERBbgZnuOPm4wGJYvXw7ycTC6EggEW7ZsQUY7MzPzhz/8IaxntrS0vPbaa7t27dq6devSuPsA1GtorQm9j1YqPB7PtWvXdDrdxMSEw+EA+5mWltbQ0HDs2DGCINra2sB+isViuVw+MDBQX19vMplAgSbpRNit7KdYLLZYLF6vt6mpCWKomEYgqZ2wLRAIsrOz+/r66urqaJomSTISiRgMhlWrVsFH4vG4w+Ho7Oz0eDx8Ph9WfauqqpbS4w89VpJukCT72dDQ4HA4BgYGpFJpSUkJzG739fWdPHnSbrfbbLaUlBSCICDkoaOjQy6XZ2VloXTEpOcXMoYYhoEOzfj4eFtbGxSZgEUt5sgq6dEMX6VQKAoLC8+fP19TUzM+Pg7OZElJSWZmJpwUx3GTyVRQUNDf33/q1ClQElq9evUts5QXPklWC2DaKLVaXVpaeurUqQsXLqSnp4NJXL58eU5OjkKh+PTTT6E+gcvlYt4FkG1x9erVTz75ZHp6WiQSSaXSvLw8rVbb3Nzc2NjodrvVavWyZcsaGhoCgYBUKqUoSqVSQTzwqVOnzp07JxQKW1pabpZGS+pEaD+0ViAQgMLC1atXR0ZGBgcH8/PzoWE3j1Qxxn8gJSUFpPLPnTun0+mCwSBBEJAlvtiXDdFTBgbk4+PjdXV1HR0dY2NjYAlRd8PoPTc3t6GhQa1We73ejo4OiJnKycnJyck5fvx4ZWUlrPwbjcaMjAy1Wt3W1lZbWwvJbugZdMs+gm34M0xOTjY0NHR1dVmtVggHTTLFyOxDH5EkmZqamp2d3dDQ8NFHHymVSnDd74fjsHAr3UMcsNls1mg0wWBQKBQWFhZCeK7P5ysrK4vFYp2dnSkpKWNjY8PDw2VlZbt379ZoNFKplM/nNzU12e327Oxso9FYXl6elpYmFosHBgauXr0aCoWKi4vRAgKcKDs7GzTWfT5fampqVlYW3NsEQVy9erW7u1smk5WVlWVkZOTl5QUCgWg0umrVKpid9Xq95eXlarU6HA57vd6MjAyz2QxVjGpqahobG6empkwmE6QZoB9otVr//Oc/t7a24jgOWTSFhYVKpXKx34RAIpHw+XwURS1btgxku9RqdVFREej5RqPR5cuXQwxYWlpaV1eX2+3evHlzdXW1QCCAVdaGhgaoXWE0GpctWwZPnfb29vb2dvgzwIni8TiIghYUFKhUqkAgQNN0VlaW0WjkcrlCoRC+anx8PDU1taSkJCMjIzU11ev1Qm4VtIfH45WUlIhEokAgEI/Hc3Nzc3Jy1Gr19PQ0CJ9GIpGsrKy0tDQ4KZTT6OnpgaIazc3N3d3dPB6POeOwqKEoClTpsrOzISs6PT09NTU1Eon4fD6NRqPX64eGhiAAqb+/XyaTbd++vbS0FJbmRkdHe3p6pFIpVIgxm81KpdLlcrW0tIyNjRkMBjS3SlGU3++XyWRZWVkkSfr9fpFIlJWVpVAoCIKAr7p27RpFUeCQZGdnCwSCcDiclZVlMpkikYjX6wV5Ug6H4/f74embmZkpFAq7u7svXbo0MDAgFovhKQ4nBTX/xsbG2travr4+lUq1c+fOioqKpRTJBmYtLy9Po9GEQiGBQFBQUCAWi8F+lpSUwGyaVqu12WyQJ7Z7926tViuRSPh8/rVr1yYmJuA+KisrS09PF4vFg4ODYD+LiorQtYITZWVlpaamRqNRr9ebmpqamZnJ5/OFQiFJkk1NTZ2dnZAJk5mZmZeXB3UyHnroIYjI8nq9paWlIOnu8/nS0tJAJioej1+8eLGhocFut6empubl5THrjsDfQygUQkJpSUlJenr6klkwTCQSXq83EoksW7YMrpJKpSouLgZvMBqNrlixwm639/f3Z2RkdHd3u1yuTZs2bdu2DWKiaJoGQdHCwkKwnzqdjsPhtLe3t7W1kSSJZJZBQwssrUqlgmVh6E0YSFEUVV9fPzY2Bv8EZD9FIlFFRQXYTwzDSktLxWIxPBlzc3Nzc3PVarXD4bhw4QJ4Jkz7Cb+utbX13LlzbW1tXC5306ZNW7ZsuSflpxcCNE17vV6ZTJaTkwNxoWlpaWCvfD4fJGSC3B2O4xaLRSwWb9++vaysDOwnVBCRSCTZ2dm5ublQh83tdre0tIyOjur1ehS0SdM0GD0wjD6fD6Y1FQoFn89H9jMcDufk5OTn52dnZ4tEolAolJGRkZ6eDu3RarVZWVk8Hg8EVPPy8rKyspj2UyAQ5OTkMPXzhEKhVqsF98Pr9UJwzSIV2AMVCfjPo7l7sJOFhYU6nY4kSY1GI5FIWlpa6urqhoaGpFIpJICpVKru7u7Ozk6ZTFZUVGQ2m+Gqcjic0tJSo9FoMBiGh4fr6+uHhobUanVBQQF4JvX19Q6HY/Xq1Xl5eU6ns66urrm52efzZWRk5OTkQMI8eI8lJSUqlWrFihXMoAkYasJIFSIS1Wo1DD8gBLG1tfX69etQWys1NbW0tDQcDvt8voceekgmk4VCIa/XazabDQYD/FdTUlLAVohEoosXL16+fHlsbEyn0xUUFCyBgFKfzxcKhSorKw0GA47jjY2NPT09KpUKtEuKioo8Hg9N06tWrYK1cZVK5XA4Ll++HAqF5HJ5JBJ5/PHHdTqdVqsdHBysqanp7OzEMMxsNoNoxejo6OXLl2maLikpgREgyIaFw2Hoo0gkEgwGtVptQUEBl8uFOF4YNyqVyrKyMoPBUFxc7PP5sBu2NBgMRqPR7OzslJSUcDgcDof1en1xcTGMhGtra69evepwOGBB4p4POzkQKVtQUPDd7353cdXpvn79+h/+8IdVq1bt3r17KU32PyBEIpHz58+///77hw4dYuqtsSwKxsfHjx496na7oVTMfDeH5Y5pa2t79dVXV6xYsWvXrqW0VvOAQFEUyGUfOnRoqWpfLWFsNtuxY8emp6effPLJ/Pz8+W4OCwvL/wJOHQT6DQ0NvfPOO4FA4F/+5V+WzLTjbFjEsTe3jAFgWUQwQxpYFhfMKKb5bgvL3QDBRbPMGGRZgLD2c/HC2k8WloVJPB63Wq319fUKhWJgYGBycnL79u0Pmpm9S88wFouBWgMEws6LdYMqhUajcSnllswNIFsHWWSzTGe/53C5XI1GA5ESc3/2xQ50XyKRQIqOc9wAkiQzMjICgcD9yH5e8iwQ+1lYWAjRNXN/9kUNsp8YI+V1jgH7WVpaytrPOwUZz3l8/JEkmZ6erlQqWft5FzAff+zc1uJiIRjPmYE1w7a2tsnJSY1Gs3379lmWplhK3E00KWhqjY2NxWIxnU5nMpmWUn7Og0AoFBoZGZmYmCBJ0mQypaamsrZ1ERGLxdxut9VqhVTA1NTUJNlbloUM036CYhZrPxcXyH4SBGEymUwmE3v3LRZisZjH47FarR6PRy6Xm0wm1nguLmiaBvsZjUa1Wq3JZAKVf5ZFAdTfs9lsrPFcyNzNbPHU1NTJkyfb2tpisVhmZubjjz+ek5OTFNUJJRm+YNF5lruAx+PNLFIcj8eHh4f//Oc/g2dYWlr65S9/+eaZS1RykGXOQCFGMx8WCASuXr167tw5r9erVqvXr1+/adMmpmI4VKJ70GowLARmE+A3PT19+vTp1tbWWCyWkZGxd+/eJG0qDMOgEh2z/hvLHMC9UddxBhKJxMjIyJ/+9CfwDIuLi5999tkk+8kaz3lhNvYzGAw2NTWdOXPG6/WqVKp169Zt2bIlqdwCaMZAHV2WuWSW9vOjjz5qaWmhaTojI+PRRx9lCkJirPGcPz538JlIJEZHR//85z+Pj48TBFFUVHT48GF28LlAYNrPO/YMaZq2Wq2jo6OHDh2SSCQffvhhb2+vwWBI0oCBagQej+eetZplFnC5XJPJtHLlyhmOoSiqp6fH6XT+/Oc/7+rqOnLkiMViSVouTiQSNputoaHhPreX5TMIBAJQopvhmHg87nQ6BwYGcnJyduzYcfny5d7e3qKiIlSSAcOwUCjU19fX399//5vM8n9wOBzQN58hwC8ajVqtVqvVevDgQYVCceLEib6+vtTUVJlMxjwMdAhdLtf9bzXL/6HX66uqqmaewwb7OT09/fLLL0Mpqv7+/vLycnRAIpGAQkf3v70s/wdowefk5OTl5d3umHg87nK5BgcHMzMzd+/eXV9f39vbW1xcDNWuEeFwuK+vD2pJs8wZYD9LSkrUavXtjolGo6Ojo1ardf/+/RqN5uTJk2A/ke40hmEej6elpcXpdM5Jq1n+Fy6Xm5qaumLFihkce5qmu7u7JyYmXn755d7e3jfeeKOvr2/ZsmVJh9nt9suXL9/n9rJ8Bg6HIxQKc3NzwX7esWcYCoUcDodcLgd9c5PJZLfbfT4feIYohrijo+N73/tea2vrvf8FLLdHJBIdPHhwBs8Q5MKnp6fT09NVKlVKSorRaOzq6kKeIUyXRiKRCxcufPnLX56rhrNgGIYZDIYXX3zxhz/84QzH0DTtdrtBBl2j0RgMBofDMTo6Cp4h3H02m+13v/vdv//7v89Vw1kwDMOg+tPPfvYzVPfyZpD91Ol0EAk8NTUFAvcYw352dXV9//vfb25unsPms2CPPPLI8ePHZ1Y183q9U1NTaWlpSqUyJSXFZDJ1dnaCZwjGk6bpixcvHjx4cK5azYJhGMbj8bKzs7/97W/P4BmC8YRCZGA8p6amrFYr8gyR/fzDH/7wyiuvzFXbWTAMwwiCWLt27T//8z+vWbPmdseA/ZRKpTqdTq1Wm0ym6elpr9erUCiQ8ezu7v7Rj37EzmvPMUKh8Mknn/zd7343Q9iFz+ebmpqCDNuUlJS0tLSOjg7kGaK1+suXL+/fv3+uGs6CYRjG4/EyMjJeeOGF7373u9hdeIaxWIyiKJIkcRzHcRxKkKG4NYqioLx1Z2dnIBC4x21n+TygOPjMx9A0TVEUePIEQUAPwq5EIhEMBkdGRqBS1n1vLsudE4/HKYqCCR4IfuNwOJFIBMOwWCzmdDrHxsYsFsvExMR8t/SBA8dxKAY4wzHRaBRqf0NxYZIkfT7fzfazo6ODtZ8LE6b9hJJxyH5C/iFrPOcFLpcrEAhmFnRJJBIURSUSCYFAwOFwmMYTw7BYLOZyuVj7OV/weDyJRDJzOHc0GqUoiiAI0KUnCAJcfQzDaJoG49ne3g514VjmEoIgZDLZzAEXNE1HIhFkPOHxh/aGw+Hh4eHJycne3t773lyWzwJDSmQ/79gzBDEoCOOG+VFmXHg4HO7p6bly5UpPTw8UwGVZaEAksc/ng2y0aDTKzLLw+XzNzc2tra3szbkwgVhwDMNomoaEikQiAd4ITdM2m+3SpUsdHR1DQ0Pz3VKWW8C0n9B9TPsZiUR6e3vBfrKh+AsTsJ/gt8MTECbjEokEGM+WlhY2EHFhAsaTw+GACAIYT5SiFo1GJyYm6urq2tvbBwYG5repLLcEEhFjsRiynzDFht2IAW5sbOzu7na73fPdUpZbAN3n9XrR8iAzjcLv91+7dq2lpYWdWZt37tgzJElSLpcHAgGXy0VRlMvl0uv1SFtPLpdv27Zt27Zt9fX1oPp6rxvM8oWAZAyZTGaxWLxer9Pp9Hg8y5cvR3v1ev2hQ4cOHDhw5MiRY8eOzW9rWW4Gx3GpVMrlcqenp91ut9PphPQMDMMEAkFZWVlZWdnIyMi//uu/NjU1zXdjWZIhSVImk4H9hKwnjUaD7KdMJtu6devWrVsbGxs7OjrYhYsFiEgkUigUfX19Ho/H4XC43W6wnxwOJyUl5emnnz5w4MCxY8eOHj063y1lSYbH40mlUh6Ph4xnIpHQaDSwlyTJkpKSkpKS0dHRX/3qV1euXJnf1rLcDNjPUCjkcrk4HI7T6VSpVKBNKpPJtmzZsmXLlqtXr/b29o6Pj893Y1mSAePZ3d3t9XodDofL5WImGWq12qeeeurgwYPHjx8/cuTIPLaT5Y49Q4FAYDQaCYJobm7m8/kej2fNmjUSieR+NI7lfiCRSDIzM+vr6z/++OPp6WkOh1NSUjLfjWKZLTiOq9VqtVrd19dXU1Njt9t1Ol1aWtp8t4tlVoD9JEmypaWFIAiXy7VixYok+RmWhYxEIsnIyLh06dLHH3/scDgwDGPt52IBx3GVSqXRaLq6usB4qtVqpnYXywJHIBAYDAaSJFtbWwUCAbgWrP1cLIjF4szMzNraWjCeiURilqXyWOaYu6kymZqaunbt2omJif7+/rKyspycnM9V+mZZOHC5XLPZvHHjxtra2qmpqZ07d84gBcayAJHJZBUVFVqttqWlRSKRrFq1ip2aWUQYjca1a9dOTU319/eXlJTk5eWx9nMRweFwzGbz5s2ba2tr7Xb7I488ghadWBY+Uqm0vLxcr9dfu3ZNJBKtXr06SVadZYFjMBiqqqocDkdfX19RUZHZbE4qOsKyYAHjWV1dXVtba7PZdu3axRrPhcnd1DMUiURr165du3btPW8Ny9ygVCr37t27d+/e+W4Iy93A5/Pz8vJmkOBjWciIRKI1a9bMoL/HssBRKBSPPvroo48+Ot8NYblj+Hx+bm5ubm7ufDeE5S4Bf3716tXz3RCWu0Emk+3Zs2fPnj3z3RCWmbibNUMWFhYWFhYWFhYWFhaWpcTdrBmysLCwsLCwsLCwsNwRzNIOSWUeOBwOeieRSCQSCbQr6SULy/2D9QxZWFhYWFhYWFhY7hkze4BoA3mDHA6Hy+UyPcN4PA7eIHMb7b3lNgvLF4eNJmVhYWFhYWFhYWFhYXnQeXDXDJmr9lwul8/nw8ukJft4PE7TNHrJzs2wsLCwsLCwsLDcjqQFwxnWDHk8HtpOWjNkDjiZ35BIJDgcDjscZblPPLieIY7jcrmcy+ViGKZUKktKSkD7OBqNBgIBdMs5nc6Ojg5wDuPxOEVR89hmFhYWFhYWFhaWBUWS+zdDmCiHw8Hx/x174zguEAhgIJoEDDhhLBqPxyORCBqXJgWXJrmI8XgcbSftYp1Jltnw4HqGIpEIVWKsqKj4yU9+olKpMAzz+/0jIyPRaBTEh38AAAAgAElEQVQOa2lp+dnPfubxeDAMoyiKpmn21mJhYWFhYWFheZBheoOw+sd8ibxBLpdLkiTaheO4UCgEb5AkSY1GA45iPB6PRqNohAmrFODm0TTt9XqRy8d0GrGbcg5jsRjKTozFYswGMz/CDmVZbgebZ8jCwsLCwsLCwsLCwvKgw3qGLCwsLCwsLCwsLCwsDzoPUDQpxHajBX3yBhiGQUwpOozL5aKwbx6PR5IkHMBm/bKwsLCwsLAsfCC+EQYzSQMbiDOE6ERIWmMmp7HcHUnBpehqw5VnSh6ifoENEKHhcDjM7EFmf8ExzDxGLpd7y2jSeDyelO54yyErO5SdGbh3mK4Bk1gshjLOsBvXH3qcz+cnfQ924xZjRvYmvVxoPECeoUQiycrKQj2tVquXL18uEAgwDMvIyEDv4zguk8lQn+n1+rKyskAggGHY1NSUx+NhRWhYWFhYWFhYFjIkSRqNRqVSCdtarVYul8OucDg8OjrqdDoxDKMoanp62uv1zmdbFwlIUQa9w3TemGsPsKgAe3Ecl0gkSIMUx3GxWAwvSZJUqVQoz5CZPRiNRkmShLEobCPvPRaLIUGapOzEWCyG5DCYh2E36dawzmESTGeex+OZTKYVK1bcvCsej9vt9u7ubvQS+oXH46WkpBQUFKAv5PF4qGddLtfY2Bi8H4vFPB7P+Pg4vIR+ue8/7054gDxDnU63d+9eZBmNRmN1dbVYLMYwjMvlEgQBt7RAIEhNTUWfEgqFhw4dAm/w+vXrbW1trGfIwsLCwsLCspCRSqVr1qxZtmwZhmEqlWrt2rX5+fmwy263nzhxoqWlBcMwl8tVX1/v8/nQB1mHIYlbFqbHPqs6A64g2kUQhFKpBMdAIBBoNBq0mkQQhEwmA8+QIAi5XH5Lz5CiKI/HA55hkjZpNBoNBoPwkqZpppx+NBr1+/3wkqKo2+nWQATc7SpkPJiAIwDbJEmuXbv2l7/8JbzEcRwCDDEMi0QiFy5c+PWvfw0vo9EoOAUCgWDDhg1/9Vd/Be9zOBySJCUSCYZhFEVdv3791KlTsIuiqPb29unpaeyzq/cLh7vxDOHvBWvWsHh6S8ldlgULzCQhc3a7FXOWhUkikYhGozRNg2XHcRxJYLMsfFj7udhh7efihTWeix3Wfi52WPu58Lkbm+h2u69fvx4KhaAkYEFBgUwmu+ctu2uSYqyR1cBvgF4yJ35m+EI0m7I05lQSicTExMSVK1dEIhGXy9XpdGVlZfPdKJY7IBwO9/f3Dw0NkSQpFAozMjLS09Pnu1HzwO1KCSdl1Nx8d6PbORqNzlD66T7h8XhaW1uDwSCfz5fL5fn5+SiQgWVRYLfbGxsbwX5qtdry8vL5bhHLbIlEIhaLZWBgAIxnenp6RkbGfDfqPoJy2JLcJ/CKYVDO5/NR2hvGMI9z3thZ4fF42tra/H7/ArGfSY8eZjIhegwxt7HPFrRI2p65ImJSCiK8ZG6jI+G5Bt888/gWfWrOenxycrKhoUEkEnE4HK1WC2va8wXyETgcDp/Ph/wyDMNAXuSWPgIsFAuFQuzGih8KDE76SFLUMdMHJggCFiETiQTUw7uvP/NOuRvP0Gq1/vd//zefz9fr9enp6WlpaQvHM0wK9SZJUq1WQ7dlZWVlZWUhI6JSqQiCuKXRZBKLxUKhUDgcxjAsHA4vWHM5exKJRHt7+y9/+ct169YJhcLCwkLWM1xceDyes2fP1tTUFBcXQ4zKA+gZMsUVwEwjs0sQhE6nk0ql2I1CUmg+KJFI0DQNT81AIDA4OOhyuWBXPB5Hu+4rVqv19ddf53K5BoMhPT09NTWV9QwXEYlEorOz8xe/+MX69esFAkFBQQHrGS4ivF7vuXPnPvnkk5KSEhgbLGHPEMdxqVSqVqsxDJPL5SgcDsMwkiQzMzNh/DMxMTEwMDAxMQG7YElnoQ1VEWNjY3/6059isZjRaExPTzcYDHNsP5Nq1qPHUFLNeoFAgMJEBQKBTCZDjyE+ny8Wi+FIgiCEQiF0BNQhZD6DRCIRvIzH40xpk1gsxufzUTQpj8dDn4IFVZT5FolE0K5oNMosdcj8UXMpr9jV1fWLX/xi3bp1AoEgPz9/jj1D5nIRh8MRCoUKhQLDMC6Xq1QqkTUgCKKwsBANKng8HkoT5fP5qamp69evh5eQ5wnv5+fno4/AfwO24cuLiorgJUVRXC7X7XZjGBaNRm02W09Pz33+3XfGXcZRpKSk7Nixo7KyUiAQLKhgDC6Xi0qIYhim0WiWL18Ozn1ubu66deuQEYEk4M+dTaFp2ul0hkIhDMO8Xu8S8AwxDONwODk5Od/97ndlMlmSkhLLokAikaxfv/7w4cMSiWRB3YD3laQZWWR8SJLU6/VofkqlUlVVVWVlZWEYRhCESqWCdGLsRu1gyAqwWq1vv/329evX0S6fzzc3WcQ6nW7Lli2rVq1aaPaTZZZkZWV95zvfkcvlrP1cdIjF4rVr1z7//PNL3njy+XyDwWA2mzEMEwgEEokEOQlSqfThhx+GbYvFMjg4iPQwKIpyOBwL1jPEMEyr1a5fv76qqur+2c+kkWHS2t0tZWYgexC1RywWG41GpH6PZGawz1a6Z4rTQBIgkj+EZSVmzXo0/mSqztA0zUwmDIfDOI7Dl0BqItNpRJ+CcNykwvfMtEPmz7/n497MzMzvfOc7CoVi7u0nc+0Ogj5KSkowDMNxPD8/f+fOnWiXWq2GLEGAmUFaUVExS4cWLh2Px8vMzIQxCYZhNE2XlpZmZ2djGBYKhWpra5eCZ8jlcimK6uzshGmbjIwMoVCItFmj0Wg0GmVOVLAsNLhcbiAQqK+vVyqVsOrLlF2KRqPhcDgSicxvI1luB2hbj4+PNzY2arXa9PR0jUYDVh51H1NSmWVBweVyaZru6uricDgw7Q1xNRjDfobDYdZ+Llh4PF4oFGpoaFAoFOnp6enp6WA/4e6jKIo1ngsWsJMTExMNDQ1gPLVaLRrzgRg9az8XMmA/u7u7eTwe2E+Y4meN52KBaT8hFwbsJ0T00DTNqjzOO3fjGcpksvT09PHx8bGxMbVavX37drPZDK4/RVFWq3VsbKy1tRUqPbAsNCC2OzMzs6mpiabpzMzM/fv3q1Qq2BsMBgcGBsbHxxfaHAYLgiRJg8EwNDR06dIlgiAqKyvXr18vkUhisdj09PTIyEh/fz+aAGZZaID9tNvtExMTKpVq27ZtBQUFyH6Ojo6C/fT7/fPdUpZbAPYzKysL7Gd6evqXvvQlsJ+hUAiMJxI0Z1loEARhMBgsFktdXR3M/W/cuBFWBqLRqMPhGB4etlgsSF+eZaEhlUrT09MnJibOnz+vVCqrq6sh6o+iqLGxsdHR0ba2NqbOKstCQ6PR5OTkNDc3UxSVlpZ24MABCHiGwafNZuvq6prvNj7o3I1nmJqa+o1vfAPH8a6urmPHjnV3d6empkKobiQSGR0dvXbtWnd397x4hpxb1amHpFLIDf1c1ZmkVXuYwIA54IUcXzF7OBxOYWHhSy+9xOfzL168ePTo0WXLlj300EMYhiUSiWAw2NfX197e3tfXN98tTSYpoxfVikkSkk4CyvvAdlIQ/yKNDZbJZNu3b9+2bZvL5Tp79mxnZ6fZbM7NzY3FYk6ns6Ojo7OzEyWNLGpAJuGWlZohbhxFk4pEIggaxzAMcg5hF47jTHEF2EaqALcTD7ivGI3G559/Hsfx7u7u48ePd3V1mUwmqDkGg5tr1651dXWxM2sLlvz8/JdeeokkyYsXL7777rvLli1bvXo1hmGhUAiMZ29v73y38XO45aMQbrGk8LwvclNAiFpSfWdkgedFKF8qlVZXV2/evNnj8Zw7d66joyM/Pz8vLw/DMLCfnZ2dnZ2dNpttjhvGMksMBsNzzz3H4/H6+vqOHz/e3d2dlpamUqnAeLa0tHR1dd3zabUkAZLb7b3dCPOLaBze7guTTsrMs0CpdDM841BwLGrDDC28t5jN5p/+9KcCgeDixYtvvfVWRUXFmjVrsBvSeu3t7fdvWQJy/1DCLcgQgIMAgkwoM5CZjng/QJYWMhiZ51oIFUTu2DOEsTUIB6Oi8Mj0y2SyjRs3bty4sb6+vrGxce6HpzweTywWo2dbSkrK8uXLIQFJp9OJxWIU1oz+AUmEQiGbzYZ+0eDgYFtbWzAYxDDMZrMtgSCTeDwOri9FUUKhUC6Xw6/DMIzD4eh0un379u3du/fIkSNvv/32/DaVCShHodE/FBXNycnBbjgJoDiSRDQanZiY6O/vxzAsHo/7/X6kOIL+yXP1C+4NqNlQA0ckEsF0KYZhJEkWFRUVFRWNjIxQFFVfXz/fjf2iCAQCk8kEE4o8Hk8qlSKbzufzFQoF/B9AJBn9N8RicU5OjkajgU9JJBKUVxCLxXAch8vl9XpFIhHSIoOk8Pv9i262n8yhs1QqXb9+/fr16xsbG69evcou/C5AkP2MRCJgPyELHcMwjUbzxBNP7N2799ixY2+++eb8tnMGOBwO6F5gNyZf4Lbi8XgqlcpkMqHD0OzbLb+E+fKWQ5l4PO7z+ZDJjcViXq8XVfGiKApdurmBaTwTiYRYLBYIBCj0lyTJwsLCwsLC0dHRWCxWV1c3l227VzCNWJKTMH+NumegHozH4/BEQPofUql03bp169atu3r1aktLi9VqvVcnTdIsYQ4dcRxHZTMgLZApM5PkyzG/hPmSoig4Eh4Et3TkEokEjuPMtEA0FoWsQjSSgUcefBWPxwsGg+j5AoMoJGmDMW5buKTM7/9i1+y2JNlPhUKBxp9qtfrxxx9/7LHHjh8//sYbb9zDk3IYAqRqtbqwsBDeh4DkyspKDMO4XK5er4dhAxzJTDK8t3C5XEhDxTAsGAzqdDoUtZdIJMLh8LzPC9+xZxiLxSYnJ3t7e0Oh0NTUVCgUMplMSOBh3iEIQqvVouFjUVHRgQMHUlJSZv8NHo+nsbERPbF6e3uPHz8OU1CxWGwJBEDTNG21Wnt6erhc7sjIiFAoBP9qgQMqUqgrBQJBVVXVoUOHMAzj8Xg6nQ7SedHBsBEMBmtqasDK0DQ9PDzc1tYGuyCofdF1aCKR8Pl8EHQRCoVGR0e1Wu0d/cMXEVKptKqqCrRzQWIeGVChUGgymdDLGWA+nqPRqNfrRSEAKpUK6daEw+E5iEGKxWJTU1O9vb3BYHB6ejoYDKampi4c+8nyuUSjUavV2tXVxePxRkZGBALBorCfTDgcjkgkMhgM2I0BENxHBEGUlZXt2LEDHSYQCGb4czLvrFsOJSmKGhoaQiY3Eon09/dfu3YNw7BYLOZyuebeM/T7/RDxGwqFxsbGVCqVXq+fyzbcV5ICK5gRE0zdlMULZEz09vYGAgGHwwH2856P4JNW4ZiqM1BBEe0CPVJUtEAikTDL2fN4PLQ0x1wXglIiKDmZWac+yYFkFrRA34Z9NrQtGo0inVIMw6BUIDh+wWCQoijkGYbD4VAohDxDmqbRpyBFEy1dfu6tfdfEYrHR0VGm/czNzb2H339L0AIdjuPZ2dlPPfUUvA/CMEhldM7gcrkajQb+t4FAYHx8HMnLx2Ixh8Ox+DxDDMOCwWBPT8/U1JRIJFqxYkVxcTGad2dZ+CQSCbfbDY9nhUKxc+fOtLS0+W4Uyx0A2Witra18Pj8jI2PNmjWwqsayKAgEAr29vXa7XSgUVlRUlJSUoNVOlkWB2+1uaWnBMEwul+/atesBrBmzeEEB2ziOp6enV1VVoVUClkVBIBDo6+uz2WxCobC8vLy0tFQkEs13o1hmC4w/W1pa4vE42M8lXDZm8XLHniGO42azGXSQFxRoZgXW9+HNWSoaMydgIKsQChhiGAbTKgu89usdIRAIHnroIUgsXFygqCfsRlFRmKtLitK++VMwcwHx5SiwELp10a0ZcrnclJSUvXv37t27d77bcs9gzoyixEIMw0QiEeqypHLMHA6HGYeZlCV4u9lxmCiFNcNIJMKsdM+Mpbl/LBD7ybw+oOKNrv8so86YKbsooAu7YUvvdXsXEARBrFy5cuXKlfPdkFnBzD5CT0Oo+ALzERCKD9sEQdycaTPD/4G5gnHLOw5OyqzvjM4LhYKZu5hpKfcJLper0+n27NmzZ8+e+3qieYTZ0TOvGSKLN2eRhF8cHMfz8vIgL3ShcUdLssyLjEaYnLutKHhzCiJa4bxdRmJSnuGcQRDEihUrVqxYMcfnRb+Ux+MhBwEWb+/i226XLw2xsuiMSVY36WozV4ORJYxGo3fXpHvLUijmw1xnl0gkmZmZKADGaDTOxjkMhUITExMwuBkeHm5qakKhzxMTE0jDetHlpC0BkCHj8/larRbVkCFJMjc3F6Z7uVxuUjwJulF5PJ5erwd9CIqimNPDUGDUYrHMzQ9huR1Q0AnGiwKBIC0tDS2BKhSKiooKiNaDxEI0PczlcoPBIPh4OI5DviXsSgrdYT5rQ6GQxWKx2+0Yho2Pj9tsNpQEBXrZc/B75x3INkFPKaVSWVJSAjaTz+fL5fLZPJkoivJ4PGASfT7f8PAwTLJEIhGHw7G0ncPFAhr3cLlclUqF5uZ5PJ5Wq4Xwe8h4gWhSHMdTU1PR3cdMQbwlnytfEYvFDAYDem7SNK1QKKCkMJjfwcFB2BWNRqemplhF0C8IjuNKpRKl3BsMBq1Wizo3yQ8PBAJgP91udyAQYM6Gs/dvEknOFTMuFM2e3Oxloekz2GD63uglTKXBYUnfwPTrkgJckw5j9iyGYUKhEN10YrEY9SZMCcFLWAthNonL5aImMXfdtb+6cECXCMdxhUKBMo84HM5dhAxAKqDH48FuJHzCvROPx71e7+TkJDopsrqQDIWqqUNXgm9CEIRGo8nPz4ddkHQ6PDz8BX/yF2QpeIbMOW+NRvPQQw+h7CO9Xj+bSFev19vU1AQ5Dz09Pe+88w7KOAKtiMV+Yyxe0P0DruATTzwB7+M4npaWxszwuWUf8fl8EGXBMCwSiXR0dEDWL4ZhwWCwoaGB9QznHSjHrNVqMQzTarXbt28vLy+HXQKBIDU1FW5nMMHogRcKhUZGRpxOJxym1+uR2eXxeAKBgOkZov+G2+2+dOkSVLd3u90dHR0PoMoLXB/k/uXk5HzjG9+A+0Imk+Xm5s7GZno8nr6+PhhZjoyMHD9+HGymw+Hwer3syHIhgMZDBEGYzWa0UIbjuMlkqqiowG7kGTLD0Wf/sJtNMpJer4dC0tgNDTC3241hWCQS6evrg6QGDMOCweDVq1dZz/ALQpJkWloaSg8xGo05OTm3jHamaXp6ehrmxUZHRx0OB3PMswSU9u6CW66tYTetwiWJXcPCLHYjdol5U8RiMc4NaZkkuTskeMYcYSb5fkwBoaQlPmaTmGKbGIYRBIE8UpIkmX5+IBAIBALwMhqNMl0+LpcbCoWYa8joCxf76BfGkDCnTBBEampqVVXVF/nCRCLh9Xph6AhpoqCqFY1GBwYGkPIfQRClpaW7du3CbmhhoCEKdmM9H8MwLpebmZm5ZcsWeD8YDHK53CtXrnyRFn5xloJcFQsLCwsLCwsLCwsLC8sXgfUMWVhYWFhYWFhYWFhYHnSWSDQpSZKw5k6SJJ/Pv1MFmng8Hg6HIVY4EokkJQffhyazzBam3DAA7zN1SrCbuul2edVJmb58Ph994WKsbbi4YEbaQIAHRFMIhUKRSATBHkKhEJRm4DCmTjd2q1RviHpKKgPFPBIkZ5iy3RRFQT4hEul+QGCm4AsEAvTPh20U2TL7b4MSvRiG4TguFArhIodCIbFYjHoQasMwM2ru6W9i+Qycz0reo6KFfD6fKb4FGgwoSm0uVSg4jPJ6TCmIJH2phVDreTECdhV1NOrlW4LUMm5OOZuDpi5qmA8y5vsz/G+TrjAzBZF5zM0fueUX3qz5dDuZmZkVaFhmIElZjam4FgqFQIskkUgEg0HIRItGoxRFoY9wuVyKouAwHo8HYw/YBb2AnpJMoRr+DdC55uWhuRQ8Q4lEUlZWBo/AjIwMs9mMwnllMtlsnEOPx9Pc3AwZpXa7PRKJoM5gvYV5hMvlikQiSBEWCoVGoxFlUHC5XKVSiY6MxWJIPgQNWNGRKBxfqVSiTN9AIGC32yG9ipkAw3I/AJkZlMAmFAozMjJ0Oh12I5kQMp0kEklOTg7KeoIRLWxDniHqZagHaLPZMAyTyWQ6nY55p6Oc/kAgYLFYIA0Aw7DJycmuri7QvUDG/UEA5etiGKZSqSorK5FMRUZGhtFohLuMJMlZCqPx+XyVSgVPQR6P9/DDDyM1i7S0NFQ9HPIxoNfC4fDk5CTrHN4nQORAoVDASy6Xq1arMzMzMQzj8/lmsxnVdwbjCZpDHA5nBo2Ze95CPp8P5yUIQqfTZWVlwS6/32+1WuHBnUgkIpHIHJc6XBoQBGE0GgsKCuClWq1Gt3kSsVjM7/c7HA4Mw9xudygUQqaVnSTFPjtjArMYaBTB9LeZ1hJmvtCnYOYRTVAyUzc5HA7TDMbjcfgUqgIP74PFRjMp2GelhpnfhuM4Uw6KJEnkdgoEAqZLIxKJ4NRwizFlZr7YBVtqQDLh6OgodsP9A1EDDMPi8bjdbu/t7cVuqNF4vV54f3p6emJiAg6D+VakrM4suM3j8eRyOVSU5XK5UqkUJQOHQqHMzEw4OB6PezweJGkzlywFz1Cr1e7atQsULFJSUh5++OE7rXxqt9vff/996FEYgLLTZgsBLperUCjgOScUCouKikpLS28+DNYlIIEeBh/MAnGQI47d0F1ITU2F9/1+P2jSYBhG0/To6CjrGd4/+Hy+TqdDOmA6nW7Xrl0gXU0QhFarhUEhh1HbF0Db8XicWU7G4/EMDQ0NDAxgGAZCi2iAG4vFwuEwDHTGx8dPnjwJkjMYhnm93o6OjnkxtfMLiJHAeCItLe3AgQMmkwl2yWSy/Px85i0zG+snEAjQwyw7OxupkAcCgdHRUTTKHBwcfO+99+DenJqacrlcrGd4n+BwODKZDAn64zheUFBQXV2NYRiPxzOZTGVlZfPaQIzD4aCqFfF4XCAQIK04r9c7NTUFRedjsZjL5WI9w7sAnpKbNm1CL1NSUm55JCjQWK1WDMMmJibAOZy7hi54kjxD5A3CWD+psgtswzgEuWGg7wK2FB5JzEgKpvQLUoqORqNMbw3H8Xg8Dt8Pvh/zXMgbBAUaZkgI+n4cxymKQk3CcRwp0ASDQb/fzyyxgD7FrthjGBaLxSYmJmpra2HbZrO1t7ejXXa7vaurC728pao5h8Pp6+u7ePEihmEkSS5fvhyNXkASDDxDUIpGljAUCkUiERjYUBRlsVjmZbjC5hmysLCwsLCwsLCwsLA86CyFNUNmxsvs82SYJWUWS5nXBxCkyEwQxO0CgxOJBEVRfr8fuyk4CpJtbvlB+NvAwcyYb5Z7BYdRV5AkSaFQiAqNikQilE+IxLuxW1VSQnO3ECDKnMclCALCU5NiIGHuFqUNM0P/H9hwAFhLh6sEdwQzmRMdlhTOhN3I4bwZmOpGX85MZWGWR8dxHFXQEgqFBEGgL4TgqwezO+4HnM9WTMZxHOVRM1P4Fg6c29SFY97mLLOBWcCA2dc3F9dm5mnTNA1R38xlJZbZkFTrDy5y0sMLRphwYWGDGfDJrJOOugkOY/YRMxD05kzFWTY16VPMhcEHxPwmhfUys0iYDy/mBYH1WxhFxGIx5igiFosxn2KzOS887FCSBUQmMtvA3EZph2jFeO5ZCp4hn89XKpUQqKZQKGY5xKcoClVkhg3Uhfe1tSyzB0qFQgQpZFAw96KeoihqcHAQ1v25XC5kncEuqN2M8i6YdyCO41qtFr48FApRFNXZ2Xn/f9MDBEEQer0ewiSkUmlpaSlkPcHL3NxclCkajUYhyzcSiUxOTsI2dsP9Aw8ECsKiQPFEIpGXlwffIJFIlEolsqEQjAHl7CcnJy0Wy8jICOxCQlMPGkKhMCsrC2R+cnJyjEYjCjMTCAQo7yUUCk1MTKDYmEgk4nQ6b1ncDAIXYWIFJG3g5sJxXCaToQdnLBarqqqCJ6LVanW73eipHAwGx8fH4UjmUInl7uBwOHK5HNk6Ho+Xk5MDMcMQlj+vrUuGmXOIYVgsFhOLxfD/jEajgUBgXlu3mOByuTDngmGYTCaTyWRIZ4E5K8p0VDAMCwaDIyMj8Mhzu92QKMXyuSTNZ4G/h4aOkUgEPYZAvABlsjBH+eCfwKfADUCeIXPuEh588KkkiSZQ4+PcKLGYJD2FzCm4NMgaRyIRJKJBURRzRgCM/JIcA0OXQbA0TdNWq/XTTz9FewmCQFaIoihkeWKx2NDQUENDA3Yj5xCVPoaXn6tFAr0AF5bD4UxNTbW1tcEugUAgk8nQkcyVCR6PJ5FIINA0HA6jrMU5Zil4hgKBwGQywSNQ9P/Z++7fOM70/nfbbC/c5S657E2skiiJ1kmyZEk++2T5bOeAOLmWQ5AAl+QPyH+RHwIEBwQ4JAgOOeBScLB9dnJxkW1Rkm2JaqzL3vuybC+z9fvDB3y+r2bJZRHLUprPD8QMZ3fm3Zl5n/epn8dg2CEfaTQanZiYIJWFEsRfHj9K4UOlUlVWVt64cYNtZGPzR+lJxePxx48f/8M//ANjTK1Wu91uopkxGAxXrlyhXcZFlQVBqKure+uttxhjwWAwGo1++eWXh/KzXhYYDIbW1tbW1lbGmMPheOONN86cOYNDfD2hKIrLy8uwBn0+34MHD8bGxvAxtVpttVqhLxYXF1+/fp28AxaLBVVJuYhEIg8fPkRtoc/ne/jwIVmGLy2sVusrr7wCap/q6urm5maq+cTqhQXM5/M9ffqUel77/X6Px7OpLV1XV/fjH/8Y9gYYoSF4BUHgS5vcbndLSwvm6cjISDQaJR0U1U04OSIYsuDdGyheVFpa+tprr+GfEJ6bFmYXAsCXQ5RUarXabrfDi0QJIDJ2AjK5nIsAACAASURBVAhJKJolJSUul4sco3DZYBuZFOTl8fv9vb29UJHhJT+KsRcuJJy9fNApmUzyqSs82yfPQCOKYiaTgcavUqnC4TAdgqGS3ehuT0uhpMxeo9GIoogzoJKQZ7AkQxED4C1DImBLJpPRaJRsmGg0SrvY5i3DrVLnXgCxnEwm4e5UKpW9vb2//vWv8X/UZoN7Avbe/Pw8DmUymYWFBWIo2BsymQz4SJPJ5MTEBDHhwZctSbTBtlardTgcjY2NjLFoNAqOvcPHNkYUflgqlUJnCJVKRU4ISSWujMIESp8zmYxGo8EikUql0JlDrVbzhcsyChBYzqE0C4IgCAJWJixOFE+TUZiQ5edxB8lPdOZgsvw8PkDKViKR4IUn/iMLz2MBWX4edyCFMp1Oy/LzeGEbyzASiXg8ntnZWZPJdP78eZvN5vV6h4aGAoEASCOdTqc8OQsZPp/v8ePHa2tr5eXl165dSyaTMzMzAwMD2Wy2pKTk9OnTCMjIKEwkEomZmZnBwcF0Ot3c3NzU1BQKhSYmJmZmZrRabXV1dX19PVUWySg0RKPRwcHB6elpk8n0yiuvFBUVraysDA0N+f1+JP65XC5ZfhYy/H7/o0eP1tbWysrKrl+/jmSk/v7+TCbjcrnOnDkjy8+CBRa7wcHBZDLZ1NTU0tISDochPAVBqKqqqq+vP7SOHTL2gGg0OjQ0ND09bTAYOjo6HA7H6uoq5CcYlSXNimQUGgKBwOPHj1dWVtxu9/Xr19Pp9OzsbF9fnyw/CxzbTKpoNOrxeO7du6dQKMrLy1Uq1ZMnTx48eJBIJARBiEajly9fpqT2QwPPS8GeDejnh4RZIRqNIpcpFou9kFUu2Ww2EAg8ePCgv7/f7XZfvXp1dXX19u3b/f39RqMRbtRz584d9TCfgeTJopUQ26yYngcl1oNCgzqKqtXq/Cz51CyoMH1XaKfR2dnp9XrfeOON2traiYmJr7/+emFhQa/Xz87O6nQ66glWaEApEREISUhiqCIfYRnkj0UiEXDG0McoDwTpLpteCMEBvpoCRRSMMZ5G/PABy/DOnTuMsdLSUo1GA/kpiiLJz0IoAKNcKaQ5EX89mn9sSsktiiJV0aRSKb1eT923JM216CtKpVKn09HZ9Hq9Xq8nunbKgMod2z7+0t0iGAx2dXX19vaWlJRcv359fX399u3bvb29JpMJPu+Ojo5DHpJksQPHD2NMEAQQO+H/krau+w6eXAGBOMkgWU7j9TzAJ/FD+CYBkmvtCslkcn5+vrOzc3l5+dq1aw0NDZOTk19//fX8/Lxer5+entbpdHyTseMLWiWRYchnqfGvSjqd5rm4eH6UwswYhGV4584dGBJarfbp06f379+PxWJarTYcDl+5coVva3wk2CrxUsI6wyeaQtZRNummfyVn2NUD4ucm/90dss7s48sQCAS6urp6enqcTue1a9cgP3t6eoxGIyQDtTs6NECpwLZSqSQepmw2m0gkDrSr51YTswCxjWVos9nefPNNp9N5//59xtjq6qrH4zl79uzZs2efPHkyMDDQ1NR0+JYhajRp2bNYLDqdDgoodYbJRfbZRoVer7ezsxNFL/Pz8whws6NWRPYXCoWitLT0Jz/5SU1NzePHj7PZLAKGP//5z8vLyz/66KMvv/yyoCxDJPlQazWDwWCz2aA6o85e8nl6ZMinZ4ypVKqVlRV6B0wmU1tbGz1TCQeURqOByyqZTBZmZpFOpzt16pROp8MEjEajY2NjSqXyr//6r6PR6Lffftvf31+wlqEgCOXl5W1tbYwxs9nMk8SgOSHUlPX19YcPHw4NDTHGotHo5OQkNfARBIGaNYMrjD8/PdZYLDY3N+fz+bC7tLQ0ODg4OjqKEx4hm4XVav3+979fXFz83XffsQ35efr06XPnzvX09Hg8nsbGxiO3DDOZDBImGWMrKyuPHz+mcggJIQ2PUChkMBgwfcBGQxwYdXV1ZAzwlTM2m+38+fNUtQiKIOz6fL7+/n7eI8BTgh1hC8SSkpKf/vSnNTU1oCKYnZ3t7e39+c9/XlVV9eGHH966devwLUPKy2IbjQohw9VqdWNjY3V1NQ4dKOsMRC40qlQqNTs7i/lLl8ZMFwShpqbm5MmT254QRZK4mZjmaLUnudauoNPpTp48yQvP8fHxTCbzV3/1V6Io3rt3r7e39wWwDFUqFRZKxpjVajWZTFRbyLMEJ5NJn8/HV/mura1hl8qMCw1Wq/X11193OBx4gmtra4ODg21tbR0dHX19fcPDw0RCdtAgI0HCFZmHZFKpVJI1CCo13uTblCVb4lZDB1oouplMxmq10iGJ04dn8EJ7PchM+PVohNjGIQjY3RqNu0VJScmPf/zj6upqPMHZ2dmenp6f/exn1dXVH3744eeff37IlmE2m41Go+hfzzY6rFKRbTwep6bWKDvcr+vyni/GmE6ny8O0XwhFnttYhlqt1uVyWSwWzIdIJLK+vl5WVlZWVra4uNjV1SXRusjHf6BROLTGJuUDjIXQUfJYhlBG6UZPT0//9re/RX3nC8yMZzQaKyoquru7sRsIBHw+X1tbm0qlcrvdn376qeTzyOzn4waHCUxUKqDX6/UulwtEIzDkJJ+nonBRFGka+3y+6elpbFut1lOnTvFinXfbaLVa+DWy2Wyu2VkIUKvVRUVFTqcTvz2RSPh8PrAOLi8vq9VqnroKOnQikYhGoxIX/pFAr9e3tLSg7bJKpTKbzbSeZTKZSCQC6TE1NfXRRx/hVZTQJOh0urKyMqz94XA4GAxKglH4GwqFnj59OjIygkNer/fevXvDw8OH+WM3BeQn/fBIJOLz+S5dulReXu71eru6uiRMGyQ/eW6Ag0Y6nY5EIrjnMzMzn3zyCU2fPNBoNA8fPsTvAvEJGN6qq6vtdjuMecaYWq02GAx4am63+0c/+hGdYXl5ubKyEpbhyMjI/Pw8zwtHspr3rx8+DAZDeXk5VvRsNuv3+9fX10+ePKnRaMrLyx8/fsx/GMJTFMWDE56QWtQWWRCES5cu/f3f/z0OmUwmEp4HCtAwwhcDF9Vvf/tbGiHFCc1m882bN3diGQqCcOLECbw2kOTEFJ1Op0Oh0B4sQ5VKZbPZSHjCNFKpVA0NDV6vV6PRSNgdSH5GIpFCkJ87BH4myAxLSkpsNhvNPh6JRGJhYYEINubn5xcWFlZWVg51rLuEVqt1Op0S/bOjo6OiomJtbe3hw4e8/Nxf4Zkb/eP/wy9DKGRlObEHPi4E8kmJY5rOQF4wlFPylmEqlYKMTSaT4A8DlEqlZIS0nUql4vE4zL94PE5kpGyDj5SMxq0sw300EQ0GQ0VFRU9PD34UyU+tVltRUdHV1cV/GPIzkUgcHH840uiI/PwwodFoiFkdKXt5bvKRh6l2l6KNbASNRqPRaPDWSmagKIpTU1MzMzO9vb1EcCejcIAnqNfrwUkjmYHZbDYcDo+MjMzOzg4MDBzVIGVsBawi0A7hc+LjOel0enl5eWJiYnR0lDQAGYUDuIo1G9hUfk5PT09PT/f19ck88gUIkp/ZbDZXfkYikeHh4bm5uf7+/qMaoYytQAzyoNJVKBSSYHg6nUaTm7GxMYpYyigc4AmiUSfkJ59NIIrizMwMhOeRqP4ytgXimSgiyJWf0Wh0eHh4fn6eujvIOCrszjJUqVRqtZrKeKh1MiGVSq2vr09OTs7Ozu6v142vLUQSINWO6/V6nvZ3qzMgskSqGHl6djUGye99zjaUuYHjg86bUqlUGo0mEomo1epkMplb/ptIJJaWlsbHx5HrdfjgCXwlVRMy4I9HXiV8fjyDAhoozc3NTU1NUVLE0YKi8RIfJ+NcqgquN3o2m6X8GbaROIdglMFgkFQqkmaAQA0tM3wHp4ICkoUSG9hKfk5NTc3Ozu4hSHLIIPGFSAtcFbFYLBKJ8G5v5ESxZ6c228gCwJNCfye6G1DZcfJkMlk4ARxopZFIRBAEURQliQaJRGJ5eXlsbOygm1BJWplvent3DtRmYzv3GW0lfqmcG8U5khmHR4k0Rf7xQYXIPRsuRMVyfHUiiA338LskQPki0mGw+kvoZ5DIMD8/Xzjycyfgg7SS+swXDNBekFqcKz954bnvQafs1u3sJaG2TUOL9OFNzyxRAner8Ox8SJJDu7rKvoDkp06nSyQSEv0T8nN0dPSoWjXsO0h+QqZRNimcU5t+BSoTVsBcuXpo2L5rRTwej0ajoihGo1F04VhaWpqenl5aWrLb7ZJHazKZXn311VdfffX+/ft37tzZx8AFX1sImiPqFFlRUWG327FIS0L2PMLhsMfjIX1rbGyMTwPYyRjQaYRvSfmcrLtImqLdWCy2srKyvzMWXYOxFkYiEaPRWFRU5PF4nE6n1+uVlKgpFIri4uJ333335s2bH3zwwb//+7/v40h2CI1GQ09Wr9dLOBUOfzxHCySrRCKReDwOm9BsNkcikbGxsUgkgrp8+rAgCE1NTU1NTTMzM4FA4O7du0c4csZYJpOJxWKIfQmCoNVqSZOGVQBBCdsPGVDZZ9sx2+32V155Bb19HA4H3ygvmUwuLy/j5MvLy319fRTlDofDBeIzxh0A01U0GrXZbEVFRcvLy5CfRUVFufLz0qVLly5d6urqunfvHpVDFCDgaIMa6vP5BgcHMU+XlpZUKhU9aJfLdf78eTxopNOQ5qrX66urqxHGsVgsPHHU+vp6f38/Dvn9/uHh4aOqg0KqLdKzI5GIwWCw2+0ej8flcnm93vr6ev7DDofjnXfeuXnz5h/+8Iff/OY3BzQkJOhiWxAEk8kEgYki7d2eLZPJ+P1+qGLIR6VUVUzSTc+JbyF/OxaLzczMUG0wb6hEo9HZ2VlK81apVHa7fdM2pAqFQq/XI29co9FUVFRg1rONWNAeGu6R8ERtSzKZNJvNfr9/dHQU6XbIwCQgo/XEiRNzc3PhcLizs3O3VzwSCIJALXwdDgffQfu4g+Qn9E+UU3q93unp6cXFRRRV0odNJtPFixcvXrz46NGj+/fv7yQlPg8kahhlkyJnlc8F5Q/xerxCoeAzS/n0EInSSIf4s9FFt0pPpUMIpZJcTW+AbeQ40KhSqRQZG7kNDA/CVoT8hP4ZDocNBoPD4fB4PKWlpUtLSxL5abfbf/jDH7799tsff/zxv/3bv+37YA4ZvJKD6gPq56zT6dBEMReZTCYYDE5NTTHGKGP/8LF914q+vr7u7u65ubmnT5+ePn26pqZmfHx8YWEhFou1tLTQKnLQEAShuLgY601ra+svfvELEuuCINhstm3dij6f7+7du6QyzszM7LYY0mAw1NfXk6Gi1WptNtvzWIaJRCIQCNCEXF1dXV1d3d/56ff779+/PzAw4PV6v/nmG4fD0dzcfOvWLafT6ff7r127to/Xen6gzpDy6fV6vdVqJUfLSwh0rXj8+PHY2JjJZBodHQVz961btwRBMBqNLS0tRz3GLZFOp8PhMOhM9Hq9yWTiFzn0p2KMmUwmm81GD52fUFVVVe+++y7eUhAt0BlisRgI6Blj8/Pzt2/ffvLkySH+uB0hEokMDAxAfnZ3d585c6a6unpycnJxcVEUxcbGRmo3f+wAbmdsh8Nh8vIajcbu7m4Skm1tbS6XCxq/0Wg0GAykwZjNZr4P+40bN2h7bGzsP//zP1GtNzU1NT4+flSWIcnPlZWVu3fvOp3OtrY2yM+1tbXr168f8nigbZD2j7WPL0DaLZBCCX4dtVpdVlYGyii2Ya1tahmmUqmlpaWHDx8yxuLx+MDAAGYie9YyNBgMg4ODVE2k1Wqbmpo2tQyVSqXJZIKiH41Gm5qazp8/j0ORSCSdTpN5uXOgxcijR4/GxsZ0Ot3w8DD8Mrdu3YKXin7psYZOpztx4sSlS5cYYwaD4fiKlFyA27m7uxvMJWfPnq2qqpqenl5eXhZF8cSJE06n84AuLVHDiEuGD7CzZw2q3IAh0cnkt7t4XplcClM+m4ZvZ0+DhNeDvsXH8JFwsWmd4aat7fc9nAj52d/f7/V67969W1JSAvnpcrlWV1cLTf/cd1BNOETfD37wA/xfrVYTVZgEmUxmZWWlt7eXMZZMJhcWFg5ttDy2STxIJBJra2vZbLa2thZ2VHt7e0VFRSKRqKysPHv27OETk8rYFWKx2OLiol6vb25unpmZMZlMV65cMZvNoVDo9OnTZ8+ePeoBysgHOJCCwaDT6SwqKvL7/ZWVladOnVKpVDqd7uzZszU1NUc9RhlbIplMrq2tZTKZmpoahClOnz5dVVWVTCbLy8vPnTt35MSkMvIjHo8vLi7qdLrW1tbp6Wmj0fjaa69ZLJZQKNTe3l5QxM4yJAB1TTAYLC4udjgcPp+voqLi9OnTaDdy5syZgmV1lgFA/0yn09XV1Wh5f+rUKZKfZ8+ePfKWFTLyIx6PLy0t6XS6lpaW2dlZg8Fw9epVq9UaDAbb29sPv2WFjB1imzibw+H40Y9+xBPKMcaQtyDjWKCysvLv/u7vJP8s5ECTDB56vf78+fPkPgeam5tfeGfbiwG73f7ee++99957/D9l+XmMUF5e/rd/+7eSf8pP8FhAr9d3dHRI2oo0NzdfvXr1qIYkY1ew2+3vvPPOO++8w/9Tnn3HCOXl5b/85S8l/6REcRkFi30o7D4cIDSPJCWUWfOB9fzEM9hAHQuVsmzaTyb3hDyPsNFoNBqNfDYpnxy1B4Bfi4YRj8dNJhMGLClBPKAs8OOL7AbDOCtgxpGXHChFQyuCTCYTjUZ5Nn++lYher9+UaR1VpjQZ+ZRC9AZAQiORdMvYCrm0BPxRng2I75Ce3X07H3yFHgc6GIHqQ6VS7VyIHS1TQqGBiGHQGA2cTGyjfHcPJySizmQyiSJYxhjokfiU7zxnADk+Y0wURQnJJ18BRZ1maXfbsUl6f+0XA80LBr7kjJ+/eb7CT+eC7W5fgOBZYfbAEJMfkupByS4x8GGDP5RntJvmiLJnZan89A8aWEwhx7RaLc86o1aredYMlINiG+IUuxL23cPEsRG4Wq22rKwMK6Lb7aYGhiwv60w6naYmzuvr6+Pj41TIvr6+vulNl/DKOByO9vZ2VE0UFRW1trbS0wWhwvOICdDD0BRFr0i+5TQdomVYBpDNZgOBACiOIpEI9eaWUTiIxWJDQ0OQgKjRpdpgNCpECr7ZbO7o6KDSKX5hKyoqqqysxOxLpVJer5da3q2trT169AjVR4FAYA8EFS8Vstks9bOWyD1wNsLwMBgMRUVF1CUskUiEQqFdLU6pVCoQCJC/bH5+vqurC/VjFRUVFRUVW3Gy5Y4WVoRs87MNphnGmFqtrquro5QBtVq9hxAKctTBPp1IJPr7++/du8cY02q1oihS8SfPBSVBOp1eWVl5+vQpYyyZTPJcgpi/eNPi8fjMzAxOzhgzmUxGo/HVV1/NPzy1Wl1SUkKVDoFA4DnZRF48QOnELKMuYtjeiqeN99MxxmKxmDyzJMhyBKQ8fwzLaW/IfyuP74wO5WqJfOyBNFiVSiUIAh3SarXUEl2n04HnGYfwoMlbJLFXyTeHLhFkdUiqtXNtSBn7CKVS6XQ6IccEQWhtbaX0daVSSYUk6XTa5/NRPSEIFKDZptPpo2pedWwsQ2iWSCuvqamx2+074eBKpVLBYBCTZHFx8cmTJ0ShthUZulqtNpvNpNk0NDT84he/QEDDZrM1NTXxVJk6ne75uUlpTvp8vqGhIez29vZOTEzwjgT+kzLS6fTq6ipUk1gsVsgsji8twuEwqs8ZYyaTqbW1taqqCoccDsf169dBllBUVPTWW2+BgAShYD6ciBWRbSiIRHSxuLj46aefdnd3sw2+uEP/fccJuEWQeMlkktdmcJPxH5PJVFpaSipjOByORqO70iATiQTfPlsUxT/+8Y94gmfPnr127Vpup5xcILhEo33J5R54uUDMKwhCe3v7z372Mzq0k/spQSaTWV9fR9OweDx+586d3//+94wxo9GYzWbfffddfEypVG716FOp1MzMzK1btzY9StSIiUTC4/FQz3q73c5zKW8FjUZTW1tLWtTKyorcXFcCPoVKtwHGGNF65YJnimaMhcNhWWbmgucFldham8brtuIOZc9GaHODgbSLLABso0sTKZ86nc5kMsEyNBqNtBTik/Qtno2GbZiFlBEgiiKpkRJZmkuZs6d7JmNzqFSq8vLyN998kzGm0Wjq6+t5xjW28cjQhhpsXoyxWCzW29s7OjrKDqWP3VZ4YVvfyJAhQ4YMGTJkyJAhQ4aMHeLYxAz3DEqJkTSH4Z0lfPRPq9VS40TGGAoL4ZwDB/FOUr13BT6vQKPRYGDID+F71OzLtY4FeO/XVhkdSFiiqMJRkdrLyANMN6qbTSQSlBGN0iakNqH/O804yRTjC6LQRR2HYrEY1ei+5DGlnQBROJQuo080ZUzgAZHT2mAwUJewbDYrCALd5HQ6vdtbjW9RatPOv0UjlKc2Y0ytVuOhaDQaPqqg2HF3e3r6jLFUKhUOhzGV4vE4vQkQqlQWiMIKOsQ3nIzFYgcaceITWUGvf3DXOo5ANimpJSQ/81TWIGuA3gFJ4oCMvUGSdCo5JKkY5A/xBYT8NuWIMsZUG8A2fYztoKCULynnld6t6rflNXRfQJF8tpEMvG2aN2Msk8mQaIU2e+SP4wW3DFHIh5seDofj8TjpprzV4XA4Lly4gO7MgiAUFRXRUywvL6+trcUhnU7HZ2s8v2WInBDaNRqN5eXlGFUgEGhsbCRdamVlhfJgX2zw1DsKhYJnl+HVBVEU19bWxsbGsM0nsMkoEGSzWWoZKooiX+VbVFSk0WiwazQaGxsb0fg1m82q1WqeNSoUCmH+er3ex48fIwWOMRYKhZaXl/Fu5FKqyJAgFouNj48j8zCRSIyOjoZCIRzS6XROpxMLmMvlun79ut/vx6GlpSWlUomyw1gstry8vFt7IJlMrq+vQ8oFg8EdKqPRaHRychIj3Kog/OWBUqksKytDurVarW5sbCS6JoVCsZO6zXQ6PTc39/jxY+ymUqm5ubmenh5so6syYyyTySwtLX377bfYFQShsbGxrKwMZ1hcXBweHsahSCRC39oteDKPTT+QyWTC4TDlPa6trVHhqwxArVY7HA7UaZeVlZWWlqKzHxpybPqVRCKxuLhIbSH9fj9JABn5kZsIyh/lNf6trEG+mJBtxACotlCn0+GTcADRt9CdEhNcr9fr9Xqa7JITShJfyVeODb7OkIo1ciMlksxSeUndLVQqlcvlOnHiBHbRGgdErEqlcquus5lMJhAITE5OYlcUxdXVVV7pPfiBb4IX3zL0+/2wNAKBQCQSIYcoD7fb/dOf/pRaUtrtdj5mWFFRcUDcaEgxp11BEKg/ZDab7ejooPdjbGwMNXUvNiRO62w2y2fJo5wa2+jTiDKzVCrFUyDIKBCk0+lIJEJRvqWlJTpkNpu9Xi+avbrdbovFsmlvsWg06vP5QC80PT395ZdfdnZ2HsrYXzSEQqHe3l4oEGtra62trdRw3Ol0Op1OKJSVlZV/9md/RmJndHSU6J3W1tbW19d3axkmEonl5WVcl1/w8iMcDg8MDPh8PsYYdW1+aaFSqerq6v7yL/+SMaZQKEwm027buKVSqZGRkd/85jfYTafTCwsLucV7qVRqenr6f/7nf7BrMBiSyeSVK1fwlcnJSTokiuLg4OAefkuuYp0LqEpkefr9frwJMggajcbtdqOZbWlpaU1NTUVFRf6viKI4MTFB3oF4PC7f1V2BivokL3AeZlHqdM8XE7Ica9BoNBKZkCRhze12U9CJ57/gLyQx6nitCfwUPFM0xYqRALJp5BB/t/XgyJBApVJVVFS8/fbb2NVoNC0tLcSktZXc46u+GWOpVGphYeHIa4DlOkMZMmTIkCFDhgwZMmTIeNnxosUMJXnVaKaELmqxWIx3fqC6CXY86IApa5/v6MXndu92JLS9hzOgjyKFkuFwehmcN1RXxhhDIgS5T/iuL/whKmQC+CwOPms/P16Ge3u04KcS+pUhuVGv128Vk4dnFJPxeRqHyuCRyWTi8Tj1loRTmVKM+OkDfza1rSPfNnt2nkpY+Pj0KkEQLBYLvsV/XQLqcwCgtOxlLiLlYwJ8K7NdLSV8TRFfPZGnlx3fchCrJ1KL0fCA8vy3bSHLz3TKizEajXyOTJ5h8zWNctA4F4hH4WbyfAQS8FTPiUSCb48m9zPcFfh5lydmKCkFJEkIlZKPGarVaooZkpbCFxayZ2sLJReVBAn5nMPMBliOPsxnkMolGPsFWjFRZEjp3ERQQuBzd8GbwBgDewJJ3SPsYcjjRbMMkcBGd3Zubu7u3buBQADbiUSCJpjRaKyqqsKTa2xsrKysRIMRcDCQqM0jdvOAX1+RU77bM5jN5tOnT9OEP/Lg8uEAlWlUUanT6RYXF9GRIvtsxx5UPaHrSyaToZIJhUIBrmfsWiwWg8GQpyj/ZdY+DxMqlQq829gtLi4+depUe3s7Y8xisaB9RS6USqXRaMQssFgse5hHMggkTILBYH9/P/X/qK2tbWtrg5RTKBR8nZLb7b527RrygVdXV+12O2V6R6PRxcVFyKVkMhkKhXB+nU7ncDjI1EcPWJyzvr6eXgAJMJ1Jbi8uLsZiMdghLycDDZhmsC0IgsFggL64c8oZWAW4h3AEkC+AT8vnkclkIpEIZeZrNJpHjx7hkSWTyenpaXCps43moltdGkVQOEN5eTkV3pjN5traWl492vTraPA1MTGB3VAoRIWvMgBBEEpLS1HClKeDF1rIkP6zvLyMbbaRWHhoAz5eyM0L5S003vPF1/vhEG/+kfbIp4+yZzNI+U4VGo3GaDTS+dGMBLIUliSdIcv1M+CpGRhjqODAw41Go/F4nO9aQY0rJHRiuZEM+s9LEpPYG6BwYgLqdLrKysrm5mYcUqlUpaWlfFIuPbJEPUCQTAAAIABJREFUIjE2NvbgwQNsDwwMUN81NJs97J+RgxfNMkwmkz6fj2bC+Pj4xx9/jDVMFMVYLEbPyWKxnD592mg0MsaampoaGxupxm8rnxDLWcy2OgSuIfwH1GG7DRsWFRVdunSJzhmNRpVK5QtPJpbNZvnKNJ1ONzU1BXWE95IyxqLR6MzMzPj4uOQMCoVCr9dT1yyz2Ww2m/Mwesn+s8OBWq22Wq3U3bWiouLixYuvv/462zAat/qWxWKBburz+bYiV5CxLfhlaX19/bvvviMz+9SpU9evX6f4g91uJ7vOaDRWVlZie2Vlpba2lubm6urqo0ePYChGo1EqjbDZbM3NzfSkqqurf/SjH8FTo9Vqt2q+F41Gx8bGKEw0PT1NNeEv4dxUKBQgQsMuSozwvKB97uSGwC1NBKS8XEXT802/EgwGiaRNoVDMz8+j0VY2m8VJ6JObdgOmEeJ1MhgMzc3Nf/Inf4JDWq22qalpK32UkEql+B6GvK9QBqDVaqurq1HCZDQat6o7FUVxenp6enqaMba8vDw3N0ccYDwdogwgT8UgTx9K5DFsI7eL3Gr8IT7GAFOQTD7MaCId1ev1ig1qaD6xgj+DhHIG+VOYPslkMhwO01QKhULBYJAsQz5SAjr3PDoPbxPKdYY7gUKhMBgMoOnS6XT19fXnzp2jQ/RuSPIgIpHI06dPf/WrXzHGMpmM3+/nWRgKAdtYhsg7SiaTSqUSsRcwnrONKcHPBBkFiFQqFYvF0uk0HM/pdBp0/1i/ySMlozABDQxqnFarFQQBzOPpdBpLFIkeGQUIWX4ed6TT6Wg0mk6n4c5Pp9N4oLL8LHyQ8Mxms6CPl4Xn8QIvPxFYQzObbDYLThee1kVGoUEWnscX2zyYcDjc09MzMTFhsVguX76s1+v7+vomJyeVSqXVam1qaqqsrNxJ5YCMo8L6+vq33367urpaVVV148YNn8/34MEDr9cLgrv29nawXcsoTCQSiYmJib6+vmQyefLkyebm5unp6b6+vkgkYrFYKioqGhsbt0olknHkCIfDvb29ExMTJpPp8uXLBoOhv78f/NQkP+VAaCED8tPr9VZWVt68edPv99+/f395eRny88yZM7L8LFgkEonJycne3t5EItHW1tbW1jY9Pd3b2xuJRMxmc0VFRVNTkyw8CxmRSKSvr29sbMxkMl26dMlsNg8MDCBRyGq1njhxorq6WpafBQufzwfhWV5efvPmzUAgcP/+/aWlJZPJZLPZzpw5Q7ldMgoN21iG8Xh8Zmamq6srmUw2NDTY7faHDx8ODw9XVVVVVFRQs7KCQm4aAKV6C4JAA9bpdEajEWlsFM3fLehsyM+hsDtaCWc3etbz4XgMI09+I+H5g/hIzhwZGenr67Pb7T/4wQ9WVla+/PLLaDTa3t6uUCgKv9IAJUzY5rNJY7EYZT3xwBMnXxTVeecCpBfErlGY5UxIrOrp6UFNV11d3ejoaGdnp8FgOHHihM1mK4Ri5a3Azz6ErKn+E1wU9GjoQbBnqRFQW08JOZiz9LFtaTCOHKIozs7OdnV1JRKJuro6l8v1+PFjj8dTWVlZWVkp4cQ6NOCu8jXMSEBiG5UtfNcsyoRHiiNNE1TzUkKU1WrFIYvFYjQaSV3T6/XEr5AnPpPlWtszxgqh1S8A+dnb22u1Wm/evLm6uvrll19GIpGDlp98QyONRkNybOd1hozLGJS0NeOffi74+qJMJkMtQyUTU/ItfkXTaDRIGzYYDHq9nl4GrVa7wygBn+q253TidDq9trbW29u7sLAQj8cbGhrGx8c7Ozt1Ol1TU5PVai1w6SGBhASF3oT8KkQymaQ1TlJaVviIx+Ozs7MPHz4URbG6urqsrOzx48f9/f0VFRWVlZXxePzg9M+t7rYkq5PnkoG05NnveJoZvtc5KoxIL+V1VIn6ukPqKZ6EJn+jwsMECU+z2Xzjxo21tbWvvvoqGAyCX6Dwlc+tgIdCxHh6vR4NZrF6Sh4ffQshU2wjdQjyJ780zj+GrXiJnv+hbyOmbTbb66+/XlRURN1vjUbjmTNnXn/99fLycr7te4EAWSI0ObVarU6nQym/wWBwOp10K2tqaq5evQqXYXFx8U48T7kMb/Ry+3y+wcFBWnpBqIDnbTAY+DpUu93e2tpKoiTPdSV8U3t40gqFoqSk5E//9E/dbvejR4/wT5vNdv78+XfeeUcQhAL3t6VSqZmZmT/+8Y/Y5U2+ZDKZW2TINtK+S0pKsGs0Gi0Wy6ZSFXqDx+NhjIXD4eXl5QP5Dc8HnU538uRJrVb73Xff4T+CINTU1Jw7d+6VV14hQt3ChFqtLioqgtBEWS81LSwqKqqqqsLERAtm2P+pVCoSiZAANRgMtbW1CMsUFRWdOnWKKp3C4fDo6GhhPjWC1Wq9du2azWajx2cwGNrb219//fWKioqjkp/pdDocDtOlZ2ZmPvvsM5QqIZJJ3CcWi4VoY3Q6XU1NDYm4SCTicDg2ZaApLi6mk9tsNpvNBjmThyg4FovNzMwQRcri4mKBaLElJSXvv/9+WVkZPUGr1drR0fHee+9pNJqtCHWeEwqFwmg0olsdY0yj0ZSWlsLWQrn1Tk6SzWbD4TB4hkRRnJ+f56v16FZLvsJTzrJnObr4Ohm+bJVxlDMYLdEw6PX6M2fOtLS04JBKpdqKa4pxaxwIcnge1L257bRabUtLiyAIpL1oNBqU533ve98rcOEpAZ47T4yH1ueMsTxZeaIozszMoFWa3+9fW1sjjUVCaFmYsFqtr732mtVq5eXn6dOnr1+/XllZqdPpDk5+8iyjSH3EtSQVgygFJCOBz09WqVS0q9FoLBYLTzpKh/AtKmKU2JakzeaaAQSUCNF8BOUMdrHBc9Vsxbp3EMLW5XJB+eSF55kzZ9577z1BEA5IeB4QeJcc5DM616vV6oaGhmvXrjHGNBrNiRMn6HfxshraJjF4xWKxyclJNBRFyvRuhwHmG56ggaj74WbdVMLvHNusMYIgOBwOk8lEL3Emk5mZmbl7925NTU1TU1NJSQkvleCkTCQSfNnrYQKObbq0Vqs1Go1gMjAYDOXl5bQYtLS0vPPOOztpGSyJYPCBwWg0it25ubnPPvuMHnAgEBgfH8cwrFZrY2MjCYX6+nriRNVoNFslymc3IBnDbmEwGKhZKmNMqVSmUqmBgQGwxp08eRKKOwE8V7FYjEgIjxCpVGp0dJSm006gVCrNZjPRZuj1epvNtpVluLy8jM6/8XgcNKeFBkRjeLJHxpjP53v06FEkEqmtra2trSU9HlFQURRDodCmDBOHDI1GU1JSguJsp9P55ptvdnR04JAgCMXFxQgh+v3+mZmZsbExxpgoijyBXmlpqc1mg4rscrm+973vQRwzxpaWloLBYIFbhvQzefk5Ozt7586d2tra5ubmreRnOBw+OPmZSqXoDjPGIpGIz+fDMEpLS8lfxhirqKgg6QE2kf2t6qGzRaPR0dFRyg5YWFgokLChXq8vLS0l+alSqdLptMfj0Wq1brf79OnTvPyE8IzH488pPBUKhcViaWpqwq5ara6srJQI6m2BfvEQnqIoTk5OEulo/m/xBgMaV2w7WqKcYYzp9fr6+vq33nqLbVDOUK/nPMBiR+osRbrYhqa77RlyQcKTyHsYY36///Hjx9FotLa2tq6ujoQnKzz5yUNCwAZ/N5wFeRxM8XicKBDhrT5erDOQn9ThHUFsEM5DfpaWlpL83BfhSQE6SY8lg8GAC2m12qKiIlIjwSVD9KHEMsqe5aoBoRQv6vmP8QyFvNBD4gCxwuTShwIg5Kc5Eo1GqdELMgUkrUp2wrq3LU3UTqDX691uN2/3ptPpwcFBrVZbVlYmEZ5sw0ZKJBKFoHxKwFuGSqXSYrHU1dUxxrRa7cWLF//iL/6CbVhrEpY18nYtLy93dXXhn6IoDg0N7YFYi4ahUqlMJhOFQJAdAKkFdtODtQwlgNDPZDI+n29paSkQCFy9epV0NcaYKIrj4+OojKJlXkbhwGq1trW1LS4uTk1NjYyMJJPJq1ev0lG4mT0ez9TUVE9PzxGOU8amQPSgvr7e5/P19/fPz88rFApyyadSqaWlpZGRkZGREepJIKNwoNfr6+rqUqlUMBjs6uqC/OSjKKIoTkxMQH4WAnW1DAnMZvPJkycXFhampqaGh4dTqRS8xUAkEhkYGJienu7u7j7CQcrYFBCeDQ0Na2trAwMDEJ6tra30AWhvkJ/g85RRUID8TCaTkJ9+v//atWtU6Av3x8TERH9/v9zmpABhNpvb2trm5+enp6eHh4eTyeT169f5D5D8fPr06VENUgawO8vQbDZfvnz52rVrgUDgs88+GxgYOHnyJG8ZZjKZWCwWCAQO1OedB3xGONvw6MCSRvYFuW12yGrFe1aQNMXvUjFhIBCgBlyMMVEUk8kk3zx6J4WFPEDrRNfaFxemQqEoLi5+7733dDrd7Ozsf//3f9+9e5e3DNmG/8nv91Pa3rGD4tkOsy8S+xx88I2NjalU6unTp3fv3h0aGiLLEFkEoVAoEAgUgs8bKfgIQJlMJkEQ6LkolcrsRnNztHzF+5ZIJOLxOJ+OT2JE4jXnk8aPC0wm06uvvnr16tVAIPD55597PJ62tjbeMoTTNBgMhkKhw5SfFCnCsyAhGYlEQqEQeXz5e654lqKdkFv/sEOJx0erCjbPzeFwvPvuuzqdbn5+/r/+67/u3LnDW4YQ2n6/PxwOP+eF+DpDVCXt5FtUFsgYQ/iLptWBCgRwD2Ib6yxSqnaVsUnFxpAAfDbpvswFQRBOnDjR0NCQTqd7eno6Ozs9Hg9vGcLvDvm58/yuQwOfsot+6BSq4iNOkrQmChkVSHr288BkMl28ePHKlSvBYPCLL74YGhpqbW0lyzCbzcbj8UAg8PzCUyLEUAdIKaOSZvRoVc82HgofWaKKRL5nPcubGirBVrG73FxQSX7Zts9acehdCu12+zvvvKPX6xcWFv7jP/7j9u3b165d4+8D+qkWjvLJp0LwuodKpbJYLFBskNe9VcYvZXhCsaFYKFGU7wpYcyFaVSqV2WymNmA8iT3yh/nIHL8u7BDbrDdY6kKhUCwWC4fD0WgUzeKj0SimgeRGGI3G8+fPnz9//v79+59++uns7OyuRvP8gDJKb3xFRcVbb71F7xk/OfnM0jyApYQTLiwsdHZ28uafz+eDEuPz+TweDwX0RVFcX1/PbrSF4WU6xrBtVTFI8EhDGhoa2tV9ICBAEYlERFEMBAIqlQoWbCKR0Ol0kiwdhUJht9vffPPN69evf/DBB//yL/+yt4seIRDQpyRhqjI9psBqFwqF0NASjgms99lslvI0AEEQ6uvr6+vrZ2ZmFhcXv/rqqyMcOWPMZDKdO3fu8uXLjDGDwVBfX0/PBb8LCQ/Ly8u9vb2og02lUpA2+Bi0NGyr1Wqn00kzAgWlh/yLdgtIj3A4TPKT2kxtqu4bjcaOjo6Ojo6urq4vvvjicAIXKDvE2pbJZJ48eULlx06nUxRFJP0KgmCz2UiOmUymmpoaEqGSzCtePdqJDw4LDb9wFogWixcyHA5D6ZTIT4n9UFRU9MYbb1y/fv0Pf/jDr3/96z1fVKFQmM3m+vp67KpUKsoayoNsNhuNRldXV7GbTCaHhobu3r3LNgq29zye/FCr1eXl5adPn8auTqc7depUW1sb266wkAfyHaamphhj4XC4v7+fljyU6OxhYNlsFqmhyLUj4ZlOpzOZTO5rqdFokJ/f0dHh9Xpv3bq1h4seEND1jhi8bDZbcXExqB1RBYf/p9PpYDBI82h5eXl1dRWvRDKZPF6ppIyxTCYTjUYx+7AIQn5GIhHU4PFP0GAwnDt37ty5c48ePfrqq68mJiZ2dS0+ooA6QJJ1Wq3WYrFA1ul0OrvdzjsoKZtUqVTy7ex50Qf6tK1cmbxhz8s9FP1umk2KdxirIQqAqYIUdbnEbiK5KHVDzWaz/N3LJa2hXRrATm/lBkj5hLtTo9HEYjEYMHq9Pjdl1Gq1vvHGG9///vc//vjjf/7nf97t5fYXSqXS4XA0NDSwjfR+1MXgkMvlOnHiBGNMrVZXVFSQKsLbFMjnRw6/KIr9/f1U8Axxt9shqdVqt9uNEm6NRlNVVQUxyzZkHXFNDQ4OUuZqJpMJhUKoadzFtfIfDofD3d3djx8/BkMUsdhFo1Gfz9fU1LSTOr3DhEql4vXF6urq999/H/MHefZkOlPv4PxIJpOBQADfGhoa+td//VfK8opGo0QzkwcIldC14OHbVlUCjxONdm5ubm9+9PX19bt37/b29i4tLX311VdlZWUzMzPIxY9Go6+++uoezlnIgGVI6ggKTY92SM+DRCIxNTV1//79kZERk8n07bffarVar9cLUWs2mxsbG496jFvCbDa/+uqrSMEH+Bj48vIycn5mZmYePHgAPYxUN3wsFAqRh0UQhNLSUiqBUygUpCcVLCKRSG9v7+PHj2dmZh49egQbDPLT7/efOHGCT7g4KkBpxnYgEOALbi0Wy/j4OPROo9FYUVFBKhFYtWhykUDD7OPJgfP0bOSDGzChsfucNRL7CJ/PB/np9XpJfiJbJBwOw+ux74AiQrkASqVyJ/YVagHImyCKYk9Pz2effcY2omEHMVTGmEajqampuXnzJnYFQWhsbKSK4h0ilUrNz8+DqSISiTx69Ai8Kc8DCM/vvvtuZGREr9d/++23Op3O6/XGYrFQKGQymaBjHQsolUqTyWS327HrcDhcLhepqoRUKrW+vk6G9Pz8/NLS0srKCnuWMO+4AF1/Hj16ND09DUaAaDQKY8Pv99fX1++v/CTFDHY4CTGdTkc0Wnq93uVybWUZSvhjiGZGEoTkTS+U10qsMhqPhOSChsoHh5EdwFuGVGeI1p38b6RvSUxNfki4kKT0cdNKyPzw+Xz37t3r6emB8KyoqJidnUVaUzAYvHLlyv5Wre8vYP5BQ1apVCiM5A/BMswDlN0NDg4yxuLx+MOHD7/88svnGZJara6qqvr+97/PNrgJKeMPliGM7XA4fOvWLcx6xlgymVxYWNhnyxBFvWjcpNPpQO4fjUYzmUxLS8u5c+cKzTKUIUEqlUokEuXl5aWlpeFwGCIjFAoJgnDhwoULFy4c9QBl5AOWc7VaDc6rWCymUqngHHK5XK2trfBpyShMgJLEarW2t7cbDAZefoKZQ5afBQ6kOJaVlblcrlAoBLcF/N8XLly4dOnSUQ9QxpaAPaxSqRoaGrRaLQL1EJ7FxcWtra3b6nYyjhbQP8FrbTKZID8jkUgmk2lsbDx79mwheNZkbAUsf2632+l0hsNh5DrJwvNYYBvLsKio6K233gLPmIzjiLKysl/84hdHPQoZewRo38+cOXPUA5GxFxQVFd24cePGjRtHPRAZe4Tb7Zbl5zGFTqdrb29H8zQZxxE2m+3NN9988803j3ogMvaC0tLSn//850c9Chl7we4YaI4QiLmjLo7vysK2YzigIL6EHTi3SJIuxEftE4lEMBjEdeH2oFQ3JGrz9Az0Lb742Gw2o683DiHdfNs6Qxl7Bv8s+PayAL02SOInzoPC7HR/vACSGL48g7/5kgqKeDyO7EFUAe2kbl7C5MRXhuTn4JaxNyC5F3lKqKEn2YiEWEph4rNJ+RJKrVZLc1DSJFpGHvBCjC9Tz4Pss90IwUOwE4b6nQ+JhgGWL4xQr9cbjUYqdRMEYYd8ObSgs423C4wAsVjs2OU9HhB4dUWr1VKlDJ/ryANqEt29VCrFE9LIEjI/eHWOus9LdnMP8bQRuTQz2ybS50Gez+SWAvLcYCB4o9HyX6RDuTWNeQhyXuA3h/+xPOUMCtMw41DKuweBjBQhxlg8Ht+5TFM82yFj0/bsWFhzv8g2iGqILIBvA75zHBvLMJlMrq+v4+YWFRVRIjXLmZA80EUUrzXMQr7V4aYFwalUKhwOkwI0Nzf3f//3f6h7mZ2dXV1dJdaBdDqtVqtxcrPZXF1dTQ9Ar9eXlJTg/BUVFZcvX6YXzmazEZfRsSNXLHygHqOiogK7Go3GarXSUV4Xicfji4uLvb29jLFUKrWTZl8y8gN9iqgmqrKykufO4nWUcDjc19fn8XgYY2trawsLC5iY2a37L0vkHfQkCG4kHcm2/b4jkUh4vV6INY1G4/P5eAaahYUFEmu8Zci333S5XBcuXMBiht6Ae1ilXjaAXYmEmEKh2CGNliiKxEADnybxpT0nWyPkKiXvqVQqp9NZXV3NGNNqtadOnSKST5VKReVwuSA9LJ1OBwIBGi1YZ1BniMKY5xntiwHe0YaSciqMdDgcxMnJA3eVyC1WVlbgzmay72w78NzLWFxI8wb3D5YetBfn7QdBEEid42uqQVu6VXleHnOd/8pW01ZSncizCaL8G18UBIF/7kjv5C1D3lGeSCSyG833JCOUVCTmv5PHCyAHYowplUq73U7lOSqVqrm5GSmvaGBYWlqKQztkv8tkMl6vF0wwqHneyXgUCoVWq4XAh9SlkhO9Xn/q1Klz586xDUK+TX9INpstKSkhgQzKtJGRkZ1c/f+fbVefPkIkk8nV1VXY3w6Hg6ezz/WLEGAZ0u5OKCvQBpqm2ejo6O9//3sQJMZiMa/XS9eFIwHT2G63nzlzhuSF3W4/deoUdKCSkpKLFy/K+tDhAJ3uq6qqsMurKRCmpCpFo9H5+XnUtR8oQ8PLA61WW1NTQx26nU4nXwfCr3PBYPDJkycoyI7H4/Pz89vadQqFguYXYwyNnjGj4RqXLcN9hyiKu/WYSCzDxsZGi8UC74zdbnc6nbIk3BbQ7WB3ATtU6+PxOBEPJBIJv9+/X80qJHJVEITW1tYrV64wxjQaTXV1NdEz5AdZhplMxu/3j4+P4//BYLC7u/v27dv7MtoXAwquT4/Vam1tbX3ttddwyGAwbEpXCwc6kUh5vd5QKHTsKEkPDXw4AXYdpJNOp0ObJRzS6/Vms5ksQ/6QgmveI+Fh5pPUJI5RiVXGj0TCF8p/i9dysd6RjafT6cijqlKpKLkjlUpRkBC7sViMvsU7Yfk4B+IuvNFIn3zBzEJMMbPZzBhTqVS1tbWvv/46DqnV6qamJtrNjRNueyvS6fTS0hLYoSHudjgkrVYLa1CtVrtcrtraWhwC++7Fixdzx4AfQkxIPF9OOBymRWHnkGNWMmTIkCFDhgwZMmTIkPGy49i4b0HSCO9XMpmk6he2EbXfrwvBlcL7SOj8Go1GEAQ6pNFoTCYTFRPybTCMRqNWq6Vv7fw3kh8ILbMoDCJHtPYF6PyDbdzefazDeWnBe0klxTDkZkNhId18dEbF601PYbfX4ms/9umnyHheSOQnqp7w3OWg7kFD8WxPNr7IIs8U4wtRJAVLVEyoUqlsNhv1jBEEwWAwIIqyaWfOTYGsASQOJBIJtErGoXA4vF/hzRcJJOKghPDNEvgSa4osJZPJWCxGDZxjsdhzZhG/VOArBnMr96j/xKZf3OpQ7sf4C+X5TP6PSb7Cr4CYzpDA2WyWtoGt+hmynLjlS1IQjmgb20gMprx9frrt+VZQ0mImk5FUBkrKtnnFxmKxIGaoUqmsVitCmowxErnbgk+h4rlRdo5jYxmKojg/P487azabFxYWaKlDUd/ODbD8QM9lssQymUxxcTHyd5PJpMVioetardaGhgY8XaSM8onpTqcT09VoNO5Qc41Go7Ozs5jGY2Njo6Oj9ER3GImWkQdoPDo7O4vdUCi0urq6X3U4Ly34YhiLxdLY2EjZDiaTiVLhY7HY8PAw3Xyv1zs6Oop6GKS4bHshvg6EMYZcfFihiUSClCEZRwv0bKTH5PP55ubmsLblKZuRkYs91Pao1Woy3hKJBM9TkslkNr35UETQM12hUOh0OlJE0KceGaTQUSiDEWlOdXV1OANfy50H6FmPGkJRFD0ez/3793EoHo+PjY3t5CQvD9A5HS1DbTab2+2uqanBIXilsc13t/d6vb29vdTkOhKJUCWnjE3Ba+SUTQoLgUiVdDqdTqeDUk5VhfR1uGBYDjmNxMbjcxFh5+cW8kkkJN+nXjJ/Jbwper2ezoYG2pRNGg6H+WxS+iT4UehQIpEg/wLWdF7m7Mp7e7yA8ge2kRX/yiuv4P9KpdLhcGz6NHcIpVJps9nQGieTyayurvJnMxgMYGFAmQxZpCqVqrS0FN+CcKaSHHS33/a6mUwGvdaxyzcK3jmOjWUYj8fn5uawbTKZ+M7vVqu1uLh4fy1DCm7AMty0W7rb7b569Sr8Ck6ns6Oj4znHEIlERkZG8LuGh4eHh4d5u/9FnZmHhnQ6zVe2RCIRr9cr12A8J1BoQcUwLS0tVAyjUqlo4sRisYGBgUePHmHX7/cPDw/vqoYNF6IpptPpDAYDzr+/WQMyngepVIoCQYyx1dXV2dlZPCaNRiMxTl4St/TesBVlRR4IgkCWoSiKRqOR5stWnmMoH/X19WzDxnO73XS2xsZG9HqG0UjTWaLN7HB4qVTK6/WihX00Gu3q6vr8889xCNrMtmd4qQDLEA/UZrNVVFTgMUmQSqX8fj+628/Ozj558qSzsxOH5Pr5PJBwhyLUhoUMmS+8ZUisMzypDMuxDHnuZcnHJCyJtMvX+0msNUT8iBWGyGPYs5ahWq02GAz8tyhtJ5lM6nQ63jKMx+PZjXb2RDnDNnhK+GLFPBw5Lwwg1uC/1mg0dXV1+9hlEZZhS0sL26g5pDupUqkcDgfMPKVSaTQaiWZGo9HU19fDQIXOQ+/hDpHNZiORCClX8XicX5F3OvjdfkGGDBkyZMiQIUOGDBkyZLxgkC1DGTJkyJAhQ4YMGTJkyHjZcSxTsDKZTCwWo+QTMPbycfbnOTmSCvhGMRaLZdM0UbS4waFdJbNRyF5CtY+KfOT8RKNRuUftzkHJFcjokDSiPdKhveBAjTXSzJBywyfTU+FEMpkURZHqCeM+wlHjAAAgAElEQVTx+FYlZ5IMHwmLN7/Nl2fIE0TGCwMklfHFt8QEkx+SLk0Gg4EqAPmGPTzUarXVasXHkFlKBWxoH4r6KMVmXbx3+Ft4+vtkMomFGyUb/FIoT2EJ+JRdnU6Xp7k2f5Ml24cwzhcGktd7093cQzs54bbgFzL+8dG8AK0XfwjL66bX2mqe5pnCmOBUZyg5+YsExbN95AVBQGX1HvI2AcmN4u8wEn0ZY5lMxmw2U3tnlUpFkhY1h5SZj5IZ/mXb4TCoWbcoivF4nNe19sD9diwtQ7TJprLDqqqq+vp6LJxI+34eY0Cr1ZaWltKKZbFYBEHY9M6iozrktcFgyCO4efArdDgcnpuboxdrcnLy888/x7WWl5f5tO+t2n/LYBvZ2JhaJpMJPLE4JFGVZOw79Hp9a2srCmCcTmdVVRXJuGw2G4vFkOMOypmenh4cisfjPp8v92x4XuRn4Sk0JKSXqVQqkUhgKiWTSXmCyHhhkM1mfT4fTRaFQuFwODatMePBVwyyjdL0YDCIXZ6WmYdarS4rK0NbZIVCQV4ettEMlrQZtVrNW6c7We9g4tJ1I5HIzMzMw4cPGWOJRGJycpKIo+SKuFxotdqqqip0t3c6ndSYVwIIRuJ5BvijhzPa44itzD+w0ZDmoN0A2+hiTS8/74nOtab4YkLe5OOvleV61sN1Qh/jawuxTcscX9+IC/FGI7+LZvd0QjIvJZ5ZkGfydYZ0Z16wtVUQBHJ+qdXq+vr6N998kzGmUqnyyFiJkUa3kZ997FkXHrhkULiIOmrSeVBCDDWVV1/ZRnUivXsSMSsZBv9kfT6f1+tljIXDYY/H8/TpUxxKpVJ7oKHaxjIk52UqlUKxJt6eaDSaSqVgEB8+90MoFOrt7aUq23A4/Prrr+Nh5/aj3C20Wm1ZWRn/H5SQ7hfS6TQ1G11bWxsYGKApOjQ09Omnn+IlSyaT8Xj8+S+XzWbBDw55odfrBUFIJpORSCSbzaLS+gWIqpHjx2QywTjE/6HrHOnQngtYD/AmQHwolcp4PB6PxyFctFrt0T4+g8HQ1tYG1hmTyVRdXU0TM5FIBINB6KbLy8ujo6Pd3d04lH22zS4BP4pcd7x4gSyiyYJeCNTGpmAVIPDIQ35qtVokOByt/CwcFOxTA0h4ZjIZEADywlMQBKPReBCzD5YhTRaoLNtahgqFwmKxEANNJpOx2WxEbLATy5Cuvg+/YeNUFCRkjIVCoenp6QcPHrANPrA9kObtChL5CZ0+Ho+Lokj6TMEuf1qttqam5ty5c4wxnqIwFxQuQEOvF6k9jER+arVaOByTyaRardbr9c9D+5drGVKPEEEQtrIMKZDOckKI7Nnm47xlyPeOlzTA2MoyhO6NhZLXGxljarXaZDJtSnrPRxoRdubtBzJQ0+k0b8pmMhmsTdjmLcM9E0oflfzMA9wQnu6loaHhrbfeYhuxu63GkxtixW2BWgIPtYJj42MblmFpaemmZ9hbohN/kizXdySTyfj9/tHRUcZYKBTq7+9/8uTJbk/OYxulJJPJLC8vd3d3r66uqtXqqqqqlpaWSCTy9OlTn89nt9vPnj1bXl7+Mis3BY5UKjU1NdXV1QXC4qampubm5vHx8YcPH2az2fLy8ldffZXsKBkFhWw2GwqFBgcHR0ZGGGPFxcXNzc0Wi2VwcHBsbEyv1zc2Nra2tvIMgTIKCul02uv1dnd3r6ysqNXqysrKlpaWaDTa3d29vr5eVFR09uzZiooKWX4WJtLpNCwZUPw1Nze3tLSQ8CwrK3v11VfJEpNRaID8HBoaGh4eZow5HI6mpqaioiLIT61We+LEiZMnT8rys2CRTqdXVla6u7u9Xq9KpYL8jMfjPT09q6urNpvt7NmzlZWVsvwsTKTT6ZmZmQcPHiQSCZ1O19TU1NraOjk52dXVlU6ny8rKLl++LMvPwsT2liHywZLJ5Nra2vT0dCKRWF1dHR8f12g0i4uL2WzWbDZvledwQADfLrltEokENVNG111Jw5nDHBs/SNrgmYhFUfT7/dj1+/3BYJBcMpFIhA9S78sw0F4sGAxqtdqJiYnJyUmVSnXv3r3l5WWbzbawsGA0Gq9cubIv1zoq8N4+SZ3hrhK1Cw1wuYXDYThN5+fnV1ZWqqqquru7o9GoIAjBYNBoNCLd6DDBlysgfQL+VN6ZivGLooiwAKJk255Z8SxNs1ar5ecyH2lMb4BxPtdCAy8/19fXp6enMf3HxsbUajVorM1mc55owHGHYrsm0YUMXnhOTU1NTExoNJq7d+8uLS0VFRXNzc0ZDIarV68exKXhiuZHsoeTICmOtjf9jEqles4sm1yQOzyTycTjcWrGGwqFSA7wmeEHBEQsIT/T6fT8/LzX662trX369Gk0GtVqtcFg0GQy7W9O0L6DKo62+gDUIQRm91ZTVLAg+Yl1cGZmRhTFYDA4OjqqUqmWlpZQvlVcXHwQV5eUbuZZYihAl/sZenB8hicmY24BIbI9edWRdvGZnQyJPyT5mOQrW50w97R7W14hP0OhkEajIfn5zTffLC4uFhUVzc/PGwyGa9eu7eHMzwO1Wk0J85RHgN08jccldwCRT2yTkoP+E3ySGl/TuC/gnxGfqA9Bh8qdcDj8/M3YtrEMVSpVWVnZ22+/rdfrh4aGPvjgA4/Hs7KycuHChTNnzjx58sTj8Zw6deqQLcN4PD47O8sXI01PTyNjxGAwuN1uWg6fv+xwb0in05QLGg6HZ2dn6cVaW1vr6+vDSr++vu7xeEgQrK2tUfLAfq2aarW6oaGhvr7eZDLdvn37v//7v3t6eoaHh3/5y1+6XK4//OEPnZ2dx90yZFznX+MG6NDxdSgqFAqr1fq9733v0qVLoVDo008/HR0dDQQCSqXypz/9aSgUunPnzuDg4CFbhkgLIeMNvbDRmFWr1fIuwFgsNjQ0NDg4yBhbXV3FQo5DW600giCUl5dTR7XKyko+Ow5ptNiFyh4IBNiGbrTvv/T5oVKp3G73zZs39Xr9yMjIBx98MDg4uLa29sorr5w7d667u7u/v7+tre0FtgzR0xJZCccucR1VKHV1dWazubOz83e/+11PT8/g4ODf/M3fuN3ujz766Pbt2wdhGcKlsr6+TsOgFvM7h0KhMBqNlZWV2M3T6Z6qbvYFvMoSj8cHBgbu3buHQ/F4vL+/H5338Bv38bq5QHrt+fPnL126FA6HP/3006GhIehwP/nJT6LRaGdn58DAQMFahnCTQdHUaDRbGfCiKE5OTvb39zPG1tbW6LV5AYB8vLfeekuv14+Ojn744Ycej8fv9589e7ajo6Ovr6+vr6+1tXW/LEM+T49PysU2UTGxZw11SQN62gaXIU/gxH+FigZhY5CLky8m5Hfh5uANOd4fKklTpFAEQib8ssunj/JnSKfTVK6fSqUkBip/3Z3fT7VaXVdXV1tbazab7969+7vf/a63t9fj8fzyl78sLy//8MMPv/7660O2DBUKRXFxMTUtVKvVra2tfL3fVl+UeKUXFhbQlzWdTq+trU1MTDDGNBpNS0vLD37wA7qWIAhUXCO5dXswtvEOQGyienB2dhaHRFEcHR19/PgxtsfGxnZ7cgm2UZphBDPG4vF4OBzGWx4KhVwuV0lJSUlJyTfffMNTqGUyGVEU4dc5ON8VLEPaNRgMcMYzxlBZwftp9t0huhPAMsxuVkw4OztLxYTBYHB8fPxAXaegnmOMwaNgMBjS6XQwGDxx4oRCoXC5XNR8nEYO3teDrgDZR2BK40U1mUxGo5Fm47EGVVakUqnl5eVEIqHRaOLxuNForKqqWlpaUqlUKysr9HkIjng8HggE9qVIdVNAJhDnIW8Z4kHQ7IvH4yMjI9ALw+Gw1+vd9lXXarXl5eVNTU3YdblcFouFSjUghXAoFAqRZViwIPkJtyJkUTgcdjqdJSUlLpcrEAjwDb55+bnn6o6CAixD2B46ne54WYYqlQrveSQSCQQCEJ5+v7+xsVGlUpWUlHz77bf85yE8Y7HY8wvPRCLBW4Z7OCEsQ95HdjjIcrWFqHj5/e9/j0PpdHp9ff3QTBeJ/BRFUavVxuNxQRCqq6uXl5fVavWm8tPv9x+c/Nw5FAoF9V7nOZ8liMfjk5OTUArD4fCLZBlK5CdyVcLhsMPhKC0tXVpaCgaDFLrZofK5KeUMe9bkg91FlEhqtZosQ0n6g4QylJdvYGyCYxocmHRUFMVIJIJBIhwKaY/CQt54I2swm1OZn0qlaDB8Fg+fpAZDgv/iViOHN4eMVd5o5AOJu7JnSH5Go1HIz1Qq5fP5GhsbNRqN2+0mnxEA+UkhuIOAUqnkLUOlUlldXc27s7f6gfz9T6VSi4uLGHwqlZqcnETttF6vv3HjxsWLF/ExSOA8yeq7NQ7hAcfNEUVxamqKtPd4PO7xeL777ju2wXazqzPnYkfhlGQyOTMz09/fb7fb3W739PQ0kjZVKpUkJyQejw8PD4+NjfX39xMrmowjRzweHxwcHBgYOHXqlMPhSKfTgiBkMhm1Ws0HW1CY0dPTMzExgZVGxpED6pTH4wmFQidOnAC9FVzICoWCXwJTqdTCwoLH4xkeHp6amjq6Ict4BiQ/bTab2+2en59XqVSQn0gfok/Clob8pBw8GUcLURSHhob6+/tPnz5NwpMxptFoJHSa4XAYwvM5q/9l7CMymcz6+vrg4GAgEGhoaAgGg3CxqdXqXPm5uLjo8XhGRkYQBJBRCEilUnNzcwMDA1artbS0dHFxEfJTrVbzBgzCJiMjIwMDA5sSX8s4EkB+9vX1nTx5sri4OJPJwM0hUT4ZY5FIpLu7e3Jykng1ZRwVtk+BRYHT/fv3I5HIpUuXKisrdTpdfAOCIEiy9ZQbOLAxy9gdEonE2NhYZ2enxWJBYhtK1OAfzU0lQqD1SGKtMiTIZDKBQKC3t3dkZKSurq6jo0Ov12ez2XA4DD5rSQcepE8fSQa1jE2RTqcXFxcfPHgQDocvXLhQVVWl1WrBl5grP+nxyX04CwTJZHJsbOzrr782m80//OEPDQYDhGcikYjFYlsJT3n5KxBAfvb19Q0NDdXW1p4/fx4u/PzyU1ZgCgfI3Hvw4EEwGDx//nx1dbVOp8PsyyM/ZeFZIEgmk+Pj419//bXJZHr77bfR8ZjkZy73oax8Fgi271qxurra2dk5MjJy/vz50tLSQCDgcDhmZ2dNJtPc3JzT6eTzVQwGQ3t7e3t7e3l5+UcffTQzM3PA42eMsVQqFQwGIeIVCkUoFCJHIEIrFHPfd3nBx/15/wfatW1KMxMOh0EtjZHv73hykclkZmZmPvnkE7/f//777xsMBpPJ5HA4uru7XS7X8vIyZe4xxhQKhc1me+211y5duqTT6X71q18d9PD2C+gyxBjju+Hlgq//jMfjBd5BK5vNRiKR3t7eb775xm63t7S0II0zGAwODAzE4/FMJsN3WNFoNNXV1dXV1WBQ/Oyzzw5iVBKSGBRwUyqOpOCBuPJRupDnnPginiOJFL1eT4sEkoUodwisEvv/8/YVkJ8oB+3o6HC73aFQyOFwzM/PWyyW+fn54uJi3rrQ6/WnTp06depUeXn5xx9/PDk5eYSD3xcgjYqCbMdLY8tkMrOzs5988sna2tqf//mfo2DS5XI9ffrU7XYvLi5KSnytVuuVK1cuXbpkNBr/6Z/+ac/XRaUQZQSp1WpRFOlt33dWg70Bsxvb1DWBMZbJZJB8yxgLh8OUNcc2WKMOc4TRaLSvr+/evXs2m621tRXy0+fzDQwMiKKYSqWqq6vp8xqNpqqqqqqqqrW1dWpq6o9//OOhDRVA+ihJPDTVQJ2hIAg76XS/N6aQggXk5927dz0ez7lz58rKyiKRiMPhWFhYGB0dnZubczgcZF2Q8KysrPzf//3fPZRa8beRf1fxelM2Ka825CZ5EnAGPj2V7wNBdYx8oxH8f1PyQgl5TCqVSiaTpNkiAM5fl84gSevjs0n5iCvPcLNfb1Emk5mbm/vkk09WV1fff/99lBVAfpaXly8sLEjkp8ViuXLlyuXLl81m8z/+4z/uyxgIvIpC8nPnTgR0T8F2IpGIRCJQRfhaUGxThYtCoaBXBc+IyGkwDF63kVAw8A+df5rhcBjx8EQiEQgEKO0WedQ8WdGebtL/xzaWYTKZnJqaevDgQSqVmp6eTqVSlZWVDQ0Ng4OD09PTjLGzZ88eMv1MLlZXVz/99FOUljmdzsXFRdIsHQ7HuXPn4CZEj5p9VE2QBY7tUCg0NTVFj3Btba23txe7Pp/P4/HQ6hgOhxcXF3EokUgctCgnDoDm5uaBgYGlpaXq6uqTJ09+/fXXVqs1nU7fuHHjQAdwCFCpVA6Ho62tjTGm1+uJv0SCdDq9urqKSn3GmCiKy8vLhzfK3SOTyaytrT19+nRwcLClpeXJkydut9vlcq2srNy6dUun07lcrsOnTxAEoaysrK6uDrsul8tut8Mal1iGqVRqfX19bm6OMUbseblAoTakJBS4y5cv45DRaHQ4HJgj0Wh0dHSUjKXFxcXCTxlKJpPT09P3798XRXFmZiadTldWVtbX10N+KhSK9vb2AyLWKxDo9fqqqiqsEXa7/Xg5gxOJhMfjuXPnDgnP2tra06dP375922q1plKpAxKe2Wx2fX2d8vlBr4XsYkyW/eWMyXXo7GSE0WgUVHiZTCYYDFIz5WQyubCwAL08Ho8PDQ1RLR9IpPZx5PkB+dnd3e3xeFpaWp4+fVpSUuJ0Or1e7xdffKHX651OJ1aNAoEgCKWlpcRH5XK5mpqaGhsbGdewd1NQURzPgv4CAHn4XV1dkUhkZmYmk8lUVFTU1dUNDg7Ozs4qFIrTp087nc5dnTPLdYHj7xWc+9CtEWAg7U4URaL5Rak/eZ/R3pC4RnnHRyKRoJAmDAM6FI/HV1dXcf54PL62tkaWIV9nmH22MyE/SVUqVSQSIXcqGh3z36IxhEIh2uUrEqmvIA2JTIs8b9Gm/KtbAfLz3r17DQ0NHo9neXm5tra2vb29s7PTarUmEgk0EjwEkBmG50XyE/2Tt/16Op1eWlqiBrPJZNLj8XR1dbEN6Ue1fyMjIx9//DFdVKvVwhhRq9Vut5ssYfB+YelHWSAVj/AMXvCy0SGUC42Pj2N7aWmJ1CEQ4WAY2Wd5rfeGbSxDhUJht9uvXLmSSCRQUGu1WsvKyrRa7erqqsvlam9v399Vag9YW1v74osvsO12u6PRKMnQ2trahoYGzBmMf98tQwoMDg4OUthwdnb2s88+w24wGJycnDxohu6toFAoysrK3nnnHTB5CILgdDqvXLkiCEIqlaqtreV7HB9TKJXKoqIi2EiCIGzF44eCPVBlMsaSyWSBW4aMMb1e39bWZjKZkANsMBgqKyuNRuPIyIher29ubq6oqDjkIaF2nGRcUVERWYYArRxo1bCwsMAYS6fTW1mGWHQRVrJarU1NTRcuXKBDKIhljMVisbGxMapA8Pv/X3vn1dzGvd7/rcCiEL2xiARJsVrNEiWrWbJky8d2PJN4nDiJTy5ykWTO5C6vIJNc5ZUkc854knP8ty3ZPpKoZlvsnWAHwQKS6NgFsH3/F89oZ00VSxSxC9L7uaIICPsQu/vd3/P8npKv/Uo8FEW9Xu+lS5dYliVJEvSzsbGRoqhUKhUIBE6dOnW4p4lSFHXkyBFYvdnt9l2eYe1vIUYikY8//hhaFJAkGQgE3n77bZIkYbupSuKpKEoul1MDHxCLgVA0iqJOp3N/rxntolO7bn4B4OOBNwjlebBeQZ6UFf3000/Ik3H22i4vOmOz2Xp6emw2G4xEt9vtLS0tDodjbm4OBlSqvVtrAZBWNegWDAY7Ojra29sRzdL2abTtUl6cmnHgAP28ePFiuVxW9bOpqYmiqJ2dHb/ff/LkyT0MxHtmp01YzqmeYalUUj1DkiQVRYFn3C7P0GKxeDwe+Cf4lupnwpYv+JO7/LpyuZzJZGB9WKlUdnZ2VM9Q7Vz49Feh3eDS+ngkSbpcrmdO6oKGJdoGOeqHCIJA07T6Es/zkF+NPMll05rxTF/6ZYhEIh999BHoFejn5cuXSZLkeb6lpUW3uIzaihL2h9StIwzDtEMmnocsy9vb248ePYJ/iqI4Ozu7q3cjfNrCwoI2uYMgCPA8LRbLsWPHVF8JGpiBZ6goClwD8BJ02oPFEszzVNtt8jw/Pz+veqRVbTf1C54hSZKdnZ0QtdJSU3pq8gJsNtvZs2fPnj276/etra2G2GPy8oB8PL0v0djYeObMGUNMMnklSJLs6OiAxq1aTP08EFAU1dfX19fXt+v32hREk5oFx/FQKKQ2kVdpbGw8ffq0ISaZvBIkSR49evTo0aO7fm/q54GAoqgzZ848vVYx9bP2Oaij3p4HxDLV6BrDMJlMBmI/VqtVlmX1Jahoejo+uislAKJxz4yUwHBJeCmbzRYKBTXIpC0mrP1qqIMORMLUeowX1Blqk/UPU9aNzuz6Gl/ym9Tm96udHpAng1UgG9zj8Vit1l0pqXAHQdcWNdefZVnzzqp9tBU7h2k3Q2cEQYBe37BRoK1phy5/+3WgXXVT2imI2mJCSZIKhQLsaoqiWCgU1Fbk0FtCt3H2h4/njVXQAqdJnTHA8zxcEuqul8mrojwBearOUNvDdlc/WwzDRFGEc7SrqE87EXHXSYTzpW7zqnfWrto/5PkXg/ZnKEfU1h5raw53PaDVf0Ke6vPK27RX0cs/4msZ+H5g8xASlJBfEk91Kx6KDNUeB9oR87vQlpghmhQM6BmhpoHgOE6SJEx2hVw29SXop6DuGaqpqgiC8DyvLnuqLa2HzTNkGGZ6elo98fF4PJ1Ow36u1+t944031Kxin8936tSpp5OMYZCU+qVDLugz03a1tYW5XC4Wi6lvo2l6c3MTPkSHYsJfJ6o4EgTh9XphZwbH8RcUbmnvW9XlMHklIItdrRfief4FX6M2zqJ12i0Wi9o8oK6urre3F8LAPp+vo6NDvX8FQUin06CMGxsb09PTaq4/x3G1n01qIooiTdPqCd2lhC+Zu/grR5blZDIJFRMYhjU1NanbmJBc+rz8+ZdEG+VRJykjT6pcYMkiSVIul4PMcORJlQsUE0L/TzUbCt4Ji55djdlMXsyuNhWQi6jGsrV3CnjmsFTd3NxcW1uDvg9QPKa74QeVXdmkai6uoiiFQkF9WhEEIQgC/BPH8XK5rJ4U2G8AfVM0I+YRBCFJEgaDIT+vPEKeZJDCUoTn+Xw+r0661/r22uTPXenEaigcQRAMw9R79sV/I6K5iqDyX30V/Fg1m1R72z492/DAoXYoJEnS4/Gom5Yoij5v9jXIGmRy8jw/OTkJQwuRJ3XgT/8XqL7e2NjQHhc8UhzHC4WCWr6EYZjf74dSIKhUVF9SFAWCa8iTjS7VMwRphbICeNvrfSsv4rB5hqVSaW5uTv0nQRDj4+NwbhobG2/cuKFm+ra2tmodRRWe59WCYARBtre3oYHE08dKpVIjIyNwe5dKpY2NDdPT0BN1DwoGqkJ+rDob95mA+sPPh6wkQzdg+aiqklq1/0zUyBaKoiRJqnFNu93e1NQEK9pAIHDjxo0TJ04gCAKVJFrPMJvNgmiura3Nzc1NT09X848z2WckSWIYRu1N+vTC4oAuNfQEqlzu3buHIAhBEF1dXWqTLQzDgsFgKBTalwMpP++JCi27YG0EvZQmJibgJUEQ1tbW4GaEwhjTIXl9UM1oewRBYOjiM/vQwj4tuN9bW1ubm5vQ6OtwbO/ow64vCtYG4DjBmFnViYLJe1rPUD0pNptNPWXaXUfkiT8J74QR9uqDkuO4dDqt9iZlGEbtKqn1LaHMXvUMtVeC2tjm6f+1ywabzaatElRtgKFl6ju125XQ+HQPaUG1ya6cMrfb/TLZyIqiFIvFhYUFBEF4np+dnf3FKYvgGT6vn0IikVDj2hiGud1uWP/sqhjcFZ4zCuObX5uYmJiYmJiYmJiYmJgYi+kZmpiYmJiYmJiYmJiY/No5bNmku4B9cHVIizbjBbJ+n86BYRhG3ehHECSbzTIM88yMXqizN9vM1AJqV2IMw2phDPQhBrIdtJ1gtHm52sp4HMddLhdMLNC2nEEQxGazeb1ej8eDIIjL5bJarXD6oL5fLWIsl8vFYhEqnYrFora22+RAAAU2h3LYmp5AWwIEQSDbU21XAB0UIBMJ8s20DRVwHNf+U5v1rd5luyYZPl3WAseCHvfqXQ/55GpRlnla9wVFM8oMQRBBEJ63rtCeqXK5/Prjy0yQnxfcyrKsPq2gJkLbikl9JyT+aXMy1U+TJEl95O0qIIQzq9YWqjUX8MOu6kc1m1RrqrbrjNY25Of3I/S20Y461P4V2i4m2kM/XQ3+Cl9iTaJ6AfCFaKeqQjMY+Fn7hcAEESjq0y549tGeZ7YdqhE5PfyeoZqwm0qlBgYG1IvA5XLNzs6qOf0q8AhUr49yuawOpt8Fy7KpVErtD2YWrekPyCUMpXG73ciTejaj7TrM8Dy/vr6uOmkNDQ2nT58G3YTJhOpi1O12X79+vaGhAXmybFUfUSRJ+v1+GEUFI+/gZ57nt7e31bVpJpO5f/8+jKCkaVpb221yIOB5fmtrCy4P5edtn01eEkVRaJqGgYEYhqn9XZAndYYwVgpF0bq6OrXmEMMwj8ejVtSIoqg+CiVJ2tzcVEt2tWVIuzxDtc5QlmWaptXjQm2MelpNz2RfEEUxnU6raxKO49RzsYtKpTI/Pz85OYkgSCaT2dnZeeaa3uQX0X5j2mak2uUchmGSJKnNLSuVirYEsVQqqWFNrf8GNX6q86YtyIe+XKpnyLKstkeots5Q69epAwzhWFr3ZtdfpH4ahmHat+3yDCuVitYhUV+C5nyH5lrSlk8TBJFKpWKxGLyEoqjakAacBe1Y+dnZ2a+++gpBEFmWX3/tof2GYWCmes9qG47bp1kAACAASURBVDfsagxrFIfcM9T2Rstms7saCt25c8cIo0z2DdUztFgsh3tieO0gCML29jbE0hAEqVQq6XQaFp3g+6meYV1d3aVLl2CckXYyL/KkV9jTcRlYfaqjXZPJ5IMHD2CkLAho9f8+k/2E5/lUKgWrE5vNtuuZZzYmfRmg47ma3rK+vq6ubMAznJ+fh59DoZA6fBjHcTXgAosebffzqampb775Rj2E2lp9l2eYzWYTiYQef6QJgoiimMvltPkXz+vrw3FcPB4HYSyVSul0uhZWkwcOrfOza69GG8OCOTHq3h1JkloPTd3AhwZCWqdR6xlqfS3tRHtYo6ovaSVR+4G7HqBaa7UtTJGfuxa7HEhtr5oX9K3ZtQmJHPyIA7jBCIJAhgVE2ZAnrZ7VVqU8z6tnk+O4paWlu3fvwj9fP/i16wKrVCr7uw+5v5h5dyYmJiYmJiYmJiYmJr92DvmeocmvAdimVzeHcRzXTv5RA2CCIGiHz5pTK/aMNioJeRqQgwEBTnXPEN4DQdNdg3phGo86sxVODYIgNE1rp74Wi0U1nloj+fcmrwSGYRRFwXAgtQO7yWuijfSraaKQ50bTNLyE43g+n0+lUsiTPUO1nbogCIVCQdsYXd0zVAdwIwiiHfZtog/auUqwg5FMJp9+2/b2drFYhO2gF88NMnl9lJ+PXd2106jta/D0zpv68NLeSlDR94tFfSiK7jrWMw/04pe014a2jk55wjM/5LACEqet06YoCm4xSNoHwUQQhOf5YrH4q117mJ6hyQFG7S1ULBZh1C+O43V1ddD1BHkyrBn8FoZhdnZ21FIZSZLMGVx7AJphqM+5TCYzODgIJ6Kuru748ePt7e3wEiTewHhJcCa1A502NzchJbVcLsfjcZiUrf0ZQZBSqbS6ugpL1RrJvzd5JRwOR2dnp8/nQxDE7/drG6KY7A2IpKj/zOfzkByFouj6+no8Hoffw2TXBw8eIE/uHa3L97w0UWiVAT9DcmlV/xYTLfBIUkOcHMd98cUXw8PDT7+zXC4vLi5ubm4iTx5/uhp6SNF6gLs8AW1+pnbUIfIk9Ik8aZ+m/b06IBE8w10BHfXn58Vf4In5zHmGu9iV66g90K7faz3DXc/TQ/x4VV07SZJWV1e/+OIL+D2Kok6nE2qzwWlU14SyLK+vr6s34yH+cp6J+Zw2Oagomn5TDMNA4AfHcUVRVM9QURQohEMQBMaJqhXG5rpnb0C9n7p8zOfz09PTsFMRCARcLhfMb0UQhCAIq9Vqs9mQJ7KrPsAkSdre3oa1aS6Xe/z4MYyU5TgumUyqIT3k1xHIPMTYbLZoNAr3o91u127mm+wNbYQFQRBBEEzH4HAgy7J2THahUDB7bunM8x43z/v9rq4zu35+nmf4kgfSNsJ52jN83jYm8nPPcJdL84Ln6eHeP1S/h2Qy+cx9eBMtv+AZwiqwXC4LggAbrxaLheM4KJ3Ecdxms1EUZeYI1Sxq7wFFUXAct9vtBEHAHA5I/HM6nWYzz5oFKqfhdrNYLNDDA9qUQ0dWc7VdyzxPP6H9AOin1Wo156zUJqp4yrJMEIQpngcO0E+43SwWC0VRiqKY+nkggI21UqkkCAKKojabTRVPuB9N8axxtPqJ47jD4TD186DwC56hJEnJZHJoaGhnZ4cgiNbW1tbW1oWFhbm5ORzH/X7/yZMn29vbrVarPuaavCqCICwtLT169EgURZvN1tvb29jY2N/fv7m56Xa7Q6HQ+fPn6+vrjTbT5BnIslwoFKampmZmZhAEgfb0oigODQ0xDOP1etva2k6cOAFTAU1qEFmWt7a2hoaGtre3CYKIRqNtbW1LS0uxWAzDMJ/PB/oJZXgmtYYoiisrKw8ePBBFkaKo3t7e5ubmu3fvrq+vezyeQCBw8eJFUzxrFlmWi8Ui6KeiKIFAoLOzU5bloaGhYrHo8/mi0ejJkye9Xq/Rlpo8AxDP4eHhZDJJEERLS0tbW9vKysrs7CyKon6///jx4x0dHaZ41iygnw8fPuR5XtXP/v5+0E+/33/x4kUYamVSa/zyniFE19xudy6X+/HHH0ul0tLS0tbWVldXl9frNTcMaxwoL7FYLC6Xa2Nj49atW+++++7k5CSKokePHvV4PIcjZsPzPDRbJwhC21lB0YyyqVQqHMftGu1qiLUvD4yjdTgcoiguLCyk02mv17uwsBAIBPx+v9PpNDzgDd8w5OXCDO7t7W14iSCISqVit9uRJ7tnajYpdFqHzN5isVipVCA99ZDNBVXnEbvd7nw+//jx41KptLKykkwmofqOoqjDHfMG/YFqjaeHlNQ40FDeYrG43e719fWbN2/+5je/GR8fB/H0er2HQzwPMaCfdrtdkqTFxcVUKhUIBObn5/1+v9/vr6urMwtfaxYQTxRFXS5XoVAYGBhgGGZtbW1jY6Ojo8Pn89lsthpffD5zJgTy0jmru+oeX7I5zQsOoXOOqHbxub6+fuvWrffff39iYkJRlPb2dlM/a5lfkEUcx+vr60OhkNVqnZ2d/d///d90Oo1hWGtr64ULF5qamiDBRh9bTfYASZLt7e3t7e02m+3evXt/+MMfcrmcw+FobW29cuUKRVHQIOQgosqcIAibm5vQa4GiqDNnzvT29sJLkiSlUqmxsTEEQViWXV1dVad1vaDyu0ZAUdTtdp85c+bcuXPFYvHmzZuJRMJms4VCoVOnTp05cwbSaYw1kuf5ZDIJdYYURaVSqf7+fngJ5kyq+qAttBAEIZ/Pw7ngOG5nZwdqpXaN3z3ogH4GAgGKoubm5v7v//4P9DMajZ4/f765ufnQ6yfHcRsbG5AO7ff7GxoaDtDfSxBEW1tba2urw+G4f//+f//3f4N4RqPRq1evHmjx/DUATsXp06fPnj1L0/StW7dWVlacTmcwGDx58uTZs2drQT9NngeO45FIJBAIWCyWxcVFEE8URbXiabhr8eLOotqXXr7e73n/6wX/ZdexnueR/iL7++SFNMNoNOp0OkE/s9ms3W5vaWm5evWqzWYz9bNm+YWHNIZhEPJnWbZQKGAY5nK5yuXy8vIyy7LRaPTUqVNNTU3q/SnLMqT15/P51x8NafL6QK9OaMgLt6XH4xFFcWxsjGXZ5ubmc+fOadNpYIetVCodiK4Gar+pVCo1Pj6OIIjD4YhEIuobZFnO5XLa7ia1PF10FyiKWiwWi8UiiiJN0yzLOp1Ou92ezWYfPny4vb3d2dnZ29uryit0eSmXy9lsVrc/UxTFTCajdnydm5vT57gHAgzDbDabzWYD/YSlKsdxKysrlUqltbUV9FPdTFP1M5fLHQ795Hk+nU7D34Lj+MHaEAbxRJ40rwLxlGV5fHyc5/kjR4689dZbWvGE3pLlcvlAiOehR6ufDMNUKhWn0+lwOHK53KNHj3Z2dkA/nU4nvB/0s1KpZLNZbScYE0MA8UQQBNaTCIK4XC5JklTxPHHiRHNzs1Y8WZatVCo6i+cLNgBfst3Lax4Ieb5nuLcD7Rcvo5/QthoA/WRZ1tRPw3mp8C3P8ysrK5OTk5FIpLe398iRI42NjTRNLywsVCqV9957D7q+IghSqVRmZmZisdj09LTaBNLEcFiWhXKLvr6+jo4OyPorlUpDQ0OyLH/44YfwNkVRisXi8PDwwsIC7LOZGA74vVNTU6VS6dSpU0eOHKEoqlAo5HK5gYEBkiRPnToF7xQEYX19fWJiIhaLQSN7k1pAEIR4PD45ORkMBnt6elpaWurr62maXlpaAv1Uu7lWKpXZ2VnQT22DVhMDAfGcnJwE8SyVSuA5DA0NSZL0F3/xF/A2rXhClMqkFpAkKZ1OT01N0TR96tSplpYWi8VSKBTy+fzAwABBEKdPn4Z3iqK4ubk5Pj4ei8UWFxeNNdsEEARhdXV1amrK7/f39vayLBsOh2maXl5eLpfLDodDLfRlWTYWi83Ozk5PT6uRShPDYVl2enp6cnLyzJkznZ2dLMtms1lYfEqS9PHHH6vvZBhmaGhoYWFhYmLCQINNkJfxDEVRXFtb+/HHHyVJunz5cltbG4ZhZ8+eLRQKf/7zn+fm5s6ePat6hhiGQbaGz+czfKPfBOA4LhaL3b9/PxwO37hxw+/3X7161WKxbG5ufvHFF4ODg6pniCAIQRAejyccDrvdbgNtfiUgLxRK3TAM0zb75jgunU7DjBqO49TpNAcF2PMcGxtbWlrq6urq6+uDTGBJksbHx+/du7e0tKR6hiiKUhTl9/uDwSBEW00MR9VPnuevXLnS3t6O4/iZM2domr59+/bs7Gwul1M9QxzHD5l+QhgYqmHdbveuYLYa2hdFUTtXHSZB62/t0/A8H4vF+vv7Q6HQ+++/7/f7r1y5YrVak8nkH/7wh4GBAdUzhG57Ho8nEonAbFUTw1H1c3Fxsaur6+zZs5AMLEnS5ORkf3//0tKS6hmiKGq1Wn0+XzAYNPPcagFRFNfX13/66SeWZS9fvnz06FEcx0+fPk3T9J07d2ZnZ7PZrOoZwgBPqMA/cCXNhxWe5+fn5/v7+4PBICw+L1++TFHU9vb273//+8ePH2s9QxzH3W53JBJZW1sz0GYT5GU60Gxvb9+9e3d5efn8+fN+vx/SLRAEYRiG4ziKorR1Izabraenp6enx+Px/M///E91bTd5CSD74k9/+hPHce+99x5BEKVSiaZpgiByuZyiKGouDfKkMOPs2bNvvvlmjdfgaZFlOZ/PQ5SXIIhCoQDpowiCiKKYSqVgoSZJ0sHax1YUhWGY0dHRH374IRwOHz16FPYlYNA8wzAwMFB9P0mSjY2NjY2N0Wh0cnLSQMtNAEVRdnZ2+vv7FxcXz507FwgE1OlzoJ9Wq1XbQ4iiqO7u7u7ubq/X+/vf/944w/cN6LsD/QOPHTt27do1KE9AEITjuEwmAzqzvb2dz+ehWhVBkFKpVAueoSzL8Xj8j3/8Y6VSeffdd0mSZBiGpmmSJJ8WTwRB6urq+vr63nzzzVow3gT0c3x8/NGjR6FQqKOj48X6SRBEQ0NDQ0NDW1sbtIM2MRBFUVKp1L179+bn5/v6+oLBIM/zHMcpilIqlXiet1qt2sUnRVFdXV1dXV1+v18dZW4sr68De/6EWpAgWZZXV1f/+Mc/lsvla9euWSwWWHxaLJZsNvu0fjqdzr6+vjNnztR4Y6FfA7/gGcJW/tDQkCAIsVisWCw2NTWlUql0Os2yrCiKx48f1yYKm9QaLMvOzs4+fvy4s7NzYGBgZWWlubl5enq6XC6zLIui6NWrV4228XWBRwVsDCIIsrq6+sMPPxhr0r4gy3I6nZ6YmJibm1MU5YcffohEIiRJrq6uVioVnudDoZDaa8ekBhEEIZFIDA0NsSw7NzfHMExTU1M6nU6lUqCfx44dCwQCRptZRRiGmZmZgQWc3W7X1v8IgpDNZuE3kNyu3sKw/284HMeBeHZ0dAwODq6srLS0tKjiiSDIO++8Y7SNJs9FluVsNgvZ9bIsP3r0KBKJWK3WeDwO+hkMBt944w2jzTR5NiCeIyMjNE3Pz8+XSqWmpqZsNptKpSqViiiKvb29wWDQaDNrglrwA58GstUeP37c1tYG+hmNRmdmZqCYUJbla9euGW2jybP5Bc8QRdH6+vqPPvqI53mCIBwOh8/nIwgCJsYGAoGuri6oMTWpTXAcb29v/+1vf+t0OqHXpcfjaW5uhohpY2Oj+WisWWAL99y5c42NjTAkHfJkJEnied7pdEaj0SNHjhhtpslzQVE0Eol8+OGHHMeBfkKrbqvVqiiK3+/v6uo6QGnbvzYwDGtra/v888/hGaeKJ+RcmOJZ46AoWldXd/bs2fr6eoqiSJL0+/0URUmSxHEcpJU2NzcbbabJs0FRNBwOv//++yzLEgRht9t9Pp/VarVYLIqi+Hy+rq4uc5ZvLQNTDD7//HPIzQb9PHLkCOhnQ0PDsWPHjLbR5Nn8gmdIkiRMt9fHGpN9h6KoEydOnDhxQvvLrq4uo+wxeXkwDAsEAm+//bbRhpjsEZIko9FoNBo12hCTvWC1Wo8fP378+HHtL03xPChgGAZ1TUYbYrIXTPE86Fit1mPHju1y/0z9PBAcmNFSJiYmJiYHC+3U0FKptLm5yXEc/JNhmJ2dHTWblOM4QRDgJe3oSxMTExMTExPdMD1DExMTE5OqIIpiNpvFMAxBkLGxsf/6r/+CbjQIggiCwDAMTDgsFApra2uqZygIwsGafGhiYmJiYnI4MD1DExMTE5OqAEPG4edisbi8vGysPSYmJiYmJiYvADPaAJNaxEzlMjExMTExMTExMflVUa09QxRFMQyDZuUoiho7n0RRFEVRjDUDbICsquqB4/g+ZmHhOI5hmA5mvxh9vrqXMQNBkOpdQoqiEASxL58Pl7r6aebdp48NBEHsY0gFx/Fa0M9aOH2ILiKwj5+PoiiO4ziO14J21YINOphBEASGYfvy+Ks1/VStOtw2gH7ui4TiOE6SJIIghmvXr0c/93HxCfpZC4tPpDb0U5/Tp9XPanmGFEW1trYKglCpVOrq6iwWS5UO9DKwLEvTtNfr1c5F1ZlKpULTdDAYrKpAoCi6L1819Pvu6elBUbRUKhk4NQhmFXIc5/f7jbIBQRBZlkulkiiKXq+3SodQFMXlcu3LdFCCIMLhcHd3tyiKMPri9T9zz0A5GUmSu8ba6gnP8wzDUBSljlmvBiiK+ny+fZFviqKi0WilUjFcP1mWZRjG4/EYKJ7IE/0MBALVezqKotjQ0PD6n4OiqMPh6OnpcTgcMKQxFAq9/sfuDdBPlmWNHZsJ+ikIQvWmH6Mo6vf79+UqJQgiFArViH5CPjZBEAbqJ2i41Wqttn76/f7Xv8EpimppaeE4Dr46p9NptVr3xcI9wHEcTdOG6yfLssVisar6iaKoWkP+moB+oihK03Q4HN6Xz9wbiqKUy+VKpWKgfuogngiCoCgKI7Xgn9W6WJuamv71X/81FouNjIxcuHBhX564e2ZpaWlwcPCDDz4wcPrN3NzcwMDAZ599VlWREkVxX64eDMOOHTv27//+78vLyxMTE7/97W9f/zP3Bsdx09PTq6urn3zyiVE2IAhSKpUmJyfz+fwHH3xQpUPIskwQREtLy+t/lNvt/uijjxobG2dmZnAcN7ZvezqdHh0d9fv9p0+fNsqGra2tkZGRtra27u7u6h1FkiS73d7Y2Pj6H9XU1PS73/0O9PPcuXNNTU2v/5l7Y3l5eXBw8L333jM2NDM/Pz8wMPDpp5/abLYqHQLiPq+/ckJR9I033vjP//xPi8UyMzMzNjb2D//wD/ti4R7geX56enppaemv//qvjbIBQZByuTw5OZnJZD766KMqHUKWZRzH90U/XS7XBx98EIlEZmdnURQ1dm5QJpMZGxtzu919fX1G2bC9vT0yMtLc3FzVAZ6yLNtsttef0NvY2PjP//zPDMNsbm4ODw+fPn3awKmVKysrg4OD169fNzY0s7CwMDAw8Fd/9VcwWrAagH7iOP6an4OiaE9Pz3/8x3/Ao+cf//Ef98W8vSEIwvT09Pz8/GeffWaUDZVKZWpqant7++OPP67eUWBPUr37quUZ+v3+69evB4PBfD5/5cqVjo6OKh3oZRgeHk6lUtevXzcw/ODxeJLJ5G9+85vqrWz2EbhE6uvr79+/n8/nP/zwQ6MsKZfLFosFx3EDbUAQJJ/PYxi2tbVlrBkvid1uP3nyZDgchj1kY21OJBIsyzY1NRloxuLiIsMwp0+fvnTpklE2vBI+n+/atWvBYLBQKLz99ttVdWhfzOjoKIinsdE9n8+XTCZv3LgBQ+drGRRFGxsbP/nkE0mSHA5HJpMx8MqvVCpWq1VRFGNFoFAoYBi2vr5+IPTTZrOdOHEiEongOI6iqLE2r6+vcxwXDocNNGN5eblUKh0/fvzKlStG2fDyeL3ed955B0GQmZmZfD5/+fLlqjq0L2ZsbCydTl+9etVA7xRBEL/fn0wm33vvPQN3R16ehoaGTz755MGDB8lk0ti7j+M4iqJ4njfQDJqmCYJYWlrS04bqbnDjOG61Wg1PFAYzjM3zJgjCwJSGPYPj+H5lCOwNqPcw/KtDUZQkSWOTol8VsFlNDzAKDMNIkjQ2lwbDMIgvGGjDHsBx3GKxGKufGIYZLp7IEyEy3IxXxXDtMvVzz4DNhl9yEN0z9XMPgHYZa3btrIEPnH4avvgEDNdPQzS8unLjcrm6uroMzI8HPB5PT0+PsWfX5/MdO3bMWH1/VVAUDYVCBsbbEATBcTwSicA4bAMhSbKhoaF6mRjVgKKo5uZmwy85u93e2tpa1RT5X8TpdB49etTYfMg94HK5uru7jd0l83g8vb29hmc6HFD9DAaDx44dM9AGHMfD4XBXV5eBNiBP9LMW1nkvj9VqNXafB7Db7dFo1NhaR4fD0d7ebmw+5B5wuVydnZ3G6qfb7e7u7q4R/TQ8TPxKBAKBEydOGGsD6GdPT4+BNhAEUV9fr/OzD4cKlkAgcOHChX1PtrRYLMFg0O12G/tEt1qtoVDI7XYbGLmhKCoSidTV1R2gsA2KojabLRKJGOjbQzuHcDhsrFeGYZjT6QyFQlUtwd9fCIJwuVzBYNDYBRlBEB6Px+/3GxiaIUnS5/N5vd6DtWthsVgCgYCx3QusVitouLGhd6vVGg6HXS6XqZ+vBIZhdru9FvSzrq7uYOknjuMulysQCBiun263OxAIGKufXq/X5/MdOP30+/3G6qfFYgmFQh6Px1j9pCgqFAq5XC7Ddy9fElU8jXXsURQF/TRWw/VffFbRM5RlWRAEnudZllUURc/EDFEU8/l8Pp/ned5qtUJOXbFYLBaLgiCQJKnD7aEoCsdx2Wy2WCyyLGuxWDwejyAI2WyWpmlRFC0WSy2vciRJYhgGuqJBQqA+x9V+b4qiUBQF5yubzZZKJUVR9PneJEkql8u5XI5hGJ7nCYKgKEpRlFwuVy6Xdb6e94CiKKIo8jzPcZwgCNBDX59DS5JUKpXy+Xy5XIZ8HpIkeZ4vFAosy2rbwVcP+POLxWKhUCiVStBrF8dx+A3HcfCF1OwZlGUZunFCXTjcg/ocepd4WiwWi8ViiHjmcjkQT1glWCyWfD5/IMQTMVQ/eZ4H/ZRleZd+yrJslH7CtskB0k9JkjiO01k/oQ8hfEtw2YCUVSoV3cQTeb5+0jSdz+c5jsMw7KDoJ4z/0VM/C4UC6KfFYoHHH+gnz/P662elUoGuoap+CoJgeJHCLyJJEs/zPM9XKhX99RO+uhrRT0EQbDab0+mE3+ijn1X0DGmaHhwcvHPnzsTEBDQct9ls+khJKpX67rvvvv3220Qi0dnZieP4/Pz8zZs3h4aGNjc3g8Gg0+mstiWiKC4tLX3zzTejo6OxWEwQBL/fPzc399VXX42Ojm5vb0ciEbvdXpvaqijKzs7O3bt37969u7i4KMtyY2OjPlIiSdLKysqXX3754MGDUqnU3d1N0/TIyMjNmzdnZmZomo5EItUO4iqKQtP02NjY999/PzExkUgk4OkyNDT03XffxWIxlmVDoZDh1TsvgOO4xcXFO3fu/PTTT8lk0maz+Xw+fS62Uqk0PDz89ddfT0xM1NXVBYPBZDL54MGD/v7+5eVlHMd9Pl+1hV6W5a2trYcPHz58+HBmZiaXy9nt9nw+39/f//Dhw3g8TlGUsWNsXgxN08PDw3fu3BkfH4du47qJZzqd/v7770E829vbCYKYn5+/devW4ODg5uam3+93Op3VlgIQz1u3bo2MjMRiMZ7nvV7v4uKiKp7hcLhmxRNBEEVR0un03bt379y5s7CwIMtyU1OTbvoZj8e//PLL+/fv0zTd29vLMMzo6Og333wzPT1dLBbr6+v10c+JiYnvvvtO1U+SJIeHh7/99tvZ2dlKpRIOh2tZP3meX1paunPnzo8//ri5uWmz2fx+vw7XG8MwIyMjX3/99fj4OGxWJJPJhw8f3rt3b2lpCeY66LBKBv384YcfHj58OD09nc1m7XZ7oVC4d+/ew4cPV1ZWrFarz+erWf2Er/H27dvj4+OFQiEQCOgmF+l0+vbt299++208Hm9rayNJcmFh4bvvvhsYGNjc3PR6vfro58rKyq1bt4aHh+fm5jiO83q9S0tLX3/99cjIyNbWVo3rJ4IgmUwG9HN+fl6SJN30U5blRCLxpz/9qb+/X9XP8fHxr7/+empqqlAo6KOfpVJpYmLi22+/nZiYWF1dhULfkZGRb7/9dmZmplwuRyKRqupntTxDWZZXVlb+/Oc/wzCZ5eVlv98fCAT0kZJyuby5ubmxsbG2tnbhwoVyudzf388wTCAQSCaTLMu2tLRUOy9CFEXw78PhcLFYnJiYcLlcjx8/FkUxFAolEglRFNvb22szciMIwuTk5Pfff9/T08Oy7Pz8vG71orIsF4vFRCKxsbFB0/SlS5eWlpYePnwIuT3r6+v7NdrhBSiKwrJsoVBQFMXtdm9tbSUSCVmWJycnSZK02Wybm5sURe3LfIJqoChKNpv96aef1tbWIpFIKpUql8vNzc36pEUJgpBKpdbX1zc2NgKBQENDw+jo6MLCgtPpFEUxm816vd5ql/zJsswwDE3TDocDRdGlpSWWZTc2NjY3N10uV7lcLhQKkCRZVTP2hizL8Xj89u3bNpuNoqiVlRWv1xsMBvUUz/X19bW1tbfeeotl2Xv37hWLRb/fv729zbJsc3Nztdf0kiTl83mYBEjT9OTkpMvlGhgYEAQBxFMQhLa2tpptiSFJEjzXQT9jsVhXV5c+aVGKohSLxbW1tfX1dWhsu7y8fP/+fRzHPR7P+vo6juPRaLTaNvA8n8/nZVmGptzxeBxBkImJCZIk7Xb7xsaG1Wo1cBbLiwH9fPz4cTweb2hoSKfTDMPoo5+CIKTTaRBPv9/f2Ng4Pj4+Pz9vt9slScpkMjqIJ6LRT/AflpeX0yty8wAAEHtJREFU1TWVy+WqVCrgbtVmo0tZlldXV+/cuWO1Wm02Wzwed7vdOusnLD77+vp4nocG736/f2dnp1KpHDlypNoXklY/GYaZmppyOp1DQ0McxwWDwY2NDZ7nW1tba9axlyRpamrqm2++eeONN2BumW719qCfsP7MZrNXr16Nx+P37t3DMMzn80GQq9r6iSAIx3Ggn16vd2tra3l5GcOwsbExkiQdDsfGxobFYnn9+S4voFqeIcuyMzMz8Xj8gw8+6OjoSCQSkiQdOXJEn0pcqG9UFCWZTF64cGFnZ+f+/fs3bty4cOECOGlvvvlmtesuMAxzOBxHjx7t7e0VBGFoaIgkyenp6b/927/t6+tLpVKjo6NXrlypwZsTIr7Dw8P5fP6f/umfKIqanZ11Op063A/Ik8TuQCAA2SAXLlyYnJyMxWJ/93d/19HRsba2lkgkzp8/X20zCILw+/2dnZ3Nzc3pdHpubk4QhHK5/OmnnzY3N8fj8UwmY+CAvhcjiuLGxsbs7GxDQ8P7779fKpW2t7cDgUAwGNTh6DiOu91uu92ey+WCwaDP5xscHKyrq/vwww+dTufCwoLNZmtra6uqDZA/09DQ0NPTU1dXt7i4mMvltra2Ojo6bty4QZJkLBYLBoO16duzLDs7OxuPx2/cuNHV1bW2tiYIQlNTkz5lBiCeCIIkk8m33nork8k8ePDg+vXrFy9ehI2gkydPVjtIBNXF7e3tvb29oigODw/jOD49Pf3pp5+ePXsWJrxdunSpZhsq0DQ9NDSUyWT+5V/+xW63z8zMOJ3O1tZWHQ4Nmbegn4VC4dKlS1NTU9PT03//93/f2dmZSCTi8fjFixerbQNBED6fD/Qzk8nEYjHITvybv/mblpaW1dXVdDp95syZqpqxZyRJ2tzcnJ6eDofDH3zwQblcTiaTwWBQB/0EBx4SHHw+XzAYHBwctNlsH330kcvlWlhYIEny6NGj1TZD1c/u7m6Xy7W8vJxOp7e3t1tbW2/cuGG1WmOxmNfrreradM9wHBeLxeLx+PXr13t6etbW1nie11k/URTd2trq6+vL5/MPHjy4cuXK5cuXYarnsWPHqt1PCPSzra2tp6dHluWRkREURWOx2F/+5V+eO3cum82OjY2dP3++ZjftGYYZGhra2dn53e9+53A4pqam4M/R4dBw5YdCIZZls9ns22+/PTU1NT4+/vnnn3d3d6+vry8uLlZ79hWKopBa1dnZGY1Gs9ns7OwsePufffZZa2trIpHY3t6u6oDTam1YcRxXLBbr6uqcTmddXZ3P58vlchzHVelwuyBJ0u12q9d9uVymabq+vt7r9QYCgVQqpUOvS/AMnU5npVJJpVJWq5UgCJqmjxw5AgXlyWRSluVqm7E3yuUywzDhcNhms7ndbo/Hs7Gxoc+h4c5UuxZB8JLjOPjenE7n9va2DjZAbEatsIIiQ8gKg0srnU5X24w9I4oiwzCKovh8PofD4fV6EQTJZrP6HB3HcafT6XA4YEuH53mapm02Wzgc9nq9UIZRbRtQFLVarU6nU5blbDYrSZLFYuF5HrJbvV4vy7IMw1TbjL3BcRxN03VP8Pl8+XyeZVl9jk6SpMvlUidVQIAmEomAeKbTaUEQqm0D9E3RiidJkgzDwN0XCAS2trYkSaq2GXtDURR44kDKltvt9nq9xuony7JHjhxxuVx1dXVbW1s6mEEQhMPhsFqtNE0XCgXQT8gKc7vdFEXt7OzoYMbeAP2UZVnVTxRFM5mMDofGcRyWDZBMJAgCTdPQfsnr9UqSVCwWdTBD1U8orYfKNNDPUCjk8/k4jiuVSjpYsgdAPx0OB1zwfr8fyu30Obq6+AT9LJfLxWIRTp/P58tkMjzPV9sGVT9Zlk2lUhaLhSRJmqYbGxs9Hk8gENje3q5Z/UQQBKJa4XAYpMzn862vr+tz6F36qSgKwzCVSqWlpcXlcrlcLp31E2p9YZNZFEXQT5vNVm39rJZnKMuyLMtQo4xhGIZhkiQZ5QjBMwmqkDEM09MMlmUnJycnJyf7+voCgQDUQ0P1di3fmXD64N6AL83AuRGyLCuKop4+3b43cCrGx8czmcypU6cgmQFOH4qitXz6EASRZRkiT3ADwm8MNwZ8RUVR9DmuIAirq6uTk5Nut7utrQ3K7sEMRVF0M+NVgRgEnDs4fXALGGuMIeI5PT09OTl56tQp6JivmlH7dx88cRBTP8fHU6nU0/pZs1FR5Mk1D5KFIAjopyGXnNYS/WVcEIREIgHl4u3t7dB7AywBw3Sz5JWA1QtcZjWlnziO66yfMzMzk5OTJ0+eDIVCsJNf+4tP5OfrT7jkDNdP/R89sizn8/mJiYmtra3Tp0/rvP6slmdIkiRFUZVKRRAEjuPK5bLdbjcq+cdisdhsNogblctlh8OhT3Ufz/Ozs7P37t2LRCLvvPOOy+WiKArC/wzD1PIEC+ipVSgUJEliWbZSqRhVUQDBS4Ig4HvjOE6fdHO4LcfGxmKxWE9PT19fH7QAKRQKlUpFFEXDp3S+AOgICnXMgiBAuNSofvEw6heC39BwT59yR1EU19fXHz9+XKlU+vr62traKIriOI5hmHK5XMtzt6ERbqVSgeZs5XLZZrMZlXYOSg7nTmfxjMVi9+7dC4fD77zzDmw0QXvbcrlcy+KJIAgUOBUKBegqWS6XjapoVeekQ0tJPfWzUCiMjY3NzMx0d3efO3fOZrNhGAZnUBTFWp4NC5KFIAjoZ7lcRhDEEINh2LcoijRNQ5NG3UZoQEnC48ePS6XSmTNn2tvbbTYbz/OwhUKSZM3mIoJkwWoBFp/QYdJAY+ChUyqV7Ha7PtXRPM/Pzc3du3cvEAhcuXLF4/GAflYqlVKpVOP6abFYwFpYf5ZKJQMrWkE/c7kcy7Isy+pZ7jg2NjY5OdnV1fW0flZ7/Vmt1QZFUVDqsLKyQpJkKpU6e/asbmtTGA6RyWQYhkmlUiRJhkKh6enpcrkMDfd0EDXowfPll1+yLHvlyhVIsauvrx8ZGWlubl5bW+vt7a3N9jMoijqdzkAgMDU1tbCwsLy8zDBMR0eHPkdXFAVSyHK5HE3TuVwOcpKhVi2fz+tgCeSDjY+P9/f3BwKB9vZ2KP8gCGJ4eJggiEqlok/W+94gSdLj8Vit1o2NjcXFRahXjkQi+hwdUp4ymUyhUIAccp/PB8vEXC4HSfzVtkFRlFQqdf/+/VgsBjtOgiBAFs3ExMTGxgbkqFTbjL2hFU+KomDLRbeFqVY80+k0iOfMzAzLsqurq9FoVIe1KfTg+X//7/+Vy+VLly4RBOF0OiORyOjoaEtLSyKR6O7ursEKbQCKfILB4NjY2OLi4srKSrFY7Ozs1Ofo0D0rnU6DfmazWcipGxgYcLvd2WxWn6n3lUplcnLy7t27Pp+vo6MD9JMkyaGhIYvFUiqV2tvbdTBjb8AIVqvVurm5ubS0tLGxQZJkfX29DoeWJImm6XQ6rYqn1+uFGGWhUNBNxqG57oMHD2ZnZ48fPx4MBkVRhEqciYmJZDLpcrl0aISzNyiK8vv9HMfF43GHw7Gzs3P8+HHdIrmqfsJ5BP2E7vSJRKKlpUWHXhvQg+err75iGOb8+fMWiwWGQkOnVujYX7P6iSCI0+kMh8MjIyOLi4vxeLxQKOijWsiTgR/pdBrGy2Wz2bq6Oo/HMzAw4PP50ul0d3e3DmZUKpWpqanbt297PJ7Ozk4Mw0CRBgcHIdBQ7WLjanWggU3PdDo9PT29srLi8/neeuutQCCgZ+PgH374YX19HVaELpdrYmJibm5OkqQrV640NTVVO3LDsuzQ0NDXX38NFTLQKdhmsw0ODi4sLKAoeuPGjXA4XJuRG1CNtbW1sbGx7e3t9vb2ixcv6hN1g67rN2/eHB0dTafTOI4Hg0EMwwYGBtbW1txu9zvvvFPtAJIsy+l0+uHDh48fPyZJEqbKhEKhcrk8PDy8ubkZCoUuXbpU7TryPQMpNJVKZXFxMRaLSZJ0/Pjx7u5ufaKVpVJpdHT0zp07sViMYRiHwwFt2SYmJvL5fGdn54kTJ6odJBIEYXl5+fbt25ubm5IkQXjI4/EkEompqSmGYY4dO9bT02PsDOvnAeKZyWRAPD0ez1tvvQV3gQ5Hz2Qyt2/f/vHHH6EFqN/vd7lcU1NTc3Nzoihevnz5yJEj1V5VsCwLvftxHC+VSslkEsRzaGhoYWEBQZB33303EonUZmQNQRDIBF5fXx8dHd3a2mpra7t8+bJu+rm6unrz5s2RkZFUKoXjeCgUwnF8YGAgkUi4XK5r165B4XH1kGUZGhf9+OOP6hQ1aOoAg6MCgcClS5dqszMwotHPpaWl2dlZnuePHTvW29urg36Wy+WxsTEQT2gN6vf7M5nM+Ph4Lpc7evToqVOndIiwC4KwtLR0+/bt9fV1SZLS6TRBEG63e21tbXJykqbpN954o7e3V5+Ggq8KZP1ls9np6enl5WWXy3Xu3LlQKKSPXGSz2bt37z569CiRSPA87/f7PR7P9PQ0OIeXLl1qaWnRQT9hUA2KoqVSaWtrKxgMOhyO4eHhhYUFRVGuXbtWX19f+/o5Nja2sbHR1tb29ttv66Ofsiyvra198803oJ8oiobDYYIgHj9+nEgknE7n9evXddDPbDb78OHDR48eafWT5/mhoSHoWnz58uWq6icKbR67u7v/7d/+7cSJE/v40YIgJJPJlZUV6NuhQ69zlWKxODc3t7OzIwgClBhRFLW0tFQul/1+f1dXlw7DwaDGKRaLQS2y0+lsb29XFAXGc4VCoe7u7prNZ0MQpFKprK6urq6u2u329vb2hoYGfY4ry3IqlYrFYoVCAUXRYDAYjUZ5nl9cXERRtLGxEXbwqmoDdGeFaDFFUdBnr6GhoVgsxuNxgiCamppaWlpqtmk+8qRvdTwez+Vyfr8/Go1WW85UWJZNJBKrq6uQxtPY2BgIBDKZzNbWlt1uj0aj4XC42s8kSZJ2dnYWFhZKpRLk8zQ0NNTV1W1sbGQyGafT2dbW5vf7a/bRCOIZj8clSWpsbNRt4giCIDRNq+LpcrlaW1ttNtvy8nKpVIJuvToMwoL4eiwWg9ImOF8IgsBsrmAw2NXVpfZ4qE1Ylo3H46CfbW1tunXBhajW7Ows9HkC/RRFcXFxEUGQhoaGo0eP6qCfDMMsLS2tr69TFIXjuN/vb2hoYBhmZWUFw7CmpqZoNFr7+rm6uprNZn0+XzQa1SfFgOO4tbW1eDxeLpctFktjY2MwGMxms1tbWxRFRaNRfQIiEE1bWFhgGAYSRxsaGlwuVzKZTKVS0Gg3EAjUsn5ubW3F43FRFBsaGlpaWvTUz/n5+e3tbUEQ6urqWltb7Xb7ysoKwzDQbRIGKVXVBtDPubk5mIcO5wtF0fn5eZZlD4p+rq6uxuNx6GSu24QbiGrNzMyAfgYCgdbWVkmSICJZX18PGRBVtQH0c3l5OZFI2Gw26FPa2NgI+omiaFNTU2tra1XNqKJnaGJiYmJiYmJiYmJiYnIgqNGQj4mJiYmJiYmJiYmJiYlumJ6hiYmJiYmJiYmJiYnJrx3TMzQxMTExMTExMTExMfm1Y3qGJiYmJiYmJiYmJiYmv3ZMz9DExMTExMTExMTExOTXzv8HDwz9TNglcRQAAAAASUVORK5CYII=)"
      ],
      "metadata": {
        "id": "9ms3P-U8rW5T"
      }
    },
    {
      "cell_type": "code",
      "source": [],
      "metadata": {
        "id": "IctB_bf4xAeK"
      },
      "execution_count": null,
      "outputs": []
    }
  ],
  "metadata": {
    "colab": {
      "provenance": [],
      "collapsed_sections": [
        "EW0jbK6LZwcL",
        "KBI3VCE0eXyS",
        "D08H7KQ1fG_s",
        "J9jrj5cqbd9m",
        "g-9SAjJQM8JE"
      ],
      "mount_file_id": "1dfEn5OzJbaWBtLIN_cmf5sMnQ25gj1CV",
      "authorship_tag": "ABX9TyMyuMxkS/ktIIyaD2S1KlbD",
      "include_colab_link": true
    },
    "kernelspec": {
      "display_name": "Python 3",
      "name": "python3"
    },
    "language_info": {
      "name": "python"
    },
    "widgets": {
      "application/vnd.jupyter.widget-state+json": {
        "3731a482e60d4d8e926fe6a0d4c95a26": {
          "model_module": "@jupyter-widgets/controls",
          "model_name": "HBoxModel",
          "model_module_version": "1.5.0",
          "state": {
            "_dom_classes": [],
            "_model_module": "@jupyter-widgets/controls",
            "_model_module_version": "1.5.0",
            "_model_name": "HBoxModel",
            "_view_count": null,
            "_view_module": "@jupyter-widgets/controls",
            "_view_module_version": "1.5.0",
            "_view_name": "HBoxView",
            "box_style": "",
            "children": [
              "IPY_MODEL_1711942ae09d4961b89c8925415be191",
              "IPY_MODEL_4a2eac0b2e47404ea0839ef9398aa6f5",
              "IPY_MODEL_102bc28702bc4c20a4bcdd0725782e08"
            ],
            "layout": "IPY_MODEL_9a237c6f0d064280800e4e089b3b6cd6"
          }
        },
        "1711942ae09d4961b89c8925415be191": {
          "model_module": "@jupyter-widgets/controls",
          "model_name": "HTMLModel",
          "model_module_version": "1.5.0",
          "state": {
            "_dom_classes": [],
            "_model_module": "@jupyter-widgets/controls",
            "_model_module_version": "1.5.0",
            "_model_name": "HTMLModel",
            "_view_count": null,
            "_view_module": "@jupyter-widgets/controls",
            "_view_module_version": "1.5.0",
            "_view_name": "HTMLView",
            "description": "",
            "description_tooltip": null,
            "layout": "IPY_MODEL_c4d51053db18403ab26677820c6fecfe",
            "placeholder": "​",
            "style": "IPY_MODEL_64980822a3c448f28168f07f8c69ca97",
            "value": "100%"
          }
        },
        "4a2eac0b2e47404ea0839ef9398aa6f5": {
          "model_module": "@jupyter-widgets/controls",
          "model_name": "FloatProgressModel",
          "model_module_version": "1.5.0",
          "state": {
            "_dom_classes": [],
            "_model_module": "@jupyter-widgets/controls",
            "_model_module_version": "1.5.0",
            "_model_name": "FloatProgressModel",
            "_view_count": null,
            "_view_module": "@jupyter-widgets/controls",
            "_view_module_version": "1.5.0",
            "_view_name": "ProgressView",
            "bar_style": "success",
            "description": "",
            "description_tooltip": null,
            "layout": "IPY_MODEL_fd6be6e6adf6419893a2e9f03bbd1307",
            "max": 9912422,
            "min": 0,
            "orientation": "horizontal",
            "style": "IPY_MODEL_45803fc717f84824b13aa2d8fd0025fa",
            "value": 9912422
          }
        },
        "102bc28702bc4c20a4bcdd0725782e08": {
          "model_module": "@jupyter-widgets/controls",
          "model_name": "HTMLModel",
          "model_module_version": "1.5.0",
          "state": {
            "_dom_classes": [],
            "_model_module": "@jupyter-widgets/controls",
            "_model_module_version": "1.5.0",
            "_model_name": "HTMLModel",
            "_view_count": null,
            "_view_module": "@jupyter-widgets/controls",
            "_view_module_version": "1.5.0",
            "_view_name": "HTMLView",
            "description": "",
            "description_tooltip": null,
            "layout": "IPY_MODEL_b061e62721a64aa8b37b0bcb28fea739",
            "placeholder": "​",
            "style": "IPY_MODEL_ef91a8bd41534885931bc2c432f87e6a",
            "value": " 9912422/9912422 [00:00&lt;00:00, 13892031.84it/s]"
          }
        },
        "9a237c6f0d064280800e4e089b3b6cd6": {
          "model_module": "@jupyter-widgets/base",
          "model_name": "LayoutModel",
          "model_module_version": "1.2.0",
          "state": {
            "_model_module": "@jupyter-widgets/base",
            "_model_module_version": "1.2.0",
            "_model_name": "LayoutModel",
            "_view_count": null,
            "_view_module": "@jupyter-widgets/base",
            "_view_module_version": "1.2.0",
            "_view_name": "LayoutView",
            "align_content": null,
            "align_items": null,
            "align_self": null,
            "border": null,
            "bottom": null,
            "display": null,
            "flex": null,
            "flex_flow": null,
            "grid_area": null,
            "grid_auto_columns": null,
            "grid_auto_flow": null,
            "grid_auto_rows": null,
            "grid_column": null,
            "grid_gap": null,
            "grid_row": null,
            "grid_template_areas": null,
            "grid_template_columns": null,
            "grid_template_rows": null,
            "height": null,
            "justify_content": null,
            "justify_items": null,
            "left": null,
            "margin": null,
            "max_height": null,
            "max_width": null,
            "min_height": null,
            "min_width": null,
            "object_fit": null,
            "object_position": null,
            "order": null,
            "overflow": null,
            "overflow_x": null,
            "overflow_y": null,
            "padding": null,
            "right": null,
            "top": null,
            "visibility": null,
            "width": null
          }
        },
        "c4d51053db18403ab26677820c6fecfe": {
          "model_module": "@jupyter-widgets/base",
          "model_name": "LayoutModel",
          "model_module_version": "1.2.0",
          "state": {
            "_model_module": "@jupyter-widgets/base",
            "_model_module_version": "1.2.0",
            "_model_name": "LayoutModel",
            "_view_count": null,
            "_view_module": "@jupyter-widgets/base",
            "_view_module_version": "1.2.0",
            "_view_name": "LayoutView",
            "align_content": null,
            "align_items": null,
            "align_self": null,
            "border": null,
            "bottom": null,
            "display": null,
            "flex": null,
            "flex_flow": null,
            "grid_area": null,
            "grid_auto_columns": null,
            "grid_auto_flow": null,
            "grid_auto_rows": null,
            "grid_column": null,
            "grid_gap": null,
            "grid_row": null,
            "grid_template_areas": null,
            "grid_template_columns": null,
            "grid_template_rows": null,
            "height": null,
            "justify_content": null,
            "justify_items": null,
            "left": null,
            "margin": null,
            "max_height": null,
            "max_width": null,
            "min_height": null,
            "min_width": null,
            "object_fit": null,
            "object_position": null,
            "order": null,
            "overflow": null,
            "overflow_x": null,
            "overflow_y": null,
            "padding": null,
            "right": null,
            "top": null,
            "visibility": null,
            "width": null
          }
        },
        "64980822a3c448f28168f07f8c69ca97": {
          "model_module": "@jupyter-widgets/controls",
          "model_name": "DescriptionStyleModel",
          "model_module_version": "1.5.0",
          "state": {
            "_model_module": "@jupyter-widgets/controls",
            "_model_module_version": "1.5.0",
            "_model_name": "DescriptionStyleModel",
            "_view_count": null,
            "_view_module": "@jupyter-widgets/base",
            "_view_module_version": "1.2.0",
            "_view_name": "StyleView",
            "description_width": ""
          }
        },
        "fd6be6e6adf6419893a2e9f03bbd1307": {
          "model_module": "@jupyter-widgets/base",
          "model_name": "LayoutModel",
          "model_module_version": "1.2.0",
          "state": {
            "_model_module": "@jupyter-widgets/base",
            "_model_module_version": "1.2.0",
            "_model_name": "LayoutModel",
            "_view_count": null,
            "_view_module": "@jupyter-widgets/base",
            "_view_module_version": "1.2.0",
            "_view_name": "LayoutView",
            "align_content": null,
            "align_items": null,
            "align_self": null,
            "border": null,
            "bottom": null,
            "display": null,
            "flex": null,
            "flex_flow": null,
            "grid_area": null,
            "grid_auto_columns": null,
            "grid_auto_flow": null,
            "grid_auto_rows": null,
            "grid_column": null,
            "grid_gap": null,
            "grid_row": null,
            "grid_template_areas": null,
            "grid_template_columns": null,
            "grid_template_rows": null,
            "height": null,
            "justify_content": null,
            "justify_items": null,
            "left": null,
            "margin": null,
            "max_height": null,
            "max_width": null,
            "min_height": null,
            "min_width": null,
            "object_fit": null,
            "object_position": null,
            "order": null,
            "overflow": null,
            "overflow_x": null,
            "overflow_y": null,
            "padding": null,
            "right": null,
            "top": null,
            "visibility": null,
            "width": null
          }
        },
        "45803fc717f84824b13aa2d8fd0025fa": {
          "model_module": "@jupyter-widgets/controls",
          "model_name": "ProgressStyleModel",
          "model_module_version": "1.5.0",
          "state": {
            "_model_module": "@jupyter-widgets/controls",
            "_model_module_version": "1.5.0",
            "_model_name": "ProgressStyleModel",
            "_view_count": null,
            "_view_module": "@jupyter-widgets/base",
            "_view_module_version": "1.2.0",
            "_view_name": "StyleView",
            "bar_color": null,
            "description_width": ""
          }
        },
        "b061e62721a64aa8b37b0bcb28fea739": {
          "model_module": "@jupyter-widgets/base",
          "model_name": "LayoutModel",
          "model_module_version": "1.2.0",
          "state": {
            "_model_module": "@jupyter-widgets/base",
            "_model_module_version": "1.2.0",
            "_model_name": "LayoutModel",
            "_view_count": null,
            "_view_module": "@jupyter-widgets/base",
            "_view_module_version": "1.2.0",
            "_view_name": "LayoutView",
            "align_content": null,
            "align_items": null,
            "align_self": null,
            "border": null,
            "bottom": null,
            "display": null,
            "flex": null,
            "flex_flow": null,
            "grid_area": null,
            "grid_auto_columns": null,
            "grid_auto_flow": null,
            "grid_auto_rows": null,
            "grid_column": null,
            "grid_gap": null,
            "grid_row": null,
            "grid_template_areas": null,
            "grid_template_columns": null,
            "grid_template_rows": null,
            "height": null,
            "justify_content": null,
            "justify_items": null,
            "left": null,
            "margin": null,
            "max_height": null,
            "max_width": null,
            "min_height": null,
            "min_width": null,
            "object_fit": null,
            "object_position": null,
            "order": null,
            "overflow": null,
            "overflow_x": null,
            "overflow_y": null,
            "padding": null,
            "right": null,
            "top": null,
            "visibility": null,
            "width": null
          }
        },
        "ef91a8bd41534885931bc2c432f87e6a": {
          "model_module": "@jupyter-widgets/controls",
          "model_name": "DescriptionStyleModel",
          "model_module_version": "1.5.0",
          "state": {
            "_model_module": "@jupyter-widgets/controls",
            "_model_module_version": "1.5.0",
            "_model_name": "DescriptionStyleModel",
            "_view_count": null,
            "_view_module": "@jupyter-widgets/base",
            "_view_module_version": "1.2.0",
            "_view_name": "StyleView",
            "description_width": ""
          }
        },
        "45026d8f72c54d7a8ba9cfc04074864f": {
          "model_module": "@jupyter-widgets/controls",
          "model_name": "HBoxModel",
          "model_module_version": "1.5.0",
          "state": {
            "_dom_classes": [],
            "_model_module": "@jupyter-widgets/controls",
            "_model_module_version": "1.5.0",
            "_model_name": "HBoxModel",
            "_view_count": null,
            "_view_module": "@jupyter-widgets/controls",
            "_view_module_version": "1.5.0",
            "_view_name": "HBoxView",
            "box_style": "",
            "children": [
              "IPY_MODEL_b8b8b2c2401b4d7cb99d0c0a14658d0f",
              "IPY_MODEL_69b3aaff93f24f50bc4f01828c42940a",
              "IPY_MODEL_847f4ba507f74f3aacab08d72a8f5faa"
            ],
            "layout": "IPY_MODEL_816ce26dd2804a70b10cc16355abd16c"
          }
        },
        "b8b8b2c2401b4d7cb99d0c0a14658d0f": {
          "model_module": "@jupyter-widgets/controls",
          "model_name": "HTMLModel",
          "model_module_version": "1.5.0",
          "state": {
            "_dom_classes": [],
            "_model_module": "@jupyter-widgets/controls",
            "_model_module_version": "1.5.0",
            "_model_name": "HTMLModel",
            "_view_count": null,
            "_view_module": "@jupyter-widgets/controls",
            "_view_module_version": "1.5.0",
            "_view_name": "HTMLView",
            "description": "",
            "description_tooltip": null,
            "layout": "IPY_MODEL_4170173245b44969b648569eb991cbbb",
            "placeholder": "​",
            "style": "IPY_MODEL_a3b362f3ebfa42069707bec150fefc1f",
            "value": "100%"
          }
        },
        "69b3aaff93f24f50bc4f01828c42940a": {
          "model_module": "@jupyter-widgets/controls",
          "model_name": "FloatProgressModel",
          "model_module_version": "1.5.0",
          "state": {
            "_dom_classes": [],
            "_model_module": "@jupyter-widgets/controls",
            "_model_module_version": "1.5.0",
            "_model_name": "FloatProgressModel",
            "_view_count": null,
            "_view_module": "@jupyter-widgets/controls",
            "_view_module_version": "1.5.0",
            "_view_name": "ProgressView",
            "bar_style": "success",
            "description": "",
            "description_tooltip": null,
            "layout": "IPY_MODEL_70861c1edbab437a927420a967783371",
            "max": 28881,
            "min": 0,
            "orientation": "horizontal",
            "style": "IPY_MODEL_647b1a40276448149ecde4e65df402c0",
            "value": 28881
          }
        },
        "847f4ba507f74f3aacab08d72a8f5faa": {
          "model_module": "@jupyter-widgets/controls",
          "model_name": "HTMLModel",
          "model_module_version": "1.5.0",
          "state": {
            "_dom_classes": [],
            "_model_module": "@jupyter-widgets/controls",
            "_model_module_version": "1.5.0",
            "_model_name": "HTMLModel",
            "_view_count": null,
            "_view_module": "@jupyter-widgets/controls",
            "_view_module_version": "1.5.0",
            "_view_name": "HTMLView",
            "description": "",
            "description_tooltip": null,
            "layout": "IPY_MODEL_09c4c16c12d945038f25b5b88171fa13",
            "placeholder": "​",
            "style": "IPY_MODEL_1ae557bdf24046aa972e0b1782a23db4",
            "value": " 28881/28881 [00:00&lt;00:00, 241904.66it/s]"
          }
        },
        "816ce26dd2804a70b10cc16355abd16c": {
          "model_module": "@jupyter-widgets/base",
          "model_name": "LayoutModel",
          "model_module_version": "1.2.0",
          "state": {
            "_model_module": "@jupyter-widgets/base",
            "_model_module_version": "1.2.0",
            "_model_name": "LayoutModel",
            "_view_count": null,
            "_view_module": "@jupyter-widgets/base",
            "_view_module_version": "1.2.0",
            "_view_name": "LayoutView",
            "align_content": null,
            "align_items": null,
            "align_self": null,
            "border": null,
            "bottom": null,
            "display": null,
            "flex": null,
            "flex_flow": null,
            "grid_area": null,
            "grid_auto_columns": null,
            "grid_auto_flow": null,
            "grid_auto_rows": null,
            "grid_column": null,
            "grid_gap": null,
            "grid_row": null,
            "grid_template_areas": null,
            "grid_template_columns": null,
            "grid_template_rows": null,
            "height": null,
            "justify_content": null,
            "justify_items": null,
            "left": null,
            "margin": null,
            "max_height": null,
            "max_width": null,
            "min_height": null,
            "min_width": null,
            "object_fit": null,
            "object_position": null,
            "order": null,
            "overflow": null,
            "overflow_x": null,
            "overflow_y": null,
            "padding": null,
            "right": null,
            "top": null,
            "visibility": null,
            "width": null
          }
        },
        "4170173245b44969b648569eb991cbbb": {
          "model_module": "@jupyter-widgets/base",
          "model_name": "LayoutModel",
          "model_module_version": "1.2.0",
          "state": {
            "_model_module": "@jupyter-widgets/base",
            "_model_module_version": "1.2.0",
            "_model_name": "LayoutModel",
            "_view_count": null,
            "_view_module": "@jupyter-widgets/base",
            "_view_module_version": "1.2.0",
            "_view_name": "LayoutView",
            "align_content": null,
            "align_items": null,
            "align_self": null,
            "border": null,
            "bottom": null,
            "display": null,
            "flex": null,
            "flex_flow": null,
            "grid_area": null,
            "grid_auto_columns": null,
            "grid_auto_flow": null,
            "grid_auto_rows": null,
            "grid_column": null,
            "grid_gap": null,
            "grid_row": null,
            "grid_template_areas": null,
            "grid_template_columns": null,
            "grid_template_rows": null,
            "height": null,
            "justify_content": null,
            "justify_items": null,
            "left": null,
            "margin": null,
            "max_height": null,
            "max_width": null,
            "min_height": null,
            "min_width": null,
            "object_fit": null,
            "object_position": null,
            "order": null,
            "overflow": null,
            "overflow_x": null,
            "overflow_y": null,
            "padding": null,
            "right": null,
            "top": null,
            "visibility": null,
            "width": null
          }
        },
        "a3b362f3ebfa42069707bec150fefc1f": {
          "model_module": "@jupyter-widgets/controls",
          "model_name": "DescriptionStyleModel",
          "model_module_version": "1.5.0",
          "state": {
            "_model_module": "@jupyter-widgets/controls",
            "_model_module_version": "1.5.0",
            "_model_name": "DescriptionStyleModel",
            "_view_count": null,
            "_view_module": "@jupyter-widgets/base",
            "_view_module_version": "1.2.0",
            "_view_name": "StyleView",
            "description_width": ""
          }
        },
        "70861c1edbab437a927420a967783371": {
          "model_module": "@jupyter-widgets/base",
          "model_name": "LayoutModel",
          "model_module_version": "1.2.0",
          "state": {
            "_model_module": "@jupyter-widgets/base",
            "_model_module_version": "1.2.0",
            "_model_name": "LayoutModel",
            "_view_count": null,
            "_view_module": "@jupyter-widgets/base",
            "_view_module_version": "1.2.0",
            "_view_name": "LayoutView",
            "align_content": null,
            "align_items": null,
            "align_self": null,
            "border": null,
            "bottom": null,
            "display": null,
            "flex": null,
            "flex_flow": null,
            "grid_area": null,
            "grid_auto_columns": null,
            "grid_auto_flow": null,
            "grid_auto_rows": null,
            "grid_column": null,
            "grid_gap": null,
            "grid_row": null,
            "grid_template_areas": null,
            "grid_template_columns": null,
            "grid_template_rows": null,
            "height": null,
            "justify_content": null,
            "justify_items": null,
            "left": null,
            "margin": null,
            "max_height": null,
            "max_width": null,
            "min_height": null,
            "min_width": null,
            "object_fit": null,
            "object_position": null,
            "order": null,
            "overflow": null,
            "overflow_x": null,
            "overflow_y": null,
            "padding": null,
            "right": null,
            "top": null,
            "visibility": null,
            "width": null
          }
        },
        "647b1a40276448149ecde4e65df402c0": {
          "model_module": "@jupyter-widgets/controls",
          "model_name": "ProgressStyleModel",
          "model_module_version": "1.5.0",
          "state": {
            "_model_module": "@jupyter-widgets/controls",
            "_model_module_version": "1.5.0",
            "_model_name": "ProgressStyleModel",
            "_view_count": null,
            "_view_module": "@jupyter-widgets/base",
            "_view_module_version": "1.2.0",
            "_view_name": "StyleView",
            "bar_color": null,
            "description_width": ""
          }
        },
        "09c4c16c12d945038f25b5b88171fa13": {
          "model_module": "@jupyter-widgets/base",
          "model_name": "LayoutModel",
          "model_module_version": "1.2.0",
          "state": {
            "_model_module": "@jupyter-widgets/base",
            "_model_module_version": "1.2.0",
            "_model_name": "LayoutModel",
            "_view_count": null,
            "_view_module": "@jupyter-widgets/base",
            "_view_module_version": "1.2.0",
            "_view_name": "LayoutView",
            "align_content": null,
            "align_items": null,
            "align_self": null,
            "border": null,
            "bottom": null,
            "display": null,
            "flex": null,
            "flex_flow": null,
            "grid_area": null,
            "grid_auto_columns": null,
            "grid_auto_flow": null,
            "grid_auto_rows": null,
            "grid_column": null,
            "grid_gap": null,
            "grid_row": null,
            "grid_template_areas": null,
            "grid_template_columns": null,
            "grid_template_rows": null,
            "height": null,
            "justify_content": null,
            "justify_items": null,
            "left": null,
            "margin": null,
            "max_height": null,
            "max_width": null,
            "min_height": null,
            "min_width": null,
            "object_fit": null,
            "object_position": null,
            "order": null,
            "overflow": null,
            "overflow_x": null,
            "overflow_y": null,
            "padding": null,
            "right": null,
            "top": null,
            "visibility": null,
            "width": null
          }
        },
        "1ae557bdf24046aa972e0b1782a23db4": {
          "model_module": "@jupyter-widgets/controls",
          "model_name": "DescriptionStyleModel",
          "model_module_version": "1.5.0",
          "state": {
            "_model_module": "@jupyter-widgets/controls",
            "_model_module_version": "1.5.0",
            "_model_name": "DescriptionStyleModel",
            "_view_count": null,
            "_view_module": "@jupyter-widgets/base",
            "_view_module_version": "1.2.0",
            "_view_name": "StyleView",
            "description_width": ""
          }
        },
        "353088dda9614e4a899e2abb80706d01": {
          "model_module": "@jupyter-widgets/controls",
          "model_name": "HBoxModel",
          "model_module_version": "1.5.0",
          "state": {
            "_dom_classes": [],
            "_model_module": "@jupyter-widgets/controls",
            "_model_module_version": "1.5.0",
            "_model_name": "HBoxModel",
            "_view_count": null,
            "_view_module": "@jupyter-widgets/controls",
            "_view_module_version": "1.5.0",
            "_view_name": "HBoxView",
            "box_style": "",
            "children": [
              "IPY_MODEL_35a9414f8d874eaa9b3e287a99eb10b0",
              "IPY_MODEL_15a1f43843904d7bb6874fcd5b7e8a12",
              "IPY_MODEL_68e92483cf1c409c8ab809bb6a498e1c"
            ],
            "layout": "IPY_MODEL_47075c04c0e44495a89ed899e86565eb"
          }
        },
        "35a9414f8d874eaa9b3e287a99eb10b0": {
          "model_module": "@jupyter-widgets/controls",
          "model_name": "HTMLModel",
          "model_module_version": "1.5.0",
          "state": {
            "_dom_classes": [],
            "_model_module": "@jupyter-widgets/controls",
            "_model_module_version": "1.5.0",
            "_model_name": "HTMLModel",
            "_view_count": null,
            "_view_module": "@jupyter-widgets/controls",
            "_view_module_version": "1.5.0",
            "_view_name": "HTMLView",
            "description": "",
            "description_tooltip": null,
            "layout": "IPY_MODEL_aebf05902aec4c1aa51c6b8a64a95dcd",
            "placeholder": "​",
            "style": "IPY_MODEL_e5d346d467fa4805a0217eb812148c67",
            "value": "100%"
          }
        },
        "15a1f43843904d7bb6874fcd5b7e8a12": {
          "model_module": "@jupyter-widgets/controls",
          "model_name": "FloatProgressModel",
          "model_module_version": "1.5.0",
          "state": {
            "_dom_classes": [],
            "_model_module": "@jupyter-widgets/controls",
            "_model_module_version": "1.5.0",
            "_model_name": "FloatProgressModel",
            "_view_count": null,
            "_view_module": "@jupyter-widgets/controls",
            "_view_module_version": "1.5.0",
            "_view_name": "ProgressView",
            "bar_style": "success",
            "description": "",
            "description_tooltip": null,
            "layout": "IPY_MODEL_b5268ede2df849e081bf8f287131ac85",
            "max": 1648877,
            "min": 0,
            "orientation": "horizontal",
            "style": "IPY_MODEL_e2e0e410935848f19c15aa76b6f7937e",
            "value": 1648877
          }
        },
        "68e92483cf1c409c8ab809bb6a498e1c": {
          "model_module": "@jupyter-widgets/controls",
          "model_name": "HTMLModel",
          "model_module_version": "1.5.0",
          "state": {
            "_dom_classes": [],
            "_model_module": "@jupyter-widgets/controls",
            "_model_module_version": "1.5.0",
            "_model_name": "HTMLModel",
            "_view_count": null,
            "_view_module": "@jupyter-widgets/controls",
            "_view_module_version": "1.5.0",
            "_view_name": "HTMLView",
            "description": "",
            "description_tooltip": null,
            "layout": "IPY_MODEL_f2867986e73a465f8b23979bcc1b0068",
            "placeholder": "​",
            "style": "IPY_MODEL_12dd85a6a55342d79dc3e113a0ccc624",
            "value": " 1648877/1648877 [00:00&lt;00:00, 313834.86it/s]"
          }
        },
        "47075c04c0e44495a89ed899e86565eb": {
          "model_module": "@jupyter-widgets/base",
          "model_name": "LayoutModel",
          "model_module_version": "1.2.0",
          "state": {
            "_model_module": "@jupyter-widgets/base",
            "_model_module_version": "1.2.0",
            "_model_name": "LayoutModel",
            "_view_count": null,
            "_view_module": "@jupyter-widgets/base",
            "_view_module_version": "1.2.0",
            "_view_name": "LayoutView",
            "align_content": null,
            "align_items": null,
            "align_self": null,
            "border": null,
            "bottom": null,
            "display": null,
            "flex": null,
            "flex_flow": null,
            "grid_area": null,
            "grid_auto_columns": null,
            "grid_auto_flow": null,
            "grid_auto_rows": null,
            "grid_column": null,
            "grid_gap": null,
            "grid_row": null,
            "grid_template_areas": null,
            "grid_template_columns": null,
            "grid_template_rows": null,
            "height": null,
            "justify_content": null,
            "justify_items": null,
            "left": null,
            "margin": null,
            "max_height": null,
            "max_width": null,
            "min_height": null,
            "min_width": null,
            "object_fit": null,
            "object_position": null,
            "order": null,
            "overflow": null,
            "overflow_x": null,
            "overflow_y": null,
            "padding": null,
            "right": null,
            "top": null,
            "visibility": null,
            "width": null
          }
        },
        "aebf05902aec4c1aa51c6b8a64a95dcd": {
          "model_module": "@jupyter-widgets/base",
          "model_name": "LayoutModel",
          "model_module_version": "1.2.0",
          "state": {
            "_model_module": "@jupyter-widgets/base",
            "_model_module_version": "1.2.0",
            "_model_name": "LayoutModel",
            "_view_count": null,
            "_view_module": "@jupyter-widgets/base",
            "_view_module_version": "1.2.0",
            "_view_name": "LayoutView",
            "align_content": null,
            "align_items": null,
            "align_self": null,
            "border": null,
            "bottom": null,
            "display": null,
            "flex": null,
            "flex_flow": null,
            "grid_area": null,
            "grid_auto_columns": null,
            "grid_auto_flow": null,
            "grid_auto_rows": null,
            "grid_column": null,
            "grid_gap": null,
            "grid_row": null,
            "grid_template_areas": null,
            "grid_template_columns": null,
            "grid_template_rows": null,
            "height": null,
            "justify_content": null,
            "justify_items": null,
            "left": null,
            "margin": null,
            "max_height": null,
            "max_width": null,
            "min_height": null,
            "min_width": null,
            "object_fit": null,
            "object_position": null,
            "order": null,
            "overflow": null,
            "overflow_x": null,
            "overflow_y": null,
            "padding": null,
            "right": null,
            "top": null,
            "visibility": null,
            "width": null
          }
        },
        "e5d346d467fa4805a0217eb812148c67": {
          "model_module": "@jupyter-widgets/controls",
          "model_name": "DescriptionStyleModel",
          "model_module_version": "1.5.0",
          "state": {
            "_model_module": "@jupyter-widgets/controls",
            "_model_module_version": "1.5.0",
            "_model_name": "DescriptionStyleModel",
            "_view_count": null,
            "_view_module": "@jupyter-widgets/base",
            "_view_module_version": "1.2.0",
            "_view_name": "StyleView",
            "description_width": ""
          }
        },
        "b5268ede2df849e081bf8f287131ac85": {
          "model_module": "@jupyter-widgets/base",
          "model_name": "LayoutModel",
          "model_module_version": "1.2.0",
          "state": {
            "_model_module": "@jupyter-widgets/base",
            "_model_module_version": "1.2.0",
            "_model_name": "LayoutModel",
            "_view_count": null,
            "_view_module": "@jupyter-widgets/base",
            "_view_module_version": "1.2.0",
            "_view_name": "LayoutView",
            "align_content": null,
            "align_items": null,
            "align_self": null,
            "border": null,
            "bottom": null,
            "display": null,
            "flex": null,
            "flex_flow": null,
            "grid_area": null,
            "grid_auto_columns": null,
            "grid_auto_flow": null,
            "grid_auto_rows": null,
            "grid_column": null,
            "grid_gap": null,
            "grid_row": null,
            "grid_template_areas": null,
            "grid_template_columns": null,
            "grid_template_rows": null,
            "height": null,
            "justify_content": null,
            "justify_items": null,
            "left": null,
            "margin": null,
            "max_height": null,
            "max_width": null,
            "min_height": null,
            "min_width": null,
            "object_fit": null,
            "object_position": null,
            "order": null,
            "overflow": null,
            "overflow_x": null,
            "overflow_y": null,
            "padding": null,
            "right": null,
            "top": null,
            "visibility": null,
            "width": null
          }
        },
        "e2e0e410935848f19c15aa76b6f7937e": {
          "model_module": "@jupyter-widgets/controls",
          "model_name": "ProgressStyleModel",
          "model_module_version": "1.5.0",
          "state": {
            "_model_module": "@jupyter-widgets/controls",
            "_model_module_version": "1.5.0",
            "_model_name": "ProgressStyleModel",
            "_view_count": null,
            "_view_module": "@jupyter-widgets/base",
            "_view_module_version": "1.2.0",
            "_view_name": "StyleView",
            "bar_color": null,
            "description_width": ""
          }
        },
        "f2867986e73a465f8b23979bcc1b0068": {
          "model_module": "@jupyter-widgets/base",
          "model_name": "LayoutModel",
          "model_module_version": "1.2.0",
          "state": {
            "_model_module": "@jupyter-widgets/base",
            "_model_module_version": "1.2.0",
            "_model_name": "LayoutModel",
            "_view_count": null,
            "_view_module": "@jupyter-widgets/base",
            "_view_module_version": "1.2.0",
            "_view_name": "LayoutView",
            "align_content": null,
            "align_items": null,
            "align_self": null,
            "border": null,
            "bottom": null,
            "display": null,
            "flex": null,
            "flex_flow": null,
            "grid_area": null,
            "grid_auto_columns": null,
            "grid_auto_flow": null,
            "grid_auto_rows": null,
            "grid_column": null,
            "grid_gap": null,
            "grid_row": null,
            "grid_template_areas": null,
            "grid_template_columns": null,
            "grid_template_rows": null,
            "height": null,
            "justify_content": null,
            "justify_items": null,
            "left": null,
            "margin": null,
            "max_height": null,
            "max_width": null,
            "min_height": null,
            "min_width": null,
            "object_fit": null,
            "object_position": null,
            "order": null,
            "overflow": null,
            "overflow_x": null,
            "overflow_y": null,
            "padding": null,
            "right": null,
            "top": null,
            "visibility": null,
            "width": null
          }
        },
        "12dd85a6a55342d79dc3e113a0ccc624": {
          "model_module": "@jupyter-widgets/controls",
          "model_name": "DescriptionStyleModel",
          "model_module_version": "1.5.0",
          "state": {
            "_model_module": "@jupyter-widgets/controls",
            "_model_module_version": "1.5.0",
            "_model_name": "DescriptionStyleModel",
            "_view_count": null,
            "_view_module": "@jupyter-widgets/base",
            "_view_module_version": "1.2.0",
            "_view_name": "StyleView",
            "description_width": ""
          }
        },
        "75e05b0fad444d898bc6854eacb3350f": {
          "model_module": "@jupyter-widgets/controls",
          "model_name": "HBoxModel",
          "model_module_version": "1.5.0",
          "state": {
            "_dom_classes": [],
            "_model_module": "@jupyter-widgets/controls",
            "_model_module_version": "1.5.0",
            "_model_name": "HBoxModel",
            "_view_count": null,
            "_view_module": "@jupyter-widgets/controls",
            "_view_module_version": "1.5.0",
            "_view_name": "HBoxView",
            "box_style": "",
            "children": [
              "IPY_MODEL_4b569daf2adb4552b446c05bdcfc5bd5",
              "IPY_MODEL_25c638af581c444b9798b26b97e53a73",
              "IPY_MODEL_4418352bcd5d468cb4816b2bab7531b1"
            ],
            "layout": "IPY_MODEL_9873d80bd53e43c3932800fe8053acbb"
          }
        },
        "4b569daf2adb4552b446c05bdcfc5bd5": {
          "model_module": "@jupyter-widgets/controls",
          "model_name": "HTMLModel",
          "model_module_version": "1.5.0",
          "state": {
            "_dom_classes": [],
            "_model_module": "@jupyter-widgets/controls",
            "_model_module_version": "1.5.0",
            "_model_name": "HTMLModel",
            "_view_count": null,
            "_view_module": "@jupyter-widgets/controls",
            "_view_module_version": "1.5.0",
            "_view_name": "HTMLView",
            "description": "",
            "description_tooltip": null,
            "layout": "IPY_MODEL_d85f4d6cdc9a463ba38a84a3feeadebb",
            "placeholder": "​",
            "style": "IPY_MODEL_3793bf632d5e4224bca507707d16ed94",
            "value": "100%"
          }
        },
        "25c638af581c444b9798b26b97e53a73": {
          "model_module": "@jupyter-widgets/controls",
          "model_name": "FloatProgressModel",
          "model_module_version": "1.5.0",
          "state": {
            "_dom_classes": [],
            "_model_module": "@jupyter-widgets/controls",
            "_model_module_version": "1.5.0",
            "_model_name": "FloatProgressModel",
            "_view_count": null,
            "_view_module": "@jupyter-widgets/controls",
            "_view_module_version": "1.5.0",
            "_view_name": "ProgressView",
            "bar_style": "success",
            "description": "",
            "description_tooltip": null,
            "layout": "IPY_MODEL_9682fa625dd4439caa79ca66f0bf4a6b",
            "max": 4542,
            "min": 0,
            "orientation": "horizontal",
            "style": "IPY_MODEL_6bc57e88c38542ec92bb89746ae768e6",
            "value": 4542
          }
        },
        "4418352bcd5d468cb4816b2bab7531b1": {
          "model_module": "@jupyter-widgets/controls",
          "model_name": "HTMLModel",
          "model_module_version": "1.5.0",
          "state": {
            "_dom_classes": [],
            "_model_module": "@jupyter-widgets/controls",
            "_model_module_version": "1.5.0",
            "_model_name": "HTMLModel",
            "_view_count": null,
            "_view_module": "@jupyter-widgets/controls",
            "_view_module_version": "1.5.0",
            "_view_name": "HTMLView",
            "description": "",
            "description_tooltip": null,
            "layout": "IPY_MODEL_0950e2cf7c1642e2886e19f7641bbcf5",
            "placeholder": "​",
            "style": "IPY_MODEL_c9617ae320574f1dac3ce59d38cba46f",
            "value": " 4542/4542 [00:00&lt;00:00, 41310.20it/s]"
          }
        },
        "9873d80bd53e43c3932800fe8053acbb": {
          "model_module": "@jupyter-widgets/base",
          "model_name": "LayoutModel",
          "model_module_version": "1.2.0",
          "state": {
            "_model_module": "@jupyter-widgets/base",
            "_model_module_version": "1.2.0",
            "_model_name": "LayoutModel",
            "_view_count": null,
            "_view_module": "@jupyter-widgets/base",
            "_view_module_version": "1.2.0",
            "_view_name": "LayoutView",
            "align_content": null,
            "align_items": null,
            "align_self": null,
            "border": null,
            "bottom": null,
            "display": null,
            "flex": null,
            "flex_flow": null,
            "grid_area": null,
            "grid_auto_columns": null,
            "grid_auto_flow": null,
            "grid_auto_rows": null,
            "grid_column": null,
            "grid_gap": null,
            "grid_row": null,
            "grid_template_areas": null,
            "grid_template_columns": null,
            "grid_template_rows": null,
            "height": null,
            "justify_content": null,
            "justify_items": null,
            "left": null,
            "margin": null,
            "max_height": null,
            "max_width": null,
            "min_height": null,
            "min_width": null,
            "object_fit": null,
            "object_position": null,
            "order": null,
            "overflow": null,
            "overflow_x": null,
            "overflow_y": null,
            "padding": null,
            "right": null,
            "top": null,
            "visibility": null,
            "width": null
          }
        },
        "d85f4d6cdc9a463ba38a84a3feeadebb": {
          "model_module": "@jupyter-widgets/base",
          "model_name": "LayoutModel",
          "model_module_version": "1.2.0",
          "state": {
            "_model_module": "@jupyter-widgets/base",
            "_model_module_version": "1.2.0",
            "_model_name": "LayoutModel",
            "_view_count": null,
            "_view_module": "@jupyter-widgets/base",
            "_view_module_version": "1.2.0",
            "_view_name": "LayoutView",
            "align_content": null,
            "align_items": null,
            "align_self": null,
            "border": null,
            "bottom": null,
            "display": null,
            "flex": null,
            "flex_flow": null,
            "grid_area": null,
            "grid_auto_columns": null,
            "grid_auto_flow": null,
            "grid_auto_rows": null,
            "grid_column": null,
            "grid_gap": null,
            "grid_row": null,
            "grid_template_areas": null,
            "grid_template_columns": null,
            "grid_template_rows": null,
            "height": null,
            "justify_content": null,
            "justify_items": null,
            "left": null,
            "margin": null,
            "max_height": null,
            "max_width": null,
            "min_height": null,
            "min_width": null,
            "object_fit": null,
            "object_position": null,
            "order": null,
            "overflow": null,
            "overflow_x": null,
            "overflow_y": null,
            "padding": null,
            "right": null,
            "top": null,
            "visibility": null,
            "width": null
          }
        },
        "3793bf632d5e4224bca507707d16ed94": {
          "model_module": "@jupyter-widgets/controls",
          "model_name": "DescriptionStyleModel",
          "model_module_version": "1.5.0",
          "state": {
            "_model_module": "@jupyter-widgets/controls",
            "_model_module_version": "1.5.0",
            "_model_name": "DescriptionStyleModel",
            "_view_count": null,
            "_view_module": "@jupyter-widgets/base",
            "_view_module_version": "1.2.0",
            "_view_name": "StyleView",
            "description_width": ""
          }
        },
        "9682fa625dd4439caa79ca66f0bf4a6b": {
          "model_module": "@jupyter-widgets/base",
          "model_name": "LayoutModel",
          "model_module_version": "1.2.0",
          "state": {
            "_model_module": "@jupyter-widgets/base",
            "_model_module_version": "1.2.0",
            "_model_name": "LayoutModel",
            "_view_count": null,
            "_view_module": "@jupyter-widgets/base",
            "_view_module_version": "1.2.0",
            "_view_name": "LayoutView",
            "align_content": null,
            "align_items": null,
            "align_self": null,
            "border": null,
            "bottom": null,
            "display": null,
            "flex": null,
            "flex_flow": null,
            "grid_area": null,
            "grid_auto_columns": null,
            "grid_auto_flow": null,
            "grid_auto_rows": null,
            "grid_column": null,
            "grid_gap": null,
            "grid_row": null,
            "grid_template_areas": null,
            "grid_template_columns": null,
            "grid_template_rows": null,
            "height": null,
            "justify_content": null,
            "justify_items": null,
            "left": null,
            "margin": null,
            "max_height": null,
            "max_width": null,
            "min_height": null,
            "min_width": null,
            "object_fit": null,
            "object_position": null,
            "order": null,
            "overflow": null,
            "overflow_x": null,
            "overflow_y": null,
            "padding": null,
            "right": null,
            "top": null,
            "visibility": null,
            "width": null
          }
        },
        "6bc57e88c38542ec92bb89746ae768e6": {
          "model_module": "@jupyter-widgets/controls",
          "model_name": "ProgressStyleModel",
          "model_module_version": "1.5.0",
          "state": {
            "_model_module": "@jupyter-widgets/controls",
            "_model_module_version": "1.5.0",
            "_model_name": "ProgressStyleModel",
            "_view_count": null,
            "_view_module": "@jupyter-widgets/base",
            "_view_module_version": "1.2.0",
            "_view_name": "StyleView",
            "bar_color": null,
            "description_width": ""
          }
        },
        "0950e2cf7c1642e2886e19f7641bbcf5": {
          "model_module": "@jupyter-widgets/base",
          "model_name": "LayoutModel",
          "model_module_version": "1.2.0",
          "state": {
            "_model_module": "@jupyter-widgets/base",
            "_model_module_version": "1.2.0",
            "_model_name": "LayoutModel",
            "_view_count": null,
            "_view_module": "@jupyter-widgets/base",
            "_view_module_version": "1.2.0",
            "_view_name": "LayoutView",
            "align_content": null,
            "align_items": null,
            "align_self": null,
            "border": null,
            "bottom": null,
            "display": null,
            "flex": null,
            "flex_flow": null,
            "grid_area": null,
            "grid_auto_columns": null,
            "grid_auto_flow": null,
            "grid_auto_rows": null,
            "grid_column": null,
            "grid_gap": null,
            "grid_row": null,
            "grid_template_areas": null,
            "grid_template_columns": null,
            "grid_template_rows": null,
            "height": null,
            "justify_content": null,
            "justify_items": null,
            "left": null,
            "margin": null,
            "max_height": null,
            "max_width": null,
            "min_height": null,
            "min_width": null,
            "object_fit": null,
            "object_position": null,
            "order": null,
            "overflow": null,
            "overflow_x": null,
            "overflow_y": null,
            "padding": null,
            "right": null,
            "top": null,
            "visibility": null,
            "width": null
          }
        },
        "c9617ae320574f1dac3ce59d38cba46f": {
          "model_module": "@jupyter-widgets/controls",
          "model_name": "DescriptionStyleModel",
          "model_module_version": "1.5.0",
          "state": {
            "_model_module": "@jupyter-widgets/controls",
            "_model_module_version": "1.5.0",
            "_model_name": "DescriptionStyleModel",
            "_view_count": null,
            "_view_module": "@jupyter-widgets/base",
            "_view_module_version": "1.2.0",
            "_view_name": "StyleView",
            "description_width": ""
          }
        }
      }
    },
    "gpuClass": "standard"
  },
  "nbformat": 4,
  "nbformat_minor": 0
}