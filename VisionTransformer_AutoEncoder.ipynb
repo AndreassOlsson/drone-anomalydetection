{
  "nbformat": 4,
  "nbformat_minor": 0,
  "metadata": {
    "colab": {
      "provenance": [],
      "collapsed_sections": [
        "EW0jbK6LZwcL",
        "KBI3VCE0eXyS",
        "2RXwrwEwecP0",
        "VFT8pJS4B5z9",
        "iWbTgqOmCNkC",
        "mWNsOjK8A56L",
        "EDcTn3f6efUV",
        "9u1GTOpj7GeB"
      ],
      "mount_file_id": "1VB10rsTCoNptXHE424uwKULQOIPLwTrP",
      "authorship_tag": "ABX9TyOuOAbljB3GnlLbSnp4d1Kp",
      "include_colab_link": true
    },
    "kernelspec": {
      "name": "python3",
      "display_name": "Python 3"
    },
    "language_info": {
      "name": "python"
    },
    "gpuClass": "standard"
  },
  "cells": [
    {
      "cell_type": "markdown",
      "metadata": {
        "id": "view-in-github",
        "colab_type": "text"
      },
      "source": [
        "<a href=\"https://colab.research.google.com/github/AndreassOlsson/drone-anomalydetection/blob/main/VisionTransformer_AutoEncoder.ipynb\" target=\"_parent\"><img src=\"https://colab.research.google.com/assets/colab-badge.svg\" alt=\"Open In Colab\"/></a>"
      ]
    },
    {
      "cell_type": "code",
      "execution_count": null,
      "metadata": {
        "id": "U86Jks5QW5H6"
      },
      "outputs": [],
      "source": [
        "import numpy as np\n",
        "\n",
        "from tqdm import tqdm\n",
        "\n",
        "import torch\n",
        "import torch.nn as nn\n",
        "from torch.optim import Adam\n",
        "from torch.nn import BCELoss\n",
        "from torch.utils.data import DataLoader\n",
        "from torch.utils.data import Dataset\n",
        "\n",
        "from torchvision.transforms import ToTensor\n",
        "from torchvision.datasets.mnist import MNIST\n",
        "\n",
        "import matplotlib.pyplot as plt\n",
        "\n",
        "import random\n",
        "import cv2\n",
        "import copy\n",
        "import bisect\n",
        "\n",
        "np.random.seed(42)\n",
        "torch.manual_seed(42)\n",
        "\n",
        "%matplotlib inline"
      ]
    },
    {
      "cell_type": "code",
      "source": [
        "model_name = 'VisionTransformer_MNIST_AE_256.pth'\n",
        "state_dict_path = '/content/drive/MyDrive/Andreas Olsson/Public-Safety/models/' + model_name\n",
        "device = torch.device(\"cuda\" if torch.cuda.is_available() else \"cpu\")\n",
        "f'Using device {device}'"
      ],
      "metadata": {
        "id": "7wA3wLtvOwHL",
        "colab": {
          "base_uri": "https://localhost:8080/",
          "height": 36
        },
        "outputId": "b578738d-858a-427a-defb-e23f5650d55b"
      },
      "execution_count": null,
      "outputs": [
        {
          "output_type": "execute_result",
          "data": {
            "text/plain": [
              "'Using device cpu'"
            ],
            "application/vnd.google.colaboratory.intrinsic+json": {
              "type": "string"
            }
          },
          "metadata": {},
          "execution_count": 2
        }
      ]
    },
    {
      "cell_type": "markdown",
      "source": [
        "# Prepare data"
      ],
      "metadata": {
        "id": "EW0jbK6LZwcL"
      }
    },
    {
      "cell_type": "code",
      "source": [
        "mnist_train = MNIST(root='./mnist', train=True, download=True, transform=ToTensor()) \n",
        "mnist_test = MNIST(root='./mnist', train=False, download=True, transform=ToTensor()) "
      ],
      "metadata": {
        "id": "esJAXtBRX1oh"
      },
      "execution_count": null,
      "outputs": []
    },
    {
      "cell_type": "code",
      "source": [
        "class ae_mnist(Dataset):\n",
        "  def __init__(self, xy_mnist):\n",
        "    self.dset = [(xy[0], xy[0]) for xy in xy_mnist]\n",
        "\n",
        "  def __getitem__(self, idx):\n",
        "    return self.dset[idx]\n",
        "\n",
        "  def __len__(self):\n",
        "    return len(self.dset)\n",
        "\n",
        "  def show(self, idx):\n",
        "    f, axs = plt.subplots(1,2)\n",
        "    tup = self.dset[idx]\n",
        "    for i in range(len(tup)):\n",
        "      im_cv = tup[i].numpy().transpose(1,2,0).squeeze()\n",
        "      im_rgb = cv2.cvtColor(im_cv, cv2.COLOR_BGR2RGB)\n",
        "      axs[i].title.set_text('Input' if i==0 else 'Target')\n",
        "      axs[i].imshow(im_rgb)\n",
        "    plt.imshow(im_rgb)"
      ],
      "metadata": {
        "id": "qdazoFY4ZMxp"
      },
      "execution_count": null,
      "outputs": []
    },
    {
      "cell_type": "code",
      "source": [
        "train_dset = ae_mnist(mnist_train)\n",
        "test_dset = ae_mnist(mnist_test)"
      ],
      "metadata": {
        "id": "uh4CyhA5dW5x"
      },
      "execution_count": null,
      "outputs": []
    },
    {
      "cell_type": "code",
      "source": [
        "train_dl = DataLoader(train_dset, shuffle=True, batch_size=128)\n",
        "test_dl = DataLoader(test_dset, shuffle=False, batch_size=128)"
      ],
      "metadata": {
        "id": "_2q7shtYZI-l"
      },
      "execution_count": null,
      "outputs": []
    },
    {
      "cell_type": "code",
      "source": [
        "train_dl.dataset.show(10)"
      ],
      "metadata": {
        "colab": {
          "base_uri": "https://localhost:8080/",
          "height": 216
        },
        "id": "b9wP3jjVsTrp",
        "outputId": "794ce248-6580-444f-a5f7-c21957e59a6b"
      },
      "execution_count": null,
      "outputs": [
        {
          "output_type": "display_data",
          "data": {
            "text/plain": [
              "<Figure size 432x288 with 2 Axes>"
            ],
            "image/png": "[encoded data removed]"
          },
          "metadata": {
            "needs_background": "light"
          }
        }
      ]
    },
    {
      "cell_type": "markdown",
      "source": [
        "# Create VisionTransformer & Convolutional AE model class"
      ],
      "metadata": {
        "id": "KBI3VCE0eXyS"
      }
    },
    {
      "cell_type": "markdown",
      "source": [
        "### Helper functions"
      ],
      "metadata": {
        "id": "VFT8pJS4B5z9"
      }
    },
    {
      "cell_type": "code",
      "source": [
        "\"\"\"\n",
        "We reshape our input from shape (N, C=1, H=28, W=28) to shape (N, #Patches, Patch dimensionality).\n",
        "We will divide our input image to 7x7=49 separate patches of size 1x4x4=16 giving us the new shape (N, 49, 16)\n",
        "\"\"\"\n",
        "def patchify(images, n_patches):\n",
        "  n, c, h, w = images.shape\n",
        "\n",
        "  assert h == w, \"Patchify function only works for square images\"\n",
        "    \n",
        "  patch_size = h // n_patches\n",
        "  return torch.stack([torch.stack([image[:, i * patch_size: (i + 1) * patch_size, j * patch_size: (j + 1) * patch_size][0].flatten() for i in range(n_patches) for j in range(n_patches)]) for image in images])\n",
        "  "
      ],
      "metadata": {
        "id": "CgjaDU5sCGU3"
      },
      "execution_count": null,
      "outputs": []
    },
    {
      "cell_type": "code",
      "source": [
        "\"\"\"\n",
        "Allows the model to understand where each patch would be placed in the original image. In each sequence,\n",
        "for token i, we add its j-th coordinate \n",
        "\"\"\"\n",
        "def get_positional_embeddings(sequence_length, dim):\n",
        "  res = torch.ones(sequence_length, dim)\n",
        "  for i in range(sequence_length):\n",
        "    for j in range(dim):\n",
        "      res[i][j] = np.sin(i / (10_000 ** (j/dim))) if j % 2 == 0 else np.cos(i / (10_000 ** ((j-1) / dim )))\n",
        "  return res\n",
        "\n",
        "# plt.imshow(get_positional_embeddings(50, 100), cmap='hot')"
      ],
      "metadata": {
        "id": "JdrzjrHQCGU4"
      },
      "execution_count": null,
      "outputs": []
    },
    {
      "cell_type": "code",
      "source": [
        "\"Multi-head Self Attention\"\n",
        "class MSA(nn.Module):\n",
        "  def __init__(self, dim, n_heads=2):\n",
        "    super(MSA, self).__init__()\n",
        "    self.dim, self.n_heads = dim, n_heads\n",
        "\n",
        "    assert dim % n_heads == 0, f'Can not evenly divide {dim} by {n_heads}'\n",
        "\n",
        "    head_dim = int(dim / n_heads); \n",
        "    self.q_mappings = nn.ModuleList([nn.Linear(head_dim, head_dim) for _ in range(n_heads)])\n",
        "    self.k_mappings = nn.ModuleList([nn.Linear(head_dim, head_dim) for _ in range(n_heads)])\n",
        "    self.v_mappings = nn.ModuleList([nn.Linear(head_dim, head_dim) for _ in range(n_heads)])\n",
        "    self.head_dim = head_dim\n",
        "    self.softmax = nn.Softmax(dim=-1)\n",
        "\n",
        "  def forward(self, sequences):\n",
        "    \"\"\"\n",
        "    We have input shape (N, Seq_len, Token_dim) \n",
        "    We go to shape (N, Seq_len, n_heads, head_dim) where head_dim = Token_dim / n_heads\n",
        "    Then we end at shape (N, Seq_len, Item_dim) through concatenation\n",
        "    \"\"\"\n",
        "    res = []\n",
        "    for sequence in sequences:\n",
        "      seq_res = []\n",
        "      for head in range(self.n_heads):\n",
        "        q_mapping = self.q_mappings[head]\n",
        "        k_mapping = self.q_mappings[head]\n",
        "        v_mapping = self.q_mappings[head]\n",
        "\n",
        "        seq = sequence[:, head * self.head_dim: (head + 1) * self.head_dim]\n",
        "        q, k, v = q_mapping(seq), k_mapping(seq), v_mapping(seq)\n",
        "\n",
        "        attention = self.softmax(q @ k.T / (self.head_dim ** 0.5))\n",
        "        seq_res.append(attention @ v)\n",
        "    \n",
        "      res.append(torch.hstack(seq_res))\n",
        "    return torch.cat([torch.unsqueeze(r, dim=0) for r in res])\n",
        "\n",
        "\n",
        "# Test output\n",
        "out = MSA(8)(torch.randn(7,50,8))\n",
        "out.shape"
      ],
      "metadata": {
        "colab": {
          "base_uri": "https://localhost:8080/"
        },
        "outputId": "280b9904-1b43-4173-fd3c-836c4cbdcd51",
        "id": "VQdnLEccCGU6"
      },
      "execution_count": null,
      "outputs": [
        {
          "output_type": "execute_result",
          "data": {
            "text/plain": [
              "torch.Size([7, 50, 8])"
            ]
          },
          "metadata": {},
          "execution_count": 16
        }
      ]
    },
    {
      "cell_type": "code",
      "source": [
        "class VisionTransformer_block(nn.Module):\n",
        "  def __init__(self, hidden_dim, n_heads=2, mlp_ratio=4):\n",
        "    super(VisionTransformer_block, self).__init__()\n",
        "\n",
        "    self.hidden_dim, self.n_heads = hidden_dim, n_heads\n",
        "\n",
        "    self.norm1 = nn.LayerNorm(hidden_dim)\n",
        "    self.msa = MSA(hidden_dim, n_heads)\n",
        "    self.norm2 = nn.LayerNorm(hidden_dim)\n",
        "    self.mlp = nn.Sequential(\n",
        "        nn.Linear(hidden_dim, hidden_dim * mlp_ratio),\n",
        "        nn.GELU(),\n",
        "        nn.Linear(hidden_dim * mlp_ratio, hidden_dim)\n",
        "    )\n",
        "\n",
        "  def forward(self, x):\n",
        "    out = x + self.msa(self.norm1(x))\n",
        "    out = out + self.mlp(self.norm2(out))\n",
        "    return out\n",
        "\n",
        "\n",
        "# Test output\n",
        "out = VisionTransformer_block(8)(torch.randn(7,50,8))\n",
        "out.shape"
      ],
      "metadata": {
        "colab": {
          "base_uri": "https://localhost:8080/"
        },
        "outputId": "a03f34ba-ba74-4011-9c44-fdf9baceeee3",
        "id": "5NpCtrVUCGU7"
      },
      "execution_count": null,
      "outputs": [
        {
          "output_type": "execute_result",
          "data": {
            "text/plain": [
              "torch.Size([7, 50, 8])"
            ]
          },
          "metadata": {},
          "execution_count": 17
        }
      ]
    },
    {
      "cell_type": "markdown",
      "source": [
        "## Encoder class"
      ],
      "metadata": {
        "id": "iWbTgqOmCNkC"
      }
    },
    {
      "cell_type": "code",
      "source": [
        "class VisionTransformer_encoder(nn.Module):\n",
        "  def __init__(self, chw=(1,28,28), n_patches=7, n_blocks=2, hidden_dim=8, n_heads=2, out_dim=256):\n",
        "    super(VisionTransformer_encoder, self).__init__()\n",
        "    \n",
        "    self.chw, self.n_patches, self.n_blocks, self.hidden_dim, self.n_heads = chw, n_patches, n_blocks, hidden_dim, n_heads\n",
        "\n",
        "    # Input & Patches sizes\n",
        "    assert chw[1] % n_patches == 0, \"Input shape is not entirely diversible by the number of patches!\"\n",
        "    assert chw[2] % n_patches == 0, \"Input shape is not entirely diversible by the number of patches!\"\n",
        "    self.patch_size = (chw[1] / n_patches, chw[2] / n_patches)\n",
        "\n",
        "    # 1) Linear mapper\n",
        "    self.input_dim = int(chw[0] * self.patch_size[0] * self.patch_size[1])\n",
        "    self.linear_mapper = nn.Linear(self.input_dim, self.hidden_dim)\n",
        "\n",
        "    # 2) Learnable classification token\n",
        "    self.class_token = nn.Parameter(torch.rand(1, self.hidden_dim))\n",
        "\n",
        "    # 3) Positional embedding\n",
        "    self.pos_embed = nn.Parameter((get_positional_embeddings(self.n_patches ** 2 + 1, self.hidden_dim)).clone().detach())\n",
        "    self.pos_embed.requires_grad = False\n",
        "\n",
        "    # 4) Transformer encoder\n",
        "    self.blocks = nn.ModuleList([VisionTransformer_block(hidden_dim, n_heads) for _ in range(n_blocks)])\n",
        "\n",
        "    # 5) Latent feature output INSTEAD OF Classification MLPk\n",
        "    self.latent_feature = nn.Sequential(\n",
        "        nn.Linear((self.n_patches ** 2 + 1) * self.hidden_dim, 128),\n",
        "        nn.ReLU(),\n",
        "        nn.Linear(128, out_dim)\n",
        "        )\n",
        "\n",
        "  def forward(self, images):\n",
        "    \"Divide images into patches\"\n",
        "    \"(N, C, H, W) -> (N, n_Patches, d_Patch)\"\n",
        "    n, c, h, w = images.shape\n",
        "    patches = patchify(images, self.n_patches)\n",
        "\n",
        "\n",
        "    \"Running linear layer tokenization. Maps the vector corresponding to each patch to the hidden dimension\"\n",
        "    \"(N, n_Patches, d_Patch) -> (N, n_Patches, Token_dim) - Token_dim = hidden_dim\"\n",
        "    tokens = self.linear_mapper(patches)\n",
        "\n",
        "    \"Adding classification token to the tokens\"\n",
        "    \"(N, n_Patches, Token_dim) -> (N, Seq_len, Token_dim) - Seq_len = n_Patches + 1\"\n",
        "    tokens = torch.stack([torch.vstack((self.class_token, tokens[i])) for i in range(len(tokens))])\n",
        "\n",
        "    \"Adding positional embedding to the tokens\"\n",
        "    \"(N, Seq_len, Token_dim)\"\n",
        "    pos_embed = self.pos_embed.repeat(n, 1, 1)\n",
        "    out = tokens + pos_embed\n",
        "\n",
        "    \"Transformer blocks\"\n",
        "    for block in self.blocks:\n",
        "      out = block(out)\n",
        "\n",
        "    out = out.view(n, 1, (self.n_patches ** 2 + 1) * self.hidden_dim)\n",
        "    out = self.latent_feature(out).squeeze()\n",
        "\n",
        "    return out\n",
        "\n",
        "\n",
        "# Shape of output\n",
        "out = VisionTransformer_encoder()(torch.randn(7,1,28,28))\n",
        "out.shape"
      ],
      "metadata": {
        "colab": {
          "base_uri": "https://localhost:8080/"
        },
        "id": "qgXqdCz-CUod",
        "outputId": "c286e793-601f-41b3-8e02-96d0d4329649"
      },
      "execution_count": null,
      "outputs": [
        {
          "output_type": "execute_result",
          "data": {
            "text/plain": [
              "torch.Size([7, 256])"
            ]
          },
          "metadata": {},
          "execution_count": 18
        }
      ]
    },
    {
      "cell_type": "markdown",
      "source": [
        "## Decoder class(es)"
      ],
      "metadata": {
        "id": "EDcTn3f6efUV"
      }
    },
    {
      "cell_type": "markdown",
      "source": [
        "### 256"
      ],
      "metadata": {
        "id": "7HwLy8zCVjqc"
      }
    },
    {
      "cell_type": "code",
      "source": [
        "class VisionTransformer_decoder(nn.Module):\n",
        "  def __init__(self, input_dim=256):\n",
        "    super(VisionTransformer_decoder, self).__init__()\n",
        "\n",
        "    assert input_dim ** 0.5 % 2 == 0, 'Bad input dimension, sqrt(input_dim) must be an even number'\n",
        "\n",
        "    self.input_dim = input_dim\n",
        "\n",
        "    self.cnnt1 = nn.Sequential(     \n",
        "      nn.ConvTranspose2d(1, input_dim, 4, stride=1),\n",
        "      nn.ReLU(),\n",
        "\n",
        "      nn.ConvTranspose2d(input_dim, 128, 4, stride=1),\n",
        "      nn.ReLU(),\n",
        "\n",
        "      nn.ConvTranspose2d(128, 64, 4, stride=1),\n",
        "      nn.ReLU(),\n",
        "\n",
        "      nn.ConvTranspose2d(64, 1, 4, stride=1),\n",
        "      nn.Sigmoid()\n",
        "    )\n",
        "    \n",
        "  def forward(self, latent_vector):\n",
        "    assert latent_vector.shape[-1] == self.input_dim, \"Dimension of vector does not match the initialized input dimension\"\n",
        "\n",
        "    n, d = latent_vector.shape\n",
        "    x = latent_vector.view(n, 1, int(d ** 0.5), int(d ** 0.5))\n",
        "    out = self.cnnt1(x)\n",
        "    return out\n",
        "\n",
        "# Test output shape\n",
        "out = VisionTransformer_decoder()(torch.rand(7, 256))\n",
        "out.shape"
      ],
      "metadata": {
        "colab": {
          "base_uri": "https://localhost:8080/"
        },
        "outputId": "ca1b1f09-4935-48d5-b163-0e6366baa196",
        "id": "dzVY2FpkVjqd"
      },
      "execution_count": null,
      "outputs": [
        {
          "output_type": "execute_result",
          "data": {
            "text/plain": [
              "torch.Size([7, 1, 28, 28])"
            ]
          },
          "metadata": {},
          "execution_count": 19
        }
      ]
    },
    {
      "cell_type": "markdown",
      "source": [
        "## AE class"
      ],
      "metadata": {
        "id": "9u1GTOpj7GeB"
      }
    },
    {
      "cell_type": "code",
      "source": [
        "class VisionTransformer_Conv_AE(nn.Module):\n",
        "  def __init__(self, encoder, decoder):\n",
        "    super(VisionTransformer_Conv_AE, self).__init__()\n",
        "\n",
        "    self.encoder = encoder\n",
        "    self.decoder = decoder\n",
        "\n",
        "  def forward(self, images):\n",
        "    encoded_input = self.encoder(images)\n",
        "    decoded_output = self.decoder(encoded_input)\n",
        "    return decoded_output"
      ],
      "metadata": {
        "id": "Wiu50myQqcuo"
      },
      "execution_count": null,
      "outputs": []
    },
    {
      "cell_type": "markdown",
      "source": [
        "# Train model"
      ],
      "metadata": {
        "id": "LhE56E9UuN8_"
      }
    },
    {
      "cell_type": "markdown",
      "source": [
        "## Instatiate model & Environment settings"
      ],
      "metadata": {
        "id": "dY34O3wGZ3CY"
      }
    },
    {
      "cell_type": "code",
      "source": [
        "encoder_weights_path = '/content/drive/MyDrive/Andreas Olsson/Public-Safety/models/VisionTransformer_MNIST_Classifier.pth'\n",
        "\n",
        "# Encoder\n",
        "encoder = VisionTransformer_encoder(chw=(1,28,28), n_patches=7, n_blocks=2, hidden_dim=8, n_heads=2, out_dim=256).to(device)\n",
        "encoder.load_state_dict(torch.load(encoder_weights_path, map_location=torch.device(device)), strict=False)\n",
        "\n",
        "# Decoder\n",
        "decoder = VisionTransformer_decoder(input_dim=256).to(device)\n",
        "\n",
        "# AutoEncoder\n",
        "model = VisionTransformer_Conv_AE(encoder, decoder).to(device)"
      ],
      "metadata": {
        "id": "wAtq-yrivadl"
      },
      "execution_count": null,
      "outputs": []
    },
    {
      "cell_type": "code",
      "source": [
        "lr = 5e-3\n",
        "epochs = 10\n",
        "optim = Adam(model.parameters(), lr=lr)\n",
        "criterion = BCELoss()"
      ],
      "metadata": {
        "id": "sh1kme6uZlge"
      },
      "execution_count": null,
      "outputs": []
    },
    {
      "cell_type": "code",
      "source": [
        "trainable_params = filter(lambda p: p.requires_grad, model.parameters())\n",
        "trainable_params = sum([np.prod(p.size()) for p in trainable_params])"
      ],
      "metadata": {
        "id": "lwg_VbnU6oT2"
      },
      "execution_count": null,
      "outputs": []
    },
    {
      "cell_type": "markdown",
      "source": [
        "### Training loop"
      ],
      "metadata": {
        "id": "J9jrj5cqbd9m"
      }
    },
    {
      "cell_type": "code",
      "source": [
        "print(f'{\"-\"*20}Training model {model_name} for {epochs} epochs with {trainable_params} trainable params and learning rate of {lr}{\"-\"*20}\\n')\n",
        "min_test_loss = np.inf\n",
        "for epoch in range(epochs):\n",
        "  train_epoch_loss = 0.\n",
        "  model.train()\n",
        "  for batch in tqdm(train_dl, desc=f'Training Epoch: [{epoch + 1} ---> {epochs}]', position=0, leave=True):\n",
        "    x, y = batch\n",
        "    x, y = x.to(device), y.to(device)\n",
        "    y_hat = model(x)\n",
        "\n",
        "    train_loss = criterion(y_hat, y)\n",
        "    train_epoch_loss += train_loss.detach().cpu().item() / len(train_dl)\n",
        "\n",
        "    optim.zero_grad()\n",
        "    train_loss.backward()\n",
        "    optim.step()\n",
        "\n",
        "  with torch.no_grad():\n",
        "    test_epoch_loss = 0\n",
        "    model.eval()\n",
        "    for batch in tqdm(test_dl, desc=f'Testing Epoch [{epoch + 1} ---> {epochs}]', position=0, leave=True):\n",
        "      x, y = batch\n",
        "      x, y = x.to(device), y.to(device)\n",
        "      y_hat = model(x)\n",
        "\n",
        "      test_loss = criterion(y_hat, y)\n",
        "      test_epoch_loss += test_loss.detach().cpu().item() / len(test_dl)\n",
        "\n",
        "    print(f'[Epoch {epoch + 1}]\\tTrain loss: {train_epoch_loss:.4f}\\tTest loss {test_epoch_loss:.4f}')\n",
        "\n",
        "    if test_epoch_loss < min_test_loss:\n",
        "      print(f'Test loss decreased ({min_test_loss:.4f}--->{test_epoch_loss:.4f})\\tSaving the model...\\n')\n",
        "      min_test_loss = test_epoch_loss\n",
        "      torch.save(model.state_dict(), save_path)\n",
        "    else: print('')"
      ],
      "metadata": {
        "colab": {
          "base_uri": "https://localhost:8080/"
        },
        "id": "8ahr4imRbfLL",
        "outputId": "ec47742c-6082-47a5-f71d-926eb0ddc7d2"
      },
      "execution_count": null,
      "outputs": [
        {
          "output_type": "stream",
          "name": "stdout",
          "text": [
            "--------------------Training model VisionTransformer_MNIST_AE_64.pth for 10 epochs with 359953 trainable params and learning rate of 0.005--------------------\n",
            "\n"
          ]
        },
        {
          "output_type": "stream",
          "name": "stderr",
          "text": [
            "Training Epoch: [1 ---> 10]: 100%|██████████| 469/469 [03:41<00:00,  2.11it/s]\n",
            "Testing Epoch [1 ---> 10]: 100%|██████████| 79/79 [00:18<00:00,  4.31it/s]\n"
          ]
        },
        {
          "output_type": "stream",
          "name": "stdout",
          "text": [
            "[Epoch 1]\tTrain loss: 0.3202\tTest loss 0.2778\n",
            "Test loss decreased (inf--->0.2778)\tSaving the model...\n",
            "\n"
          ]
        },
        {
          "output_type": "stream",
          "name": "stderr",
          "text": [
            "Training Epoch: [2 ---> 10]: 100%|██████████| 469/469 [03:40<00:00,  2.13it/s]\n",
            "Testing Epoch [2 ---> 10]: 100%|██████████| 79/79 [00:17<00:00,  4.40it/s]\n"
          ]
        },
        {
          "output_type": "stream",
          "name": "stdout",
          "text": [
            "[Epoch 2]\tTrain loss: 0.2734\tTest loss 0.2696\n",
            "Test loss decreased (0.2778--->0.2696)\tSaving the model...\n",
            "\n"
          ]
        },
        {
          "output_type": "stream",
          "name": "stderr",
          "text": [
            "Training Epoch: [3 ---> 10]: 100%|██████████| 469/469 [03:41<00:00,  2.12it/s]\n",
            "Testing Epoch [3 ---> 10]: 100%|██████████| 79/79 [00:17<00:00,  4.40it/s]\n"
          ]
        },
        {
          "output_type": "stream",
          "name": "stdout",
          "text": [
            "[Epoch 3]\tTrain loss: 0.2681\tTest loss 0.2676\n",
            "Test loss decreased (0.2696--->0.2676)\tSaving the model...\n",
            "\n"
          ]
        },
        {
          "output_type": "stream",
          "name": "stderr",
          "text": [
            "Training Epoch: [4 ---> 10]: 100%|██████████| 469/469 [03:42<00:00,  2.11it/s]\n",
            "Testing Epoch [4 ---> 10]: 100%|██████████| 79/79 [00:18<00:00,  4.36it/s]\n"
          ]
        },
        {
          "output_type": "stream",
          "name": "stdout",
          "text": [
            "[Epoch 4]\tTrain loss: 0.2668\tTest loss 0.2656\n",
            "Test loss decreased (0.2676--->0.2656)\tSaving the model...\n",
            "\n"
          ]
        },
        {
          "output_type": "stream",
          "name": "stderr",
          "text": [
            "Training Epoch: [5 ---> 10]: 100%|██████████| 469/469 [03:42<00:00,  2.10it/s]\n",
            "Testing Epoch [5 ---> 10]: 100%|██████████| 79/79 [00:17<00:00,  4.42it/s]\n"
          ]
        },
        {
          "output_type": "stream",
          "name": "stdout",
          "text": [
            "[Epoch 5]\tTrain loss: 0.2658\tTest loss 0.2653\n",
            "Test loss decreased (0.2656--->0.2653)\tSaving the model...\n",
            "\n"
          ]
        },
        {
          "output_type": "stream",
          "name": "stderr",
          "text": [
            "Training Epoch: [6 ---> 10]: 100%|██████████| 469/469 [03:41<00:00,  2.12it/s]\n",
            "Testing Epoch [6 ---> 10]: 100%|██████████| 79/79 [00:17<00:00,  4.42it/s]\n"
          ]
        },
        {
          "output_type": "stream",
          "name": "stdout",
          "text": [
            "[Epoch 6]\tTrain loss: 0.2655\tTest loss 0.2658\n",
            "\n"
          ]
        },
        {
          "output_type": "stream",
          "name": "stderr",
          "text": [
            "Training Epoch: [7 ---> 10]: 100%|██████████| 469/469 [03:42<00:00,  2.11it/s]\n",
            "Testing Epoch [7 ---> 10]: 100%|██████████| 79/79 [00:17<00:00,  4.39it/s]\n"
          ]
        },
        {
          "output_type": "stream",
          "name": "stdout",
          "text": [
            "[Epoch 7]\tTrain loss: 0.2653\tTest loss 0.2649\n",
            "Test loss decreased (0.2653--->0.2649)\tSaving the model...\n",
            "\n"
          ]
        },
        {
          "output_type": "stream",
          "name": "stderr",
          "text": [
            "Training Epoch: [8 ---> 10]:  15%|█▌        | 71/469 [00:33<03:10,  2.09it/s]\n"
          ]
        },
        {
          "output_type": "error",
          "ename": "KeyboardInterrupt",
          "evalue": "ignored",
          "traceback": [
            "\u001b[0;31m---------------------------------------------------------------------------\u001b[0m",
            "\u001b[0;31mKeyboardInterrupt\u001b[0m                         Traceback (most recent call last)",
            "\u001b[0;32m<ipython-input-55-8161e393bab7>\u001b[0m in \u001b[0;36m<module>\u001b[0;34m\u001b[0m\n\u001b[1;32m      7\u001b[0m     \u001b[0mx\u001b[0m\u001b[0;34m,\u001b[0m \u001b[0my\u001b[0m \u001b[0;34m=\u001b[0m \u001b[0mbatch\u001b[0m\u001b[0;34m\u001b[0m\u001b[0;34m\u001b[0m\u001b[0m\n\u001b[1;32m      8\u001b[0m     \u001b[0mx\u001b[0m\u001b[0;34m,\u001b[0m \u001b[0my\u001b[0m \u001b[0;34m=\u001b[0m \u001b[0mx\u001b[0m\u001b[0;34m.\u001b[0m\u001b[0mto\u001b[0m\u001b[0;34m(\u001b[0m\u001b[0mdevice\u001b[0m\u001b[0;34m)\u001b[0m\u001b[0;34m,\u001b[0m \u001b[0my\u001b[0m\u001b[0;34m.\u001b[0m\u001b[0mto\u001b[0m\u001b[0;34m(\u001b[0m\u001b[0mdevice\u001b[0m\u001b[0;34m)\u001b[0m\u001b[0;34m\u001b[0m\u001b[0;34m\u001b[0m\u001b[0m\n\u001b[0;32m----> 9\u001b[0;31m     \u001b[0my_hat\u001b[0m \u001b[0;34m=\u001b[0m \u001b[0mmodel\u001b[0m\u001b[0;34m(\u001b[0m\u001b[0mx\u001b[0m\u001b[0;34m)\u001b[0m\u001b[0;34m\u001b[0m\u001b[0;34m\u001b[0m\u001b[0m\n\u001b[0m\u001b[1;32m     10\u001b[0m \u001b[0;34m\u001b[0m\u001b[0m\n\u001b[1;32m     11\u001b[0m     \u001b[0mtrain_loss\u001b[0m \u001b[0;34m=\u001b[0m \u001b[0mcriterion\u001b[0m\u001b[0;34m(\u001b[0m\u001b[0my_hat\u001b[0m\u001b[0;34m,\u001b[0m \u001b[0my\u001b[0m\u001b[0;34m)\u001b[0m\u001b[0;34m\u001b[0m\u001b[0;34m\u001b[0m\u001b[0m\n",
            "\u001b[0;32m/usr/local/lib/python3.7/dist-packages/torch/nn/modules/module.py\u001b[0m in \u001b[0;36m_call_impl\u001b[0;34m(self, *input, **kwargs)\u001b[0m\n\u001b[1;32m   1128\u001b[0m         if not (self._backward_hooks or self._forward_hooks or self._forward_pre_hooks or _global_backward_hooks\n\u001b[1;32m   1129\u001b[0m                 or _global_forward_hooks or _global_forward_pre_hooks):\n\u001b[0;32m-> 1130\u001b[0;31m             \u001b[0;32mreturn\u001b[0m \u001b[0mforward_call\u001b[0m\u001b[0;34m(\u001b[0m\u001b[0;34m*\u001b[0m\u001b[0minput\u001b[0m\u001b[0;34m,\u001b[0m \u001b[0;34m**\u001b[0m\u001b[0mkwargs\u001b[0m\u001b[0;34m)\u001b[0m\u001b[0;34m\u001b[0m\u001b[0;34m\u001b[0m\u001b[0m\n\u001b[0m\u001b[1;32m   1131\u001b[0m         \u001b[0;31m# Do not call functions when jit is used\u001b[0m\u001b[0;34m\u001b[0m\u001b[0;34m\u001b[0m\u001b[0;34m\u001b[0m\u001b[0m\n\u001b[1;32m   1132\u001b[0m         \u001b[0mfull_backward_hooks\u001b[0m\u001b[0;34m,\u001b[0m \u001b[0mnon_full_backward_hooks\u001b[0m \u001b[0;34m=\u001b[0m \u001b[0;34m[\u001b[0m\u001b[0;34m]\u001b[0m\u001b[0;34m,\u001b[0m \u001b[0;34m[\u001b[0m\u001b[0;34m]\u001b[0m\u001b[0;34m\u001b[0m\u001b[0;34m\u001b[0m\u001b[0m\n",
            "\u001b[0;32m<ipython-input-50-f6ddeef53606>\u001b[0m in \u001b[0;36mforward\u001b[0;34m(self, images)\u001b[0m\n\u001b[1;32m      7\u001b[0m \u001b[0;34m\u001b[0m\u001b[0m\n\u001b[1;32m      8\u001b[0m   \u001b[0;32mdef\u001b[0m \u001b[0mforward\u001b[0m\u001b[0;34m(\u001b[0m\u001b[0mself\u001b[0m\u001b[0;34m,\u001b[0m \u001b[0mimages\u001b[0m\u001b[0;34m)\u001b[0m\u001b[0;34m:\u001b[0m\u001b[0;34m\u001b[0m\u001b[0;34m\u001b[0m\u001b[0m\n\u001b[0;32m----> 9\u001b[0;31m     \u001b[0mencoded_input\u001b[0m \u001b[0;34m=\u001b[0m \u001b[0mself\u001b[0m\u001b[0;34m.\u001b[0m\u001b[0mencoder\u001b[0m\u001b[0;34m(\u001b[0m\u001b[0mimages\u001b[0m\u001b[0;34m)\u001b[0m\u001b[0;34m\u001b[0m\u001b[0;34m\u001b[0m\u001b[0m\n\u001b[0m\u001b[1;32m     10\u001b[0m     \u001b[0mdecoded_output\u001b[0m \u001b[0;34m=\u001b[0m \u001b[0mself\u001b[0m\u001b[0;34m.\u001b[0m\u001b[0mdecoder\u001b[0m\u001b[0;34m(\u001b[0m\u001b[0mencoded_input\u001b[0m\u001b[0;34m)\u001b[0m\u001b[0;34m\u001b[0m\u001b[0;34m\u001b[0m\u001b[0m\n\u001b[1;32m     11\u001b[0m     \u001b[0;32mreturn\u001b[0m \u001b[0mdecoded_output\u001b[0m\u001b[0;34m\u001b[0m\u001b[0;34m\u001b[0m\u001b[0m\n",
            "\u001b[0;32m/usr/local/lib/python3.7/dist-packages/torch/nn/modules/module.py\u001b[0m in \u001b[0;36m_call_impl\u001b[0;34m(self, *input, **kwargs)\u001b[0m\n\u001b[1;32m   1128\u001b[0m         if not (self._backward_hooks or self._forward_hooks or self._forward_pre_hooks or _global_backward_hooks\n\u001b[1;32m   1129\u001b[0m                 or _global_forward_hooks or _global_forward_pre_hooks):\n\u001b[0;32m-> 1130\u001b[0;31m             \u001b[0;32mreturn\u001b[0m \u001b[0mforward_call\u001b[0m\u001b[0;34m(\u001b[0m\u001b[0;34m*\u001b[0m\u001b[0minput\u001b[0m\u001b[0;34m,\u001b[0m \u001b[0;34m**\u001b[0m\u001b[0mkwargs\u001b[0m\u001b[0;34m)\u001b[0m\u001b[0;34m\u001b[0m\u001b[0;34m\u001b[0m\u001b[0m\n\u001b[0m\u001b[1;32m   1131\u001b[0m         \u001b[0;31m# Do not call functions when jit is used\u001b[0m\u001b[0;34m\u001b[0m\u001b[0;34m\u001b[0m\u001b[0;34m\u001b[0m\u001b[0m\n\u001b[1;32m   1132\u001b[0m         \u001b[0mfull_backward_hooks\u001b[0m\u001b[0;34m,\u001b[0m \u001b[0mnon_full_backward_hooks\u001b[0m \u001b[0;34m=\u001b[0m \u001b[0;34m[\u001b[0m\u001b[0;34m]\u001b[0m\u001b[0;34m,\u001b[0m \u001b[0;34m[\u001b[0m\u001b[0;34m]\u001b[0m\u001b[0;34m\u001b[0m\u001b[0;34m\u001b[0m\u001b[0m\n",
            "\u001b[0;32m<ipython-input-12-009b1a3b4fc2>\u001b[0m in \u001b[0;36mforward\u001b[0;34m(self, images)\u001b[0m\n\u001b[1;32m     53\u001b[0m     \u001b[0;34m\"Transformer blocks\"\u001b[0m\u001b[0;34m\u001b[0m\u001b[0;34m\u001b[0m\u001b[0m\n\u001b[1;32m     54\u001b[0m     \u001b[0;32mfor\u001b[0m \u001b[0mblock\u001b[0m \u001b[0;32min\u001b[0m \u001b[0mself\u001b[0m\u001b[0;34m.\u001b[0m\u001b[0mblocks\u001b[0m\u001b[0;34m:\u001b[0m\u001b[0;34m\u001b[0m\u001b[0;34m\u001b[0m\u001b[0m\n\u001b[0;32m---> 55\u001b[0;31m       \u001b[0mout\u001b[0m \u001b[0;34m=\u001b[0m \u001b[0mblock\u001b[0m\u001b[0;34m(\u001b[0m\u001b[0mout\u001b[0m\u001b[0;34m)\u001b[0m\u001b[0;34m\u001b[0m\u001b[0;34m\u001b[0m\u001b[0m\n\u001b[0m\u001b[1;32m     56\u001b[0m \u001b[0;34m\u001b[0m\u001b[0m\n\u001b[1;32m     57\u001b[0m     \u001b[0mout\u001b[0m \u001b[0;34m=\u001b[0m \u001b[0mout\u001b[0m\u001b[0;34m.\u001b[0m\u001b[0mview\u001b[0m\u001b[0;34m(\u001b[0m\u001b[0mn\u001b[0m\u001b[0;34m,\u001b[0m \u001b[0;36m1\u001b[0m\u001b[0;34m,\u001b[0m \u001b[0;34m(\u001b[0m\u001b[0mself\u001b[0m\u001b[0;34m.\u001b[0m\u001b[0mn_patches\u001b[0m \u001b[0;34m**\u001b[0m \u001b[0;36m2\u001b[0m \u001b[0;34m+\u001b[0m \u001b[0;36m1\u001b[0m\u001b[0;34m)\u001b[0m \u001b[0;34m*\u001b[0m \u001b[0mself\u001b[0m\u001b[0;34m.\u001b[0m\u001b[0mhidden_dim\u001b[0m\u001b[0;34m)\u001b[0m\u001b[0;34m\u001b[0m\u001b[0;34m\u001b[0m\u001b[0m\n",
            "\u001b[0;32m/usr/local/lib/python3.7/dist-packages/torch/nn/modules/module.py\u001b[0m in \u001b[0;36m_call_impl\u001b[0;34m(self, *input, **kwargs)\u001b[0m\n\u001b[1;32m   1128\u001b[0m         if not (self._backward_hooks or self._forward_hooks or self._forward_pre_hooks or _global_backward_hooks\n\u001b[1;32m   1129\u001b[0m                 or _global_forward_hooks or _global_forward_pre_hooks):\n\u001b[0;32m-> 1130\u001b[0;31m             \u001b[0;32mreturn\u001b[0m \u001b[0mforward_call\u001b[0m\u001b[0;34m(\u001b[0m\u001b[0;34m*\u001b[0m\u001b[0minput\u001b[0m\u001b[0;34m,\u001b[0m \u001b[0;34m**\u001b[0m\u001b[0mkwargs\u001b[0m\u001b[0;34m)\u001b[0m\u001b[0;34m\u001b[0m\u001b[0;34m\u001b[0m\u001b[0m\n\u001b[0m\u001b[1;32m   1131\u001b[0m         \u001b[0;31m# Do not call functions when jit is used\u001b[0m\u001b[0;34m\u001b[0m\u001b[0;34m\u001b[0m\u001b[0;34m\u001b[0m\u001b[0m\n\u001b[1;32m   1132\u001b[0m         \u001b[0mfull_backward_hooks\u001b[0m\u001b[0;34m,\u001b[0m \u001b[0mnon_full_backward_hooks\u001b[0m \u001b[0;34m=\u001b[0m \u001b[0;34m[\u001b[0m\u001b[0;34m]\u001b[0m\u001b[0;34m,\u001b[0m \u001b[0;34m[\u001b[0m\u001b[0;34m]\u001b[0m\u001b[0;34m\u001b[0m\u001b[0;34m\u001b[0m\u001b[0m\n",
            "\u001b[0;32m<ipython-input-10-d930fcb12c5b>\u001b[0m in \u001b[0;36mforward\u001b[0;34m(self, x)\u001b[0m\n\u001b[1;32m     15\u001b[0m \u001b[0;34m\u001b[0m\u001b[0m\n\u001b[1;32m     16\u001b[0m   \u001b[0;32mdef\u001b[0m \u001b[0mforward\u001b[0m\u001b[0;34m(\u001b[0m\u001b[0mself\u001b[0m\u001b[0;34m,\u001b[0m \u001b[0mx\u001b[0m\u001b[0;34m)\u001b[0m\u001b[0;34m:\u001b[0m\u001b[0;34m\u001b[0m\u001b[0;34m\u001b[0m\u001b[0m\n\u001b[0;32m---> 17\u001b[0;31m     \u001b[0mout\u001b[0m \u001b[0;34m=\u001b[0m \u001b[0mx\u001b[0m \u001b[0;34m+\u001b[0m \u001b[0mself\u001b[0m\u001b[0;34m.\u001b[0m\u001b[0mmsa\u001b[0m\u001b[0;34m(\u001b[0m\u001b[0mself\u001b[0m\u001b[0;34m.\u001b[0m\u001b[0mnorm1\u001b[0m\u001b[0;34m(\u001b[0m\u001b[0mx\u001b[0m\u001b[0;34m)\u001b[0m\u001b[0;34m)\u001b[0m\u001b[0;34m\u001b[0m\u001b[0;34m\u001b[0m\u001b[0m\n\u001b[0m\u001b[1;32m     18\u001b[0m     \u001b[0mout\u001b[0m \u001b[0;34m=\u001b[0m \u001b[0mout\u001b[0m \u001b[0;34m+\u001b[0m \u001b[0mself\u001b[0m\u001b[0;34m.\u001b[0m\u001b[0mmlp\u001b[0m\u001b[0;34m(\u001b[0m\u001b[0mself\u001b[0m\u001b[0;34m.\u001b[0m\u001b[0mnorm2\u001b[0m\u001b[0;34m(\u001b[0m\u001b[0mout\u001b[0m\u001b[0;34m)\u001b[0m\u001b[0;34m)\u001b[0m\u001b[0;34m\u001b[0m\u001b[0;34m\u001b[0m\u001b[0m\n\u001b[1;32m     19\u001b[0m     \u001b[0;32mreturn\u001b[0m \u001b[0mout\u001b[0m\u001b[0;34m\u001b[0m\u001b[0;34m\u001b[0m\u001b[0m\n",
            "\u001b[0;32m/usr/local/lib/python3.7/dist-packages/torch/nn/modules/module.py\u001b[0m in \u001b[0;36m_call_impl\u001b[0;34m(self, *input, **kwargs)\u001b[0m\n\u001b[1;32m   1128\u001b[0m         if not (self._backward_hooks or self._forward_hooks or self._forward_pre_hooks or _global_backward_hooks\n\u001b[1;32m   1129\u001b[0m                 or _global_forward_hooks or _global_forward_pre_hooks):\n\u001b[0;32m-> 1130\u001b[0;31m             \u001b[0;32mreturn\u001b[0m \u001b[0mforward_call\u001b[0m\u001b[0;34m(\u001b[0m\u001b[0;34m*\u001b[0m\u001b[0minput\u001b[0m\u001b[0;34m,\u001b[0m \u001b[0;34m**\u001b[0m\u001b[0mkwargs\u001b[0m\u001b[0;34m)\u001b[0m\u001b[0;34m\u001b[0m\u001b[0;34m\u001b[0m\u001b[0m\n\u001b[0m\u001b[1;32m   1131\u001b[0m         \u001b[0;31m# Do not call functions when jit is used\u001b[0m\u001b[0;34m\u001b[0m\u001b[0;34m\u001b[0m\u001b[0;34m\u001b[0m\u001b[0m\n\u001b[1;32m   1132\u001b[0m         \u001b[0mfull_backward_hooks\u001b[0m\u001b[0;34m,\u001b[0m \u001b[0mnon_full_backward_hooks\u001b[0m \u001b[0;34m=\u001b[0m \u001b[0;34m[\u001b[0m\u001b[0;34m]\u001b[0m\u001b[0;34m,\u001b[0m \u001b[0;34m[\u001b[0m\u001b[0;34m]\u001b[0m\u001b[0;34m\u001b[0m\u001b[0;34m\u001b[0m\u001b[0m\n",
            "\u001b[0;32m<ipython-input-9-c403cf67d9f5>\u001b[0m in \u001b[0;36mforward\u001b[0;34m(self, sequences)\u001b[0m\n\u001b[1;32m     31\u001b[0m         \u001b[0mq\u001b[0m\u001b[0;34m,\u001b[0m \u001b[0mk\u001b[0m\u001b[0;34m,\u001b[0m \u001b[0mv\u001b[0m \u001b[0;34m=\u001b[0m \u001b[0mq_mapping\u001b[0m\u001b[0;34m(\u001b[0m\u001b[0mseq\u001b[0m\u001b[0;34m)\u001b[0m\u001b[0;34m,\u001b[0m \u001b[0mk_mapping\u001b[0m\u001b[0;34m(\u001b[0m\u001b[0mseq\u001b[0m\u001b[0;34m)\u001b[0m\u001b[0;34m,\u001b[0m \u001b[0mv_mapping\u001b[0m\u001b[0;34m(\u001b[0m\u001b[0mseq\u001b[0m\u001b[0;34m)\u001b[0m\u001b[0;34m\u001b[0m\u001b[0;34m\u001b[0m\u001b[0m\n\u001b[1;32m     32\u001b[0m \u001b[0;34m\u001b[0m\u001b[0m\n\u001b[0;32m---> 33\u001b[0;31m         \u001b[0mattention\u001b[0m \u001b[0;34m=\u001b[0m \u001b[0mself\u001b[0m\u001b[0;34m.\u001b[0m\u001b[0msoftmax\u001b[0m\u001b[0;34m(\u001b[0m\u001b[0mq\u001b[0m \u001b[0;34m@\u001b[0m \u001b[0mk\u001b[0m\u001b[0;34m.\u001b[0m\u001b[0mT\u001b[0m \u001b[0;34m/\u001b[0m \u001b[0;34m(\u001b[0m\u001b[0mself\u001b[0m\u001b[0;34m.\u001b[0m\u001b[0mhead_dim\u001b[0m \u001b[0;34m**\u001b[0m \u001b[0;36m0.5\u001b[0m\u001b[0;34m)\u001b[0m\u001b[0;34m)\u001b[0m\u001b[0;34m\u001b[0m\u001b[0;34m\u001b[0m\u001b[0m\n\u001b[0m\u001b[1;32m     34\u001b[0m         \u001b[0mseq_res\u001b[0m\u001b[0;34m.\u001b[0m\u001b[0mappend\u001b[0m\u001b[0;34m(\u001b[0m\u001b[0mattention\u001b[0m \u001b[0;34m@\u001b[0m \u001b[0mv\u001b[0m\u001b[0;34m)\u001b[0m\u001b[0;34m\u001b[0m\u001b[0;34m\u001b[0m\u001b[0m\n\u001b[1;32m     35\u001b[0m \u001b[0;34m\u001b[0m\u001b[0m\n",
            "\u001b[0;31mKeyboardInterrupt\u001b[0m: "
          ]
        }
      ]
    },
    {
      "cell_type": "markdown",
      "source": [
        "# Test model"
      ],
      "metadata": {
        "id": "OP6pp4NIJ6w4"
      }
    },
    {
      "cell_type": "markdown",
      "source": [
        "## Instantiate model & load trained weights"
      ],
      "metadata": {
        "id": "YM9hnHGeLsBK"
      }
    },
    {
      "cell_type": "code",
      "source": [
        "# Encoder\n",
        "encoder = VisionTransformer_encoder(chw=(1,28,28), n_patches=7, n_blocks=2, hidden_dim=8, n_heads=2, out_dim=256).to(device)\n",
        "\n",
        "# Decoder\n",
        "decoder = VisionTransformer_decoder(input_dim=256)\n",
        "\n",
        "# AutoEncoder\n",
        "model = VisionTransformer_Conv_AE(encoder, decoder).to(device)\n",
        "model.load_state_dict(torch.load(state_dict_path, map_location=torch.device(device)))"
      ],
      "metadata": {
        "colab": {
          "base_uri": "https://localhost:8080/"
        },
        "id": "WK3WDUXxLgOX",
        "outputId": "f842f4de-66cb-49a9-96a5-90a47ef7746b"
      },
      "execution_count": null,
      "outputs": [
        {
          "output_type": "execute_result",
          "data": {
            "text/plain": [
              "<All keys matched successfully>"
            ]
          },
          "metadata": {},
          "execution_count": 23
        }
      ]
    },
    {
      "cell_type": "markdown",
      "source": [
        "## Test performance"
      ],
      "metadata": {
        "id": "g-9SAjJQM8JE"
      }
    },
    {
      "cell_type": "code",
      "source": [
        "criterion = BCELoss()"
      ],
      "metadata": {
        "id": "Bk2zUGaLNJnA"
      },
      "execution_count": null,
      "outputs": []
    },
    {
      "cell_type": "code",
      "source": [
        "print(f'{\"-\"*20}Testing model {model_name}{\"-\"*20}\\n')\n",
        "\n",
        "with torch.no_grad():\n",
        "  test_epoch_loss = 0\n",
        "  model.eval()\n",
        "  for batch in tqdm(test_dl, desc=f'Testing', position=0, leave=True):\n",
        "    x, y = batch\n",
        "    x, y = x.to(device), y.to(device)\n",
        "    y_hat = model(x)\n",
        "\n",
        "    test_loss = criterion(y_hat, y)\n",
        "    test_epoch_loss += test_loss.detach().cpu().item() / len(test_dl)\n",
        "\n",
        "  print(f' ---> Test loss: {test_epoch_loss:.4f}')"
      ],
      "metadata": {
        "colab": {
          "base_uri": "https://localhost:8080/"
        },
        "id": "1ixsvz_EM-UD",
        "outputId": "a3f9991f-4069-4d50-c777-60ae5d2956fa"
      },
      "execution_count": null,
      "outputs": [
        {
          "output_type": "stream",
          "name": "stdout",
          "text": [
            "--------------------Testing model VisionTransformer_MNIST_AE_256.pth--------------------\n",
            "\n"
          ]
        },
        {
          "output_type": "stream",
          "name": "stderr",
          "text": [
            "Testing: 100%|██████████| 79/79 [02:28<00:00,  1.88s/it]"
          ]
        },
        {
          "output_type": "stream",
          "name": "stdout",
          "text": [
            " ---> Test loss: 0.0781\n"
          ]
        },
        {
          "output_type": "stream",
          "name": "stderr",
          "text": [
            "\n"
          ]
        }
      ]
    },
    {
      "cell_type": "markdown",
      "source": [
        "## Perform inference"
      ],
      "metadata": {
        "id": "-xBl4u8_M-3y"
      }
    },
    {
      "cell_type": "code",
      "source": [
        "def show_preds(real_images=True, n_preds=6, n_cols=6):\n",
        "  assert n_cols % 2 == 0, 'n_cols must be an even int'\n",
        "\n",
        "  n_rows = bisect.bisect_right([i for i in range(n_preds*2) if i % n_cols == 0], n_preds*2)\n",
        "  fig, axs = plt.subplots(n_rows, n_cols, figsize=(n_cols * 3, n_rows * 3))\n",
        "  axs = axs.flatten()\n",
        "\n",
        "  with torch.no_grad():\n",
        "    if real_images: \n",
        "      ims = tuple([random.choice(test_dl.dataset)[0] for _ in range(n_preds)])\n",
        "      inputs = torch.stack(ims)\n",
        "      preds = model(inputs.to(device))\n",
        "    else: \n",
        "      inputs = torch.rand(n_preds,1,28,28)\n",
        "      preds = model(inputs.to(device))\n",
        "\n",
        "    imgs = [item for pair in zip(inputs, preds) for item in pair]\n",
        "    \n",
        "    for idx in range(n_preds*2):\n",
        "      im = imgs[idx]\n",
        "      im_cv = im.cpu().numpy().transpose(1,2,0).squeeze()\n",
        "      im_rgb = cv2.cvtColor(im_cv*255, cv2.COLOR_BGR2RGB).astype(np.uint8)\n",
        "      axs[idx].title.set_text('Input image' if idx % 2 ==0 else f'Reconstructed image\\nl2 distance: {torch.dist(imgs[idx-1],imgs[idx],2):.2f}')\n",
        "      axs[idx].imshow(im_rgb)\n",
        "\n",
        "  plt.tight_layout()\n",
        "  plt.show()\n",
        "\n",
        "show_preds()"
      ],
      "metadata": {
        "colab": {
          "base_uri": "https://localhost:8080/",
          "height": 446
        },
        "id": "af24yWTxVxA_",
        "outputId": "c238af9e-1ad7-4ea4-c1b5-5b1fb93ca8cf"
      },
      "execution_count": null,
      "outputs": [
        {
          "output_type": "display_data",
          "data": {
            "text/plain": [
              "<Figure size 1296x432 with 12 Axes>"
            ],
            "image/png": "[encoded data removed]"
          },
          "metadata": {
            "needs_background": "light"
          }
        }
      ]
    },
    {
      "cell_type": "code",
      "source": [
        "show_preds(real_images=False)"
      ],
      "metadata": {
        "colab": {
          "base_uri": "https://localhost:8080/",
          "height": 446
        },
        "id": "hPeHuRIlaebU",
        "outputId": "db258584-9c6d-4861-8bd6-2553ced000f5"
      },
      "execution_count": null,
      "outputs": [
        {
          "output_type": "display_data",
          "data": {
            "text/plain": [
              "<Figure size 1296x432 with 12 Axes>"
            ],
            "image/png": "[encoded data removed]"
          },
          "metadata": {
            "needs_background": "light"
          }
        }
      ]
    },
    {
      "cell_type": "code",
      "source": [],
      "metadata": {
        "id": "WmumFTB0voSq"
      },
      "execution_count": null,
      "outputs": []
    }
  ]
}