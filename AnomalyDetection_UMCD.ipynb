{
  "nbformat": 4,
  "nbformat_minor": 0,
  "metadata": {
    "colab": {
      "provenance": [],
      "authorship_tag": "ABX9TyPpYUylFzLsQJlg1TKER7Ow",
      "include_colab_link": true
    },
    "kernelspec": {
      "name": "python3",
      "display_name": "Python 3"
    },
    "language_info": {
      "name": "python"
    }
  },
  "cells": [
    {
      "cell_type": "markdown",
      "metadata": {
        "id": "view-in-github",
        "colab_type": "text"
      },
      "source": [
        "<a href=\"https://colab.research.google.com/github/AndreassOlsson/drone-anomalydetection/blob/main/AnomalyDetection_UMCD.ipynb\" target=\"_parent\"><img src=\"https://colab.research.google.com/assets/colab-badge.svg\" alt=\"Open In Colab\"/></a>"
      ]
    },
    {
      "cell_type": "markdown",
      "source": [
        "1. Unpickle UMCD Dataloader\n",
        "2. Reuse Spatiotemporal visiontransformer model\n",
        "  1. Update convolutional decoder\n",
        "  2. Enlarge hyperparameters from the reused \"temporal\" mnist model"
      ],
      "metadata": {
        "id": "zGK0THvDqoWq"
      }
    },
    {
      "cell_type": "code",
      "execution_count": null,
      "metadata": {
        "id": "c9dMydX1Uc8T"
      },
      "outputs": [],
      "source": [
        "import os\n",
        "import random\n",
        "import bisect\n",
        "import tarfile\n",
        "import pickle\n",
        "from glob import glob\n",
        "\n",
        "import pandas as pd\n",
        "import numpy as np\n",
        "import cv2\n",
        "import matplotlib.pyplot as plt\n",
        "\n",
        "import torch\n",
        "import torch.nn as nn # nn.BCELoss\n",
        "import torch.optim as optim\n",
        "import torch.nn.functional as F \n",
        "import torch.utils.data as data # data.DataLoader, data.Dataset\n",
        "import torchvision.transforms as transforms # ToTensor\n",
        "from tqdm import tqdm\n",
        "\n",
        "\n",
        "\n",
        "np.random.seed(42)\n",
        "torch.manual_seed(42)\n",
        "\n",
        "%matplotlib inline\n",
        "plt.style.use('ggplot')"
      ]
    }
  ]
}